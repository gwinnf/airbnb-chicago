{
 "cells": [
  {
   "cell_type": "code",
   "execution_count": 1,
   "id": "35ea7d6e-99e9-4931-a0db-5b62c080401d",
   "metadata": {},
   "outputs": [],
   "source": [
    "import pandas as pd\n",
    "import numpy as np\n",
    "from sklearn.model_selection import train_test_split\n",
    "from sklearn.linear_model import LinearRegression\n",
    "from sklearn.pipeline import make_pipeline\n",
    "from sklearn.preprocessing import StandardScaler"
   ]
  },
  {
   "cell_type": "markdown",
   "id": "262914ef-7869-4fed-a686-8fe3e7a7b509",
   "metadata": {},
   "source": [
    "Here are some possible business questions:\n",
    "\n",
    "- What factors contribute most heavily to the price? \n",
    "    - Make a model to predict the price - one that's interpretable and perhaps one (like a neural network) that's not interpretable but does a better job of price prediction.\n",
    "    - Which listings are underpriced - meaning that the host could make more money by increasing the price, or travelers can get a good deal by booking them?\n",
    "    - Perhaps extend beyond predicting only base prices to predicting prices at different times of year.\n",
    "- What should those listings with poor overall review scores do in order to get better reviews in the future?\n",
    "- What can we discern about the character of each neighborhood using the descriptions?"
   ]
  },
  {
   "cell_type": "code",
   "execution_count": 2,
   "id": "78bf8b5d-1748-4048-b13a-1bdd0d20ac24",
   "metadata": {},
   "outputs": [],
   "source": [
    "listings = pd.read_csv(\"listings.csv\")\n",
    "calendar = pd.read_csv(\"calendar.csv\")"
   ]
  },
  {
   "cell_type": "markdown",
   "id": "6f4987c3-2fc6-4dad-8eea-5576531dd28c",
   "metadata": {},
   "source": [
    "Definitions for many (though not all) of the fields can be found [here](https://docs.google.com/spreadsheets/d/1iWCNJcSutYqpULSQHlNyGInUvHg2BoUGoNRIGa6Szc4/edit#gid=982310896)."
   ]
  },
  {
   "cell_type": "markdown",
   "id": "8025aaaa-b151-4fca-98b7-332d406373c0",
   "metadata": {},
   "source": [
    "Drop columns that have all `NA` values."
   ]
  },
  {
   "cell_type": "code",
   "execution_count": 3,
   "id": "358ae4a7-389c-4d41-9ad6-33f70f44c85f",
   "metadata": {},
   "outputs": [],
   "source": [
    "for df in [listings, calendar]:\n",
    "    df.dropna(axis=1, how='all', inplace=True)"
   ]
  },
  {
   "cell_type": "markdown",
   "id": "9fe63894-e9c5-49ea-8a3c-a07800214ca2",
   "metadata": {},
   "source": [
    "Drop rows in `listings` that have `NA` in the `price` field, and do the same for the `price` and `adjusted_price` fields in `calendar`."
   ]
  },
  {
   "cell_type": "code",
   "execution_count": 4,
   "id": "8ffeaf67-1012-461c-8b30-16f26027b0f2",
   "metadata": {},
   "outputs": [],
   "source": [
    "listings.dropna(subset=['price'], inplace=True)\n",
    "calendar.dropna(subset=['price', 'adjusted_price'], inplace=True)"
   ]
  },
  {
   "cell_type": "markdown",
   "id": "c335c87d-41ed-46b5-a22a-38f04705d102",
   "metadata": {},
   "source": [
    "Observe that a dollar sign preceeds the number in several columns; I will remove this so that the field is treated as numeric."
   ]
  },
  {
   "cell_type": "code",
   "execution_count": 5,
   "id": "3de6e499-bdaf-492e-8035-a35557e73e5b",
   "metadata": {},
   "outputs": [],
   "source": [
    "listings['price'] = listings.apply((lambda x: x['price'].replace('$','').replace(',','')), axis=1)\n",
    "calendar['price'] = calendar.apply((lambda x: x['price'].replace('$','').replace(',','')), axis=1)\n",
    "calendar['adjusted_price'] = calendar.apply((lambda x: x['adjusted_price'].replace('$','').replace(',','')), axis=1)"
   ]
  },
  {
   "cell_type": "code",
   "execution_count": 6,
   "id": "e41445b3-add9-4fe9-b68a-2ae7242771dd",
   "metadata": {},
   "outputs": [],
   "source": [
    "listings['price'] = listings['price'].astype(np.float64)\n",
    "calendar['price'] = calendar['price'].astype(np.float64)\n",
    "calendar['adjusted_price'] = calendar['adjusted_price'].astype(np.float64)"
   ]
  },
  {
   "cell_type": "markdown",
   "id": "a54bfd3c-ed31-4a89-8085-f9a92cccafcd",
   "metadata": {},
   "source": [
    "Similarly, some of the fields are expressed as percentages; I will remove the percent signs and change the entries to floats."
   ]
  },
  {
   "cell_type": "code",
   "execution_count": 7,
   "id": "d2b83a07-5d03-491e-b74a-a976bc3c23df",
   "metadata": {},
   "outputs": [],
   "source": [
    "listings['host_response_rate'] = listings.apply(lambda x: float(x['host_response_rate'].replace('%','')) if pd.notnull(x['host_response_rate']) else x['host_response_rate'], axis=1)\n",
    "listings['host_acceptance_rate'] = listings.apply(lambda x: float(x['host_acceptance_rate'].replace('%','')) if pd.notnull(x['host_acceptance_rate']) else x['host_acceptance_rate'], axis=1)"
   ]
  },
  {
   "cell_type": "markdown",
   "id": "762eaa6d-f6d4-40bf-8d20-73f98032cc5d",
   "metadata": {},
   "source": [
    "# 1. Price prediction"
   ]
  },
  {
   "cell_type": "markdown",
   "id": "2529071f-bfef-4ad1-a3b8-941a6320acc2",
   "metadata": {},
   "source": [
    "## Data preparation"
   ]
  },
  {
   "cell_type": "markdown",
   "id": "ee71bd5f-aa5f-4c23-a05f-b99e3b4aa96d",
   "metadata": {},
   "source": [
    "Split into `X` and `y`."
   ]
  },
  {
   "cell_type": "code",
   "execution_count": 8,
   "id": "4ef4ef4b-d851-4f12-8aea-241256a44cfd",
   "metadata": {},
   "outputs": [],
   "source": [
    "X = listings.drop('price', axis=1)\n",
    "y = listings['price']"
   ]
  },
  {
   "cell_type": "markdown",
   "id": "dd175db8-e611-496d-9a17-0f1483329d25",
   "metadata": {},
   "source": [
    "I also need to deal with dates appropriately. The relevant columns are `host_since`, `first_review`, and `last_review`. I could scrap these columns altogether, but it might be useful to know the length of time since the date for each row. "
   ]
  },
  {
   "cell_type": "code",
   "execution_count": 9,
   "id": "89443ae0-4882-40db-a358-f1c5a34b70cf",
   "metadata": {},
   "outputs": [],
   "source": [
    "for col in ['host_since', 'first_review', 'last_review']:\n",
    "    X[col] = pd.to_datetime(X['last_scraped']) - pd.to_datetime(X[col])\n",
    "    X[col] = X.apply(lambda x: x[col].days, axis=1)"
   ]
  },
  {
   "cell_type": "markdown",
   "id": "2aa503c8-f71e-490f-b5dc-6d6b8e3bcb04",
   "metadata": {},
   "source": [
    "Certain columns in `X` are not useful for prediction (for example, URLs), and should be removed."
   ]
  },
  {
   "cell_type": "code",
   "execution_count": 10,
   "id": "abd1ca9d-c86b-401f-bcec-07451c24b1ae",
   "metadata": {},
   "outputs": [],
   "source": [
    "to_drop = ['id', 'listing_url', 'scrape_id', 'last_scraped', 'name']\n",
    "to_drop += ['description', 'neighborhood_overview', 'picture_url', 'host_id']\n",
    "to_drop += ['host_url', 'host_name', 'host_about', 'host_thumbnail_url']\n",
    "to_drop += ['host_picture_url', 'license', 'calendar_last_scraped']\n",
    "X.drop(labels=to_drop, axis=1, inplace=True)"
   ]
  },
  {
   "cell_type": "markdown",
   "id": "8d9d2727-84b3-4e33-85f0-e3e11210659c",
   "metadata": {},
   "source": [
    "Certain columns (`host_verifications` and `amenities`) are lists of options; I'd like to split these into different columns."
   ]
  },
  {
   "cell_type": "markdown",
   "id": "e5b3b9a0-3141-4910-8b72-02e4bc6290d2",
   "metadata": {},
   "source": [
    "The first step is to change these entries into actual Python lists instead of strings (annoyingly, the two relevant columns are formatted slightly differently, with the roles of single and double quotes being interchanged between them)."
   ]
  },
  {
   "cell_type": "code",
   "execution_count": 11,
   "id": "9cbc2268-3648-407e-9621-6627c55b79ba",
   "metadata": {},
   "outputs": [],
   "source": [
    "X['host_verifications'] = X.apply(lambda x: x['host_verifications'].replace('[','').replace(']','').replace('\\'','').split(', '), axis=1)"
   ]
  },
  {
   "cell_type": "code",
   "execution_count": 12,
   "id": "e2e6b600-ea6b-4d4a-8603-bf5bc1234809",
   "metadata": {},
   "outputs": [],
   "source": [
    "X['amenities'] = X.apply(lambda x: x['amenities'].replace('\\\"','').replace('[','').replace(']','').split(', '), axis=1)"
   ]
  },
  {
   "cell_type": "markdown",
   "id": "2698ee50-43e7-41f8-99f3-ee4997ff33dc",
   "metadata": {},
   "source": [
    "What are the possible values in the `host_verifications` lists?"
   ]
  },
  {
   "cell_type": "code",
   "execution_count": 13,
   "id": "aaa0c652-b32e-4415-a36f-64faa1dbd4bd",
   "metadata": {},
   "outputs": [],
   "source": [
    "distinct_host_verifications = set()\n",
    "def find_distinct_hvs(x):\n",
    "    for hv in x['host_verifications']:\n",
    "        distinct_host_verifications.add(hv)\n",
    "X.apply(lambda x: find_distinct_hvs(x), axis=1);"
   ]
  },
  {
   "cell_type": "code",
   "execution_count": 14,
   "id": "e92d30df-fea2-4509-9e8d-15234493020e",
   "metadata": {},
   "outputs": [
    {
     "data": {
      "text/plain": [
       "20"
      ]
     },
     "execution_count": 14,
     "metadata": {},
     "output_type": "execute_result"
    }
   ],
   "source": [
    "len(distinct_host_verifications)"
   ]
  },
  {
   "cell_type": "code",
   "execution_count": 15,
   "id": "a3a8bb54-90a9-469c-ba3d-a45a992a18d5",
   "metadata": {},
   "outputs": [],
   "source": [
    "from sklearn.preprocessing import MultiLabelBinarizer"
   ]
  },
  {
   "cell_type": "code",
   "execution_count": 16,
   "id": "031dfc2f-bfc9-4fda-bef9-0785073a13af",
   "metadata": {},
   "outputs": [],
   "source": [
    "m = MultiLabelBinarizer()\n",
    "hv_df = pd.DataFrame(m.fit_transform(X['host_verifications']), columns=m.classes_, index=X.index)"
   ]
  },
  {
   "cell_type": "code",
   "execution_count": 17,
   "id": "7a336ddf-3712-4513-bbba-690f829a4f60",
   "metadata": {},
   "outputs": [],
   "source": [
    "X = pd.concat([X, hv_df], axis=1)"
   ]
  },
  {
   "cell_type": "code",
   "execution_count": 18,
   "id": "c3a9a3c3-9808-4ec2-80ab-e1c1ac172735",
   "metadata": {},
   "outputs": [],
   "source": [
    "X.rename(columns={'None' : 'HV_None'}, inplace=True)\n",
    "# I don't want a column to be called just 'None', so I changed it a bit"
   ]
  },
  {
   "cell_type": "markdown",
   "id": "06806fd4-6a80-42d8-8140-6baadd78cd41",
   "metadata": {},
   "source": [
    "Now I can drop the original `host_verifications` column."
   ]
  },
  {
   "cell_type": "code",
   "execution_count": 19,
   "id": "985685e2-1c99-4e74-887b-4f88c3fee6ac",
   "metadata": {},
   "outputs": [],
   "source": [
    "X.drop('host_verifications', axis=1, inplace=True)"
   ]
  },
  {
   "cell_type": "markdown",
   "id": "e40c2804-9179-4d19-ae71-d3ad79442f0e",
   "metadata": {},
   "source": [
    "Now I'd like to do the same for the `amenities` column. What are the possible values in those lists?"
   ]
  },
  {
   "cell_type": "code",
   "execution_count": 20,
   "id": "4d6ccb94-e610-4048-92c9-3158e4501f7f",
   "metadata": {},
   "outputs": [
    {
     "data": {
      "text/plain": [
       "990"
      ]
     },
     "execution_count": 20,
     "metadata": {},
     "output_type": "execute_result"
    }
   ],
   "source": [
    "distinct_amenities = set()\n",
    "def find_distinct_amenities(x):\n",
    "    for a in x['amenities']:\n",
    "        distinct_amenities.add(a)\n",
    "X.apply(lambda x: find_distinct_amenities(x), axis=1)\n",
    "len(distinct_amenities)"
   ]
  },
  {
   "cell_type": "markdown",
   "id": "3fe76a8f-72c9-4a6f-b8f8-903527f634a9",
   "metadata": {},
   "source": [
    "Ok, that's a lot of amenities. I don't really want to vastly blow up the number of features like this, so I'll just take the 20 most popular amenities."
   ]
  },
  {
   "cell_type": "code",
   "execution_count": 21,
   "id": "0af64618-da78-4bd1-a9fe-efb55ac6b336",
   "metadata": {},
   "outputs": [],
   "source": [
    "from collections import defaultdict\n",
    "from operator import itemgetter"
   ]
  },
  {
   "cell_type": "code",
   "execution_count": 22,
   "id": "651e483a-62bd-4d0b-a686-ec5994a2a95e",
   "metadata": {},
   "outputs": [],
   "source": [
    "amenity_counts = defaultdict(int) # Initializes to zero for each value\n",
    "def update_counts(x):\n",
    "    for a in x['amenities']:\n",
    "        amenity_counts[a] += 1\n",
    "X.apply(lambda x: update_counts(x), axis=1);"
   ]
  },
  {
   "cell_type": "code",
   "execution_count": 23,
   "id": "b6daa5a2-d820-4e4a-8d8a-0ef75ff9eddd",
   "metadata": {},
   "outputs": [],
   "source": [
    "top_20 = sorted(amenity_counts.items(), key=itemgetter(1), reverse=True)[:20]"
   ]
  },
  {
   "cell_type": "code",
   "execution_count": 24,
   "id": "362ec2af-4d26-4a02-9a11-04fb13484edd",
   "metadata": {},
   "outputs": [
    {
     "data": {
      "text/plain": [
       "[('Smoke alarm', 6359),\n",
       " ('Essentials', 6185),\n",
       " ('Wifi', 6141),\n",
       " ('Kitchen', 5930),\n",
       " ('Carbon monoxide alarm', 5926)]"
      ]
     },
     "execution_count": 24,
     "metadata": {},
     "output_type": "execute_result"
    }
   ],
   "source": [
    "top_20[:5]"
   ]
  },
  {
   "cell_type": "code",
   "execution_count": 25,
   "id": "825e5a75-214c-4b69-8f64-1548e80240e4",
   "metadata": {},
   "outputs": [],
   "source": [
    "top_20_amenities = dict(top_20).keys()"
   ]
  },
  {
   "cell_type": "markdown",
   "id": "097030e8-d085-40e1-9906-7ac2372b23d6",
   "metadata": {},
   "source": [
    "Now I want to get rid of the other amenities in each row."
   ]
  },
  {
   "cell_type": "code",
   "execution_count": 26,
   "id": "e0d24ed5-1792-451f-b023-74f75c5cf076",
   "metadata": {},
   "outputs": [],
   "source": [
    "def find_amenities(x):\n",
    "    amenities = []\n",
    "    for a in top_20_amenities:\n",
    "        if a in x['amenities']:\n",
    "            amenities.append(a)\n",
    "    return amenities"
   ]
  },
  {
   "cell_type": "code",
   "execution_count": 27,
   "id": "ace5a3dc-9d0d-4a22-8fbf-25df50d81aae",
   "metadata": {},
   "outputs": [],
   "source": [
    "X['amenities'] = X.apply(lambda x: find_amenities(x), axis=1)"
   ]
  },
  {
   "cell_type": "markdown",
   "id": "4a323e83-1fed-49c0-b587-6736d9afe595",
   "metadata": {},
   "source": [
    "Now I can create the dummy variables and drop the original `amenities` column."
   ]
  },
  {
   "cell_type": "code",
   "execution_count": 28,
   "id": "ad38d0f0-6d9c-4b1d-aaad-cc7ed46a3fbf",
   "metadata": {},
   "outputs": [],
   "source": [
    "m = MultiLabelBinarizer()\n",
    "amenities_df = pd.DataFrame(m.fit_transform(X['amenities']), columns=m.classes_, index=X.index)\n",
    "X = pd.concat([X, amenities_df], axis=1)\n",
    "X.drop('amenities', axis=1, inplace=True)"
   ]
  },
  {
   "cell_type": "markdown",
   "id": "65e20b28-94fb-4979-8e53-cd2fb76bb944",
   "metadata": {},
   "source": [
    "Next, I'll get dummies for the rest of the categorical variables."
   ]
  },
  {
   "cell_type": "code",
   "execution_count": 29,
   "id": "9f84187d-94a2-43a2-8212-e215ca63ca30",
   "metadata": {},
   "outputs": [],
   "source": [
    "X = pd.get_dummies(X, drop_first=True)"
   ]
  },
  {
   "cell_type": "code",
   "execution_count": 30,
   "id": "e291264c-58f0-46c6-b5c8-36a69f4577d1",
   "metadata": {},
   "outputs": [
    {
     "data": {
      "text/plain": [
       "(6528, 740)"
      ]
     },
     "execution_count": 30,
     "metadata": {},
     "output_type": "execute_result"
    }
   ],
   "source": [
    "X.shape"
   ]
  },
  {
   "cell_type": "markdown",
   "id": "7ece9c6f-0a41-4ee2-b38f-f163985ea5a3",
   "metadata": {},
   "source": [
    "Now I need to deal with `NA` values for the numeric columns. There's no totally ideal way to do this, but to move forward I'll impute using the mean."
   ]
  },
  {
   "cell_type": "code",
   "execution_count": 31,
   "id": "e85ab9a0-c9be-4d7a-8b32-5410ca8324e2",
   "metadata": {},
   "outputs": [],
   "source": [
    "fill_mean = lambda col: col.fillna(col.mean())\n",
    "X = X.apply(fill_mean)"
   ]
  },
  {
   "cell_type": "markdown",
   "id": "a9596876-2e70-4ef9-a1bc-755a51ea7dfa",
   "metadata": {},
   "source": [
    "## Modeling and Evaluation"
   ]
  },
  {
   "cell_type": "markdown",
   "id": "ebd5432b-5517-4174-99f0-641986cd20b9",
   "metadata": {},
   "source": [
    "Split into train and test sets."
   ]
  },
  {
   "cell_type": "code",
   "execution_count": 32,
   "id": "809bfad5-caf5-4012-bda6-e3296bb54665",
   "metadata": {},
   "outputs": [],
   "source": [
    "X_train, X_test, y_train, y_test = train_test_split(\n",
    "    X, y, test_size=0.2, random_state=42)"
   ]
  },
  {
   "cell_type": "markdown",
   "id": "d279db91-e4ff-453f-b2ac-11a025f83897",
   "metadata": {},
   "source": [
    "Instantiate the model, including normalization in the pipeline:"
   ]
  },
  {
   "cell_type": "code",
   "execution_count": 33,
   "id": "ce67ff65-745c-4bd4-9af7-624d6c2911ab",
   "metadata": {},
   "outputs": [],
   "source": [
    "pipe = make_pipeline(StandardScaler(), LinearRegression())"
   ]
  },
  {
   "cell_type": "markdown",
   "id": "513845fb-2adc-4069-8e50-e02ae6cee404",
   "metadata": {},
   "source": [
    "Fit the model to the training data:"
   ]
  },
  {
   "cell_type": "code",
   "execution_count": 34,
   "id": "462d0119-0cc7-4ae4-9370-219fadc39284",
   "metadata": {},
   "outputs": [
    {
     "data": {
      "text/plain": [
       "Pipeline(steps=[('standardscaler', StandardScaler()),\n",
       "                ('linearregression', LinearRegression())])"
      ]
     },
     "execution_count": 34,
     "metadata": {},
     "output_type": "execute_result"
    }
   ],
   "source": [
    "pipe.fit(X_train, y_train)"
   ]
  },
  {
   "cell_type": "code",
   "execution_count": 35,
   "id": "05385d3c-5139-46d5-a948-aff015f42942",
   "metadata": {},
   "outputs": [
    {
     "data": {
      "text/plain": [
       "0.42794538848965413"
      ]
     },
     "execution_count": 35,
     "metadata": {},
     "output_type": "execute_result"
    }
   ],
   "source": [
    "pipe.score(X_train, y_train)"
   ]
  },
  {
   "cell_type": "code",
   "execution_count": 36,
   "id": "26c1391f-c990-4b7c-992e-f3eb796b8bfe",
   "metadata": {},
   "outputs": [
    {
     "data": {
      "text/plain": [
       "-2.358149984883228e+26"
      ]
     },
     "execution_count": 36,
     "metadata": {},
     "output_type": "execute_result"
    }
   ],
   "source": [
    "pipe.score(X_test, y_test)"
   ]
  },
  {
   "cell_type": "code",
   "execution_count": 37,
   "id": "18fdd98a-e5e1-46e5-b22a-bcd283fdf5db",
   "metadata": {},
   "outputs": [
    {
     "data": {
      "text/plain": [
       "array([  744.64194006,  2353.47440005,    69.95444006, ...,\n",
       "         978.64194006,   318.64194006, -2290.04555994])"
      ]
     },
     "execution_count": 37,
     "metadata": {},
     "output_type": "execute_result"
    }
   ],
   "source": [
    "pipe.predict(X_train)"
   ]
  },
  {
   "cell_type": "code",
   "execution_count": 38,
   "id": "ece5f58c-78b7-4411-bd1c-dc6d33494a39",
   "metadata": {},
   "outputs": [
    {
     "data": {
      "text/plain": [
       "2018    149.0\n",
       "6068    126.0\n",
       "3740    180.0\n",
       "4104    124.0\n",
       "6286    158.0\n",
       "        ...  \n",
       "3772    131.0\n",
       "5191    131.0\n",
       "5226    300.0\n",
       "5390    102.0\n",
       "860     221.0\n",
       "Name: price, Length: 5222, dtype: float64"
      ]
     },
     "execution_count": 38,
     "metadata": {},
     "output_type": "execute_result"
    }
   ],
   "source": [
    "y_train"
   ]
  },
  {
   "cell_type": "code",
   "execution_count": 39,
   "id": "4ff64339-f9bb-4e38-8e7d-9a4b33efdc80",
   "metadata": {},
   "outputs": [
    {
     "data": {
      "text/plain": [
       "array([4105.47440005,  700.64194006,  869.95444006, ...,  650.64194006,\n",
       "       -845.35805994,  190.64194006])"
      ]
     },
     "execution_count": 39,
     "metadata": {},
     "output_type": "execute_result"
    }
   ],
   "source": [
    "pipe.predict(X_test)"
   ]
  },
  {
   "cell_type": "markdown",
   "id": "3001ecbe-7603-46d3-8061-6eabd7ac578b",
   "metadata": {},
   "source": [
    "Wow, this is really terrible. I think I need to aggressively get rid of features to correct this - I have way too many irrelevant features."
   ]
  },
  {
   "cell_type": "code",
   "execution_count": 40,
   "id": "495b4c00-b041-4b76-9d69-1db098872ca9",
   "metadata": {},
   "outputs": [],
   "source": [
    "def test_cutoffs(X, y, cutoffs):\n",
    "    for cutoff in cutoffs:\n",
    "        pipe = make_pipeline(StandardScaler(), LinearRegression())\n",
    "        X_cutoff = X.iloc[:, np.where((X.sum()/len(X) > cutoff) == True)[0]]\n",
    "        X_train, X_test, y_train, y_test = train_test_split(\n",
    "            X_cutoff, y, test_size=0.3, random_state=42)\n",
    "        pipe.fit(X_train, y_train)\n",
    "        train_score = pipe.score(X_train, y_train)\n",
    "        test_score = pipe.score(X_test, y_test)\n",
    "        print(f\"Cutoff = {cutoff: .3g}, train_score = {train_score: .3g}, test_score = {test_score: .3g}, n_features = {X_train.shape[1]}\")\n",
    "    #return results"
   ]
  },
  {
   "cell_type": "code",
   "execution_count": 41,
   "id": "4422a705-6274-4b7c-a549-307d41632e33",
   "metadata": {},
   "outputs": [
    {
     "name": "stdout",
     "output_type": "stream",
     "text": [
      "Cutoff =  1e+03, train_score =  0.00221, test_score =  0.00202, n_features = 4\n",
      "Cutoff =  1, train_score =  0.0703, test_score =  0.0569, n_features = 37\n",
      "Cutoff =  0.99, train_score =  0.0705, test_score =  0.0575, n_features = 39\n",
      "Cutoff =  0.9, train_score =  0.205, test_score =  0.168, n_features = 46\n",
      "Cutoff =  0.7, train_score =  0.292, test_score =  0.226, n_features = 61\n",
      "Cutoff =  0.5, train_score =  0.297, test_score =  0.231, n_features = 69\n",
      "Cutoff =  0.3, train_score =  0.299, test_score =  0.234, n_features = 75\n",
      "Cutoff =  0.2, train_score =  0.298, test_score =  0.23, n_features = 78\n",
      "Cutoff =  0.1, train_score =  0.317, test_score =  0.248, n_features = 85\n",
      "Cutoff =  0.05, train_score =  0.329, test_score =  0.255, n_features = 98\n",
      "Cutoff =  0.01, train_score =  0.363, test_score =  0.267, n_features = 164\n",
      "Cutoff =  0.005, train_score =  0.378, test_score =  0.266, n_features = 202\n",
      "Cutoff =  0, train_score =  0.433, test_score = -1.94e+26, n_features = 739\n"
     ]
    }
   ],
   "source": [
    "test_cutoffs(X, y, [1000, 1, .99, .9, .7, .5, .3, .2, .1, .05, .01, 0.005, 0])"
   ]
  },
  {
   "cell_type": "code",
   "execution_count": 42,
   "id": "e4ab7a59-805a-4850-850f-0b16892d1d0c",
   "metadata": {},
   "outputs": [],
   "source": [
    "pipe.named_steps['linearregression'].coef_;"
   ]
  },
  {
   "cell_type": "code",
   "execution_count": 43,
   "id": "226614e6-01df-48dd-ae42-a0adcbccc342",
   "metadata": {},
   "outputs": [],
   "source": [
    "pipe = make_pipeline(StandardScaler(), LinearRegression())\n",
    "X_cutoff = X.iloc[:, np.where((X.sum()/len(X) > .01) == True)[0]]\n",
    "X_train, X_test, y_train, y_test = train_test_split(\n",
    "    X_cutoff, y, test_size=0.3, random_state=42)\n",
    "pipe.fit(X_train, y_train)\n",
    "score = pipe.score(X_test, y_test)\n",
    "y_pred = pipe.predict(X_test)"
   ]
  },
  {
   "cell_type": "markdown",
   "id": "da54b022-2818-4492-850e-6516955759a7",
   "metadata": {},
   "source": [
    "Horrific."
   ]
  },
  {
   "cell_type": "markdown",
   "id": "6e255490-b579-4393-a921-749017f5046b",
   "metadata": {},
   "source": [
    "What do we expect to be useful for price prediction? My guesses: Its size (number of people, number of bedrooms and bathrooms), the neighborhood, and the review scores.\n",
    "\n",
    "The relevant columns are `neighbourhood_cleansed`, `accommodates`, `bathrooms_text`, `bedrooms`, and `beds`. I'll hold off on including review scores for now."
   ]
  },
  {
   "cell_type": "code",
   "execution_count": 45,
   "id": "ac2efb01-725c-4eec-95aa-70b4ef125569",
   "metadata": {},
   "outputs": [],
   "source": [
    "X_small = listings[['neighbourhood_cleansed','accommodates','bathrooms_text','bedrooms','beds']]"
   ]
  },
  {
   "cell_type": "code",
   "execution_count": 46,
   "id": "85c7b9f9-9c2d-4bbc-b1e8-389f32e65713",
   "metadata": {},
   "outputs": [],
   "source": [
    "X_small = pd.get_dummies(X_small, drop_first=True)"
   ]
  },
  {
   "cell_type": "code",
   "execution_count": 47,
   "id": "ce5ad4c4-114b-4421-9db3-2bf06ee3ee11",
   "metadata": {},
   "outputs": [],
   "source": [
    "y_small = y.copy()"
   ]
  },
  {
   "cell_type": "code",
   "execution_count": 72,
   "id": "05ec166d-210a-40e0-b304-1d0cb9e1fe1b",
   "metadata": {},
   "outputs": [
    {
     "data": {
      "text/plain": [
       "5.0"
      ]
     },
     "execution_count": 72,
     "metadata": {},
     "output_type": "execute_result"
    }
   ],
   "source": [
    "X.loc[6524]['beds']"
   ]
  },
  {
   "cell_type": "code",
   "execution_count": 73,
   "id": "ef1e5ddb-cdcb-4b67-9d23-d488d4a18181",
   "metadata": {},
   "outputs": [
    {
     "data": {
      "text/plain": [
       "264.0"
      ]
     },
     "execution_count": 73,
     "metadata": {},
     "output_type": "execute_result"
    }
   ],
   "source": [
    "y.loc[6524]"
   ]
  },
  {
   "cell_type": "code",
   "execution_count": 48,
   "id": "1874360b-70b1-4cf7-8999-a14941686a64",
   "metadata": {},
   "outputs": [
    {
     "data": {
      "text/html": [
       "<div>\n",
       "<style scoped>\n",
       "    .dataframe tbody tr th:only-of-type {\n",
       "        vertical-align: middle;\n",
       "    }\n",
       "\n",
       "    .dataframe tbody tr th {\n",
       "        vertical-align: top;\n",
       "    }\n",
       "\n",
       "    .dataframe thead th {\n",
       "        text-align: right;\n",
       "    }\n",
       "</style>\n",
       "<table border=\"1\" class=\"dataframe\">\n",
       "  <thead>\n",
       "    <tr style=\"text-align: right;\">\n",
       "      <th></th>\n",
       "      <th>accommodates</th>\n",
       "      <th>bedrooms</th>\n",
       "      <th>beds</th>\n",
       "      <th>neighbourhood_cleansed_Archer Heights</th>\n",
       "      <th>neighbourhood_cleansed_Armour Square</th>\n",
       "      <th>neighbourhood_cleansed_Ashburn</th>\n",
       "      <th>neighbourhood_cleansed_Auburn Gresham</th>\n",
       "      <th>neighbourhood_cleansed_Austin</th>\n",
       "      <th>neighbourhood_cleansed_Avalon Park</th>\n",
       "      <th>neighbourhood_cleansed_Avondale</th>\n",
       "      <th>...</th>\n",
       "      <th>bathrooms_text_5 baths</th>\n",
       "      <th>bathrooms_text_5.5 baths</th>\n",
       "      <th>bathrooms_text_6 baths</th>\n",
       "      <th>bathrooms_text_6.5 baths</th>\n",
       "      <th>bathrooms_text_7 baths</th>\n",
       "      <th>bathrooms_text_7.5 baths</th>\n",
       "      <th>bathrooms_text_8 shared baths</th>\n",
       "      <th>bathrooms_text_Half-bath</th>\n",
       "      <th>bathrooms_text_Private half-bath</th>\n",
       "      <th>bathrooms_text_Shared half-bath</th>\n",
       "    </tr>\n",
       "  </thead>\n",
       "  <tbody>\n",
       "    <tr>\n",
       "      <th>0</th>\n",
       "      <td>1</td>\n",
       "      <td>1.0</td>\n",
       "      <td>1.0</td>\n",
       "      <td>0</td>\n",
       "      <td>0</td>\n",
       "      <td>0</td>\n",
       "      <td>0</td>\n",
       "      <td>0</td>\n",
       "      <td>0</td>\n",
       "      <td>0</td>\n",
       "      <td>...</td>\n",
       "      <td>0</td>\n",
       "      <td>0</td>\n",
       "      <td>0</td>\n",
       "      <td>0</td>\n",
       "      <td>0</td>\n",
       "      <td>0</td>\n",
       "      <td>0</td>\n",
       "      <td>0</td>\n",
       "      <td>0</td>\n",
       "      <td>0</td>\n",
       "    </tr>\n",
       "    <tr>\n",
       "      <th>1</th>\n",
       "      <td>2</td>\n",
       "      <td>1.0</td>\n",
       "      <td>1.0</td>\n",
       "      <td>0</td>\n",
       "      <td>0</td>\n",
       "      <td>0</td>\n",
       "      <td>0</td>\n",
       "      <td>0</td>\n",
       "      <td>0</td>\n",
       "      <td>0</td>\n",
       "      <td>...</td>\n",
       "      <td>0</td>\n",
       "      <td>0</td>\n",
       "      <td>0</td>\n",
       "      <td>0</td>\n",
       "      <td>0</td>\n",
       "      <td>0</td>\n",
       "      <td>0</td>\n",
       "      <td>0</td>\n",
       "      <td>0</td>\n",
       "      <td>0</td>\n",
       "    </tr>\n",
       "    <tr>\n",
       "      <th>2</th>\n",
       "      <td>4</td>\n",
       "      <td>2.0</td>\n",
       "      <td>2.0</td>\n",
       "      <td>0</td>\n",
       "      <td>0</td>\n",
       "      <td>0</td>\n",
       "      <td>0</td>\n",
       "      <td>0</td>\n",
       "      <td>0</td>\n",
       "      <td>0</td>\n",
       "      <td>...</td>\n",
       "      <td>0</td>\n",
       "      <td>0</td>\n",
       "      <td>0</td>\n",
       "      <td>0</td>\n",
       "      <td>0</td>\n",
       "      <td>0</td>\n",
       "      <td>0</td>\n",
       "      <td>0</td>\n",
       "      <td>0</td>\n",
       "      <td>0</td>\n",
       "    </tr>\n",
       "    <tr>\n",
       "      <th>3</th>\n",
       "      <td>2</td>\n",
       "      <td>1.0</td>\n",
       "      <td>1.0</td>\n",
       "      <td>0</td>\n",
       "      <td>0</td>\n",
       "      <td>0</td>\n",
       "      <td>0</td>\n",
       "      <td>0</td>\n",
       "      <td>0</td>\n",
       "      <td>0</td>\n",
       "      <td>...</td>\n",
       "      <td>0</td>\n",
       "      <td>0</td>\n",
       "      <td>0</td>\n",
       "      <td>0</td>\n",
       "      <td>0</td>\n",
       "      <td>0</td>\n",
       "      <td>0</td>\n",
       "      <td>0</td>\n",
       "      <td>0</td>\n",
       "      <td>0</td>\n",
       "    </tr>\n",
       "    <tr>\n",
       "      <th>4</th>\n",
       "      <td>2</td>\n",
       "      <td>1.0</td>\n",
       "      <td>2.0</td>\n",
       "      <td>0</td>\n",
       "      <td>0</td>\n",
       "      <td>0</td>\n",
       "      <td>0</td>\n",
       "      <td>0</td>\n",
       "      <td>0</td>\n",
       "      <td>0</td>\n",
       "      <td>...</td>\n",
       "      <td>0</td>\n",
       "      <td>0</td>\n",
       "      <td>0</td>\n",
       "      <td>0</td>\n",
       "      <td>0</td>\n",
       "      <td>0</td>\n",
       "      <td>0</td>\n",
       "      <td>0</td>\n",
       "      <td>0</td>\n",
       "      <td>0</td>\n",
       "    </tr>\n",
       "    <tr>\n",
       "      <th>...</th>\n",
       "      <td>...</td>\n",
       "      <td>...</td>\n",
       "      <td>...</td>\n",
       "      <td>...</td>\n",
       "      <td>...</td>\n",
       "      <td>...</td>\n",
       "      <td>...</td>\n",
       "      <td>...</td>\n",
       "      <td>...</td>\n",
       "      <td>...</td>\n",
       "      <td>...</td>\n",
       "      <td>...</td>\n",
       "      <td>...</td>\n",
       "      <td>...</td>\n",
       "      <td>...</td>\n",
       "      <td>...</td>\n",
       "      <td>...</td>\n",
       "      <td>...</td>\n",
       "      <td>...</td>\n",
       "      <td>...</td>\n",
       "      <td>...</td>\n",
       "    </tr>\n",
       "    <tr>\n",
       "      <th>6523</th>\n",
       "      <td>4</td>\n",
       "      <td>2.0</td>\n",
       "      <td>2.0</td>\n",
       "      <td>0</td>\n",
       "      <td>0</td>\n",
       "      <td>0</td>\n",
       "      <td>0</td>\n",
       "      <td>0</td>\n",
       "      <td>0</td>\n",
       "      <td>0</td>\n",
       "      <td>...</td>\n",
       "      <td>0</td>\n",
       "      <td>0</td>\n",
       "      <td>0</td>\n",
       "      <td>0</td>\n",
       "      <td>0</td>\n",
       "      <td>0</td>\n",
       "      <td>0</td>\n",
       "      <td>0</td>\n",
       "      <td>0</td>\n",
       "      <td>0</td>\n",
       "    </tr>\n",
       "    <tr>\n",
       "      <th>6524</th>\n",
       "      <td>8</td>\n",
       "      <td>3.0</td>\n",
       "      <td>5.0</td>\n",
       "      <td>0</td>\n",
       "      <td>0</td>\n",
       "      <td>0</td>\n",
       "      <td>0</td>\n",
       "      <td>0</td>\n",
       "      <td>0</td>\n",
       "      <td>0</td>\n",
       "      <td>...</td>\n",
       "      <td>0</td>\n",
       "      <td>0</td>\n",
       "      <td>0</td>\n",
       "      <td>0</td>\n",
       "      <td>0</td>\n",
       "      <td>0</td>\n",
       "      <td>0</td>\n",
       "      <td>0</td>\n",
       "      <td>0</td>\n",
       "      <td>0</td>\n",
       "    </tr>\n",
       "    <tr>\n",
       "      <th>6525</th>\n",
       "      <td>8</td>\n",
       "      <td>3.0</td>\n",
       "      <td>3.0</td>\n",
       "      <td>0</td>\n",
       "      <td>0</td>\n",
       "      <td>0</td>\n",
       "      <td>0</td>\n",
       "      <td>0</td>\n",
       "      <td>0</td>\n",
       "      <td>0</td>\n",
       "      <td>...</td>\n",
       "      <td>0</td>\n",
       "      <td>0</td>\n",
       "      <td>0</td>\n",
       "      <td>0</td>\n",
       "      <td>0</td>\n",
       "      <td>0</td>\n",
       "      <td>0</td>\n",
       "      <td>0</td>\n",
       "      <td>0</td>\n",
       "      <td>0</td>\n",
       "    </tr>\n",
       "    <tr>\n",
       "      <th>6526</th>\n",
       "      <td>6</td>\n",
       "      <td>2.0</td>\n",
       "      <td>3.0</td>\n",
       "      <td>0</td>\n",
       "      <td>0</td>\n",
       "      <td>0</td>\n",
       "      <td>0</td>\n",
       "      <td>0</td>\n",
       "      <td>0</td>\n",
       "      <td>0</td>\n",
       "      <td>...</td>\n",
       "      <td>0</td>\n",
       "      <td>0</td>\n",
       "      <td>0</td>\n",
       "      <td>0</td>\n",
       "      <td>0</td>\n",
       "      <td>0</td>\n",
       "      <td>0</td>\n",
       "      <td>0</td>\n",
       "      <td>0</td>\n",
       "      <td>0</td>\n",
       "    </tr>\n",
       "    <tr>\n",
       "      <th>6527</th>\n",
       "      <td>6</td>\n",
       "      <td>2.0</td>\n",
       "      <td>3.0</td>\n",
       "      <td>0</td>\n",
       "      <td>0</td>\n",
       "      <td>0</td>\n",
       "      <td>0</td>\n",
       "      <td>0</td>\n",
       "      <td>0</td>\n",
       "      <td>0</td>\n",
       "      <td>...</td>\n",
       "      <td>0</td>\n",
       "      <td>0</td>\n",
       "      <td>0</td>\n",
       "      <td>0</td>\n",
       "      <td>0</td>\n",
       "      <td>0</td>\n",
       "      <td>0</td>\n",
       "      <td>0</td>\n",
       "      <td>0</td>\n",
       "      <td>0</td>\n",
       "    </tr>\n",
       "  </tbody>\n",
       "</table>\n",
       "<p>6528 rows × 108 columns</p>\n",
       "</div>"
      ],
      "text/plain": [
       "      accommodates  bedrooms  beds  neighbourhood_cleansed_Archer Heights  \\\n",
       "0                1       1.0   1.0                                      0   \n",
       "1                2       1.0   1.0                                      0   \n",
       "2                4       2.0   2.0                                      0   \n",
       "3                2       1.0   1.0                                      0   \n",
       "4                2       1.0   2.0                                      0   \n",
       "...            ...       ...   ...                                    ...   \n",
       "6523             4       2.0   2.0                                      0   \n",
       "6524             8       3.0   5.0                                      0   \n",
       "6525             8       3.0   3.0                                      0   \n",
       "6526             6       2.0   3.0                                      0   \n",
       "6527             6       2.0   3.0                                      0   \n",
       "\n",
       "      neighbourhood_cleansed_Armour Square  neighbourhood_cleansed_Ashburn  \\\n",
       "0                                        0                               0   \n",
       "1                                        0                               0   \n",
       "2                                        0                               0   \n",
       "3                                        0                               0   \n",
       "4                                        0                               0   \n",
       "...                                    ...                             ...   \n",
       "6523                                     0                               0   \n",
       "6524                                     0                               0   \n",
       "6525                                     0                               0   \n",
       "6526                                     0                               0   \n",
       "6527                                     0                               0   \n",
       "\n",
       "      neighbourhood_cleansed_Auburn Gresham  neighbourhood_cleansed_Austin  \\\n",
       "0                                         0                              0   \n",
       "1                                         0                              0   \n",
       "2                                         0                              0   \n",
       "3                                         0                              0   \n",
       "4                                         0                              0   \n",
       "...                                     ...                            ...   \n",
       "6523                                      0                              0   \n",
       "6524                                      0                              0   \n",
       "6525                                      0                              0   \n",
       "6526                                      0                              0   \n",
       "6527                                      0                              0   \n",
       "\n",
       "      neighbourhood_cleansed_Avalon Park  neighbourhood_cleansed_Avondale  \\\n",
       "0                                      0                                0   \n",
       "1                                      0                                0   \n",
       "2                                      0                                0   \n",
       "3                                      0                                0   \n",
       "4                                      0                                0   \n",
       "...                                  ...                              ...   \n",
       "6523                                   0                                0   \n",
       "6524                                   0                                0   \n",
       "6525                                   0                                0   \n",
       "6526                                   0                                0   \n",
       "6527                                   0                                0   \n",
       "\n",
       "      ...  bathrooms_text_5 baths  bathrooms_text_5.5 baths  \\\n",
       "0     ...                       0                         0   \n",
       "1     ...                       0                         0   \n",
       "2     ...                       0                         0   \n",
       "3     ...                       0                         0   \n",
       "4     ...                       0                         0   \n",
       "...   ...                     ...                       ...   \n",
       "6523  ...                       0                         0   \n",
       "6524  ...                       0                         0   \n",
       "6525  ...                       0                         0   \n",
       "6526  ...                       0                         0   \n",
       "6527  ...                       0                         0   \n",
       "\n",
       "      bathrooms_text_6 baths  bathrooms_text_6.5 baths  \\\n",
       "0                          0                         0   \n",
       "1                          0                         0   \n",
       "2                          0                         0   \n",
       "3                          0                         0   \n",
       "4                          0                         0   \n",
       "...                      ...                       ...   \n",
       "6523                       0                         0   \n",
       "6524                       0                         0   \n",
       "6525                       0                         0   \n",
       "6526                       0                         0   \n",
       "6527                       0                         0   \n",
       "\n",
       "      bathrooms_text_7 baths  bathrooms_text_7.5 baths  \\\n",
       "0                          0                         0   \n",
       "1                          0                         0   \n",
       "2                          0                         0   \n",
       "3                          0                         0   \n",
       "4                          0                         0   \n",
       "...                      ...                       ...   \n",
       "6523                       0                         0   \n",
       "6524                       0                         0   \n",
       "6525                       0                         0   \n",
       "6526                       0                         0   \n",
       "6527                       0                         0   \n",
       "\n",
       "      bathrooms_text_8 shared baths  bathrooms_text_Half-bath  \\\n",
       "0                                 0                         0   \n",
       "1                                 0                         0   \n",
       "2                                 0                         0   \n",
       "3                                 0                         0   \n",
       "4                                 0                         0   \n",
       "...                             ...                       ...   \n",
       "6523                              0                         0   \n",
       "6524                              0                         0   \n",
       "6525                              0                         0   \n",
       "6526                              0                         0   \n",
       "6527                              0                         0   \n",
       "\n",
       "      bathrooms_text_Private half-bath  bathrooms_text_Shared half-bath  \n",
       "0                                    0                                0  \n",
       "1                                    0                                0  \n",
       "2                                    0                                0  \n",
       "3                                    0                                0  \n",
       "4                                    0                                0  \n",
       "...                                ...                              ...  \n",
       "6523                                 0                                0  \n",
       "6524                                 0                                0  \n",
       "6525                                 0                                0  \n",
       "6526                                 0                                0  \n",
       "6527                                 0                                0  \n",
       "\n",
       "[6528 rows x 108 columns]"
      ]
     },
     "execution_count": 48,
     "metadata": {},
     "output_type": "execute_result"
    }
   ],
   "source": [
    "X_small"
   ]
  },
  {
   "cell_type": "code",
   "execution_count": 49,
   "id": "4e629e14-1ec6-48a9-a744-5f6b41fbbf37",
   "metadata": {},
   "outputs": [],
   "source": [
    "X_small['bedrooms'] = X_small.apply(lambda x: x['beds'] if not(x['bedrooms']>0) else x['bedrooms'], axis=1)\n",
    "X_small['beds'] = X_small.apply(lambda x: x['bedrooms'] if not(x['beds']>0) else x['beds'], axis=1)"
   ]
  },
  {
   "cell_type": "code",
   "execution_count": 50,
   "id": "158c7949-07d4-4806-9f39-23ae67ca712b",
   "metadata": {},
   "outputs": [
    {
     "data": {
      "text/plain": [
       "6"
      ]
     },
     "execution_count": 50,
     "metadata": {},
     "output_type": "execute_result"
    }
   ],
   "source": [
    "sum(X_small.isna()['beds'])"
   ]
  },
  {
   "cell_type": "code",
   "execution_count": 51,
   "id": "a8ca6dd1-ca38-415c-b82e-3a9af9620191",
   "metadata": {},
   "outputs": [
    {
     "data": {
      "text/html": [
       "<div>\n",
       "<style scoped>\n",
       "    .dataframe tbody tr th:only-of-type {\n",
       "        vertical-align: middle;\n",
       "    }\n",
       "\n",
       "    .dataframe tbody tr th {\n",
       "        vertical-align: top;\n",
       "    }\n",
       "\n",
       "    .dataframe thead th {\n",
       "        text-align: right;\n",
       "    }\n",
       "</style>\n",
       "<table border=\"1\" class=\"dataframe\">\n",
       "  <thead>\n",
       "    <tr style=\"text-align: right;\">\n",
       "      <th></th>\n",
       "      <th>accommodates</th>\n",
       "      <th>bedrooms</th>\n",
       "      <th>beds</th>\n",
       "      <th>neighbourhood_cleansed_Archer Heights</th>\n",
       "      <th>neighbourhood_cleansed_Armour Square</th>\n",
       "      <th>neighbourhood_cleansed_Ashburn</th>\n",
       "      <th>neighbourhood_cleansed_Auburn Gresham</th>\n",
       "      <th>neighbourhood_cleansed_Austin</th>\n",
       "      <th>neighbourhood_cleansed_Avalon Park</th>\n",
       "      <th>neighbourhood_cleansed_Avondale</th>\n",
       "      <th>...</th>\n",
       "      <th>bathrooms_text_5 baths</th>\n",
       "      <th>bathrooms_text_5.5 baths</th>\n",
       "      <th>bathrooms_text_6 baths</th>\n",
       "      <th>bathrooms_text_6.5 baths</th>\n",
       "      <th>bathrooms_text_7 baths</th>\n",
       "      <th>bathrooms_text_7.5 baths</th>\n",
       "      <th>bathrooms_text_8 shared baths</th>\n",
       "      <th>bathrooms_text_Half-bath</th>\n",
       "      <th>bathrooms_text_Private half-bath</th>\n",
       "      <th>bathrooms_text_Shared half-bath</th>\n",
       "    </tr>\n",
       "  </thead>\n",
       "  <tbody>\n",
       "    <tr>\n",
       "      <th>4074</th>\n",
       "      <td>2</td>\n",
       "      <td>NaN</td>\n",
       "      <td>NaN</td>\n",
       "      <td>0</td>\n",
       "      <td>0</td>\n",
       "      <td>0</td>\n",
       "      <td>0</td>\n",
       "      <td>0</td>\n",
       "      <td>0</td>\n",
       "      <td>0</td>\n",
       "      <td>...</td>\n",
       "      <td>0</td>\n",
       "      <td>0</td>\n",
       "      <td>0</td>\n",
       "      <td>0</td>\n",
       "      <td>0</td>\n",
       "      <td>0</td>\n",
       "      <td>0</td>\n",
       "      <td>0</td>\n",
       "      <td>0</td>\n",
       "      <td>0</td>\n",
       "    </tr>\n",
       "    <tr>\n",
       "      <th>4327</th>\n",
       "      <td>0</td>\n",
       "      <td>NaN</td>\n",
       "      <td>NaN</td>\n",
       "      <td>0</td>\n",
       "      <td>0</td>\n",
       "      <td>0</td>\n",
       "      <td>0</td>\n",
       "      <td>0</td>\n",
       "      <td>0</td>\n",
       "      <td>0</td>\n",
       "      <td>...</td>\n",
       "      <td>0</td>\n",
       "      <td>0</td>\n",
       "      <td>0</td>\n",
       "      <td>0</td>\n",
       "      <td>0</td>\n",
       "      <td>0</td>\n",
       "      <td>0</td>\n",
       "      <td>0</td>\n",
       "      <td>0</td>\n",
       "      <td>0</td>\n",
       "    </tr>\n",
       "    <tr>\n",
       "      <th>5590</th>\n",
       "      <td>2</td>\n",
       "      <td>NaN</td>\n",
       "      <td>NaN</td>\n",
       "      <td>0</td>\n",
       "      <td>0</td>\n",
       "      <td>0</td>\n",
       "      <td>0</td>\n",
       "      <td>0</td>\n",
       "      <td>0</td>\n",
       "      <td>0</td>\n",
       "      <td>...</td>\n",
       "      <td>0</td>\n",
       "      <td>0</td>\n",
       "      <td>0</td>\n",
       "      <td>0</td>\n",
       "      <td>0</td>\n",
       "      <td>0</td>\n",
       "      <td>0</td>\n",
       "      <td>0</td>\n",
       "      <td>0</td>\n",
       "      <td>0</td>\n",
       "    </tr>\n",
       "    <tr>\n",
       "      <th>6015</th>\n",
       "      <td>4</td>\n",
       "      <td>NaN</td>\n",
       "      <td>NaN</td>\n",
       "      <td>0</td>\n",
       "      <td>0</td>\n",
       "      <td>0</td>\n",
       "      <td>0</td>\n",
       "      <td>0</td>\n",
       "      <td>0</td>\n",
       "      <td>0</td>\n",
       "      <td>...</td>\n",
       "      <td>0</td>\n",
       "      <td>0</td>\n",
       "      <td>0</td>\n",
       "      <td>0</td>\n",
       "      <td>0</td>\n",
       "      <td>0</td>\n",
       "      <td>0</td>\n",
       "      <td>0</td>\n",
       "      <td>0</td>\n",
       "      <td>0</td>\n",
       "    </tr>\n",
       "    <tr>\n",
       "      <th>6416</th>\n",
       "      <td>2</td>\n",
       "      <td>NaN</td>\n",
       "      <td>NaN</td>\n",
       "      <td>0</td>\n",
       "      <td>0</td>\n",
       "      <td>0</td>\n",
       "      <td>0</td>\n",
       "      <td>0</td>\n",
       "      <td>0</td>\n",
       "      <td>0</td>\n",
       "      <td>...</td>\n",
       "      <td>0</td>\n",
       "      <td>0</td>\n",
       "      <td>0</td>\n",
       "      <td>0</td>\n",
       "      <td>0</td>\n",
       "      <td>0</td>\n",
       "      <td>0</td>\n",
       "      <td>0</td>\n",
       "      <td>0</td>\n",
       "      <td>0</td>\n",
       "    </tr>\n",
       "    <tr>\n",
       "      <th>6516</th>\n",
       "      <td>4</td>\n",
       "      <td>NaN</td>\n",
       "      <td>NaN</td>\n",
       "      <td>0</td>\n",
       "      <td>0</td>\n",
       "      <td>0</td>\n",
       "      <td>0</td>\n",
       "      <td>0</td>\n",
       "      <td>0</td>\n",
       "      <td>0</td>\n",
       "      <td>...</td>\n",
       "      <td>0</td>\n",
       "      <td>0</td>\n",
       "      <td>0</td>\n",
       "      <td>0</td>\n",
       "      <td>0</td>\n",
       "      <td>0</td>\n",
       "      <td>0</td>\n",
       "      <td>0</td>\n",
       "      <td>0</td>\n",
       "      <td>0</td>\n",
       "    </tr>\n",
       "  </tbody>\n",
       "</table>\n",
       "<p>6 rows × 108 columns</p>\n",
       "</div>"
      ],
      "text/plain": [
       "      accommodates  bedrooms  beds  neighbourhood_cleansed_Archer Heights  \\\n",
       "4074             2       NaN   NaN                                      0   \n",
       "4327             0       NaN   NaN                                      0   \n",
       "5590             2       NaN   NaN                                      0   \n",
       "6015             4       NaN   NaN                                      0   \n",
       "6416             2       NaN   NaN                                      0   \n",
       "6516             4       NaN   NaN                                      0   \n",
       "\n",
       "      neighbourhood_cleansed_Armour Square  neighbourhood_cleansed_Ashburn  \\\n",
       "4074                                     0                               0   \n",
       "4327                                     0                               0   \n",
       "5590                                     0                               0   \n",
       "6015                                     0                               0   \n",
       "6416                                     0                               0   \n",
       "6516                                     0                               0   \n",
       "\n",
       "      neighbourhood_cleansed_Auburn Gresham  neighbourhood_cleansed_Austin  \\\n",
       "4074                                      0                              0   \n",
       "4327                                      0                              0   \n",
       "5590                                      0                              0   \n",
       "6015                                      0                              0   \n",
       "6416                                      0                              0   \n",
       "6516                                      0                              0   \n",
       "\n",
       "      neighbourhood_cleansed_Avalon Park  neighbourhood_cleansed_Avondale  \\\n",
       "4074                                   0                                0   \n",
       "4327                                   0                                0   \n",
       "5590                                   0                                0   \n",
       "6015                                   0                                0   \n",
       "6416                                   0                                0   \n",
       "6516                                   0                                0   \n",
       "\n",
       "      ...  bathrooms_text_5 baths  bathrooms_text_5.5 baths  \\\n",
       "4074  ...                       0                         0   \n",
       "4327  ...                       0                         0   \n",
       "5590  ...                       0                         0   \n",
       "6015  ...                       0                         0   \n",
       "6416  ...                       0                         0   \n",
       "6516  ...                       0                         0   \n",
       "\n",
       "      bathrooms_text_6 baths  bathrooms_text_6.5 baths  \\\n",
       "4074                       0                         0   \n",
       "4327                       0                         0   \n",
       "5590                       0                         0   \n",
       "6015                       0                         0   \n",
       "6416                       0                         0   \n",
       "6516                       0                         0   \n",
       "\n",
       "      bathrooms_text_7 baths  bathrooms_text_7.5 baths  \\\n",
       "4074                       0                         0   \n",
       "4327                       0                         0   \n",
       "5590                       0                         0   \n",
       "6015                       0                         0   \n",
       "6416                       0                         0   \n",
       "6516                       0                         0   \n",
       "\n",
       "      bathrooms_text_8 shared baths  bathrooms_text_Half-bath  \\\n",
       "4074                              0                         0   \n",
       "4327                              0                         0   \n",
       "5590                              0                         0   \n",
       "6015                              0                         0   \n",
       "6416                              0                         0   \n",
       "6516                              0                         0   \n",
       "\n",
       "      bathrooms_text_Private half-bath  bathrooms_text_Shared half-bath  \n",
       "4074                                 0                                0  \n",
       "4327                                 0                                0  \n",
       "5590                                 0                                0  \n",
       "6015                                 0                                0  \n",
       "6416                                 0                                0  \n",
       "6516                                 0                                0  \n",
       "\n",
       "[6 rows x 108 columns]"
      ]
     },
     "execution_count": 51,
     "metadata": {},
     "output_type": "execute_result"
    }
   ],
   "source": [
    "X_small.loc[X_small.isna()['bedrooms']]"
   ]
  },
  {
   "cell_type": "code",
   "execution_count": 52,
   "id": "4c9eadef-75f1-4f0e-8695-dc3744b615af",
   "metadata": {},
   "outputs": [],
   "source": [
    "to_drop = X_small.loc[X_small['accommodates'] == 0].index\n",
    "X_small.drop(to_drop, inplace=True)\n",
    "y_small.drop(to_drop, inplace=True)"
   ]
  },
  {
   "cell_type": "code",
   "execution_count": 53,
   "id": "ca023106-c70b-4a8c-ad41-66c3f617cf79",
   "metadata": {},
   "outputs": [],
   "source": [
    "X_small['bedrooms'] = X_small.apply(lambda x: x['accommodates'] if not(x['bedrooms'] > 0) else x['bedrooms'], axis=1)\n",
    "X_small['beds'] = X_small.apply(lambda x: x['accommodates'] if not(x['beds'] > 0) else x['beds'], axis=1)"
   ]
  },
  {
   "cell_type": "code",
   "execution_count": 54,
   "id": "6fa082d0-a08b-4f89-87cd-3dc0753e93fb",
   "metadata": {},
   "outputs": [
    {
     "data": {
      "text/plain": [
       "0"
      ]
     },
     "execution_count": 54,
     "metadata": {},
     "output_type": "execute_result"
    }
   ],
   "source": [
    "sum(X_small.isna()['bedrooms'])"
   ]
  },
  {
   "cell_type": "code",
   "execution_count": 55,
   "id": "e6faf450-9fc1-4d4f-81d1-6304eb1df1a6",
   "metadata": {},
   "outputs": [
    {
     "data": {
      "text/plain": [
       "Pipeline(steps=[('standardscaler', StandardScaler()),\n",
       "                ('linearregression', LinearRegression())])"
      ]
     },
     "execution_count": 55,
     "metadata": {},
     "output_type": "execute_result"
    }
   ],
   "source": [
    "X_small_train, X_small_test, y_small_train, y_small_test = train_test_split(\n",
    "    X_small, y_small, test_size=.3, random_state=42)\n",
    "pipe = make_pipeline(StandardScaler(), LinearRegression())\n",
    "pipe.fit(X_small_train, y_small_train)"
   ]
  },
  {
   "cell_type": "code",
   "execution_count": 56,
   "id": "35c83b8c-2cca-46f5-90d2-bcf42a65f25b",
   "metadata": {},
   "outputs": [
    {
     "data": {
      "text/plain": [
       "0.033706592134797875"
      ]
     },
     "execution_count": 56,
     "metadata": {},
     "output_type": "execute_result"
    }
   ],
   "source": [
    "pipe.score(X_small_train, y_small_train)"
   ]
  },
  {
   "cell_type": "code",
   "execution_count": 57,
   "id": "0aec52df-16f9-406f-8a69-8e42182c15be",
   "metadata": {},
   "outputs": [
    {
     "name": "stdout",
     "output_type": "stream",
     "text": [
      "Cutoff =  1, train_score =  0.00104, test_score =  0.00114, n_features = 3\n",
      "Cutoff =  0.99, train_score =  0.00104, test_score =  0.00114, n_features = 3\n",
      "Cutoff =  0.9, train_score =  0.00104, test_score =  0.00114, n_features = 3\n",
      "Cutoff =  0.7, train_score =  0.00104, test_score =  0.00114, n_features = 3\n",
      "Cutoff =  0.5, train_score =  0.00339, test_score =  0.00249, n_features = 4\n",
      "Cutoff =  0.3, train_score =  0.00339, test_score =  0.00249, n_features = 4\n",
      "Cutoff =  0.2, train_score =  0.00339, test_score =  0.00249, n_features = 4\n",
      "Cutoff =  0.1, train_score =  0.0337, test_score =  0.0133, n_features = 8\n",
      "Cutoff =  0.05, train_score =  0.0339, test_score =  0.0141, n_features = 13\n",
      "Cutoff =  0.01, train_score =  0.0347, test_score =  0.0135, n_features = 38\n",
      "Cutoff =  0, train_score =  0.0375, test_score = -5.76e+20, n_features = 104\n"
     ]
    }
   ],
   "source": [
    "test_cutoffs(X_small_train, y_small_train, [1, .99, .9, .7, .5, .3, .2, .1, .05, .01, 0])"
   ]
  },
  {
   "cell_type": "code",
   "execution_count": 58,
   "id": "cf255e9c-941d-4b9d-924a-c81a4973901c",
   "metadata": {},
   "outputs": [],
   "source": [
    "pipe = make_pipeline(StandardScaler(), LinearRegression())\n",
    "X_small_cutoff = X_small.iloc[:, np.where((X_small.sum()/len(X_small) > .05) == True)[0]]\n",
    "X_small_train, X_small_test, y_small_train, y_small_test = train_test_split(\n",
    "    X_small_cutoff, y_small, test_size=0.3, random_state=42)\n",
    "pipe.fit(X_small_train, y_small_train)\n",
    "score = pipe.score(X_small_test, y_small_test)\n",
    "y_small_pred = pipe.predict(X_small_test)"
   ]
  },
  {
   "cell_type": "code",
   "execution_count": 63,
   "id": "1196cd51-c36e-4014-a64f-45ba3fa01715",
   "metadata": {},
   "outputs": [
    {
     "name": "stdout",
     "output_type": "stream",
     "text": [
      "0.2666255577618506\n"
     ]
    }
   ],
   "source": [
    "u = ((y_test - y_pred)**2).sum()\n",
    "v = ((y_test - y_test.mean())**2).sum()\n",
    "print(1 - u/v)"
   ]
  },
  {
   "cell_type": "markdown",
   "id": "ae8062b1-2e3d-433b-8f23-aa88d8a2f36b",
   "metadata": {},
   "source": [
    "The coefficient of determination, $R^2$, is at least positive; that is, the predictors do better than one that just always predicts the mean price. Still, there is a long way to go to actually get good predictions."
   ]
  },
  {
   "cell_type": "code",
   "execution_count": 64,
   "id": "c892a2e4-222b-4ae5-a9bf-1d0a54a95d52",
   "metadata": {},
   "outputs": [],
   "source": [
    "from sklearn.linear_model import ElasticNet"
   ]
  },
  {
   "cell_type": "code",
   "execution_count": 79,
   "id": "1c91939b-a787-4757-8035-94d97fdd3888",
   "metadata": {},
   "outputs": [],
   "source": [
    "def test_cutoffs_Elastic(X, y, cutoffs):\n",
    "    for cutoff in cutoffs:\n",
    "        pipe = make_pipeline(StandardScaler(), ElasticNet())\n",
    "        X_cutoff = X.iloc[:, np.where((X.sum()/len(X) > cutoff) == True)[0]]\n",
    "        X_train, X_test, y_train, y_test = train_test_split(\n",
    "            X_cutoff, y, test_size=0.3, random_state=42)\n",
    "        pipe.fit(X_train, y_train)\n",
    "        train_score = pipe.score(X_train, y_train)\n",
    "        test_score = pipe.score(X_test, y_test)\n",
    "        print(f\"Cutoff = {cutoff: .3g}, train_score = {train_score: .3g}, test_score = {test_score: .3g}, n_features = {X_train.shape[1]}\")\n",
    "    #return results"
   ]
  },
  {
   "cell_type": "code",
   "execution_count": 86,
   "id": "4256abca-026d-4340-8a33-04f3e6b00906",
   "metadata": {},
   "outputs": [],
   "source": [
    "def fit_model(X, y, model, cutoff):\n",
    "    pipe = make_pipeline(StandardScaler(), model)\n",
    "    X_cutoff = X.iloc[:, np.where((X.sum()/len(X) > cutoff) == True)[0]]\n",
    "    X_train, X_test, y_train, y_test = train_test_split(\n",
    "        X_cutoff, y, test_size=0.3, random_state=42)\n",
    "    pipe.fit(X_train, y_train)\n",
    "    return pipe, X_train, X_test, y_train, y_test"
   ]
  },
  {
   "cell_type": "markdown",
   "id": "6c1bd628-27bd-4676-acad-63c133df9a78",
   "metadata": {},
   "source": [
    "Note `ElasticNet` uses 5-fold cross-validation for hyperparameter tuning by default (I don't need to set up the CV myself)."
   ]
  },
  {
   "cell_type": "code",
   "execution_count": 122,
   "id": "32c58131-061c-4469-9c0c-eea472ff5583",
   "metadata": {},
   "outputs": [
    {
     "name": "stdout",
     "output_type": "stream",
     "text": [
      "Cutoff =  1e+03, train_score =  0.00193, test_score =  0.00188, n_features = 4\n",
      "Cutoff =  1, train_score =  0.0403, test_score =  0.0432, n_features = 37\n",
      "Cutoff =  0.99, train_score =  0.0404, test_score =  0.0434, n_features = 39\n",
      "Cutoff =  0.9, train_score =  0.17, test_score =  0.158, n_features = 46\n",
      "Cutoff =  0.7, train_score =  0.241, test_score =  0.221, n_features = 61\n",
      "Cutoff =  0.5, train_score =  0.246, test_score =  0.226, n_features = 69\n",
      "Cutoff =  0.3, train_score =  0.249, test_score =  0.228, n_features = 75\n",
      "Cutoff =  0.2, train_score =  0.249, test_score =  0.228, n_features = 78\n",
      "Cutoff =  0.1, train_score =  0.265, test_score =  0.243, n_features = 85\n",
      "Cutoff =  0.05, train_score =  0.278, test_score =  0.251, n_features = 98\n",
      "Cutoff =  0.01, train_score =  0.293, test_score =  0.263, n_features = 164\n",
      "Cutoff =  0.005, train_score =  0.298, test_score =  0.265, n_features = 202\n",
      "Cutoff =  0, train_score =  0.322, test_score =  0.272, n_features = 739\n"
     ]
    }
   ],
   "source": [
    "test_cutoffs_Elastic(X, y, [1000, 1, .99, .9, .7, .5, .3, .2, .1, .05, .01, 0.005, 0])"
   ]
  },
  {
   "cell_type": "code",
   "execution_count": 87,
   "id": "6c280474-b266-442e-8a8d-54a97c27e66b",
   "metadata": {},
   "outputs": [],
   "source": [
    "pipe, X_train, X_test, y_train, y_test = fit_model(X, y, ElasticNet(), 0)"
   ]
  },
  {
   "cell_type": "code",
   "execution_count": 88,
   "id": "6c41124e-2d45-490d-aa00-c65629ebb6f5",
   "metadata": {},
   "outputs": [
    {
     "data": {
      "text/plain": [
       "0.27212546707272434"
      ]
     },
     "execution_count": 88,
     "metadata": {},
     "output_type": "execute_result"
    }
   ],
   "source": [
    "pipe.score(X_test, y_test)"
   ]
  },
  {
   "cell_type": "markdown",
   "id": "43e29f48-15dc-470b-ab05-d25014f45a3c",
   "metadata": {},
   "source": [
    "Not much better than my best linear model above, which has $R^2 = 0.267$.\n",
    "\n",
    "What are the most important features?"
   ]
  },
  {
   "cell_type": "code",
   "execution_count": 127,
   "id": "637d8796-44db-4919-8589-db169c69a8c6",
   "metadata": {},
   "outputs": [
    {
     "data": {
      "text/html": [
       "<div>\n",
       "<style scoped>\n",
       "    .dataframe tbody tr th:only-of-type {\n",
       "        vertical-align: middle;\n",
       "    }\n",
       "\n",
       "    .dataframe tbody tr th {\n",
       "        vertical-align: top;\n",
       "    }\n",
       "\n",
       "    .dataframe thead th {\n",
       "        text-align: right;\n",
       "    }\n",
       "</style>\n",
       "<table border=\"1\" class=\"dataframe\">\n",
       "  <thead>\n",
       "    <tr style=\"text-align: right;\">\n",
       "      <th></th>\n",
       "      <th>feature</th>\n",
       "      <th>coeff</th>\n",
       "      <th>abs_coeff</th>\n",
       "    </tr>\n",
       "  </thead>\n",
       "  <tbody>\n",
       "    <tr>\n",
       "      <th>75</th>\n",
       "      <td>Smoke alarm</td>\n",
       "      <td>-458.492116</td>\n",
       "      <td>458.492116</td>\n",
       "    </tr>\n",
       "    <tr>\n",
       "      <th>656</th>\n",
       "      <td>neighbourhood_cleansed_West Town</td>\n",
       "      <td>286.968933</td>\n",
       "      <td>286.968933</td>\n",
       "    </tr>\n",
       "    <tr>\n",
       "      <th>63</th>\n",
       "      <td>Essentials</td>\n",
       "      <td>-253.750141</td>\n",
       "      <td>253.750141</td>\n",
       "    </tr>\n",
       "    <tr>\n",
       "      <th>354</th>\n",
       "      <td>host_location_US</td>\n",
       "      <td>227.243397</td>\n",
       "      <td>227.243397</td>\n",
       "    </tr>\n",
       "    <tr>\n",
       "      <th>67</th>\n",
       "      <td>Heating</td>\n",
       "      <td>-224.736842</td>\n",
       "      <td>224.736842</td>\n",
       "    </tr>\n",
       "    <tr>\n",
       "      <th>72</th>\n",
       "      <td>Microwave</td>\n",
       "      <td>164.297672</td>\n",
       "      <td>164.297672</td>\n",
       "    </tr>\n",
       "    <tr>\n",
       "      <th>62</th>\n",
       "      <td>Dishes and silverware</td>\n",
       "      <td>-163.453631</td>\n",
       "      <td>163.453631</td>\n",
       "    </tr>\n",
       "    <tr>\n",
       "      <th>73</th>\n",
       "      <td>Refrigerator</td>\n",
       "      <td>156.602889</td>\n",
       "      <td>156.602889</td>\n",
       "    </tr>\n",
       "    <tr>\n",
       "      <th>25</th>\n",
       "      <td>last_review</td>\n",
       "      <td>147.420884</td>\n",
       "      <td>147.420884</td>\n",
       "    </tr>\n",
       "    <tr>\n",
       "      <th>65</th>\n",
       "      <td>Hair dryer</td>\n",
       "      <td>140.898815</td>\n",
       "      <td>140.898815</td>\n",
       "    </tr>\n",
       "    <tr>\n",
       "      <th>17</th>\n",
       "      <td>availability_30</td>\n",
       "      <td>-136.037138</td>\n",
       "      <td>136.037138</td>\n",
       "    </tr>\n",
       "    <tr>\n",
       "      <th>558</th>\n",
       "      <td>host_neighbourhood_West Town</td>\n",
       "      <td>-128.40714</td>\n",
       "      <td>128.40714</td>\n",
       "    </tr>\n",
       "    <tr>\n",
       "      <th>59</th>\n",
       "      <td>Carbon monoxide alarm</td>\n",
       "      <td>-126.327472</td>\n",
       "      <td>126.327472</td>\n",
       "    </tr>\n",
       "    <tr>\n",
       "      <th>566</th>\n",
       "      <td>host_identity_verified_t</td>\n",
       "      <td>-126.01395</td>\n",
       "      <td>126.01395</td>\n",
       "    </tr>\n",
       "    <tr>\n",
       "      <th>10</th>\n",
       "      <td>maximum_nights</td>\n",
       "      <td>-121.146395</td>\n",
       "      <td>121.146395</td>\n",
       "    </tr>\n",
       "    <tr>\n",
       "      <th>68</th>\n",
       "      <td>Hot water</td>\n",
       "      <td>-106.743172</td>\n",
       "      <td>106.743172</td>\n",
       "    </tr>\n",
       "    <tr>\n",
       "      <th>66</th>\n",
       "      <td>Hangers</td>\n",
       "      <td>-102.063001</td>\n",
       "      <td>102.063001</td>\n",
       "    </tr>\n",
       "    <tr>\n",
       "      <th>60</th>\n",
       "      <td>Coffee maker</td>\n",
       "      <td>101.506482</td>\n",
       "      <td>101.506482</td>\n",
       "    </tr>\n",
       "    <tr>\n",
       "      <th>20</th>\n",
       "      <td>availability_365</td>\n",
       "      <td>100.021683</td>\n",
       "      <td>100.021683</td>\n",
       "    </tr>\n",
       "    <tr>\n",
       "      <th>71</th>\n",
       "      <td>Long term stays allowed</td>\n",
       "      <td>99.684606</td>\n",
       "      <td>99.684606</td>\n",
       "    </tr>\n",
       "    <tr>\n",
       "      <th>58</th>\n",
       "      <td>Air conditioning</td>\n",
       "      <td>99.220861</td>\n",
       "      <td>99.220861</td>\n",
       "    </tr>\n",
       "    <tr>\n",
       "      <th>561</th>\n",
       "      <td>host_neighbourhood_Wicker Park</td>\n",
       "      <td>-93.887452</td>\n",
       "      <td>93.887452</td>\n",
       "    </tr>\n",
       "    <tr>\n",
       "      <th>393</th>\n",
       "      <td>host_response_time_within an hour</td>\n",
       "      <td>86.705866</td>\n",
       "      <td>86.705866</td>\n",
       "    </tr>\n",
       "    <tr>\n",
       "      <th>571</th>\n",
       "      <td>neighbourhood_Chicago, Illinois, United States</td>\n",
       "      <td>-83.361559</td>\n",
       "      <td>83.361559</td>\n",
       "    </tr>\n",
       "    <tr>\n",
       "      <th>413</th>\n",
       "      <td>host_neighbourhood_Beverly Heights</td>\n",
       "      <td>-82.717746</td>\n",
       "      <td>82.717746</td>\n",
       "    </tr>\n",
       "    <tr>\n",
       "      <th>559</th>\n",
       "      <td>host_neighbourhood_West Town/Noble Square</td>\n",
       "      <td>-82.134331</td>\n",
       "      <td>82.134331</td>\n",
       "    </tr>\n",
       "    <tr>\n",
       "      <th>69</th>\n",
       "      <td>Iron</td>\n",
       "      <td>80.805358</td>\n",
       "      <td>80.805358</td>\n",
       "    </tr>\n",
       "    <tr>\n",
       "      <th>738</th>\n",
       "      <td>instant_bookable_t</td>\n",
       "      <td>75.940235</td>\n",
       "      <td>75.940235</td>\n",
       "    </tr>\n",
       "    <tr>\n",
       "      <th>70</th>\n",
       "      <td>Kitchen</td>\n",
       "      <td>74.234068</td>\n",
       "      <td>74.234068</td>\n",
       "    </tr>\n",
       "    <tr>\n",
       "      <th>122</th>\n",
       "      <td>host_location_Chicago, Illinois, United States</td>\n",
       "      <td>-73.653049</td>\n",
       "      <td>73.653049</td>\n",
       "    </tr>\n",
       "  </tbody>\n",
       "</table>\n",
       "</div>"
      ],
      "text/plain": [
       "                                            feature       coeff   abs_coeff\n",
       "75                                      Smoke alarm -458.492116  458.492116\n",
       "656                neighbourhood_cleansed_West Town  286.968933  286.968933\n",
       "63                                       Essentials -253.750141  253.750141\n",
       "354                                host_location_US  227.243397  227.243397\n",
       "67                                          Heating -224.736842  224.736842\n",
       "72                                        Microwave  164.297672  164.297672\n",
       "62                            Dishes and silverware -163.453631  163.453631\n",
       "73                                     Refrigerator  156.602889  156.602889\n",
       "25                                      last_review  147.420884  147.420884\n",
       "65                                       Hair dryer  140.898815  140.898815\n",
       "17                                  availability_30 -136.037138  136.037138\n",
       "558                    host_neighbourhood_West Town  -128.40714   128.40714\n",
       "59                            Carbon monoxide alarm -126.327472  126.327472\n",
       "566                        host_identity_verified_t  -126.01395   126.01395\n",
       "10                                   maximum_nights -121.146395  121.146395\n",
       "68                                        Hot water -106.743172  106.743172\n",
       "66                                          Hangers -102.063001  102.063001\n",
       "60                                     Coffee maker  101.506482  101.506482\n",
       "20                                 availability_365  100.021683  100.021683\n",
       "71                          Long term stays allowed   99.684606   99.684606\n",
       "58                                 Air conditioning   99.220861   99.220861\n",
       "561                  host_neighbourhood_Wicker Park  -93.887452   93.887452\n",
       "393               host_response_time_within an hour   86.705866   86.705866\n",
       "571  neighbourhood_Chicago, Illinois, United States  -83.361559   83.361559\n",
       "413              host_neighbourhood_Beverly Heights  -82.717746   82.717746\n",
       "559       host_neighbourhood_West Town/Noble Square  -82.134331   82.134331\n",
       "69                                             Iron   80.805358   80.805358\n",
       "738                              instant_bookable_t   75.940235   75.940235\n",
       "70                                          Kitchen   74.234068   74.234068\n",
       "122  host_location_Chicago, Illinois, United States  -73.653049   73.653049"
      ]
     },
     "execution_count": 127,
     "metadata": {},
     "output_type": "execute_result"
    }
   ],
   "source": [
    "coeffs = pipe.named_steps['elasticnet'].coef_\n",
    "df = pd.DataFrame(np.array([X_train.columns, coeffs, np.abs(coeffs)]).T, columns=['feature','coeff', 'abs_coeff'])\n",
    "df = df.sort_values(by='abs_coeff', ascending=False)\n",
    "df.head(30)"
   ]
  },
  {
   "cell_type": "code",
   "execution_count": 125,
   "id": "3fd980d7-ded7-4e71-8a23-8bd3b362d151",
   "metadata": {},
   "outputs": [
    {
     "data": {
      "text/plain": [
       "104"
      ]
     },
     "execution_count": 125,
     "metadata": {},
     "output_type": "execute_result"
    }
   ],
   "source": [
    "len(df.loc[df['abs_coeff']==0])"
   ]
  },
  {
   "cell_type": "markdown",
   "id": "8c6bf822-69ff-4122-bd4d-c3a5c43001a3",
   "metadata": {},
   "source": [
    "Interesting. I can't say I've learned too much from this... I would say that some amenities are correlated with higher prices, though others are negatively correlated and I'm not sure why that is. For example, `Microwave` is positively correlated while `Smoke alarm` is negatively correlated. A strategy a host could use to try to make a higher price work would be to add the amenities for which the coefficients are positive, such as a microwave, a hair dryer, and a refrigerator."
   ]
  },
  {
   "cell_type": "markdown",
   "id": "0958adb2-4e5a-465c-828e-bef0318fd13e",
   "metadata": {},
   "source": [
    "I'd like to build some better models, even if they are less interpretable. Things to try:\n",
    "\n",
    "- k-nearest-neighbors\n",
    "- Random forest\n",
    "- Neural network"
   ]
  }
 ],
 "metadata": {
  "kernelspec": {
   "display_name": "Python 3 (ipykernel)",
   "language": "python",
   "name": "python3"
  },
  "language_info": {
   "codemirror_mode": {
    "name": "ipython",
    "version": 3
   },
   "file_extension": ".py",
   "mimetype": "text/x-python",
   "name": "python",
   "nbconvert_exporter": "python",
   "pygments_lexer": "ipython3",
   "version": "3.8.12"
  }
 },
 "nbformat": 4,
 "nbformat_minor": 5
}
