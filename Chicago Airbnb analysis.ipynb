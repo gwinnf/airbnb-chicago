{
 "cells": [
  {
   "cell_type": "code",
   "execution_count": 1,
   "id": "35ea7d6e-99e9-4931-a0db-5b62c080401d",
   "metadata": {},
   "outputs": [],
   "source": [
    "import pandas as pd\n",
    "import numpy as np\n",
    "from sklearn.model_selection import train_test_split\n",
    "from sklearn.linear_model import LinearRegression\n",
    "from sklearn.pipeline import make_pipeline\n",
    "from sklearn.preprocessing import StandardScaler\n",
    "import matplotlib.pyplot as plt\n",
    "import seaborn as sns\n",
    "from sklearn.metrics import median_absolute_error\n",
    "from sklearn.metrics import make_scorer\n",
    "from sklearn.model_selection import cross_val_score\n",
    "from sklearn.model_selection import cross_val_predict\n",
    "from sklearn.model_selection import cross_validate\n",
    "from sklearn.preprocessing import OneHotEncoder"
   ]
  },
  {
   "cell_type": "markdown",
   "id": "c9317c34-294f-45a9-bf8d-af3bb483778f",
   "metadata": {},
   "source": [
    "## Introduction"
   ]
  },
  {
   "cell_type": "markdown",
   "id": "262914ef-7869-4fed-a686-8fe3e7a7b509",
   "metadata": {},
   "source": [
    "Here are some possible business questions:\n",
    "\n",
    "- What factors contribute most heavily to the price? Make a model to predict the price - one that's interpretable and perhaps one (like a neural network) that's not interpretable but does a better job of price prediction.\n",
    "- Which neighborhoods have the most variability in their listing prices over the course of the year? I'm curious about this because one strategy for making good money from airbnb is to live in an apartment most of the year, but make it available at times when it can fetch particularly high prices (and just sleep somewhere else on those nights, e.g. a cheap motel an hour outside town, or a campsite).\n",
    "- What should those listings with poor overall review scores do in order to get better reviews in the future?\n",
    "- What can we discern about the character of each neighborhood using the descriptions?"
   ]
  },
  {
   "cell_type": "code",
   "execution_count": 2,
   "id": "78bf8b5d-1748-4048-b13a-1bdd0d20ac24",
   "metadata": {},
   "outputs": [],
   "source": [
    "listings = pd.read_csv(\"listings.csv\")\n",
    "calendar = pd.read_csv(\"calendar.csv\")"
   ]
  },
  {
   "cell_type": "code",
   "execution_count": 3,
   "id": "c4c22a50-608d-404a-a5a1-a29c9be50834",
   "metadata": {},
   "outputs": [
    {
     "data": {
      "text/plain": [
       "True"
      ]
     },
     "execution_count": 3,
     "metadata": {},
     "output_type": "execute_result"
    }
   ],
   "source": [
    "listings.iloc[[1]]['host_response_rate'].item() is np.nan"
   ]
  },
  {
   "cell_type": "markdown",
   "id": "6f4987c3-2fc6-4dad-8eea-5576531dd28c",
   "metadata": {},
   "source": [
    "Definitions for many (though not all) of the fields can be found [here](https://docs.google.com/spreadsheets/d/1iWCNJcSutYqpULSQHlNyGInUvHg2BoUGoNRIGa6Szc4/edit#gid=982310896)."
   ]
  },
  {
   "cell_type": "markdown",
   "id": "8025aaaa-b151-4fca-98b7-332d406373c0",
   "metadata": {},
   "source": [
    "Drop columns that have all `NA` values."
   ]
  },
  {
   "cell_type": "code",
   "execution_count": 4,
   "id": "358ae4a7-389c-4d41-9ad6-33f70f44c85f",
   "metadata": {},
   "outputs": [],
   "source": [
    "listings_na_cols = listings.columns[listings.isna().all()]\n",
    "listings.drop(columns=listings_na_cols, inplace=True)\n",
    "calendar.dropna(axis=1, how='all', inplace=True)"
   ]
  },
  {
   "cell_type": "markdown",
   "id": "9fe63894-e9c5-49ea-8a3c-a07800214ca2",
   "metadata": {},
   "source": [
    "Drop rows in `listings` that have `NA` in the `price` field, and do the same for the `price` and `adjusted_price` fields in `calendar`."
   ]
  },
  {
   "cell_type": "code",
   "execution_count": 5,
   "id": "8ffeaf67-1012-461c-8b30-16f26027b0f2",
   "metadata": {},
   "outputs": [],
   "source": [
    "listings.dropna(subset=['price'], inplace=True)\n",
    "calendar.dropna(subset=['price', 'adjusted_price'], inplace=True)"
   ]
  },
  {
   "cell_type": "markdown",
   "id": "c335c87d-41ed-46b5-a22a-38f04705d102",
   "metadata": {},
   "source": [
    "Observe that a dollar sign preceeds the number in several columns; I will remove this so that the field is treated as numeric."
   ]
  },
  {
   "cell_type": "code",
   "execution_count": 6,
   "id": "3de6e499-bdaf-492e-8035-a35557e73e5b",
   "metadata": {},
   "outputs": [],
   "source": [
    "listings['price'] = listings.apply((lambda x: x['price'].replace('$','').\n",
    "                                    replace(',','')), axis=1)\n",
    "calendar['price'] = calendar.apply((lambda x: x['price'].replace('$','')\n",
    "                                    .replace(',','')), axis=1)\n",
    "calendar['adjusted_price'] = calendar.apply((lambda x: x['adjusted_price']\n",
    "                                             .replace('$','').replace(',','')), axis=1)"
   ]
  },
  {
   "cell_type": "markdown",
   "id": "512e304f-e680-480e-b22b-febea49717c5",
   "metadata": {},
   "source": [
    "The price should be greater than zero. I'll drop all rows where this is not the case."
   ]
  },
  {
   "cell_type": "code",
   "execution_count": 7,
   "id": "e41445b3-add9-4fe9-b68a-2ae7242771dd",
   "metadata": {},
   "outputs": [],
   "source": [
    "listings['price'] = listings['price'].astype(np.float64)\n",
    "calendar['price'] = calendar['price'].astype(np.float64)\n",
    "calendar['adjusted_price'] = calendar['adjusted_price'].astype(np.float64)"
   ]
  },
  {
   "cell_type": "code",
   "execution_count": 8,
   "id": "2600e0b6-2135-4db5-a17d-324402406a43",
   "metadata": {},
   "outputs": [],
   "source": [
    "listings.drop(listings.loc[listings['price'] <= 0].index, inplace=True)"
   ]
  },
  {
   "cell_type": "markdown",
   "id": "a54bfd3c-ed31-4a89-8085-f9a92cccafcd",
   "metadata": {},
   "source": [
    "Similarly, some of the fields are expressed as percentages; I will remove the percent signs and change the entries to floats."
   ]
  },
  {
   "cell_type": "code",
   "execution_count": 9,
   "id": "d2b83a07-5d03-491e-b74a-a976bc3c23df",
   "metadata": {},
   "outputs": [],
   "source": [
    "listings['host_response_rate'] = listings.apply(lambda x: float(x['host_response_rate'].replace('%','')) if pd.notnull(x['host_response_rate']) else x['host_response_rate'], axis=1)\n",
    "listings['host_acceptance_rate'] = listings.apply(lambda x: float(x['host_acceptance_rate'].replace('%','')) if pd.notnull(x['host_acceptance_rate']) else x['host_acceptance_rate'], axis=1)"
   ]
  },
  {
   "cell_type": "markdown",
   "id": "762eaa6d-f6d4-40bf-8d20-73f98032cc5d",
   "metadata": {},
   "source": [
    "# 1. Price prediction"
   ]
  },
  {
   "cell_type": "markdown",
   "id": "2529071f-bfef-4ad1-a3b8-941a6320acc2",
   "metadata": {},
   "source": [
    "## Data preparation"
   ]
  },
  {
   "cell_type": "markdown",
   "id": "ee71bd5f-aa5f-4c23-a05f-b99e3b4aa96d",
   "metadata": {},
   "source": [
    "Split into `X` and `y`."
   ]
  },
  {
   "cell_type": "code",
   "execution_count": 10,
   "id": "4ef4ef4b-d851-4f12-8aea-241256a44cfd",
   "metadata": {},
   "outputs": [],
   "source": [
    "X = listings.drop('price', axis=1)\n",
    "y = listings['price']"
   ]
  },
  {
   "cell_type": "markdown",
   "id": "dd175db8-e611-496d-9a17-0f1483329d25",
   "metadata": {},
   "source": [
    "I also need to deal with dates appropriately. The relevant columns are `host_since`, `first_review`, and `last_review`. I could scrap these columns altogether, but it might be useful to know the length of time since the date for each row. "
   ]
  },
  {
   "cell_type": "code",
   "execution_count": 11,
   "id": "89443ae0-4882-40db-a358-f1c5a34b70cf",
   "metadata": {},
   "outputs": [],
   "source": [
    "for col in ['host_since', 'first_review', 'last_review']:\n",
    "    X[col] = pd.to_datetime(X['last_scraped']) - pd.to_datetime(X[col])\n",
    "    X[col] = X.apply(lambda x: x[col].days, axis=1)"
   ]
  },
  {
   "cell_type": "markdown",
   "id": "2aa503c8-f71e-490f-b5dc-6d6b8e3bcb04",
   "metadata": {},
   "source": [
    "Certain columns in `X` are not useful for prediction (for example, URLs), and should be removed."
   ]
  },
  {
   "cell_type": "code",
   "execution_count": 12,
   "id": "abd1ca9d-c86b-401f-bcec-07451c24b1ae",
   "metadata": {},
   "outputs": [],
   "source": [
    "to_drop = ['id', 'listing_url', 'scrape_id', 'last_scraped', 'name']\n",
    "to_drop += ['description', 'neighborhood_overview', 'picture_url', 'host_id']\n",
    "to_drop += ['host_url', 'host_name', 'host_about', 'host_thumbnail_url']\n",
    "to_drop += ['host_picture_url', 'license', 'calendar_last_scraped']\n",
    "X.drop(labels=to_drop, axis=1, inplace=True)"
   ]
  },
  {
   "cell_type": "markdown",
   "id": "8d9d2727-84b3-4e33-85f0-e3e11210659c",
   "metadata": {},
   "source": [
    "Certain columns (`host_verifications` and `amenities`) are lists of options; I'd like to split these into different columns."
   ]
  },
  {
   "cell_type": "markdown",
   "id": "e5b3b9a0-3141-4910-8b72-02e4bc6290d2",
   "metadata": {},
   "source": [
    "The first step is to change these entries into actual Python lists instead of strings (annoyingly, the two relevant columns are formatted slightly differently, with the roles of single and double quotes being interchanged between them)."
   ]
  },
  {
   "cell_type": "code",
   "execution_count": 13,
   "id": "9cbc2268-3648-407e-9621-6627c55b79ba",
   "metadata": {},
   "outputs": [],
   "source": [
    "X['host_verifications'] = X.apply(lambda x: x['host_verifications'].replace('[','').replace(']','').replace('\\'','').split(', '), axis=1)"
   ]
  },
  {
   "cell_type": "code",
   "execution_count": 14,
   "id": "e2e6b600-ea6b-4d4a-8603-bf5bc1234809",
   "metadata": {},
   "outputs": [],
   "source": [
    "X['amenities'] = X.apply(lambda x: x['amenities'].replace('\\\"','').replace('[','').replace(']','').split(', '), axis=1)"
   ]
  },
  {
   "cell_type": "markdown",
   "id": "2698ee50-43e7-41f8-99f3-ee4997ff33dc",
   "metadata": {},
   "source": [
    "What are the possible values in the `host_verifications` lists?"
   ]
  },
  {
   "cell_type": "code",
   "execution_count": 15,
   "id": "aaa0c652-b32e-4415-a36f-64faa1dbd4bd",
   "metadata": {},
   "outputs": [],
   "source": [
    "distinct_host_verifications = set()\n",
    "def find_distinct_hvs(x):\n",
    "    for hv in x['host_verifications']:\n",
    "        distinct_host_verifications.add(hv)\n",
    "X.apply(lambda x: find_distinct_hvs(x), axis=1)\n",
    "distinct_host_verifications = list(distinct_host_verifications)"
   ]
  },
  {
   "cell_type": "code",
   "execution_count": 16,
   "id": "e92d30df-fea2-4509-9e8d-15234493020e",
   "metadata": {},
   "outputs": [
    {
     "data": {
      "text/plain": [
       "20"
      ]
     },
     "execution_count": 16,
     "metadata": {},
     "output_type": "execute_result"
    }
   ],
   "source": [
    "len(distinct_host_verifications)"
   ]
  },
  {
   "cell_type": "markdown",
   "id": "b1ab83f9-5fe1-4813-a6a8-d13d7b87124f",
   "metadata": {},
   "source": [
    "The `MultiLabelBinarizer` in `sklearn` works for splitting the lists into their individual elements, and then creating a dummy variable for each one (I started to write this myself, and then found that this convenient function exists in sklearn!)."
   ]
  },
  {
   "cell_type": "code",
   "execution_count": 17,
   "id": "cd2a7883-4c4a-40fe-9e39-eaf06186ffd2",
   "metadata": {},
   "outputs": [],
   "source": [
    "from sklearn.preprocessing import MultiLabelBinarizer"
   ]
  },
  {
   "cell_type": "code",
   "execution_count": 18,
   "id": "031dfc2f-bfc9-4fda-bef9-0785073a13af",
   "metadata": {},
   "outputs": [],
   "source": [
    "mlb_hv = MultiLabelBinarizer()\n",
    "hv_df = pd.DataFrame(mlb_hv.fit_transform(X['host_verifications']),\n",
    "                     columns=mlb_hv.classes_, index=X.index)"
   ]
  },
  {
   "cell_type": "code",
   "execution_count": 19,
   "id": "7a336ddf-3712-4513-bbba-690f829a4f60",
   "metadata": {},
   "outputs": [],
   "source": [
    "X = pd.concat([X, hv_df], axis=1)"
   ]
  },
  {
   "cell_type": "code",
   "execution_count": 20,
   "id": "c3a9a3c3-9808-4ec2-80ab-e1c1ac172735",
   "metadata": {},
   "outputs": [],
   "source": [
    "X.rename(columns={'None' : 'HV_None'}, inplace=True)\n",
    "# I don't want a column to be called just 'None', so I changed it a bit"
   ]
  },
  {
   "cell_type": "markdown",
   "id": "06806fd4-6a80-42d8-8140-6baadd78cd41",
   "metadata": {},
   "source": [
    "Now I can drop the original `host_verifications` column."
   ]
  },
  {
   "cell_type": "code",
   "execution_count": 21,
   "id": "985685e2-1c99-4e74-887b-4f88c3fee6ac",
   "metadata": {},
   "outputs": [],
   "source": [
    "X.drop('host_verifications', axis=1, inplace=True)"
   ]
  },
  {
   "cell_type": "markdown",
   "id": "e40c2804-9179-4d19-ae71-d3ad79442f0e",
   "metadata": {},
   "source": [
    "Now I'd like to do the same for the `amenities` column. What are the possible values in those lists?"
   ]
  },
  {
   "cell_type": "code",
   "execution_count": 22,
   "id": "4d6ccb94-e610-4048-92c9-3158e4501f7f",
   "metadata": {},
   "outputs": [
    {
     "data": {
      "text/plain": [
       "976"
      ]
     },
     "execution_count": 22,
     "metadata": {},
     "output_type": "execute_result"
    }
   ],
   "source": [
    "distinct_amenities = set()\n",
    "def find_distinct_amenities(x):\n",
    "    for a in x['amenities']:\n",
    "        distinct_amenities.add(a)\n",
    "X.apply(lambda x: find_distinct_amenities(x), axis=1)\n",
    "len(distinct_amenities)"
   ]
  },
  {
   "cell_type": "markdown",
   "id": "3fe76a8f-72c9-4a6f-b8f8-903527f634a9",
   "metadata": {},
   "source": [
    "Ok, that's a lot of amenities. I don't really want to vastly blow up the number of features like this, so I'll just take the 20 most popular amenities."
   ]
  },
  {
   "cell_type": "code",
   "execution_count": 23,
   "id": "0af64618-da78-4bd1-a9fe-efb55ac6b336",
   "metadata": {},
   "outputs": [],
   "source": [
    "from collections import defaultdict\n",
    "from operator import itemgetter"
   ]
  },
  {
   "cell_type": "code",
   "execution_count": 24,
   "id": "651e483a-62bd-4d0b-a686-ec5994a2a95e",
   "metadata": {},
   "outputs": [],
   "source": [
    "amenity_counts = defaultdict(int) # Initializes to zero for each value\n",
    "def update_counts(x):\n",
    "    for a in x['amenities']:\n",
    "        amenity_counts[a] += 1\n",
    "X.apply(lambda x: update_counts(x), axis=1);"
   ]
  },
  {
   "cell_type": "code",
   "execution_count": 25,
   "id": "b6daa5a2-d820-4e4a-8d8a-0ef75ff9eddd",
   "metadata": {},
   "outputs": [],
   "source": [
    "top_20 = sorted(amenity_counts.items(), key=itemgetter(1), reverse=True)[:20]"
   ]
  },
  {
   "cell_type": "code",
   "execution_count": 26,
   "id": "362ec2af-4d26-4a02-9a11-04fb13484edd",
   "metadata": {},
   "outputs": [
    {
     "data": {
      "text/plain": [
       "[('Smoke alarm', 6357),\n",
       " ('Essentials', 6185),\n",
       " ('Wifi', 6141),\n",
       " ('Kitchen', 5930),\n",
       " ('Carbon monoxide alarm', 5924)]"
      ]
     },
     "execution_count": 26,
     "metadata": {},
     "output_type": "execute_result"
    }
   ],
   "source": [
    "top_20[:5]"
   ]
  },
  {
   "cell_type": "code",
   "execution_count": 27,
   "id": "825e5a75-214c-4b69-8f64-1548e80240e4",
   "metadata": {},
   "outputs": [],
   "source": [
    "top_20_amenities = list(dict(top_20).keys())"
   ]
  },
  {
   "cell_type": "markdown",
   "id": "097030e8-d085-40e1-9906-7ac2372b23d6",
   "metadata": {},
   "source": [
    "Now I want to get rid of the other amenities in each row."
   ]
  },
  {
   "cell_type": "code",
   "execution_count": 28,
   "id": "e0d24ed5-1792-451f-b023-74f75c5cf076",
   "metadata": {},
   "outputs": [],
   "source": [
    "def find_amenities(x):\n",
    "    amenities = []\n",
    "    for a in top_20_amenities:\n",
    "        if a in x['amenities']:\n",
    "            amenities.append(a)\n",
    "    return amenities"
   ]
  },
  {
   "cell_type": "code",
   "execution_count": 29,
   "id": "ace5a3dc-9d0d-4a22-8fbf-25df50d81aae",
   "metadata": {},
   "outputs": [],
   "source": [
    "X['amenities'] = X.apply(lambda x: find_amenities(x), axis=1)"
   ]
  },
  {
   "cell_type": "markdown",
   "id": "4a323e83-1fed-49c0-b587-6736d9afe595",
   "metadata": {},
   "source": [
    "Now I can create the dummy variables and drop the original `amenities` column."
   ]
  },
  {
   "cell_type": "code",
   "execution_count": 30,
   "id": "ad38d0f0-6d9c-4b1d-aaad-cc7ed46a3fbf",
   "metadata": {},
   "outputs": [],
   "source": [
    "mlb_amenities = MultiLabelBinarizer()\n",
    "amenities_df = pd.DataFrame(mlb_amenities.fit_transform(X['amenities']),\n",
    "                            columns=mlb_amenities.classes_, index=X.index)\n",
    "X = pd.concat([X, amenities_df], axis=1)\n",
    "X.drop('amenities', axis=1, inplace=True)"
   ]
  },
  {
   "cell_type": "markdown",
   "id": "d6c06354-e477-4543-89e1-4699e36f6a91",
   "metadata": {},
   "source": [
    "Next, I'll get dummies for the rest of the categorical variables.\n",
    "\n",
    "A note: The Pandas `get_dummies()` method has the huge disadvantage that it can't be applied to new data; given a new instance I want to transform to be in the same format as the rows of X, I would have to append this to the end of `listings` and then do all the transformations for preparation again to the whole of X, which is horribly inefficient. Thankfully, sklearn's `OneHotEncoder` doesn't suffer from this shortcoming; it can be fit to X and used to transform any new data that comes in later for predictions.\n",
    "\n",
    "I didn't realize this disadvantage until I tried to implement a data preparation pipeline at the end (for deployment)."
   ]
  },
  {
   "cell_type": "code",
   "execution_count": 31,
   "id": "7d2076b8-0ef8-4fdb-b919-57fa415db9b2",
   "metadata": {},
   "outputs": [],
   "source": [
    "X_cat = X.select_dtypes(include='object').copy()\n",
    "cat_columns = X_cat.columns"
   ]
  },
  {
   "cell_type": "code",
   "execution_count": 32,
   "id": "8bbb1775-a141-4c8c-943f-0166ff016673",
   "metadata": {},
   "outputs": [],
   "source": [
    "X_cat.fillna(value=\"NA\", inplace=True)"
   ]
  },
  {
   "cell_type": "markdown",
   "id": "bfc7a99a-d1ba-4325-953c-b79e840a48db",
   "metadata": {},
   "source": [
    "I'm chooing to replace nan values with \"NA\" in the categorical columns for a rather odd reason having to do with the application of sklearn's `OneHotEncoder`. It worked fine for me here; I can verify that the nan values in this dataframe are `np.nan` by using `value is np.nan` to check whether `value` is `np.nan`. But when I tried to apply it in my data preparation pipeline at the end (for deployment) using my `my_listing.csv` file, it gave me an error, saying \"ufunc 'isnan' not supported for the input types.\" Testing a field there in the same way, I found that it was not `np.nan`, and even when I set it explicitly equal to `np.nan`, it still would not return `True` to `value is np.nan`! This is a weird implementation issue, it appears: `id(np.nan)` gives 4547092880 whereas the `id` of the nan value in question gave 5781442624 (I checked that this is not equal to `id(math.nan)` or `id(float('nan'))`). Quite annoying! I couldn't figure out how to set this pointer explicitly - I'm not sure that's something I can do without getting into ctypes. So I'm just going to replace nan values for these columns with the string 'NA', which will then be turned into its own category for each categorical column by `OneHotEncoder`."
   ]
  },
  {
   "cell_type": "code",
   "execution_count": 33,
   "id": "3506f7ed-4c77-4b76-8305-dabefb697db4",
   "metadata": {},
   "outputs": [],
   "source": [
    "one_hot = OneHotEncoder(dtype=np.int64, sparse=False)"
   ]
  },
  {
   "cell_type": "code",
   "execution_count": 34,
   "id": "3a292f59-24cb-45b8-ae8d-4c64cee3add7",
   "metadata": {},
   "outputs": [],
   "source": [
    "X_onehot = pd.DataFrame(one_hot.fit_transform(X_cat),\n",
    "                        columns=one_hot.get_feature_names_out(),\n",
    "                        index = X.index)"
   ]
  },
  {
   "cell_type": "code",
   "execution_count": 35,
   "id": "78541bff-a69d-41e8-8a6d-277af5ad1f74",
   "metadata": {},
   "outputs": [],
   "source": [
    "X.drop(columns=cat_columns, inplace=True)"
   ]
  },
  {
   "cell_type": "code",
   "execution_count": 36,
   "id": "012f67e6-1831-43cf-a3b3-00a137860bf3",
   "metadata": {},
   "outputs": [],
   "source": [
    "X = pd.concat([X, X_onehot], axis=1)"
   ]
  },
  {
   "cell_type": "markdown",
   "id": "0d185560-d92e-49db-a295-4681e34eb102",
   "metadata": {},
   "source": [
    "I need to deal with `NA` values for the numeric columns. There's no totally ideal way to do this, but to move forward I'll impute using the mean."
   ]
  },
  {
   "cell_type": "code",
   "execution_count": 37,
   "id": "e85ab9a0-c9be-4d7a-8b32-5410ca8324e2",
   "metadata": {},
   "outputs": [],
   "source": [
    "fill_mean = lambda col: col.fillna(col.mean())\n",
    "X = X.apply(fill_mean)"
   ]
  },
  {
   "cell_type": "code",
   "execution_count": 38,
   "id": "6838917e-26db-44d5-9c24-58e00e4564dd",
   "metadata": {},
   "outputs": [],
   "source": [
    "# Keep the column means for later\n",
    "X_col_means = X.mean(axis=0)"
   ]
  },
  {
   "cell_type": "markdown",
   "id": "a9596876-2e70-4ef9-a1bc-755a51ea7dfa",
   "metadata": {},
   "source": [
    "## Modeling and Some Evaluation"
   ]
  },
  {
   "cell_type": "markdown",
   "id": "ebd5432b-5517-4174-99f0-641986cd20b9",
   "metadata": {},
   "source": [
    "Split into train and test sets."
   ]
  },
  {
   "cell_type": "code",
   "execution_count": 39,
   "id": "809bfad5-caf5-4012-bda6-e3296bb54665",
   "metadata": {},
   "outputs": [],
   "source": [
    "X_train, X_test, y_train, y_test = train_test_split(\n",
    "    X, y, test_size=0.3, random_state=42)"
   ]
  },
  {
   "cell_type": "markdown",
   "id": "54133241-01e7-4989-b144-3f01d36f4c52",
   "metadata": {},
   "source": [
    "Now, don't touch the test set until the end (use cross-validation to evaluate models before then). I don't want to bias myself by picking up patterns in the test set."
   ]
  },
  {
   "cell_type": "markdown",
   "id": "0ced05b5-f4af-4ac9-a8bc-4fd66a6c401d",
   "metadata": {},
   "source": [
    "It will be useful for me to have a validation set (e.g. for plotting results to get a handle on what's going on) that I can access explicitly, instead of just the ones that `cross_val_score` uses in the course of its execution."
   ]
  },
  {
   "cell_type": "code",
   "execution_count": 40,
   "id": "92a8c449-0541-4730-915e-0f1d190717b2",
   "metadata": {},
   "outputs": [],
   "source": [
    "X_val_train, X_val, y_val_train, y_val = train_test_split(\n",
    "    X_train, y_train, test_size=0.3, random_state=42)"
   ]
  },
  {
   "cell_type": "markdown",
   "id": "adbe2dbb-d1e1-472e-992a-2caa43d9b3dc",
   "metadata": {
    "tags": []
   },
   "source": [
    "### Linear Model"
   ]
  },
  {
   "cell_type": "markdown",
   "id": "5fed8f30-b2eb-44c9-82f4-38368e44542f",
   "metadata": {},
   "source": [
    "Instantiate the model, including normalization in the pipeline:"
   ]
  },
  {
   "cell_type": "code",
   "execution_count": 41,
   "id": "ce67ff65-745c-4bd4-9af7-624d6c2911ab",
   "metadata": {},
   "outputs": [],
   "source": [
    "pipe = make_pipeline(StandardScaler(), LinearRegression())"
   ]
  },
  {
   "cell_type": "code",
   "execution_count": 42,
   "id": "672331e7-e0ac-4ad7-b5a2-340922fc7859",
   "metadata": {},
   "outputs": [
    {
     "name": "stdout",
     "output_type": "stream",
     "text": [
      "Scores:\n",
      "[-3.99473095e+27 -1.90373652e+24 -7.60171870e+25 -2.39366961e+27\n",
      " -2.58656876e+28]\n",
      "Mean = -6.47e+27, Standard Error = 4.39e+27\n"
     ]
    }
   ],
   "source": [
    "scores = cross_val_score(pipe, X, y)\n",
    "print(\"Scores:\")\n",
    "print(scores)\n",
    "print(f\"Mean = {scores.mean():.3g}, Standard Error = {scores.std()/np.sqrt(5):.3g}\")"
   ]
  },
  {
   "cell_type": "markdown",
   "id": "513845fb-2adc-4069-8e50-e02ae6cee404",
   "metadata": {},
   "source": [
    "Score the model on the validation set:"
   ]
  },
  {
   "cell_type": "code",
   "execution_count": 43,
   "id": "0a7e45fc-824c-426e-ba10-1cc62347d4da",
   "metadata": {},
   "outputs": [
    {
     "data": {
      "text/plain": [
       "-1.2515023338833046e+27"
      ]
     },
     "execution_count": 43,
     "metadata": {},
     "output_type": "execute_result"
    }
   ],
   "source": [
    "pipe.fit(X_val_train, y_val_train)\n",
    "pipe.score(X_val, y_val)"
   ]
  },
  {
   "cell_type": "code",
   "execution_count": 44,
   "id": "c665962a-a675-403d-8eb5-17d1ebfde8bc",
   "metadata": {},
   "outputs": [],
   "source": [
    "y_pred = pipe.predict(X_val)"
   ]
  },
  {
   "cell_type": "code",
   "execution_count": 45,
   "id": "847aa727-e8b4-4499-949b-b77bb2542fd9",
   "metadata": {},
   "outputs": [
    {
     "data": {
      "image/png": "[encoded data removed]",
      "text/plain": [
       "<Figure size 432x288 with 1 Axes>"
      ]
     },
     "metadata": {
      "needs_background": "light"
     },
     "output_type": "display_data"
    }
   ],
   "source": [
    "plt.plot(np.abs(y_val - y_pred), 'o')\n",
    "plt.ylabel('Absolute error in price prediction (USD)')\n",
    "plt.show()"
   ]
  },
  {
   "cell_type": "markdown",
   "id": "3001ecbe-7603-46d3-8061-6eabd7ac578b",
   "metadata": {},
   "source": [
    "Clearly some of the predictions are enormous and completely unreasonable. I think I need to aggressively get rid of features to correct this - I have way too many categorical variables that don't occur often and are not very relevant to price prediction."
   ]
  },
  {
   "cell_type": "markdown",
   "id": "5fade190-c010-4f43-9515-9822e9203bff",
   "metadata": {},
   "source": [
    "Here are some functions to do this conveniently, as well as evaluate models using cross-validation."
   ]
  },
  {
   "cell_type": "code",
   "execution_count": 46,
   "id": "cb9912b5-88eb-4e9d-ad8d-4ff73e8d4483",
   "metadata": {},
   "outputs": [],
   "source": [
    "def fit_model(X, y, model, cutoff=False, return_X_cutoff=False):\n",
    "    pipe = make_pipeline(StandardScaler(), model)\n",
    "    if cutoff is False:\n",
    "        cutoff = -1\n",
    "    # Only keep features for which the average absolute value\n",
    "    # over all samples exceeds some cutoff\n",
    "    to_keep = np.where(np.abs(X.sum()/len(X)) > cutoff)[0]\n",
    "    X_cutoff = X.iloc[:, to_keep]\n",
    "    y_pred = cross_val_predict(pipe, X_cutoff, y)\n",
    "    if return_X_cutoff:\n",
    "        return y_pred, X_cutoff\n",
    "    else:\n",
    "        return y_pred"
   ]
  },
  {
   "cell_type": "code",
   "execution_count": 47,
   "id": "75974d88-1bb3-4cb4-a8ed-a3ab4a49838c",
   "metadata": {},
   "outputs": [],
   "source": [
    "def do_cutoff(X, cutoff):\n",
    "    X_cutoff = X.iloc[:, np.where(np.abs(X.sum()/len(X)) > cutoff)[0]]\n",
    "    return X_cutoff"
   ]
  },
  {
   "cell_type": "code",
   "execution_count": 48,
   "id": "4256abca-026d-4340-8a33-04f3e6b00906",
   "metadata": {},
   "outputs": [],
   "source": [
    "def score_model(X, y, model, cutoff, return_n_features=False, random_state=42, scoring=None):\n",
    "    ''' Evaluates `model` on X, y using cross-validation and a scoring function.\n",
    "    If `scoring=None` then the scoring function in sklearn's implementation of \n",
    "    `model` is used.\n",
    "    Optionally, the number of features in the training set can be returned.\n",
    "    This is done if return_n_features=True.\n",
    "    '''\n",
    "    pipe = make_pipeline(StandardScaler(), model)\n",
    "    X_cutoff = do_cutoff(X, cutoff)\n",
    "    scores = cross_val_score(pipe, X_cutoff, y, scoring=scoring)\n",
    "    if return_n_features:\n",
    "        return scores, X_cutoff.shape[1]\n",
    "    else:\n",
    "        return scores"
   ]
  },
  {
   "cell_type": "code",
   "execution_count": 49,
   "id": "495b4c00-b041-4b76-9d69-1db098872ca9",
   "metadata": {},
   "outputs": [],
   "source": [
    "def test_cutoffs(X, y, model, cutoffs, scoring=None, print_results=True):\n",
    "    ''' Loops through different cutoffs on the number of features.\n",
    "    '''\n",
    "    results = {}\n",
    "    for cutoff in cutoffs:\n",
    "        scores, n_features = score_model(X, y, model, cutoff, return_n_features=True, scoring=scoring)\n",
    "        if print_results:\n",
    "            print(f\"Cutoff = {cutoff:.3g}, Mean score = {scores.mean():.3g}, Standard error = {scores.std()/np.sqrt(5):.3g}, n_features = {n_features}\")\n",
    "    return scores"
   ]
  },
  {
   "cell_type": "code",
   "execution_count": 201,
   "id": "4422a705-6274-4b7c-a549-307d41632e33",
   "metadata": {},
   "outputs": [
    {
     "name": "stdout",
     "output_type": "stream",
     "text": [
      "Cutoff = 1e+03, Mean score = -0.0687, Standard error = 0.0629, n_features = 4\n",
      "Cutoff = 1, Mean score = -0.726, Standard error = 0.702, n_features = 38\n",
      "Cutoff = 0.9, Mean score = -1.44, Standard error = 1.45, n_features = 47\n",
      "Cutoff = 0.7, Mean score = -2.14, Standard error = 2.16, n_features = 63\n",
      "Cutoff = 0.3, Mean score = -7.15e+16, Standard error = 6.4e+16, n_features = 79\n",
      "Cutoff = 0.1, Mean score = -1.55e+21, Standard error = 1.38e+21, n_features = 92\n",
      "Cutoff = 0.05, Mean score = -5.42e+23, Standard error = 4.85e+23, n_features = 107\n",
      "Cutoff = 0.01, Mean score = -2.7e+22, Standard error = 2.41e+22, n_features = 174\n",
      "Cutoff = 0.005, Mean score = -1.34e+22, Standard error = 1.2e+22, n_features = 211\n",
      "Cutoff = 0.003, Mean score = -3.7e+21, Standard error = 3.31e+21, n_features = 242\n",
      "Cutoff = 0.001, Mean score = -4.33e+24, Standard error = 3.12e+24, n_features = 314\n",
      "Cutoff = 0, Mean score = -2.5e+27, Standard error = 1.62e+27, n_features = 680\n"
     ]
    }
   ],
   "source": [
    "cutoffs = [1000, 1, .9, .7, .3, .1, .05, .01, 0.005, 0.003, 0.001, 0]\n",
    "test_cutoffs(X_train, y_train, LinearRegression(), cutoffs);"
   ]
  },
  {
   "cell_type": "markdown",
   "id": "da54b022-2818-4492-850e-6516955759a7",
   "metadata": {},
   "source": [
    "Many of these CV scores are horrific; none of the models have better coefficient of determination than a model that just predicts the mean price every time. And there's another problem: many of the predicted prices are negative!"
   ]
  },
  {
   "cell_type": "code",
   "execution_count": 51,
   "id": "6ee0d74d-4cc6-4a06-a09d-6001aad832bc",
   "metadata": {},
   "outputs": [],
   "source": [
    "y_pred_L = fit_model(X_train, y_train, LinearRegression(), 0.01)"
   ]
  },
  {
   "cell_type": "code",
   "execution_count": 52,
   "id": "b429522e-6a88-4a1d-af52-1a60531bb890",
   "metadata": {},
   "outputs": [
    {
     "data": {
      "image/png": "[encoded data removed]",
      "text/plain": [
       "<Figure size 432x288 with 1 Axes>"
      ]
     },
     "metadata": {
      "needs_background": "light"
     },
     "output_type": "display_data"
    }
   ],
   "source": [
    "plt.plot(y_pred_L, 'bo')\n",
    "plt.axhline(y=0, linestyle='--')\n",
    "plt.ylabel('Predicted price (USD)')\n",
    "plt.show()"
   ]
  },
  {
   "cell_type": "markdown",
   "id": "4bd269d8-c103-4d0e-a216-a54268dafbd1",
   "metadata": {},
   "source": [
    "Thinking about what I actually want from my model, I don't care so much if there are a few outliers for which price predictions are very poor. I'm more concerned with the *median* absolute fractional error, not the *mean* absolute error. I'll express this as a percent."
   ]
  },
  {
   "cell_type": "code",
   "execution_count": 206,
   "id": "ca36634e-d1cf-48d8-a947-483cd2e2e9b2",
   "metadata": {},
   "outputs": [],
   "source": [
    "def median_abs_pct_err(y_true, y_pred):\n",
    "    return 100*np.abs((y_true - y_pred)/y_true).median()"
   ]
  },
  {
   "cell_type": "code",
   "execution_count": 54,
   "id": "9ceb0ca0-4088-4b6d-b822-44f4fdca113d",
   "metadata": {},
   "outputs": [
    {
     "data": {
      "text/plain": [
       "482.47802616730695"
      ]
     },
     "execution_count": 54,
     "metadata": {},
     "output_type": "execute_result"
    }
   ],
   "source": [
    "median_abs_pct_err(y_train, y_pred_L)"
   ]
  },
  {
   "cell_type": "markdown",
   "id": "e1977601-b584-4c75-b3bd-f0c01e299346",
   "metadata": {},
   "source": [
    "Still quite awful: half of the predictions are off by over 400%."
   ]
  },
  {
   "cell_type": "code",
   "execution_count": 207,
   "id": "d6a64b41-2c61-4195-b0a9-7b7e5a190db5",
   "metadata": {},
   "outputs": [],
   "source": [
    "median_scorer = make_scorer(median_abs_pct_err)"
   ]
  },
  {
   "cell_type": "code",
   "execution_count": 56,
   "id": "0ab78536-7d93-4be1-8fdf-1e6013f20119",
   "metadata": {},
   "outputs": [],
   "source": [
    "def df_pct_abs_err(y_pred, y_true, plot=False, plot_cutoff=300):\n",
    "    df = pd.DataFrame(100*np.abs((y_true - y_pred)/y_true))\n",
    "    df = df.rename(columns={'price':'pct_abs_err'})\n",
    "    if plot:\n",
    "        df[df['pct_abs_err'] < plot_cutoff].hist()\n",
    "        plt.ylabel(\"Number of occurrences\")\n",
    "        plt.xlabel(\"Absolute error in price prediction (%)\")\n",
    "        plt.title\n",
    "        plt.show()\n",
    "    return df"
   ]
  },
  {
   "cell_type": "code",
   "execution_count": 57,
   "id": "f74e1c77-1980-47a9-a13d-32bd7dd47332",
   "metadata": {},
   "outputs": [
    {
     "data": {
      "image/png": "[encoded data removed]",
      "text/plain": [
       "<Figure size 432x288 with 1 Axes>"
      ]
     },
     "metadata": {
      "needs_background": "light"
     },
     "output_type": "display_data"
    },
    {
     "data": {
      "text/plain": [
       "482.4780261673069"
      ]
     },
     "execution_count": 57,
     "metadata": {},
     "output_type": "execute_result"
    }
   ],
   "source": [
    "df_pct_abs_err(y_pred_L, y_train, plot=True).median().item()"
   ]
  },
  {
   "cell_type": "code",
   "execution_count": 58,
   "id": "c97b287a-5d64-4096-98f1-a159239a9a48",
   "metadata": {},
   "outputs": [
    {
     "name": "stdout",
     "output_type": "stream",
     "text": [
      "Cutoff = 1e+03, Mean score = 147, Standard error = 10.1, n_features = 4\n",
      "Cutoff = 1, Mean score = 314, Standard error = 24.7, n_features = 38\n",
      "Cutoff = 0.9, Mean score = 311, Standard error = 15.6, n_features = 47\n",
      "Cutoff = 0.7, Mean score = 414, Standard error = 26, n_features = 63\n",
      "Cutoff = 0.3, Mean score = 426, Standard error = 22.1, n_features = 79\n",
      "Cutoff = 0.1, Mean score = 465, Standard error = 29.8, n_features = 92\n",
      "Cutoff = 0.05, Mean score = 467, Standard error = 29.8, n_features = 107\n",
      "Cutoff = 0.01, Mean score = 487, Standard error = 25.4, n_features = 174\n",
      "Cutoff = 0.005, Mean score = 483, Standard error = 26.7, n_features = 211\n",
      "Cutoff = 0.003, Mean score = 492, Standard error = 27.5, n_features = 242\n",
      "Cutoff = 0.001, Mean score = 507, Standard error = 20.9, n_features = 314\n",
      "Cutoff = 0, Mean score = 613, Standard error = 33.8, n_features = 680\n"
     ]
    }
   ],
   "source": [
    "cutoffs = [1000, 1, .9, .7, .3, .1, .05, .01, 0.005, 0.003, 0.001, 0]\n",
    "test_cutoffs(X_train, y_train, LinearRegression(), cutoffs, scoring=median_scorer);"
   ]
  },
  {
   "cell_type": "markdown",
   "id": "7d449fb5-2e5a-4c90-a885-978875ac50a3",
   "metadata": {},
   "source": [
    "These mean scores are the mean of the median absolute percentage error, computed across the five cross-validation folds."
   ]
  },
  {
   "cell_type": "markdown",
   "id": "561e9875-995d-41ae-a17a-74b0dd59ac1e",
   "metadata": {},
   "source": [
    "### Dealing with Outliers"
   ]
  },
  {
   "cell_type": "markdown",
   "id": "ab728a17-5791-4d48-8e38-1552d91ee899",
   "metadata": {},
   "source": [
    "If a listing has an absurdly high price that isn't reflective of what people will actually pay, or just isn't that relevant for a typical person who wants to list their place, that isn't good for the usefulness of our model. Models that are trained using $L^2$ loss, including `LinearRegression()`, penalize outliers (in the target variable) very sharply, which can be problematic for training (i.e. mimizing the mean-squared loss). Therefore, I'll take a look at places that have extremely high prices and see if it makes sense to remove them."
   ]
  },
  {
   "cell_type": "code",
   "execution_count": 59,
   "id": "afe46d12-736f-4b6a-bdc6-aae4369de1c2",
   "metadata": {},
   "outputs": [
    {
     "data": {
      "image/png": "[encoded data removed]",
      "text/plain": [
       "<Figure size 432x288 with 1 Axes>"
      ]
     },
     "metadata": {
      "needs_background": "light"
     },
     "output_type": "display_data"
    }
   ],
   "source": [
    "plt.plot(listings['price'], 'bo')\n",
    "plt.axhline(y=0, linestyle='--')\n",
    "plt.ylabel(\"Price\")\n",
    "plt.show()"
   ]
  },
  {
   "cell_type": "markdown",
   "id": "b532eb9e-795f-45fc-8c9b-8aeb331b4a2d",
   "metadata": {},
   "source": [
    "Yeah, some of these prices look like they might be absurd."
   ]
  },
  {
   "cell_type": "code",
   "execution_count": 60,
   "id": "ca422392-502a-4922-9c38-4128f54d18e7",
   "metadata": {},
   "outputs": [
    {
     "data": {
      "text/plain": [
       "2648    48864.0\n",
       "2647    48864.0\n",
       "2341    48864.0\n",
       "2360    47484.0\n",
       "2361    47484.0\n",
       "2359    47484.0\n",
       "2362    47484.0\n",
       "2346    40356.0\n",
       "2345    40356.0\n",
       "2350    39132.0\n",
       "2355    39132.0\n",
       "2351    39132.0\n",
       "2356    39132.0\n",
       "2353    39132.0\n",
       "2650    39132.0\n",
       "2354    39132.0\n",
       "2352    39132.0\n",
       "2358    39132.0\n",
       "2357    39132.0\n",
       "3288     9999.0\n",
       "1049     9999.0\n",
       "3287     9999.0\n",
       "3289     9999.0\n",
       "3120     9000.0\n",
       "6196     5000.0\n",
       "3072     4500.0\n",
       "2866     3690.0\n",
       "4522     3070.0\n",
       "4498     3042.0\n",
       "2570     3000.0\n",
       "Name: price, dtype: float64"
      ]
     },
     "execution_count": 60,
     "metadata": {},
     "output_type": "execute_result"
    }
   ],
   "source": [
    "listings['price'].sort_values(ascending=False).head(30)"
   ]
  },
  {
   "cell_type": "code",
   "execution_count": 61,
   "id": "ac52ea9e-738e-44a7-9872-016fb39fcd9c",
   "metadata": {
    "tags": []
   },
   "outputs": [
    {
     "data": {
      "text/plain": [
       "'https://www.airbnb.com/rooms/30718928'"
      ]
     },
     "execution_count": 61,
     "metadata": {},
     "output_type": "execute_result"
    }
   ],
   "source": [
    "# Find the URL of one of the most expensive places\n",
    "listings.loc[2648, 'listing_url']"
   ]
  },
  {
   "cell_type": "markdown",
   "id": "250a0282-c1ea-48a7-a3a3-06709a534a75",
   "metadata": {},
   "source": [
    "What is going on here? Following the link above, this is clearly a luxury place, but it's just a studio! On top of that, it's currently listed at USD 1,653 per night (as of December 3, 2021), not USD 48,864 per night as above. Let's take a closer look at `calendar` to see what happened:"
   ]
  },
  {
   "cell_type": "code",
   "execution_count": 62,
   "id": "470ad933-b7a1-4f90-8799-41aaf33c1112",
   "metadata": {},
   "outputs": [],
   "source": [
    "listing_id = listings.loc[2648, 'id']"
   ]
  },
  {
   "cell_type": "code",
   "execution_count": 63,
   "id": "8f00ec25-6aae-442d-98f2-d36d814ef742",
   "metadata": {},
   "outputs": [
    {
     "data": {
      "text/html": [
       "<div>\n",
       "<style scoped>\n",
       "    .dataframe tbody tr th:only-of-type {\n",
       "        vertical-align: middle;\n",
       "    }\n",
       "\n",
       "    .dataframe tbody tr th {\n",
       "        vertical-align: top;\n",
       "    }\n",
       "\n",
       "    .dataframe thead th {\n",
       "        text-align: right;\n",
       "    }\n",
       "</style>\n",
       "<table border=\"1\" class=\"dataframe\">\n",
       "  <thead>\n",
       "    <tr style=\"text-align: right;\">\n",
       "      <th></th>\n",
       "      <th>date</th>\n",
       "      <th>price</th>\n",
       "      <th>adjusted_price</th>\n",
       "    </tr>\n",
       "  </thead>\n",
       "  <tbody>\n",
       "    <tr>\n",
       "      <th>1020296</th>\n",
       "      <td>2021-10-18</td>\n",
       "      <td>8144.0</td>\n",
       "      <td>48864.0</td>\n",
       "    </tr>\n",
       "    <tr>\n",
       "      <th>1020297</th>\n",
       "      <td>2021-10-19</td>\n",
       "      <td>8144.0</td>\n",
       "      <td>48864.0</td>\n",
       "    </tr>\n",
       "    <tr>\n",
       "      <th>1020298</th>\n",
       "      <td>2021-10-20</td>\n",
       "      <td>8144.0</td>\n",
       "      <td>48864.0</td>\n",
       "    </tr>\n",
       "    <tr>\n",
       "      <th>1020299</th>\n",
       "      <td>2021-10-21</td>\n",
       "      <td>8144.0</td>\n",
       "      <td>48864.0</td>\n",
       "    </tr>\n",
       "    <tr>\n",
       "      <th>1020300</th>\n",
       "      <td>2021-10-22</td>\n",
       "      <td>8144.0</td>\n",
       "      <td>48864.0</td>\n",
       "    </tr>\n",
       "    <tr>\n",
       "      <th>...</th>\n",
       "      <td>...</td>\n",
       "      <td>...</td>\n",
       "      <td>...</td>\n",
       "    </tr>\n",
       "    <tr>\n",
       "      <th>1023099</th>\n",
       "      <td>2022-10-13</td>\n",
       "      <td>263.0</td>\n",
       "      <td>1578.0</td>\n",
       "    </tr>\n",
       "    <tr>\n",
       "      <th>1023100</th>\n",
       "      <td>2022-10-14</td>\n",
       "      <td>307.0</td>\n",
       "      <td>1842.0</td>\n",
       "    </tr>\n",
       "    <tr>\n",
       "      <th>1023101</th>\n",
       "      <td>2022-10-15</td>\n",
       "      <td>307.0</td>\n",
       "      <td>1842.0</td>\n",
       "    </tr>\n",
       "    <tr>\n",
       "      <th>1023102</th>\n",
       "      <td>2022-10-16</td>\n",
       "      <td>263.0</td>\n",
       "      <td>1578.0</td>\n",
       "    </tr>\n",
       "    <tr>\n",
       "      <th>1023103</th>\n",
       "      <td>2022-10-17</td>\n",
       "      <td>263.0</td>\n",
       "      <td>1578.0</td>\n",
       "    </tr>\n",
       "  </tbody>\n",
       "</table>\n",
       "<p>365 rows × 3 columns</p>\n",
       "</div>"
      ],
      "text/plain": [
       "               date   price  adjusted_price\n",
       "1020296  2021-10-18  8144.0         48864.0\n",
       "1020297  2021-10-19  8144.0         48864.0\n",
       "1020298  2021-10-20  8144.0         48864.0\n",
       "1020299  2021-10-21  8144.0         48864.0\n",
       "1020300  2021-10-22  8144.0         48864.0\n",
       "...             ...     ...             ...\n",
       "1023099  2022-10-13   263.0          1578.0\n",
       "1023100  2022-10-14   307.0          1842.0\n",
       "1023101  2022-10-15   307.0          1842.0\n",
       "1023102  2022-10-16   263.0          1578.0\n",
       "1023103  2022-10-17   263.0          1578.0\n",
       "\n",
       "[365 rows x 3 columns]"
      ]
     },
     "execution_count": 63,
     "metadata": {},
     "output_type": "execute_result"
    }
   ],
   "source": [
    "calendar.loc[calendar['listing_id']==listing_id, ['date', 'price', 'adjusted_price']]"
   ]
  },
  {
   "cell_type": "markdown",
   "id": "e58175c4-902a-49a0-8522-834fda535149",
   "metadata": {},
   "source": [
    "OK, it appears that the adjusted price was very high in mid-October, and that's what was pulled into the `price` field in `listings`. My understanding is that Airbnb allows hosts to turn on a setting that automatically adjusts the price according to demand (using some model developed by Airbnb), so likely demand was extremely high at nearby properties at that time. In any case, it would make sense for me to exclude this property and related ones from my data; I note that each of the properties over USD 10,000 are in the \"Ginosi 747 Apartel\", as can be easily verified by clicking on those URLs. Further, one of the next most expensive listings, at USD 9,999, is a 12-bedroom mansion."
   ]
  },
  {
   "cell_type": "markdown",
   "id": "3e56b994-b1dd-4d56-b771-2c1b5a6cee79",
   "metadata": {},
   "source": [
    "Now I'll delete these outliers (those listings with prices above USD 10,000 per night). It makes sense to do this across all the data (not just for the training data), since I'm not interested in making predictions for places where the price would be that high (totally out of whack with what almost everyone would pay - prices that would actually banned by law for similar hotel accommodations), and I'd like to use all the data to create my final model."
   ]
  },
  {
   "cell_type": "code",
   "execution_count": 64,
   "id": "4ad23b30-839f-4e82-9976-05b1759490e0",
   "metadata": {},
   "outputs": [],
   "source": [
    "to_drop = y[y > 10000].index"
   ]
  },
  {
   "cell_type": "code",
   "execution_count": 65,
   "id": "c0694161-5c4f-4f3c-b86a-287e8b56579a",
   "metadata": {},
   "outputs": [],
   "source": [
    "# Drop the necessary rows\n",
    "X.drop(to_drop, inplace=True)\n",
    "y.drop(to_drop, inplace=True)\n",
    "# Drop the rows from the original dataframe as well (since I'll use this dataframe\n",
    "# again shortly)\n",
    "listings.drop(to_drop, inplace=True)"
   ]
  },
  {
   "cell_type": "code",
   "execution_count": 66,
   "id": "197bbecf-4c1c-4f18-8d7a-2475309d0726",
   "metadata": {},
   "outputs": [],
   "source": [
    "# Do the train-test splits again\n",
    "X_train, X_test, y_train, y_test = train_test_split(\n",
    "    X, y, test_size=0.3, random_state=42)\n",
    "X_val_train, X_val, y_val_train, y_val = train_test_split(\n",
    "    X_train, y_train, test_size=0.3, random_state=42)"
   ]
  },
  {
   "cell_type": "markdown",
   "id": "aa29f2bf-4342-45ec-918f-dd5106eb0730",
   "metadata": {
    "tags": []
   },
   "source": [
    "### Linear Model, Again"
   ]
  },
  {
   "cell_type": "code",
   "execution_count": 67,
   "id": "d0d1bab9-3501-43b2-af13-c5444d4dfb25",
   "metadata": {},
   "outputs": [
    {
     "name": "stdout",
     "output_type": "stream",
     "text": [
      "Cutoff = 1e+03, Mean score = -0.00261, Standard error = 0.00357, n_features = 4\n",
      "Cutoff = 1, Mean score = 0.354, Standard error = 0.0511, n_features = 38\n",
      "Cutoff = 0.9, Mean score = 0.356, Standard error = 0.0494, n_features = 47\n",
      "Cutoff = 0.7, Mean score = 0.354, Standard error = 0.0488, n_features = 63\n",
      "Cutoff = 0.3, Mean score = 0.361, Standard error = 0.049, n_features = 79\n",
      "Cutoff = 0.1, Mean score = 0.38, Standard error = 0.0495, n_features = 93\n",
      "Cutoff = 0.05, Mean score = 0.387, Standard error = 0.0498, n_features = 106\n",
      "Cutoff = 0.01, Mean score = 0.398, Standard error = 0.0529, n_features = 175\n",
      "Cutoff = 0.005, Mean score = 0.404, Standard error = 0.0538, n_features = 216\n",
      "Cutoff = 0.003, Mean score = 0.392, Standard error = 0.051, n_features = 243\n",
      "Cutoff = 0.001, Mean score = -5.94e+24, Standard error = 3.83e+24, n_features = 319\n",
      "Cutoff = 0, Mean score = -1.93e+26, Standard error = 5.48e+25, n_features = 674\n"
     ]
    }
   ],
   "source": [
    "cutoffs = [1000, 1, .9, .7, .3, .1, .05, .01, 0.005, 0.003, 0.001, 0]\n",
    "test_cutoffs(X_train, y_train, LinearRegression(), cutoffs);"
   ]
  },
  {
   "cell_type": "code",
   "execution_count": 68,
   "id": "28343a74-9968-440f-8aa4-05b55a400713",
   "metadata": {},
   "outputs": [
    {
     "name": "stdout",
     "output_type": "stream",
     "text": [
      "Cutoff = 1e+03, Mean score = 58.9, Standard error = 1.71, n_features = 4\n",
      "Cutoff = 1, Mean score = 41, Standard error = 1.25, n_features = 38\n",
      "Cutoff = 0.9, Mean score = 41.1, Standard error = 1.22, n_features = 47\n",
      "Cutoff = 0.7, Mean score = 42.3, Standard error = 1.03, n_features = 63\n",
      "Cutoff = 0.3, Mean score = 41.3, Standard error = 1.05, n_features = 79\n",
      "Cutoff = 0.1, Mean score = 41.2, Standard error = 1.04, n_features = 93\n",
      "Cutoff = 0.05, Mean score = 41.2, Standard error = 0.829, n_features = 106\n",
      "Cutoff = 0.01, Mean score = 38.6, Standard error = 0.673, n_features = 175\n",
      "Cutoff = 0.005, Mean score = 39.7, Standard error = 0.742, n_features = 216\n",
      "Cutoff = 0.003, Mean score = 39.6, Standard error = 0.999, n_features = 243\n",
      "Cutoff = 0.001, Mean score = 37.2, Standard error = 0.629, n_features = 319\n",
      "Cutoff = 0, Mean score = 41.6, Standard error = 0.712, n_features = 674\n"
     ]
    }
   ],
   "source": [
    "cutoffs = [1000, 1, .9, .7, .3, .1, .05, .01, 0.005, 0.003, 0.001, 0]\n",
    "test_cutoffs(X_train, y_train, LinearRegression(), cutoffs, scoring=median_scorer);"
   ]
  },
  {
   "cell_type": "code",
   "execution_count": 69,
   "id": "5ddafe73-a39c-4e46-91a2-19440a7d3622",
   "metadata": {
    "tags": []
   },
   "outputs": [],
   "source": [
    "y_pred_L = fit_model(X_train, y_train, LinearRegression(), cutoff=0.001)"
   ]
  },
  {
   "cell_type": "code",
   "execution_count": 70,
   "id": "ca4a2024-ec9a-404f-a012-c2fa9f4699b1",
   "metadata": {},
   "outputs": [
    {
     "data": {
      "image/png": "[encoded data removed]",
      "text/plain": [
       "<Figure size 432x288 with 1 Axes>"
      ]
     },
     "metadata": {
      "needs_background": "light"
     },
     "output_type": "display_data"
    }
   ],
   "source": [
    "plt.plot(100*np.abs(y_train - y_pred_L)/y_train, 'o')\n",
    "plt.ylabel('Absolute fractional error in price prediction (\\%)')\n",
    "plt.show()"
   ]
  },
  {
   "cell_type": "code",
   "execution_count": 71,
   "id": "dcf05427-d50b-4696-aef4-a108aaeb8165",
   "metadata": {},
   "outputs": [
    {
     "data": {
      "image/png": "[encoded data removed]",
      "text/plain": [
       "<Figure size 432x288 with 1 Axes>"
      ]
     },
     "metadata": {
      "needs_background": "light"
     },
     "output_type": "display_data"
    }
   ],
   "source": [
    "plt.plot(y_pred_L, 'bo')\n",
    "plt.axhline(y=0, linestyle='--')\n",
    "plt.ylabel('Predicted price (USD)')\n",
    "plt.show()"
   ]
  },
  {
   "cell_type": "code",
   "execution_count": 72,
   "id": "e995b4be-6a4a-49b9-8283-674dba2a57fa",
   "metadata": {},
   "outputs": [
    {
     "data": {
      "image/png": "[encoded data removed]",
      "text/plain": [
       "<Figure size 432x288 with 1 Axes>"
      ]
     },
     "metadata": {
      "needs_background": "light"
     },
     "output_type": "display_data"
    }
   ],
   "source": [
    "df_err_L = df_pct_abs_err(y_pred_L, y_train, plot=True)"
   ]
  },
  {
   "cell_type": "code",
   "execution_count": 73,
   "id": "1bec07d5-9b96-4a95-ba97-9106a380b6bb",
   "metadata": {},
   "outputs": [
    {
     "data": {
      "text/plain": [
       "37.34003824277923"
      ]
     },
     "execution_count": 73,
     "metadata": {},
     "output_type": "execute_result"
    }
   ],
   "source": [
    "df_err_L['pct_abs_err'].median()"
   ]
  },
  {
   "cell_type": "markdown",
   "id": "c0935bb4-bf5e-41d8-8dbc-45c270a3a216",
   "metadata": {},
   "source": [
    "That is, 50% of predictions are off from the true price by less than 40%."
   ]
  },
  {
   "cell_type": "markdown",
   "id": "c1f7b99f-0d91-44ea-ae74-cb7bb8536eba",
   "metadata": {},
   "source": [
    "This is certainly better than the previous model, though still not great, and a fair number of the predictions are still negative."
   ]
  },
  {
   "cell_type": "markdown",
   "id": "fad662c9-e1af-4c42-b54d-dc6f185e0fac",
   "metadata": {},
   "source": [
    "### Smaller Linear Model and some visualizations"
   ]
  },
  {
   "cell_type": "markdown",
   "id": "6e255490-b579-4393-a921-749017f5046b",
   "metadata": {},
   "source": [
    "What happens if I just use a smaller model? Maybe the one above is too big and has a lot of unnecessary features, even using cutoffs as above. What do we expect to be the most useful factors for price prediction? My guesses for the most important: Its size (number of people, number of bedrooms and bathrooms), the property type (entire home, condo, etc.) and/or room type, and the neighborhood."
   ]
  },
  {
   "cell_type": "markdown",
   "id": "adad47a1-126b-42bc-a750-ee28952618ed",
   "metadata": {},
   "source": [
    "To start off, I'll do some visualizations to gain intuition about the importance of these features. I think violin plots are a good way to do this - they are an effective way to get a quick idea of the price distribution for different groups just by looking."
   ]
  },
  {
   "cell_type": "markdown",
   "id": "24a384e8-4789-4d11-be10-609c353b0d33",
   "metadata": {},
   "source": [
    "First, I'll take a look at the effect of the neighborhood on the price. I'll restrict to the 10 neighborhoods with the most listings so the x-axis isn't too crowded, and I'll cut the prices off at USD 300 so that the distributions are easy to see."
   ]
  },
  {
   "cell_type": "code",
   "execution_count": 113,
   "id": "302b0788-82bf-440d-b665-010df203451e",
   "metadata": {},
   "outputs": [],
   "source": [
    "top_10_nbds = listings['neighbourhood_cleansed'].value_counts()[:10].index"
   ]
  },
  {
   "cell_type": "code",
   "execution_count": 114,
   "id": "d9570530-6186-4dc6-bd58-41fb718595e6",
   "metadata": {},
   "outputs": [],
   "source": [
    "df = listings.loc[listings['neighbourhood_cleansed'].isin(top_10_nbds)]\n",
    "df = df.loc[df['price'] < 300]"
   ]
  },
  {
   "cell_type": "code",
   "execution_count": 117,
   "id": "c5f3d65a-2d8d-4832-93f1-dc6864da2a88",
   "metadata": {},
   "outputs": [
    {
     "data": {
      "image/png": "[encoded data removed]",
      "text/plain": [
       "<Figure size 1008x864 with 1 Axes>"
      ]
     },
     "metadata": {
      "needs_background": "light"
     },
     "output_type": "display_data"
    }
   ],
   "source": [
    "plt.figure(figsize=(14,12))\n",
    "sns.violinplot(data=df, x='neighbourhood_cleansed', y='price')\n",
    "plt.xlabel('Neighborhood')\n",
    "plt.ylabel('Price per night (USD)')\n",
    "plt.savefig('neighborhood_vs_price.jpg')\n",
    "plt.show()"
   ]
  },
  {
   "cell_type": "markdown",
   "id": "1b7e4657-602b-4b39-81be-d98356b16356",
   "metadata": {},
   "source": [
    "The price definitely has a reasonable degree of dependence on the neighborhood. Near South Side listings command particularly high prices, and Lower West Side listings particularly low ones. Of course, a problem here is that I'm not controlling for other factors, such as the size of the property. For example, maybe properties on the Near South Side have more bedrooms on average, and properties on the Lower West Side have fewer; then a possibility is that the number of bedrooms strongly affects the price, and the neighborhood's effect is just incidental. Still, it's useful to see the correlation between neighborhood and price, at least for gaining some intuition and thinking of further questions to pose."
   ]
  },
  {
   "cell_type": "markdown",
   "id": "7e071373-4d84-4982-ad09-dbd9ba2f0ea5",
   "metadata": {},
   "source": [
    "Next I'll take a look at how the number of bedrooms affects the price."
   ]
  },
  {
   "cell_type": "code",
   "execution_count": 118,
   "id": "7e4d836c-f062-4096-bcf1-f0783a1b0457",
   "metadata": {},
   "outputs": [],
   "source": [
    "top_bedrooms = listings['bedrooms'].value_counts()[:6].index"
   ]
  },
  {
   "cell_type": "code",
   "execution_count": 119,
   "id": "6449f5b5-e492-4e01-86c9-f87427306072",
   "metadata": {},
   "outputs": [],
   "source": [
    "df = listings.loc[listings['bedrooms'].isin(top_bedrooms)]\n",
    "df = df.loc[df['price'] < 300]"
   ]
  },
  {
   "cell_type": "code",
   "execution_count": 120,
   "id": "3c03238d-8872-4a53-89f7-2df2fac1bb56",
   "metadata": {},
   "outputs": [
    {
     "data": {
      "image/png": "[encoded data removed]",
      "text/plain": [
       "<Figure size 1008x864 with 1 Axes>"
      ]
     },
     "metadata": {
      "needs_background": "light"
     },
     "output_type": "display_data"
    }
   ],
   "source": [
    "plt.figure(figsize=(14,12))\n",
    "sns.violinplot(data=df, x='bedrooms', y='price')\n",
    "plt.xlabel('Number of bedrooms')\n",
    "plt.ylabel('Price per night (USD)')\n",
    "plt.savefig('bedrooms_vs_price.jpg')\n",
    "plt.show()"
   ]
  },
  {
   "cell_type": "markdown",
   "id": "f86b2e9e-94ea-468f-b442-e0c497335b50",
   "metadata": {},
   "source": [
    "Number of bedrooms is highly positively correlated with price, as expected."
   ]
  },
  {
   "cell_type": "markdown",
   "id": "4da44530-10fc-432a-877c-d6e1d4aea4d3",
   "metadata": {},
   "source": [
    "How about the effect of the room type?"
   ]
  },
  {
   "cell_type": "code",
   "execution_count": 121,
   "id": "2df55417-2087-49da-93de-c918bd692db1",
   "metadata": {},
   "outputs": [],
   "source": [
    "room_types = listings['room_type'].value_counts().index"
   ]
  },
  {
   "cell_type": "code",
   "execution_count": 122,
   "id": "3af869ba-b31f-4f21-afe8-1ea64b8b2315",
   "metadata": {},
   "outputs": [],
   "source": [
    "df = listings.loc[listings['room_type'].isin(room_types)]\n",
    "df = df.loc[df['price'] < 300]"
   ]
  },
  {
   "cell_type": "code",
   "execution_count": 123,
   "id": "9f3a53c4-16d7-4e9b-86bd-80603af2734a",
   "metadata": {},
   "outputs": [
    {
     "data": {
      "image/png": "[encoded data removed]",
      "text/plain": [
       "<Figure size 1008x864 with 1 Axes>"
      ]
     },
     "metadata": {
      "needs_background": "light"
     },
     "output_type": "display_data"
    }
   ],
   "source": [
    "plt.figure(figsize=(14,12))\n",
    "sns.violinplot(data=df, x='room_type', y='price')\n",
    "plt.xlabel('Room type')\n",
    "plt.ylabel('Price per night (USD)')\n",
    "plt.savefig('room_type_vs_price.jpg')\n",
    "plt.show()"
   ]
  },
  {
   "cell_type": "markdown",
   "id": "5f7ee07c-c435-434e-9aee-cf233e880f2b",
   "metadata": {},
   "source": [
    "As one would expect, shared rooms tend to have lower prices, and entire homes/apartments tend to have higher ones."
   ]
  },
  {
   "cell_type": "markdown",
   "id": "5a585aa7-c765-4231-a407-c00212dc1f51",
   "metadata": {},
   "source": [
    "I feel reasonably justified in my choice of features for this smaller training set. So let's go ahead with it:"
   ]
  },
  {
   "cell_type": "code",
   "execution_count": 74,
   "id": "ac2efb01-725c-4eec-95aa-70b4ef125569",
   "metadata": {},
   "outputs": [],
   "source": [
    "X_small = listings[['neighbourhood_cleansed','accommodates',\n",
    "                    'bathrooms_text','bedrooms','beds',\n",
    "                   'property_type', 'room_type']]"
   ]
  },
  {
   "cell_type": "code",
   "execution_count": 75,
   "id": "85c7b9f9-9c2d-4bbc-b1e8-389f32e65713",
   "metadata": {},
   "outputs": [],
   "source": [
    "X_small = pd.get_dummies(X_small, drop_first=True)"
   ]
  },
  {
   "cell_type": "code",
   "execution_count": 76,
   "id": "ce5ad4c4-114b-4421-9db3-2bf06ee3ee11",
   "metadata": {},
   "outputs": [],
   "source": [
    "y_small = y.copy()"
   ]
  },
  {
   "cell_type": "markdown",
   "id": "849a499b-7683-4e09-8127-28e1dafc0964",
   "metadata": {},
   "source": [
    "I need to deal with the `NA` entries in `beds` and `bedrooms`."
   ]
  },
  {
   "cell_type": "code",
   "execution_count": 77,
   "id": "4e629e14-1ec6-48a9-a744-5f6b41fbbf37",
   "metadata": {},
   "outputs": [],
   "source": [
    "X_small['bedrooms'] = X_small.apply(lambda x: x['beds'] if not(x['bedrooms']>0) else x['bedrooms'], axis=1)\n",
    "X_small['beds'] = X_small.apply(lambda x: x['bedrooms'] if not(x['beds']>0) else x['beds'], axis=1)"
   ]
  },
  {
   "cell_type": "code",
   "execution_count": 78,
   "id": "158c7949-07d4-4806-9f39-23ae67ca712b",
   "metadata": {},
   "outputs": [
    {
     "data": {
      "text/plain": [
       "4"
      ]
     },
     "execution_count": 78,
     "metadata": {},
     "output_type": "execute_result"
    }
   ],
   "source": [
    "sum(X_small.isna()['beds'])"
   ]
  },
  {
   "cell_type": "code",
   "execution_count": 79,
   "id": "a8ca6dd1-ca38-415c-b82e-3a9af9620191",
   "metadata": {},
   "outputs": [
    {
     "data": {
      "text/html": [
       "<div>\n",
       "<style scoped>\n",
       "    .dataframe tbody tr th:only-of-type {\n",
       "        vertical-align: middle;\n",
       "    }\n",
       "\n",
       "    .dataframe tbody tr th {\n",
       "        vertical-align: top;\n",
       "    }\n",
       "\n",
       "    .dataframe thead th {\n",
       "        text-align: right;\n",
       "    }\n",
       "</style>\n",
       "<table border=\"1\" class=\"dataframe\">\n",
       "  <thead>\n",
       "    <tr style=\"text-align: right;\">\n",
       "      <th></th>\n",
       "      <th>accommodates</th>\n",
       "      <th>bedrooms</th>\n",
       "      <th>beds</th>\n",
       "      <th>neighbourhood_cleansed_Archer Heights</th>\n",
       "      <th>neighbourhood_cleansed_Armour Square</th>\n",
       "      <th>neighbourhood_cleansed_Ashburn</th>\n",
       "      <th>neighbourhood_cleansed_Auburn Gresham</th>\n",
       "      <th>neighbourhood_cleansed_Austin</th>\n",
       "      <th>neighbourhood_cleansed_Avalon Park</th>\n",
       "      <th>neighbourhood_cleansed_Avondale</th>\n",
       "      <th>...</th>\n",
       "      <th>property_type_Shared room in condominium (condo)</th>\n",
       "      <th>property_type_Shared room in hostel</th>\n",
       "      <th>property_type_Shared room in loft</th>\n",
       "      <th>property_type_Shared room in rental unit</th>\n",
       "      <th>property_type_Shared room in residential home</th>\n",
       "      <th>property_type_Shared room in serviced apartment</th>\n",
       "      <th>property_type_Tiny house</th>\n",
       "      <th>room_type_Hotel room</th>\n",
       "      <th>room_type_Private room</th>\n",
       "      <th>room_type_Shared room</th>\n",
       "    </tr>\n",
       "  </thead>\n",
       "  <tbody>\n",
       "    <tr>\n",
       "      <th>5590</th>\n",
       "      <td>2</td>\n",
       "      <td>NaN</td>\n",
       "      <td>NaN</td>\n",
       "      <td>0</td>\n",
       "      <td>0</td>\n",
       "      <td>0</td>\n",
       "      <td>0</td>\n",
       "      <td>0</td>\n",
       "      <td>0</td>\n",
       "      <td>0</td>\n",
       "      <td>...</td>\n",
       "      <td>0</td>\n",
       "      <td>0</td>\n",
       "      <td>0</td>\n",
       "      <td>0</td>\n",
       "      <td>0</td>\n",
       "      <td>0</td>\n",
       "      <td>0</td>\n",
       "      <td>0</td>\n",
       "      <td>0</td>\n",
       "      <td>0</td>\n",
       "    </tr>\n",
       "    <tr>\n",
       "      <th>6015</th>\n",
       "      <td>4</td>\n",
       "      <td>NaN</td>\n",
       "      <td>NaN</td>\n",
       "      <td>0</td>\n",
       "      <td>0</td>\n",
       "      <td>0</td>\n",
       "      <td>0</td>\n",
       "      <td>0</td>\n",
       "      <td>0</td>\n",
       "      <td>0</td>\n",
       "      <td>...</td>\n",
       "      <td>0</td>\n",
       "      <td>0</td>\n",
       "      <td>0</td>\n",
       "      <td>0</td>\n",
       "      <td>0</td>\n",
       "      <td>0</td>\n",
       "      <td>0</td>\n",
       "      <td>0</td>\n",
       "      <td>0</td>\n",
       "      <td>0</td>\n",
       "    </tr>\n",
       "    <tr>\n",
       "      <th>6416</th>\n",
       "      <td>2</td>\n",
       "      <td>NaN</td>\n",
       "      <td>NaN</td>\n",
       "      <td>0</td>\n",
       "      <td>0</td>\n",
       "      <td>0</td>\n",
       "      <td>0</td>\n",
       "      <td>0</td>\n",
       "      <td>0</td>\n",
       "      <td>0</td>\n",
       "      <td>...</td>\n",
       "      <td>0</td>\n",
       "      <td>0</td>\n",
       "      <td>0</td>\n",
       "      <td>0</td>\n",
       "      <td>0</td>\n",
       "      <td>0</td>\n",
       "      <td>0</td>\n",
       "      <td>0</td>\n",
       "      <td>0</td>\n",
       "      <td>0</td>\n",
       "    </tr>\n",
       "    <tr>\n",
       "      <th>6516</th>\n",
       "      <td>4</td>\n",
       "      <td>NaN</td>\n",
       "      <td>NaN</td>\n",
       "      <td>0</td>\n",
       "      <td>0</td>\n",
       "      <td>0</td>\n",
       "      <td>0</td>\n",
       "      <td>0</td>\n",
       "      <td>0</td>\n",
       "      <td>0</td>\n",
       "      <td>...</td>\n",
       "      <td>0</td>\n",
       "      <td>0</td>\n",
       "      <td>0</td>\n",
       "      <td>0</td>\n",
       "      <td>0</td>\n",
       "      <td>0</td>\n",
       "      <td>0</td>\n",
       "      <td>0</td>\n",
       "      <td>0</td>\n",
       "      <td>0</td>\n",
       "    </tr>\n",
       "  </tbody>\n",
       "</table>\n",
       "<p>4 rows × 157 columns</p>\n",
       "</div>"
      ],
      "text/plain": [
       "      accommodates  bedrooms  beds  neighbourhood_cleansed_Archer Heights  \\\n",
       "5590             2       NaN   NaN                                      0   \n",
       "6015             4       NaN   NaN                                      0   \n",
       "6416             2       NaN   NaN                                      0   \n",
       "6516             4       NaN   NaN                                      0   \n",
       "\n",
       "      neighbourhood_cleansed_Armour Square  neighbourhood_cleansed_Ashburn  \\\n",
       "5590                                     0                               0   \n",
       "6015                                     0                               0   \n",
       "6416                                     0                               0   \n",
       "6516                                     0                               0   \n",
       "\n",
       "      neighbourhood_cleansed_Auburn Gresham  neighbourhood_cleansed_Austin  \\\n",
       "5590                                      0                              0   \n",
       "6015                                      0                              0   \n",
       "6416                                      0                              0   \n",
       "6516                                      0                              0   \n",
       "\n",
       "      neighbourhood_cleansed_Avalon Park  neighbourhood_cleansed_Avondale  \\\n",
       "5590                                   0                                0   \n",
       "6015                                   0                                0   \n",
       "6416                                   0                                0   \n",
       "6516                                   0                                0   \n",
       "\n",
       "      ...  property_type_Shared room in condominium (condo)  \\\n",
       "5590  ...                                                 0   \n",
       "6015  ...                                                 0   \n",
       "6416  ...                                                 0   \n",
       "6516  ...                                                 0   \n",
       "\n",
       "      property_type_Shared room in hostel  property_type_Shared room in loft  \\\n",
       "5590                                    0                                  0   \n",
       "6015                                    0                                  0   \n",
       "6416                                    0                                  0   \n",
       "6516                                    0                                  0   \n",
       "\n",
       "      property_type_Shared room in rental unit  \\\n",
       "5590                                         0   \n",
       "6015                                         0   \n",
       "6416                                         0   \n",
       "6516                                         0   \n",
       "\n",
       "      property_type_Shared room in residential home  \\\n",
       "5590                                              0   \n",
       "6015                                              0   \n",
       "6416                                              0   \n",
       "6516                                              0   \n",
       "\n",
       "      property_type_Shared room in serviced apartment  \\\n",
       "5590                                                0   \n",
       "6015                                                0   \n",
       "6416                                                0   \n",
       "6516                                                0   \n",
       "\n",
       "      property_type_Tiny house  room_type_Hotel room  room_type_Private room  \\\n",
       "5590                         0                     0                       0   \n",
       "6015                         0                     0                       0   \n",
       "6416                         0                     0                       0   \n",
       "6516                         0                     0                       0   \n",
       "\n",
       "      room_type_Shared room  \n",
       "5590                      0  \n",
       "6015                      0  \n",
       "6416                      0  \n",
       "6516                      0  \n",
       "\n",
       "[4 rows x 157 columns]"
      ]
     },
     "execution_count": 79,
     "metadata": {},
     "output_type": "execute_result"
    }
   ],
   "source": [
    "X_small.loc[X_small.isna()['bedrooms']]"
   ]
  },
  {
   "cell_type": "markdown",
   "id": "496abc8b-f1fa-4ea0-baf3-c21d294771e0",
   "metadata": {},
   "source": [
    "If a listing accommodates 0 people, I'll drop it."
   ]
  },
  {
   "cell_type": "code",
   "execution_count": 80,
   "id": "4c9eadef-75f1-4f0e-8695-dc3744b615af",
   "metadata": {},
   "outputs": [],
   "source": [
    "to_drop = X_small.loc[X_small['accommodates'] == 0].index\n",
    "X_small.drop(to_drop, inplace=True)\n",
    "y_small.drop(to_drop, inplace=True)"
   ]
  },
  {
   "cell_type": "markdown",
   "id": "a1052435-8f0a-4473-a578-b163229aefff",
   "metadata": {},
   "source": [
    "If a listing x has NaN for `beds`, then I'll set x['beds'] = x['accommodates']/2 for that\n",
    "row (i.e. guess the number of beds is half the number of people accommodated), and similarly\n",
    "for `bedrooms`."
   ]
  },
  {
   "cell_type": "code",
   "execution_count": 81,
   "id": "ca023106-c70b-4a8c-ad41-66c3f617cf79",
   "metadata": {},
   "outputs": [],
   "source": [
    "X_small['bedrooms'] = X_small.apply(lambda x: x['accommodates']/2 if not(x['bedrooms'] > 0) else x['bedrooms'], axis=1)\n",
    "X_small['beds'] = X_small.apply(lambda x: x['accommodates']/2 if not(x['beds'] > 0) else x['beds'], axis=1)"
   ]
  },
  {
   "cell_type": "code",
   "execution_count": 82,
   "id": "6fa082d0-a08b-4f89-87cd-3dc0753e93fb",
   "metadata": {},
   "outputs": [
    {
     "data": {
      "text/plain": [
       "0"
      ]
     },
     "execution_count": 82,
     "metadata": {},
     "output_type": "execute_result"
    }
   ],
   "source": [
    "sum(X_small.isna()['bedrooms'])"
   ]
  },
  {
   "cell_type": "code",
   "execution_count": 83,
   "id": "7f94c9ce-e790-4be5-819c-c4195f490c4c",
   "metadata": {},
   "outputs": [],
   "source": [
    "X_small_train, X_small_test, y_small_train, y_small_test = train_test_split(\n",
    "    X_small, y_small, test_size=0.3, random_state=42)"
   ]
  },
  {
   "cell_type": "code",
   "execution_count": 84,
   "id": "7cc3680e-c3ad-4022-a82b-fe9d96ad96f6",
   "metadata": {},
   "outputs": [
    {
     "name": "stdout",
     "output_type": "stream",
     "text": [
      "Cutoff = 1, Mean score = 0.313, Standard error = 0.045, n_features = 3\n",
      "Cutoff = 0.9, Mean score = 0.313, Standard error = 0.045, n_features = 3\n",
      "Cutoff = 0.7, Mean score = 0.313, Standard error = 0.045, n_features = 3\n",
      "Cutoff = 0.3, Mean score = 0.314, Standard error = 0.045, n_features = 5\n",
      "Cutoff = 0.1, Mean score = 0.348, Standard error = 0.0476, n_features = 12\n",
      "Cutoff = 0.05, Mean score = 0.365, Standard error = 0.0473, n_features = 19\n",
      "Cutoff = 0.01, Mean score = 0.384, Standard error = 0.0501, n_features = 52\n",
      "Cutoff = 0.005, Mean score = 0.389, Standard error = 0.0523, n_features = 68\n",
      "Cutoff = 0.003, Mean score = 0.392, Standard error = 0.0512, n_features = 83\n",
      "Cutoff = 0.001, Mean score = 0.396, Standard error = 0.053, n_features = 107\n",
      "Cutoff = 0.0005, Mean score = 0.395, Standard error = 0.0533, n_features = 118\n",
      "Cutoff = 0, Mean score = -3.67e+23, Standard error = 1.87e+23, n_features = 150\n"
     ]
    }
   ],
   "source": [
    "cutoffs = [1, .9, .7, .3, .1, .05, .01, 0.005, 0.003, 0.001, 0.0005, 0]\n",
    "test_cutoffs(X_small_train, y_small_train, LinearRegression(), cutoffs);"
   ]
  },
  {
   "cell_type": "code",
   "execution_count": 85,
   "id": "7c02e046-d7c0-48b9-93a1-a5ee78fd18e1",
   "metadata": {},
   "outputs": [
    {
     "name": "stdout",
     "output_type": "stream",
     "text": [
      "Cutoff = 1, Mean score = 43, Standard error = 0.834, n_features = 3\n",
      "Cutoff = 0.9, Mean score = 43, Standard error = 0.834, n_features = 3\n",
      "Cutoff = 0.7, Mean score = 43, Standard error = 0.834, n_features = 3\n",
      "Cutoff = 0.3, Mean score = 44.9, Standard error = 0.846, n_features = 5\n",
      "Cutoff = 0.1, Mean score = 41.5, Standard error = 0.857, n_features = 12\n",
      "Cutoff = 0.05, Mean score = 41.5, Standard error = 0.657, n_features = 19\n",
      "Cutoff = 0.01, Mean score = 37.7, Standard error = 0.652, n_features = 52\n",
      "Cutoff = 0.005, Mean score = 37.3, Standard error = 0.749, n_features = 68\n",
      "Cutoff = 0.003, Mean score = 36.8, Standard error = 0.882, n_features = 83\n",
      "Cutoff = 0.001, Mean score = 33.9, Standard error = 0.671, n_features = 107\n",
      "Cutoff = 0.0005, Mean score = 33.7, Standard error = 0.734, n_features = 118\n",
      "Cutoff = 0, Mean score = 32.5, Standard error = 0.838, n_features = 150\n"
     ]
    }
   ],
   "source": [
    "cutoffs = [1, .9, .7, .3, .1, .05, .01, 0.005, 0.003, 0.001, 0.0005, 0]\n",
    "test_cutoffs(X_small_train, y_small_train, LinearRegression(), cutoffs, scoring=median_scorer);"
   ]
  },
  {
   "cell_type": "markdown",
   "id": "bfe78779-836e-4898-99c2-6615b462f8d7",
   "metadata": {
    "tags": []
   },
   "source": [
    "Not bad! It looks like I guessed some of the most important factors correctly, getting a better score than my best linear model that includes all the features."
   ]
  },
  {
   "cell_type": "code",
   "execution_count": 86,
   "id": "2a5b3793-f849-4557-b286-3232fa22eecb",
   "metadata": {},
   "outputs": [],
   "source": [
    "y_pred_small = fit_model(X_small_train, y_small_train, LinearRegression(), cutoff=0)"
   ]
  },
  {
   "cell_type": "code",
   "execution_count": 87,
   "id": "df8cd5f7-e73b-4f06-aa61-45cf8e1c7a08",
   "metadata": {},
   "outputs": [
    {
     "data": {
      "image/png": "[encoded data removed]",
      "text/plain": [
       "<Figure size 432x288 with 1 Axes>"
      ]
     },
     "metadata": {
      "needs_background": "light"
     },
     "output_type": "display_data"
    },
    {
     "data": {
      "text/plain": [
       "32.59871035260987"
      ]
     },
     "execution_count": 87,
     "metadata": {},
     "output_type": "execute_result"
    }
   ],
   "source": [
    "df_pct_abs_err(y_pred_small, y_small_train, plot=True).median().item()"
   ]
  },
  {
   "cell_type": "markdown",
   "id": "c6bf57df-42ce-45c1-aec2-23c018f2ab04",
   "metadata": {},
   "source": [
    "### Elastic Net"
   ]
  },
  {
   "cell_type": "markdown",
   "id": "2cae74f5-55e2-4cb8-a358-d87307dd82fd",
   "metadata": {},
   "source": [
    "There are more sophisticated models that help me get rid of irrelevent features by setting their weights to zero in the model. I'll use sklearn's `ElasticNet`, which has this favorable Lasso property while also having the L2 regularization properties of ridge regression."
   ]
  },
  {
   "cell_type": "code",
   "execution_count": 50,
   "id": "c892a2e4-222b-4ae5-a9bf-1d0a54a95d52",
   "metadata": {},
   "outputs": [],
   "source": [
    "from sklearn.linear_model import ElasticNet"
   ]
  },
  {
   "cell_type": "code",
   "execution_count": 89,
   "id": "32c58131-061c-4469-9c0c-eea472ff5583",
   "metadata": {},
   "outputs": [
    {
     "name": "stdout",
     "output_type": "stream",
     "text": [
      "Cutoff = 1e+03, Mean score = -0.00344, Standard error = 0.00336, n_features = 4\n",
      "Cutoff = 1, Mean score = 0.349, Standard error = 0.0496, n_features = 38\n",
      "Cutoff = 0.99, Mean score = 0.348, Standard error = 0.0496, n_features = 40\n",
      "Cutoff = 0.5, Mean score = 0.358, Standard error = 0.0487, n_features = 73\n",
      "Cutoff = 0.3, Mean score = 0.36, Standard error = 0.0491, n_features = 79\n",
      "Cutoff = 0.2, Mean score = 0.36, Standard error = 0.0493, n_features = 84\n",
      "Cutoff = 0.1, Mean score = 0.376, Standard error = 0.0508, n_features = 93\n",
      "Cutoff = 0.05, Mean score = 0.382, Standard error = 0.0501, n_features = 106\n",
      "Cutoff = 0.01, Mean score = 0.393, Standard error = 0.0529, n_features = 175\n",
      "Cutoff = 0.005, Mean score = 0.398, Standard error = 0.0521, n_features = 216\n",
      "Cutoff = 0.002, Mean score = 0.399, Standard error = 0.0524, n_features = 259\n",
      "Cutoff = 0.001, Mean score = 0.429, Standard error = 0.0552, n_features = 319\n",
      "Cutoff = 0.0005, Mean score = 0.428, Standard error = 0.0536, n_features = 376\n",
      "Cutoff = 0, Mean score = 0.423, Standard error = 0.0591, n_features = 674\n"
     ]
    }
   ],
   "source": [
    "cutoffs = [1000, 1, .99, .5, .3, .2, .1, .05, .01, 0.005, 0.002, 0.001, 0.0005, 0]\n",
    "test_cutoffs(X_train, y_train, ElasticNet(), cutoffs);"
   ]
  },
  {
   "cell_type": "code",
   "execution_count": 90,
   "id": "ccc84928-061d-48c9-8f62-3aef30991881",
   "metadata": {},
   "outputs": [
    {
     "name": "stdout",
     "output_type": "stream",
     "text": [
      "Cutoff = 1e+03, Mean score = 59.2, Standard error = 1.72, n_features = 4\n",
      "Cutoff = 1, Mean score = 38.6, Standard error = 0.807, n_features = 38\n",
      "Cutoff = 0.99, Mean score = 38.6, Standard error = 0.809, n_features = 40\n",
      "Cutoff = 0.5, Mean score = 37.8, Standard error = 1.14, n_features = 73\n",
      "Cutoff = 0.3, Mean score = 38, Standard error = 1.16, n_features = 79\n",
      "Cutoff = 0.2, Mean score = 37.6, Standard error = 1.16, n_features = 84\n",
      "Cutoff = 0.1, Mean score = 36.3, Standard error = 0.992, n_features = 93\n",
      "Cutoff = 0.05, Mean score = 35.5, Standard error = 0.765, n_features = 106\n",
      "Cutoff = 0.01, Mean score = 34.2, Standard error = 0.811, n_features = 175\n",
      "Cutoff = 0.005, Mean score = 34.1, Standard error = 0.626, n_features = 216\n",
      "Cutoff = 0.002, Mean score = 33.7, Standard error = 0.62, n_features = 259\n",
      "Cutoff = 0.001, Mean score = 32.8, Standard error = 0.638, n_features = 319\n",
      "Cutoff = 0.0005, Mean score = 32.6, Standard error = 0.49, n_features = 376\n",
      "Cutoff = 0, Mean score = 31.8, Standard error = 0.379, n_features = 674\n"
     ]
    }
   ],
   "source": [
    "cutoffs = [1000, 1, .99, .5, .3, .2, .1, .05, .01, 0.005, 0.002, 0.001, 0.0005, 0]\n",
    "test_cutoffs(X_train, y_train, ElasticNet(), cutoffs, scoring=median_scorer);"
   ]
  },
  {
   "cell_type": "markdown",
   "id": "6f55a76c-9fdb-48fd-94b2-f32ec652a41e",
   "metadata": {},
   "source": [
    "Not significantly better than my smaller linear model above."
   ]
  },
  {
   "cell_type": "code",
   "execution_count": 91,
   "id": "503c3113-0c9f-4d0b-addb-d4f4409a3632",
   "metadata": {
    "tags": []
   },
   "outputs": [],
   "source": [
    "y_pred_E = fit_model(X_train, y_train, ElasticNet(), cutoff=0)"
   ]
  },
  {
   "cell_type": "code",
   "execution_count": 92,
   "id": "1d1b8735-0cf3-4882-bac9-42668a7fad05",
   "metadata": {},
   "outputs": [
    {
     "data": {
      "image/png": "[encoded data removed]",
      "text/plain": [
       "<Figure size 432x288 with 1 Axes>"
      ]
     },
     "metadata": {
      "needs_background": "light"
     },
     "output_type": "display_data"
    }
   ],
   "source": [
    "plt.plot(100*np.abs(y_train - y_pred_E)/y_train, 'o')\n",
    "plt.ylabel('Absolute fractional error in price prediction (\\%)')\n",
    "plt.show()"
   ]
  },
  {
   "cell_type": "code",
   "execution_count": 93,
   "id": "2e3d0b46-d4c1-42c4-9d7f-e07c47529782",
   "metadata": {},
   "outputs": [
    {
     "data": {
      "image/png": "[encoded data removed]",
      "text/plain": [
       "<Figure size 432x288 with 1 Axes>"
      ]
     },
     "metadata": {
      "needs_background": "light"
     },
     "output_type": "display_data"
    }
   ],
   "source": [
    "plt.plot(y_pred_E, 'bo')\n",
    "plt.axhline(y=0, linestyle='--')\n",
    "plt.ylabel('Predicted price (USD)')\n",
    "plt.show()"
   ]
  },
  {
   "cell_type": "code",
   "execution_count": 94,
   "id": "368324b3-f6c9-41fb-baa3-d5e80995e99a",
   "metadata": {},
   "outputs": [
    {
     "data": {
      "image/png": "[encoded data removed]",
      "text/plain": [
       "<Figure size 432x288 with 1 Axes>"
      ]
     },
     "metadata": {
      "needs_background": "light"
     },
     "output_type": "display_data"
    }
   ],
   "source": [
    "df_err_E = df_pct_abs_err(y_pred_E, y_train, plot=True)"
   ]
  },
  {
   "cell_type": "code",
   "execution_count": 95,
   "id": "a094372b-b44e-44d9-b28a-d549a78bae06",
   "metadata": {},
   "outputs": [
    {
     "data": {
      "text/plain": [
       "31.725522431859346"
      ]
     },
     "execution_count": 95,
     "metadata": {},
     "output_type": "execute_result"
    }
   ],
   "source": [
    "df_err_E.median().item()"
   ]
  },
  {
   "cell_type": "markdown",
   "id": "941cd326-b396-44da-acab-59f46b3c5284",
   "metadata": {},
   "source": [
    "The CV score (mean $R^2$ between folds) and the median absolute error have both improved, though not substantially."
   ]
  },
  {
   "cell_type": "markdown",
   "id": "ed8e1891-5677-46d0-8415-2f768ddf4b76",
   "metadata": {},
   "source": [
    "What are the most important features? For these results to be robust, I average the coefficients over the five folds obtained during cross-validation."
   ]
  },
  {
   "cell_type": "code",
   "execution_count": 96,
   "id": "929243d3-b296-4fce-a015-f996990bb3d3",
   "metadata": {},
   "outputs": [],
   "source": [
    "pipe = make_pipeline(StandardScaler(), ElasticNet())"
   ]
  },
  {
   "cell_type": "code",
   "execution_count": 97,
   "id": "bf9d4259-8a34-44b6-ac0f-457cf7c9ee85",
   "metadata": {
    "tags": []
   },
   "outputs": [],
   "source": [
    "cv_dict = cross_validate(pipe, X_train, y_train, return_estimator=True)\n",
    "estimators = cv_dict['estimator']\n",
    "coeffs = np.zeros(X_train.shape[1])\n",
    "for i in range(5):\n",
    "    coeffs += estimators[i].named_steps['elasticnet'].coef_\n",
    "coeffs /= 5"
   ]
  },
  {
   "cell_type": "code",
   "execution_count": 98,
   "id": "86a12aa4-4f43-4cc8-8d7d-0cae85b066a2",
   "metadata": {},
   "outputs": [
    {
     "data": {
      "text/html": [
       "<div>\n",
       "<style scoped>\n",
       "    .dataframe tbody tr th:only-of-type {\n",
       "        vertical-align: middle;\n",
       "    }\n",
       "\n",
       "    .dataframe tbody tr th {\n",
       "        vertical-align: top;\n",
       "    }\n",
       "\n",
       "    .dataframe thead th {\n",
       "        text-align: right;\n",
       "    }\n",
       "</style>\n",
       "<table border=\"1\" class=\"dataframe\">\n",
       "  <thead>\n",
       "    <tr style=\"text-align: right;\">\n",
       "      <th></th>\n",
       "      <th>feature</th>\n",
       "      <th>coeff</th>\n",
       "      <th>abs_coeff</th>\n",
       "    </tr>\n",
       "  </thead>\n",
       "  <tbody>\n",
       "    <tr>\n",
       "      <th>748</th>\n",
       "      <td>bathrooms_text_6 baths</td>\n",
       "      <td>28.397859</td>\n",
       "      <td>28.397859</td>\n",
       "    </tr>\n",
       "    <tr>\n",
       "      <th>7</th>\n",
       "      <td>accommodates</td>\n",
       "      <td>23.630786</td>\n",
       "      <td>23.630786</td>\n",
       "    </tr>\n",
       "    <tr>\n",
       "      <th>8</th>\n",
       "      <td>bedrooms</td>\n",
       "      <td>22.884503</td>\n",
       "      <td>22.884503</td>\n",
       "    </tr>\n",
       "    <tr>\n",
       "      <th>9</th>\n",
       "      <td>beds</td>\n",
       "      <td>20.725773</td>\n",
       "      <td>20.725773</td>\n",
       "    </tr>\n",
       "    <tr>\n",
       "      <th>732</th>\n",
       "      <td>bathrooms_text_10 baths</td>\n",
       "      <td>19.125802</td>\n",
       "      <td>19.125802</td>\n",
       "    </tr>\n",
       "    <tr>\n",
       "      <th>749</th>\n",
       "      <td>bathrooms_text_6.5 baths</td>\n",
       "      <td>15.862419</td>\n",
       "      <td>15.862419</td>\n",
       "    </tr>\n",
       "    <tr>\n",
       "      <th>742</th>\n",
       "      <td>bathrooms_text_3.5 baths</td>\n",
       "      <td>13.896809</td>\n",
       "      <td>13.896809</td>\n",
       "    </tr>\n",
       "    <tr>\n",
       "      <th>750</th>\n",
       "      <td>bathrooms_text_7 baths</td>\n",
       "      <td>13.2234</td>\n",
       "      <td>13.2234</td>\n",
       "    </tr>\n",
       "    <tr>\n",
       "      <th>745</th>\n",
       "      <td>bathrooms_text_4.5 baths</td>\n",
       "      <td>12.697673</td>\n",
       "      <td>12.697673</td>\n",
       "    </tr>\n",
       "    <tr>\n",
       "      <th>476</th>\n",
       "      <td>host_neighbourhood_Lake View</td>\n",
       "      <td>12.392138</td>\n",
       "      <td>12.392138</td>\n",
       "    </tr>\n",
       "    <tr>\n",
       "      <th>746</th>\n",
       "      <td>bathrooms_text_5 baths</td>\n",
       "      <td>12.000488</td>\n",
       "      <td>12.000488</td>\n",
       "    </tr>\n",
       "    <tr>\n",
       "      <th>740</th>\n",
       "      <td>bathrooms_text_3 baths</td>\n",
       "      <td>11.591907</td>\n",
       "      <td>11.591907</td>\n",
       "    </tr>\n",
       "    <tr>\n",
       "      <th>727</th>\n",
       "      <td>bathrooms_text_1 bath</td>\n",
       "      <td>-10.961938</td>\n",
       "      <td>10.961938</td>\n",
       "    </tr>\n",
       "    <tr>\n",
       "      <th>684</th>\n",
       "      <td>property_type_Entire residential home</td>\n",
       "      <td>10.537799</td>\n",
       "      <td>10.537799</td>\n",
       "    </tr>\n",
       "    <tr>\n",
       "      <th>738</th>\n",
       "      <td>bathrooms_text_2.5 baths</td>\n",
       "      <td>10.255548</td>\n",
       "      <td>10.255548</td>\n",
       "    </tr>\n",
       "    <tr>\n",
       "      <th>747</th>\n",
       "      <td>bathrooms_text_5.5 baths</td>\n",
       "      <td>9.518803</td>\n",
       "      <td>9.518803</td>\n",
       "    </tr>\n",
       "    <tr>\n",
       "      <th>743</th>\n",
       "      <td>bathrooms_text_4 baths</td>\n",
       "      <td>8.634949</td>\n",
       "      <td>8.634949</td>\n",
       "    </tr>\n",
       "    <tr>\n",
       "      <th>18</th>\n",
       "      <td>availability_30</td>\n",
       "      <td>8.370157</td>\n",
       "      <td>8.370157</td>\n",
       "    </tr>\n",
       "    <tr>\n",
       "      <th>645</th>\n",
       "      <td>neighbourhood_cleansed_Near North Side</td>\n",
       "      <td>8.039757</td>\n",
       "      <td>8.039757</td>\n",
       "    </tr>\n",
       "    <tr>\n",
       "      <th>751</th>\n",
       "      <td>bathrooms_text_7.5 baths</td>\n",
       "      <td>7.715897</td>\n",
       "      <td>7.715897</td>\n",
       "    </tr>\n",
       "    <tr>\n",
       "      <th>117</th>\n",
       "      <td>host_location_Carson City, Nevada, United States</td>\n",
       "      <td>7.715868</td>\n",
       "      <td>7.715868</td>\n",
       "    </tr>\n",
       "    <tr>\n",
       "      <th>436</th>\n",
       "      <td>host_neighbourhood_Chicago Loop</td>\n",
       "      <td>7.647184</td>\n",
       "      <td>7.647184</td>\n",
       "    </tr>\n",
       "    <tr>\n",
       "      <th>345</th>\n",
       "      <td>host_location_Springfield, Illinois, United St...</td>\n",
       "      <td>7.58186</td>\n",
       "      <td>7.58186</td>\n",
       "    </tr>\n",
       "    <tr>\n",
       "      <th>308</th>\n",
       "      <td>host_location_Reading, Pennsylvania, United St...</td>\n",
       "      <td>7.056711</td>\n",
       "      <td>7.056711</td>\n",
       "    </tr>\n",
       "    <tr>\n",
       "      <th>24</th>\n",
       "      <td>number_of_reviews_l30d</td>\n",
       "      <td>-6.609317</td>\n",
       "      <td>6.609317</td>\n",
       "    </tr>\n",
       "    <tr>\n",
       "      <th>303</th>\n",
       "      <td>host_location_Portland, Oregon, United States</td>\n",
       "      <td>6.600968</td>\n",
       "      <td>6.600968</td>\n",
       "    </tr>\n",
       "    <tr>\n",
       "      <th>22</th>\n",
       "      <td>number_of_reviews</td>\n",
       "      <td>-6.054</td>\n",
       "      <td>6.054</td>\n",
       "    </tr>\n",
       "    <tr>\n",
       "      <th>729</th>\n",
       "      <td>bathrooms_text_1 shared bath</td>\n",
       "      <td>-5.965858</td>\n",
       "      <td>5.965858</td>\n",
       "    </tr>\n",
       "    <tr>\n",
       "      <th>105</th>\n",
       "      <td>host_location_Boulder, Colorado, United States</td>\n",
       "      <td>5.953425</td>\n",
       "      <td>5.953425</td>\n",
       "    </tr>\n",
       "    <tr>\n",
       "      <th>563</th>\n",
       "      <td>host_neighbourhood_West Loop/Greektown</td>\n",
       "      <td>5.865671</td>\n",
       "      <td>5.865671</td>\n",
       "    </tr>\n",
       "  </tbody>\n",
       "</table>\n",
       "</div>"
      ],
      "text/plain": [
       "                                               feature      coeff  abs_coeff\n",
       "748                             bathrooms_text_6 baths  28.397859  28.397859\n",
       "7                                         accommodates  23.630786  23.630786\n",
       "8                                             bedrooms  22.884503  22.884503\n",
       "9                                                 beds  20.725773  20.725773\n",
       "732                            bathrooms_text_10 baths  19.125802  19.125802\n",
       "749                           bathrooms_text_6.5 baths  15.862419  15.862419\n",
       "742                           bathrooms_text_3.5 baths  13.896809  13.896809\n",
       "750                             bathrooms_text_7 baths    13.2234    13.2234\n",
       "745                           bathrooms_text_4.5 baths  12.697673  12.697673\n",
       "476                       host_neighbourhood_Lake View  12.392138  12.392138\n",
       "746                             bathrooms_text_5 baths  12.000488  12.000488\n",
       "740                             bathrooms_text_3 baths  11.591907  11.591907\n",
       "727                              bathrooms_text_1 bath -10.961938  10.961938\n",
       "684              property_type_Entire residential home  10.537799  10.537799\n",
       "738                           bathrooms_text_2.5 baths  10.255548  10.255548\n",
       "747                           bathrooms_text_5.5 baths   9.518803   9.518803\n",
       "743                             bathrooms_text_4 baths   8.634949   8.634949\n",
       "18                                     availability_30   8.370157   8.370157\n",
       "645             neighbourhood_cleansed_Near North Side   8.039757   8.039757\n",
       "751                           bathrooms_text_7.5 baths   7.715897   7.715897\n",
       "117   host_location_Carson City, Nevada, United States   7.715868   7.715868\n",
       "436                    host_neighbourhood_Chicago Loop   7.647184   7.647184\n",
       "345  host_location_Springfield, Illinois, United St...    7.58186    7.58186\n",
       "308  host_location_Reading, Pennsylvania, United St...   7.056711   7.056711\n",
       "24                              number_of_reviews_l30d  -6.609317   6.609317\n",
       "303      host_location_Portland, Oregon, United States   6.600968   6.600968\n",
       "22                                   number_of_reviews     -6.054      6.054\n",
       "729                       bathrooms_text_1 shared bath  -5.965858   5.965858\n",
       "105     host_location_Boulder, Colorado, United States   5.953425   5.953425\n",
       "563             host_neighbourhood_West Loop/Greektown   5.865671   5.865671"
      ]
     },
     "execution_count": 98,
     "metadata": {},
     "output_type": "execute_result"
    }
   ],
   "source": [
    "df = pd.DataFrame(np.array([X_train.columns, coeffs, np.abs(coeffs)]).T, columns=['feature','coeff', 'abs_coeff'])\n",
    "df = df.sort_values(by='abs_coeff', ascending=False)\n",
    "df.head(30)"
   ]
  },
  {
   "cell_type": "markdown",
   "id": "f9881737-3afd-4856-9a9e-e8da465eb7d4",
   "metadata": {},
   "source": [
    "Interestingly, the top 20 features or so all have positive coefficients, except for one (the \"only one bathroom\" feature). The larger the values of those features are, the larger we expect the price to be.\n",
    "\n",
    "As was hinted at by smaller linear model above, the most important features are related to the number of bedrooms, number of bathrooms (in particular, having more than one), offering the entire home, and being in a desirable neighborhood for travelers. `availability_30`, the number of days in the next 30 days for which a property is available, also has an impact on raising the price."
   ]
  },
  {
   "cell_type": "code",
   "execution_count": 99,
   "id": "5298f3a2-b1e3-4aa2-90a3-5cc13335a9af",
   "metadata": {},
   "outputs": [],
   "source": [
    "X_top_20 = X[df[:20]['feature']].copy()"
   ]
  },
  {
   "cell_type": "code",
   "execution_count": 100,
   "id": "94377a1b-cf7f-48e1-a0da-c7f6a51610ac",
   "metadata": {},
   "outputs": [],
   "source": [
    "X_top_20_train, X_top_20_test, y_top_20_train, y_top_20_test = train_test_split(\n",
    "    X_top_20, y, test_size=0.3, random_state=42)"
   ]
  },
  {
   "cell_type": "markdown",
   "id": "32745fca-73fe-4576-bc86-49aac39e1e0e",
   "metadata": {},
   "source": [
    "Note that ElasticNet eliminates some features by setting their coefficients to zero."
   ]
  },
  {
   "cell_type": "code",
   "execution_count": 101,
   "id": "01fe7643-45cd-45d4-9648-b1cb87f8dfe4",
   "metadata": {},
   "outputs": [
    {
     "data": {
      "text/plain": [
       "156"
      ]
     },
     "execution_count": 101,
     "metadata": {},
     "output_type": "execute_result"
    }
   ],
   "source": [
    "len(df.loc[df['abs_coeff']==0])"
   ]
  },
  {
   "cell_type": "code",
   "execution_count": 102,
   "id": "ee7ad5a1-cc22-4f3c-968e-e2b040c706f0",
   "metadata": {},
   "outputs": [],
   "source": [
    "X_E = X.drop(list(df.loc[df['abs_coeff']==0, 'feature']), axis=1)"
   ]
  },
  {
   "cell_type": "code",
   "execution_count": 103,
   "id": "25d256d7-475e-45e1-920a-7dbba8eef8b0",
   "metadata": {},
   "outputs": [],
   "source": [
    "X_E_train, X_E_test, y_E_train, y_E_test = train_test_split(\n",
    "    X_E, y, test_size=0.3, random_state=42)"
   ]
  },
  {
   "cell_type": "markdown",
   "id": "0958adb2-4e5a-465c-828e-bef0318fd13e",
   "metadata": {},
   "source": [
    "I'd like to build some more accurate models, even if they are less interpretable. In particular, I'll try k-nearest neighbors and random forest models, as they are relatively fast to train and don't have many hyperparameters to tune."
   ]
  },
  {
   "cell_type": "markdown",
   "id": "633bfda7-850a-4771-810a-ec8eef2712e3",
   "metadata": {},
   "source": [
    "### k-Nearest Neighbors"
   ]
  },
  {
   "cell_type": "code",
   "execution_count": 45,
   "id": "87511eaa-c8a8-426e-b0a9-978a6cf5622b",
   "metadata": {},
   "outputs": [],
   "source": [
    "from sklearn.neighbors import KNeighborsRegressor"
   ]
  },
  {
   "cell_type": "markdown",
   "id": "48daad81-c7c6-49e2-a985-232e4d1d3485",
   "metadata": {},
   "source": [
    "I think using the $L^1$ metric for the k-NN tree will work better than using the $L^2$ metric (standard Euclidean distance), since the $L^1$ metric is less sensitive to outliers."
   ]
  },
  {
   "cell_type": "code",
   "execution_count": 105,
   "id": "e9a4718a-3555-4bcb-a1dc-51ea92ca6ec8",
   "metadata": {
    "tags": []
   },
   "outputs": [
    {
     "name": "stdout",
     "output_type": "stream",
     "text": [
      "Cutoff = 1e+03, Mean score = -0.2, Standard error = 0.0639, n_features = 4\n",
      "Cutoff = 1, Mean score = 0.428, Standard error = 0.0427, n_features = 38\n",
      "Cutoff = 0.99, Mean score = 0.428, Standard error = 0.0427, n_features = 40\n",
      "Cutoff = 0.5, Mean score = 0.4, Standard error = 0.0534, n_features = 73\n",
      "Cutoff = 0.3, Mean score = 0.398, Standard error = 0.0563, n_features = 79\n",
      "Cutoff = 0.2, Mean score = 0.388, Standard error = 0.0584, n_features = 84\n",
      "Cutoff = 0.1, Mean score = 0.395, Standard error = 0.0499, n_features = 93\n",
      "Cutoff = 0.05, Mean score = 0.407, Standard error = 0.0592, n_features = 106\n",
      "Cutoff = 0.01, Mean score = 0.386, Standard error = 0.0499, n_features = 175\n",
      "Cutoff = 0.005, Mean score = 0.366, Standard error = 0.052, n_features = 216\n",
      "Cutoff = 0.002, Mean score = 0.391, Standard error = 0.0538, n_features = 259\n",
      "Cutoff = 0.001, Mean score = 0.38, Standard error = 0.0518, n_features = 319\n",
      "Cutoff = 0.0005, Mean score = 0.38, Standard error = 0.0496, n_features = 376\n",
      "Cutoff = 0, Mean score = 0.357, Standard error = 0.0466, n_features = 674\n"
     ]
    }
   ],
   "source": [
    "# Showing R^2 scores\n",
    "cutoffs = [1000, 1, .99, .5, .3, .2, .1, .05, .01, 0.005, 0.002, 0.001, 0.0005, 0]\n",
    "test_cutoffs(X_train, y_train, KNeighborsRegressor(weights='distance', p=1), cutoffs);"
   ]
  },
  {
   "cell_type": "code",
   "execution_count": 106,
   "id": "850b1062-35c3-4c7f-abf8-c3f82c5cc2c3",
   "metadata": {},
   "outputs": [
    {
     "name": "stdout",
     "output_type": "stream",
     "text": [
      "Cutoff = 1e+03, Mean score = 35, Standard error = 0.714, n_features = 4\n",
      "Cutoff = 1, Mean score = 26.7, Standard error = 0.398, n_features = 38\n",
      "Cutoff = 0.99, Mean score = 26.7, Standard error = 0.402, n_features = 40\n",
      "Cutoff = 0.5, Mean score = 26.2, Standard error = 0.366, n_features = 73\n",
      "Cutoff = 0.3, Mean score = 26, Standard error = 0.897, n_features = 79\n",
      "Cutoff = 0.2, Mean score = 25.3, Standard error = 0.836, n_features = 84\n",
      "Cutoff = 0.1, Mean score = 23.8, Standard error = 0.702, n_features = 93\n",
      "Cutoff = 0.05, Mean score = 23.5, Standard error = 0.537, n_features = 106\n",
      "Cutoff = 0.01, Mean score = 22.9, Standard error = 0.73, n_features = 175\n",
      "Cutoff = 0.005, Mean score = 24, Standard error = 0.316, n_features = 216\n",
      "Cutoff = 0.002, Mean score = 24.4, Standard error = 0.575, n_features = 259\n",
      "Cutoff = 0.001, Mean score = 24.2, Standard error = 0.625, n_features = 319\n",
      "Cutoff = 0.0005, Mean score = 24.4, Standard error = 0.491, n_features = 376\n",
      "Cutoff = 0, Mean score = 24.4, Standard error = 0.471, n_features = 674\n"
     ]
    }
   ],
   "source": [
    "# Showing median absolute fractional error (%) scores\n",
    "cutoffs = [1000, 1, .99, .5, .3, .2, .1, .05, .01, 0.005, 0.002, 0.001, 0.0005, 0]\n",
    "test_cutoffs(X_train, y_train, KNeighborsRegressor(weights='distance', p=1), cutoffs, scoring=median_scorer);"
   ]
  },
  {
   "cell_type": "markdown",
   "id": "14c3178a-0093-4dbb-bc22-4b80fac1f848",
   "metadata": {},
   "source": [
    "What is the minimal mean score if I use the $L^2$ metric instead?"
   ]
  },
  {
   "cell_type": "code",
   "execution_count": 175,
   "id": "37c26d8e-99ac-4adc-a905-53d8dc03700d",
   "metadata": {},
   "outputs": [
    {
     "data": {
      "text/plain": [
       "25.559420143128236"
      ]
     },
     "execution_count": 175,
     "metadata": {},
     "output_type": "execute_result"
    }
   ],
   "source": [
    "min(test_cutoffs(X_train, y_train, KNeighborsRegressor(weights='distance'),\n",
    "             cutoffs, scoring=median_scorer, print_results=False))"
   ]
  },
  {
   "cell_type": "markdown",
   "id": "872c4b4c-af58-4be7-9514-f03bcc68d5f8",
   "metadata": {},
   "source": [
    "It's a bit worse, as expected."
   ]
  },
  {
   "cell_type": "markdown",
   "id": "b5d13e65-b2f7-444b-93b4-344703af6f98",
   "metadata": {},
   "source": [
    "I can also vary the number of neighbors to see if this yields any improvement. The default value for `n_neighbors` is 5."
   ]
  },
  {
   "cell_type": "code",
   "execution_count": 183,
   "id": "0204be4c-2d0d-4126-bf44-16aed0f1de91",
   "metadata": {},
   "outputs": [
    {
     "name": "stdout",
     "output_type": "stream",
     "text": [
      "n_neighbors = 3 gives mean score 22.4 with standard error 0.548\n",
      "n_neighbors = 5 gives mean score 23.2 with standard error 0.438\n",
      "n_neighbors = 10 gives mean score 25.6 with standard error 0.57\n",
      "n_neighbors = 20 gives mean score 28.1 with standard error 0.45\n"
     ]
    }
   ],
   "source": [
    "for n in [3, 5, 10, 20]:\n",
    "    scores = score_model(X_train, y_train,\n",
    "                         KNeighborsRegressor(n_neighbors=n, weights='distance', p=1), \n",
    "                         0.05, scoring=median_scorer)\n",
    "    print(f\"n_neighbors = {n} gives mean score {scores.mean():.3g} with standard error {scores.std()/np.sqrt(5):.3g}\")"
   ]
  },
  {
   "cell_type": "markdown",
   "id": "a104469a-164c-4e80-8b36-908a89445e85",
   "metadata": {},
   "source": [
    "Using `n_neighbors` of 3 instead of 5 gives slightly better mean score, although they're within each others' standard errors."
   ]
  },
  {
   "cell_type": "markdown",
   "id": "9bd362a5-61fb-48e0-8edb-2a9d0c28c784",
   "metadata": {},
   "source": [
    "The $R^2$ scores are worse than for the previous model, but the median absolute error is better. K-nearest neighbors does not use the $L^2$ loss as the previous methods do; it instead looks at the prices for the nearest neighbors (in this case, 5 such neighbors) of a listing to estimate that listing's price. Thus, it is not as sensitive to outliers."
   ]
  },
  {
   "cell_type": "code",
   "execution_count": 120,
   "id": "05e82250-bba9-4ddd-a4af-46ed60b768f5",
   "metadata": {
    "tags": []
   },
   "outputs": [],
   "source": [
    "y_pred_knn = fit_model(X_train, y_train, KNeighborsRegressor(weights='distance', p=1),\n",
    "                       cutoff=0.05)"
   ]
  },
  {
   "cell_type": "code",
   "execution_count": 121,
   "id": "557bd2a8-6c0d-409b-b384-eac3688bf2a0",
   "metadata": {},
   "outputs": [
    {
     "data": {
      "image/png": "[encoded data removed]",
      "text/plain": [
       "<Figure size 432x288 with 1 Axes>"
      ]
     },
     "metadata": {
      "needs_background": "light"
     },
     "output_type": "display_data"
    }
   ],
   "source": [
    "df_err_knn = df_pct_abs_err(y_pred_knn, y_train, plot=True)"
   ]
  },
  {
   "cell_type": "code",
   "execution_count": 122,
   "id": "ce7c5f25-c91b-4289-8037-8e7a36cd797e",
   "metadata": {},
   "outputs": [
    {
     "data": {
      "text/plain": [
       "25.11902880376654"
      ]
     },
     "execution_count": 122,
     "metadata": {},
     "output_type": "execute_result"
    }
   ],
   "source": [
    "df_err_knn['pct_abs_err'].median()"
   ]
  },
  {
   "cell_type": "code",
   "execution_count": 123,
   "id": "13b751d0-4f3b-4837-a563-702bd84653e2",
   "metadata": {},
   "outputs": [
    {
     "data": {
      "image/png": "[encoded data removed]",
      "text/plain": [
       "<Figure size 432x288 with 1 Axes>"
      ]
     },
     "metadata": {
      "needs_background": "light"
     },
     "output_type": "display_data"
    }
   ],
   "source": [
    "plt.plot(100*np.abs(y_train - y_pred_knn)/y_train, 'o')\n",
    "plt.ylabel('Absolute fractional error in price prediction (\\%)')\n",
    "plt.show()"
   ]
  },
  {
   "cell_type": "code",
   "execution_count": 124,
   "id": "6b6238a3-8828-40d0-a252-403f46f62ef4",
   "metadata": {},
   "outputs": [
    {
     "data": {
      "image/png": "[encoded data removed]",
      "text/plain": [
       "<Figure size 432x288 with 1 Axes>"
      ]
     },
     "metadata": {
      "needs_background": "light"
     },
     "output_type": "display_data"
    }
   ],
   "source": [
    "plt.plot(y_pred_knn, 'bo')\n",
    "plt.axhline(y=0, linestyle='--')\n",
    "plt.ylabel('Predicted price (USD)')\n",
    "plt.show()"
   ]
  },
  {
   "cell_type": "code",
   "execution_count": 125,
   "id": "f34ff755-e7a5-453e-adca-a8688d952e57",
   "metadata": {},
   "outputs": [
    {
     "data": {
      "text/plain": [
       "0"
      ]
     },
     "execution_count": 125,
     "metadata": {},
     "output_type": "execute_result"
    }
   ],
   "source": [
    "sum(y_pred_knn < 0)"
   ]
  },
  {
   "cell_type": "markdown",
   "id": "94109e3f-658e-49c7-a0cc-06365696feba",
   "metadata": {},
   "source": [
    "None of the predictions are less than zero - a big advantage over the linear models."
   ]
  },
  {
   "cell_type": "markdown",
   "id": "f6c79a5f-a14d-4765-96db-340fd178c34e",
   "metadata": {},
   "source": [
    "What if I use the information I gained from the Elastic Net regression? That is, I will use the data with irrelevant features removed."
   ]
  },
  {
   "cell_type": "code",
   "execution_count": 126,
   "id": "fe8ca571-4c65-4896-9e1a-0019d74d6d70",
   "metadata": {},
   "outputs": [
    {
     "name": "stdout",
     "output_type": "stream",
     "text": [
      "Cutoff = 1e+03, Mean score = 35.1, Standard error = 0.74, n_features = 4\n",
      "Cutoff = 1, Mean score = 29.2, Standard error = 0.268, n_features = 38\n",
      "Cutoff = 0.99, Mean score = 29.3, Standard error = 0.289, n_features = 40\n",
      "Cutoff = 0.5, Mean score = 30.1, Standard error = 0.384, n_features = 69\n",
      "Cutoff = 0.3, Mean score = 29.2, Standard error = 0.722, n_features = 75\n",
      "Cutoff = 0.2, Mean score = 28, Standard error = 0.648, n_features = 78\n",
      "Cutoff = 0.1, Mean score = 26.2, Standard error = 0.823, n_features = 86\n",
      "Cutoff = 0.05, Mean score = 25.2, Standard error = 0.303, n_features = 98\n",
      "Cutoff = 0.01, Mean score = 25.8, Standard error = 0.549, n_features = 165\n",
      "Cutoff = 0.005, Mean score = 26.7, Standard error = 0.727, n_features = 204\n",
      "Cutoff = 0.002, Mean score = 26.9, Standard error = 0.719, n_features = 242\n",
      "Cutoff = 0.001, Mean score = 27.1, Standard error = 0.808, n_features = 298\n",
      "Cutoff = 0.0005, Mean score = 27, Standard error = 0.696, n_features = 347\n",
      "Cutoff = 0, Mean score = 27.1, Standard error = 0.658, n_features = 581\n"
     ]
    }
   ],
   "source": [
    "cutoffs = [1000, 1, .99, .5, .3, .2, .1, .05, .01, 0.005, 0.002, 0.001, 0.0005, 0]\n",
    "test_cutoffs(X_E_train, y_train, KNeighborsRegressor(weights='distance', p=1),\n",
    "             cutoffs, scoring=median_scorer);"
   ]
  },
  {
   "cell_type": "markdown",
   "id": "d38fa007-dbd5-4e0a-8b66-b943ab281abd",
   "metadata": {},
   "source": [
    "The scores are the same (within the standard errors of each other).\n",
    "\n",
    "What if we use just the most important features, as determined from the `ElasticNet()` coefficients?"
   ]
  },
  {
   "cell_type": "code",
   "execution_count": 127,
   "id": "d8d0a8cc-52bf-4a30-bda9-38344daadb7e",
   "metadata": {},
   "outputs": [
    {
     "name": "stdout",
     "output_type": "stream",
     "text": [
      "Cutoff = 1, Mean score = 39.7, Standard error = 0.584, n_features = 4\n",
      "Cutoff = 0.99, Mean score = 39.7, Standard error = 0.584, n_features = 4\n",
      "Cutoff = 0.5, Mean score = 35.6, Standard error = 0.549, n_features = 5\n",
      "Cutoff = 0.3, Mean score = 35.6, Standard error = 0.549, n_features = 5\n",
      "Cutoff = 0.2, Mean score = 35.6, Standard error = 0.549, n_features = 5\n",
      "Cutoff = 0.1, Mean score = 33.7, Standard error = 0.545, n_features = 6\n",
      "Cutoff = 0.05, Mean score = 33.9, Standard error = 0.324, n_features = 7\n",
      "Cutoff = 0.01, Mean score = 32.5, Standard error = 0.461, n_features = 11\n",
      "Cutoff = 0.005, Mean score = 32.5, Standard error = 0.551, n_features = 12\n",
      "Cutoff = 0.002, Mean score = 32.5, Standard error = 0.431, n_features = 14\n",
      "Cutoff = 0.001, Mean score = 32.1, Standard error = 0.552, n_features = 16\n",
      "Cutoff = 0.0005, Mean score = 32.1, Standard error = 0.552, n_features = 16\n",
      "Cutoff = 0, Mean score = 32, Standard error = 0.785, n_features = 20\n"
     ]
    }
   ],
   "source": [
    "cutoffs = [1, .99, .5, .3, .2, .1, .05, .01, 0.005, 0.002, 0.001, 0.0005, 0]\n",
    "test_cutoffs(X_top_20_train, y_train, KNeighborsRegressor(weights='distance', p=1),\n",
    "             cutoffs, scoring=median_scorer);"
   ]
  },
  {
   "cell_type": "markdown",
   "id": "5ecb0d3a-e893-4f1f-995c-f0713c6cb04b",
   "metadata": {},
   "source": [
    "This is actually worse. It seems that k-nearest neighbors uses the additional information from other features to good effect."
   ]
  },
  {
   "cell_type": "markdown",
   "id": "7e7b9ad6-431f-44c5-9b97-bc2c43892e3f",
   "metadata": {},
   "source": [
    "### Random Forest"
   ]
  },
  {
   "cell_type": "code",
   "execution_count": 128,
   "id": "4c05b729-5f9f-4798-b971-063ee53ff649",
   "metadata": {},
   "outputs": [],
   "source": [
    "from sklearn.ensemble import RandomForestRegressor"
   ]
  },
  {
   "cell_type": "markdown",
   "id": "800a6836-232c-4385-8f3b-c9a5bc9064c7",
   "metadata": {},
   "source": [
    "I will choose to use absolute error, instead of mean-squared error, as the criterion to minimize, since it is less sensitive to outliers."
   ]
  },
  {
   "cell_type": "code",
   "execution_count": 129,
   "id": "c1951065-d17a-48dd-9d87-36923e6812a7",
   "metadata": {},
   "outputs": [
    {
     "name": "stdout",
     "output_type": "stream",
     "text": [
      "Cutoff = 1e+03, Mean score = 37.8, Standard error = 0.712, n_features = 4\n",
      "Cutoff = 1, Mean score = 26.7, Standard error = 0.352, n_features = 38\n",
      "Cutoff = 0.99, Mean score = 27.3, Standard error = 0.59, n_features = 40\n",
      "Cutoff = 0.5, Mean score = 25.5, Standard error = 0.38, n_features = 70\n",
      "Cutoff = 0.3, Mean score = 26.5, Standard error = 0.373, n_features = 76\n",
      "Cutoff = 0.2, Mean score = 25.5, Standard error = 0.352, n_features = 79\n",
      "Cutoff = 0.1, Mean score = 25.7, Standard error = 0.341, n_features = 87\n",
      "Cutoff = 0.05, Mean score = 25.6, Standard error = 0.301, n_features = 99\n",
      "Cutoff = 0.01, Mean score = 24.5, Standard error = 0.3, n_features = 166\n",
      "Cutoff = 0.005, Mean score = 24.3, Standard error = 0.375, n_features = 205\n",
      "Cutoff = 0.002, Mean score = 24.1, Standard error = 0.341, n_features = 246\n",
      "Cutoff = 0.001, Mean score = 23.6, Standard error = 0.406, n_features = 304\n",
      "Cutoff = 0.0005, Mean score = 24.1, Standard error = 0.237, n_features = 361\n",
      "Cutoff = 0, Mean score = 23.9, Standard error = 0.568, n_features = 654\n"
     ]
    },
    {
     "data": {
      "text/plain": [
       "array([22.90322581, 21.8852459 , 25.27377522, 24.43181818, 24.82647059])"
      ]
     },
     "execution_count": 129,
     "metadata": {},
     "output_type": "execute_result"
    }
   ],
   "source": [
    "cutoffs = [1000, 1, .99, .5, .3, .2, .1, .05, .01, 0.005, 0.002, 0.001, 0.0005, 0]\n",
    "test_cutoffs(X_train, y_train, RandomForestRegressor(n_estimators=10,\n",
    "                                                     criterion='absolute_error',\n",
    "                                                    random_state=42),\n",
    "             cutoffs, scoring=median_scorer);"
   ]
  },
  {
   "cell_type": "markdown",
   "id": "75772a4a-aa51-47ee-92fe-42d424472ae1",
   "metadata": {},
   "source": [
    "This is significantly more computationally expensive to train than k-nearest neighbors (it took about a hundred times as long on my laptop), but it performs no better."
   ]
  },
  {
   "cell_type": "code",
   "execution_count": 130,
   "id": "e2db54ee-8104-4851-ab88-046f4d8c576e",
   "metadata": {},
   "outputs": [],
   "source": [
    "y_pred_rf = fit_model(X_train, y_train, RandomForestRegressor(\n",
    "    n_estimators=10, criterion='absolute_error', random_state=42), cutoff=0)"
   ]
  },
  {
   "cell_type": "code",
   "execution_count": 131,
   "id": "90e23bac-584f-45cd-ae9f-c472c64a23ce",
   "metadata": {},
   "outputs": [
    {
     "data": {
      "image/png": "[encoded data removed]",
      "text/plain": [
       "<Figure size 432x288 with 1 Axes>"
      ]
     },
     "metadata": {
      "needs_background": "light"
     },
     "output_type": "display_data"
    }
   ],
   "source": [
    "df_err_rf = df_pct_abs_err(y_pred_rf, y_train, plot=True)"
   ]
  },
  {
   "cell_type": "code",
   "execution_count": 132,
   "id": "b3433d59-4a5e-4842-8381-101862e22db0",
   "metadata": {},
   "outputs": [
    {
     "data": {
      "image/png": "[encoded data removed]",
      "text/plain": [
       "<Figure size 432x288 with 1 Axes>"
      ]
     },
     "metadata": {
      "needs_background": "light"
     },
     "output_type": "display_data"
    }
   ],
   "source": [
    "plt.plot(100*np.abs(y_train - y_pred_rf)/y_train, 'o')\n",
    "plt.ylabel('Absolute fractional error in price prediction (\\%)')\n",
    "plt.show()"
   ]
  },
  {
   "cell_type": "markdown",
   "id": "277a4845-e3d7-4912-bbb0-b33fa0cdb6cf",
   "metadata": {},
   "source": [
    "## Final Evaluation and Deployment"
   ]
  },
  {
   "cell_type": "markdown",
   "id": "fccd0dc7-ab9c-4d02-9105-46d9bb79c3bc",
   "metadata": {},
   "source": [
    "It's time to stop holding back the test set."
   ]
  },
  {
   "cell_type": "code",
   "execution_count": 204,
   "id": "98e1f3ea-96aa-4c25-8a59-5ead2f7fe066",
   "metadata": {},
   "outputs": [],
   "source": [
    "def do_final_fit(X_train, y_train, X_test, y_test, model, cutoff):\n",
    "    pipe = make_pipeline(StandardScaler(), model)\n",
    "    to_keep = np.where(np.abs(X_train.sum()/len(X_train)) > cutoff)[0]\n",
    "    X_train_cutoff = X_train.iloc[:, to_keep]\n",
    "    X_test_cutoff = X_test.iloc[:, to_keep]\n",
    "    pipe.fit(X_train_cutoff, y_train)\n",
    "    y_pred = pipe.predict(X_test_cutoff)\n",
    "    score = median_abs_pct_err(y_test, y_pred)\n",
    "    return pipe, score"
   ]
  },
  {
   "cell_type": "code",
   "execution_count": 161,
   "id": "5d6c2154-a29b-42af-8246-2b8ca6df98cc",
   "metadata": {},
   "outputs": [
    {
     "name": "stdout",
     "output_type": "stream",
     "text": [
      "Median absolute fractional error, using best linear model of my initial kind = 37.4%\n"
     ]
    }
   ],
   "source": [
    "pipe_LM, score_LM = do_final_fit(X_train, y_train, X_test, y_test, \n",
    "                                 LinearRegression(), 0.001)\n",
    "print(f\"Median absolute fractional error, using best linear model of my initial kind = {score_LM:.3g}%\")"
   ]
  },
  {
   "cell_type": "code",
   "execution_count": 162,
   "id": "08f6fc56-4666-4c5a-a39f-b8f3f42b6687",
   "metadata": {},
   "outputs": [
    {
     "name": "stdout",
     "output_type": "stream",
     "text": [
      "Median absolute fractional error, using best \"smaller linear model\" = 32.7%\n"
     ]
    }
   ],
   "source": [
    "pipe_SLM, score_SLM = do_final_fit(X_small_train, y_small_train, X_small_test, y_small_test, \n",
    "                                 LinearRegression(), 0)\n",
    "print(f\"Median absolute fractional error, using best \\\"smaller linear model\\\" = {score_SLM:.3g}%\")"
   ]
  },
  {
   "cell_type": "code",
   "execution_count": 163,
   "id": "e9c7baef-ba06-4ad3-9e2a-c3ab52df2d1b",
   "metadata": {},
   "outputs": [
    {
     "name": "stdout",
     "output_type": "stream",
     "text": [
      "Median absolute fractional error, using best \"small linear model\" = 33%\n"
     ]
    }
   ],
   "source": [
    "pipe_EN, score_EN = do_final_fit(X_small_train, y_small_train, X_small_test, y_small_test, \n",
    "                                 ElasticNet(), 0)\n",
    "print(f\"Median absolute fractional error, using best \\\"small linear model\\\" = {score_EN:.3g}%\")"
   ]
  },
  {
   "cell_type": "code",
   "execution_count": 208,
   "id": "dd05a577-323a-429f-8db7-fb06e962fe49",
   "metadata": {},
   "outputs": [
    {
     "name": "stdout",
     "output_type": "stream",
     "text": [
      "Median absolute fractional error, using best k-nearest neighbors model = 20.6%\n"
     ]
    }
   ],
   "source": [
    "pipe_KNN, score_KNN = do_final_fit(X_train, y_train, X_test, y_test, \n",
    "                                 KNeighborsRegressor(n_neighbors=3,\n",
    "                                                     weights='distance', p=1), 0.05)\n",
    "print(f\"Median absolute fractional error, using best k-nearest neighbors model = {score_KNN:.3g}%\")"
   ]
  },
  {
   "cell_type": "code",
   "execution_count": 169,
   "id": "d11aeaf9-92b6-4aef-8733-32c7cf0ba14b",
   "metadata": {},
   "outputs": [
    {
     "name": "stdout",
     "output_type": "stream",
     "text": [
      "Median absolute fractional error, using best random forest model = 23.2%\n"
     ]
    }
   ],
   "source": [
    "pipe_RF, score_RF = do_final_fit(X_train, y_train, X_test, y_test, \n",
    "                                 RandomForestRegressor(n_estimators=10,\n",
    "                                                       criterion='absolute_error',\n",
    "                                                       random_state=42), 0)\n",
    "print(f\"Median absolute fractional error, using best random forest model = {score_RF:.3g}%\")"
   ]
  },
  {
   "cell_type": "markdown",
   "id": "427e33ee-014f-42b5-a15f-17326c7c1dd0",
   "metadata": {},
   "source": [
    "My best model, as judged by the median fractional error, is a k-nearest neighbors model with\n",
    "3 neighbors, points weighted by the inverse of their distance, and using the taxicab metric as opposed to the Euclidean metric. I think it's a reasonable attempt at a pricing model for a short project; for 50% of listings in the test set, it's off from the true listed price by less than 21%."
   ]
  },
  {
   "cell_type": "markdown",
   "id": "8e7b18d5-0871-4d57-82d7-1964c43bf5ce",
   "metadata": {},
   "source": [
    "To deploy the model, I first train it on the full set of data (train and test):"
   ]
  },
  {
   "cell_type": "code",
   "execution_count": 53,
   "id": "bd467e5c-4ce5-4fc7-918f-fe9c74d879fc",
   "metadata": {},
   "outputs": [
    {
     "data": {
      "text/plain": [
       "Pipeline(steps=[('standardscaler', StandardScaler()),\n",
       "                ('kneighborsregressor',\n",
       "                 KNeighborsRegressor(p=1, weights='distance'))])"
      ]
     },
     "execution_count": 53,
     "metadata": {},
     "output_type": "execute_result"
    }
   ],
   "source": [
    "cutoff = 0.05\n",
    "X_cutoff = X.iloc[:, np.where(np.abs(X.sum()/len(X)) > cutoff)[0]]\n",
    "cols_after_cutoff = X_cutoff.columns\n",
    "pipe_deployed = make_pipeline(StandardScaler(), \n",
    "                     KNeighborsRegressor(weights='distance', p=1))\n",
    "pipe_deployed.fit(X_cutoff, y)"
   ]
  },
  {
   "cell_type": "markdown",
   "id": "01ffe7be-1798-4e92-a873-d98cdcb6e422",
   "metadata": {},
   "source": [
    "To make predictions on new data, I need to prepare the data as I prepared X. It will be useful to have a pipeline to do this. The following function, `data_prep_pipeline`, takes a csv file with listings I want to price and generates the fully cleaned X matrix with all features."
   ]
  },
  {
   "cell_type": "code",
   "execution_count": 180,
   "id": "7c5ccbf2-bfc0-4f16-950b-2b0059de2c71",
   "metadata": {},
   "outputs": [],
   "source": [
    "def data_prep_pipeline(csv_file):\n",
    "    \n",
    "    listings = pd.read_csv(csv_file)\n",
    "    # Drop columns that were all NA in X\n",
    "    listings.drop(columns=listings_na_cols, inplace=True)\n",
    "    # Deal with percent signs in some columns\n",
    "    listings['host_response_rate'] = listings.apply(lambda x: \n",
    "                                                    float(x['host_response_rate'].\n",
    "                                                          replace('%','')) if \n",
    "                                                    pd.notnull(x['host_response_rate'])\n",
    "                                                    else x['host_response_rate'], axis=1)\n",
    "    listings['host_acceptance_rate'] = listings.apply(lambda x: \n",
    "                                                      float(x['host_acceptance_rate'].\n",
    "                                                            replace('%','')) if \n",
    "                                                      pd.notnull(x['host_acceptance_rate']) \n",
    "                                                      else x['host_acceptance_rate'],\n",
    "                                                      axis=1)\n",
    "\n",
    "    # Create X by removing the 'price' field\n",
    "    X = listings.drop('price', axis=1)\n",
    "\n",
    "    # Convert timestamps to lengths of time\n",
    "    for col in ['host_since', 'first_review', 'last_review']:\n",
    "        X[col] = pd.to_datetime(X['last_scraped']) - pd.to_datetime(X[col])\n",
    "        X[col] = X.apply(lambda x: x[col].days, axis=1)\n",
    "\n",
    "    # Drop irrelevent features\n",
    "    to_drop = ['id', 'listing_url', 'scrape_id', 'last_scraped', 'name']\n",
    "    to_drop += ['description', 'neighborhood_overview', 'picture_url', 'host_id']\n",
    "    to_drop += ['host_url', 'host_name', 'host_about', 'host_thumbnail_url']\n",
    "    to_drop += ['host_picture_url', 'license', 'calendar_last_scraped']\n",
    "    X.drop(labels=to_drop, axis=1, inplace=True)\n",
    "\n",
    "    # Make the 'host_verifications' and 'amenities' columns into lists\n",
    "    # instead of strings\n",
    "    X['host_verifications'] = X.apply(lambda x: x['host_verifications'].replace('[','').\n",
    "                                      replace(']','').replace('\\'','').split(', '), axis=1)\n",
    "    X['amenities'] = X.apply(lambda x: x['amenities'].replace('\\\"','').replace('[','').\n",
    "                             replace(']','').split(', '), axis=1)\n",
    "    \n",
    "    # I found the distinct `host_verifications` options in the Data Preparation\n",
    "    # section. Now I can use a `MultiLabelBinarizer` to make a dummy column\n",
    "    # for each option in `host_verifications`\n",
    "    mlb_hv = MultiLabelBinarizer()\n",
    "    mlb_hv.fit([distinct_host_verifications])\n",
    "    hv_df = pd.DataFrame(mlb_hv.transform(X['host_verifications']), \n",
    "                      columns=mlb_hv.classes_, index=X.index)\n",
    "    X = pd.concat([X, hv_df], axis=1)\n",
    "    X.rename(columns={'None' : 'HV_None'}, inplace=True)\n",
    "    X.drop('host_verifications', axis=1, inplace=True)\n",
    "    \n",
    "    # I found the top 20 amenities in my Data Preparation section above,\n",
    "    # and defined `find_amenities(x)` to take a row x and keep only the \n",
    "    # amenities that are in the top 20\n",
    "    X['amenities'] = X.apply(lambda x: find_amenities(x), axis=1)\n",
    "    \n",
    "    # In the same way as `host_verifications`, now split the different\n",
    "    # amenities into their own dummy variables\n",
    "    mlb_amenities = MultiLabelBinarizer()\n",
    "    mlb_amenities.fit([top_20_amenities])\n",
    "    amenities_df = pd.DataFrame(mlb_amenities.transform(X['amenities']),\n",
    "                                columns=mlb_amenities.classes_, index=X.index)\n",
    "    X = pd.concat([X, amenities_df], axis=1)\n",
    "    X.drop('amenities', axis=1, inplace=True)\n",
    "    \n",
    "    # Now get dummy variables for the rest of the categorical features\n",
    "    # I created `one_hot` in the Data Preparation section\n",
    "    X_cat = X[cat_columns].copy()\n",
    "    X_cat.fillna(value=\"NA\", inplace=True)\n",
    "    X_onehot = pd.DataFrame(one_hot.transform(X_cat),\n",
    "                            columns=one_hot.get_feature_names_out(),\n",
    "                           index = X.index)\n",
    "    X.drop(columns=cat_columns, inplace=True)\n",
    "    X = pd.concat([X, X_onehot], axis=1)\n",
    "    \n",
    "    # For numerical features that are NA, impute using the column means from X\n",
    "    X.fillna(value=X_col_means, inplace=True)\n",
    "    \n",
    "    return X"
   ]
  },
  {
   "cell_type": "markdown",
   "id": "f38effd5-2a7a-4c5a-b580-887c930750df",
   "metadata": {},
   "source": [
    "Finally, I use the fitted model from above, `pipe_deployed`, and the appropriate columns of X, `cols_after_cutoff`, for that fitted model to make the price prediction."
   ]
  },
  {
   "cell_type": "code",
   "execution_count": 184,
   "id": "2f13aa00-3f0e-4a37-a553-ccd6bd3f3cff",
   "metadata": {},
   "outputs": [],
   "source": [
    "def predict_price(X, pipe_deployed, cols_after_cutoff):\n",
    "    X_cutoff = X[cols_after_cutoff]\n",
    "    price = pipe_deployed.predict(X_cutoff)[0]\n",
    "    return price"
   ]
  },
  {
   "cell_type": "markdown",
   "id": "1de62556-201a-4985-90a2-4ed47f978997",
   "metadata": {},
   "source": [
    "Now let's say I bought a property in Chicago that I want to list on Airbnb. What should I price it to be in line with typical prices for such a property?\n",
    "\n",
    "My hypothetical property is a rental unit with two bedrooms and two bathrooms. It can accommodate four people (one bed per room), is in Hyde Park, and has reasonable amenities. I might guess I should price it around USD 200 per night."
   ]
  },
  {
   "cell_type": "code",
   "execution_count": 187,
   "id": "9b44c98b-8201-46ef-9b53-6353ffac181d",
   "metadata": {},
   "outputs": [],
   "source": [
    "X_my = data_prep_pipeline('my_listing.csv')"
   ]
  },
  {
   "cell_type": "code",
   "execution_count": 188,
   "id": "aae7bce5-4df4-43e4-a190-ba4dba375a91",
   "metadata": {
    "tags": []
   },
   "outputs": [
    {
     "data": {
      "text/plain": [
       "245.4280281239614"
      ]
     },
     "execution_count": 188,
     "metadata": {},
     "output_type": "execute_result"
    }
   ],
   "source": [
    "predict_price(X_my, pipe_deployed, cols_after_cutoff)"
   ]
  },
  {
   "cell_type": "markdown",
   "id": "39bd3417-999b-48fc-b26d-04820ab45289",
   "metadata": {},
   "source": [
    "So according to my best model, to be in line with typical pricing strategy, I should price my apartment at about USD 245 per night, just a little higher than what I expected."
   ]
  },
  {
   "cell_type": "markdown",
   "id": "0fe7ebd3-63b4-4f40-b21c-18159795b7df",
   "metadata": {},
   "source": [
    "Finding the **best** price for a given night, i.e. the one that maximizes the expected return (the price times the probability that it is booked that night) is a different problem. It seems to me that a significantly more sophisticated model would need to be developed to do this in a reasonable way throughout the year - perhaps a good future project."
   ]
  }
 ],
 "metadata": {
  "kernelspec": {
   "display_name": "Python 3 (ipykernel)",
   "language": "python",
   "name": "python3"
  },
  "language_info": {
   "codemirror_mode": {
    "name": "ipython",
    "version": 3
   },
   "file_extension": ".py",
   "mimetype": "text/x-python",
   "name": "python",
   "nbconvert_exporter": "python",
   "pygments_lexer": "ipython3",
   "version": "3.8.12"
  }
 },
 "nbformat": 4,
 "nbformat_minor": 5
}
