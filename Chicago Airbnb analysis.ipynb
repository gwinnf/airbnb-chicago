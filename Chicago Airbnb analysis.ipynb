{
 "cells": [
  {
   "cell_type": "code",
   "execution_count": 128,
   "id": "35ea7d6e-99e9-4931-a0db-5b62c080401d",
   "metadata": {},
   "outputs": [],
   "source": [
    "import pandas as pd\n",
    "import numpy as np\n",
    "from sklearn.model_selection import train_test_split\n",
    "from sklearn.linear_model import LinearRegression\n",
    "from sklearn.pipeline import make_pipeline\n",
    "from sklearn.preprocessing import StandardScaler\n",
    "import matplotlib.pyplot as plt\n",
    "import seaborn as sns\n",
    "from sklearn.metrics import median_absolute_error\n",
    "from sklearn.metrics import make_scorer\n",
    "from sklearn.model_selection import cross_val_score\n",
    "from sklearn.model_selection import cross_val_predict\n",
    "from sklearn.model_selection import cross_validate"
   ]
  },
  {
   "cell_type": "markdown",
   "id": "c9317c34-294f-45a9-bf8d-af3bb483778f",
   "metadata": {},
   "source": [
    "## Introduction"
   ]
  },
  {
   "cell_type": "markdown",
   "id": "262914ef-7869-4fed-a686-8fe3e7a7b509",
   "metadata": {},
   "source": [
    "Here are some possible business questions:\n",
    "\n",
    "- What factors contribute most heavily to the price? \n",
    "    - Make a model to predict the price - one that's interpretable and perhaps one (like a neural network) that's not interpretable but does a better job of price prediction.\n",
    "    - Which listings are underpriced, meaning that the host could make more money by increasing the price, or travelers can get a good deal by booking them?\n",
    "    - Perhaps extend beyond predicting only base prices to predicting prices at different times of year.\n",
    "- What should those listings with poor overall review scores do in order to get better reviews in the future?\n",
    "- What can we discern about the character of each neighborhood using the descriptions?"
   ]
  },
  {
   "cell_type": "code",
   "execution_count": 2,
   "id": "78bf8b5d-1748-4048-b13a-1bdd0d20ac24",
   "metadata": {},
   "outputs": [],
   "source": [
    "listings = pd.read_csv(\"listings.csv\")\n",
    "calendar = pd.read_csv(\"calendar.csv\")"
   ]
  },
  {
   "cell_type": "markdown",
   "id": "6f4987c3-2fc6-4dad-8eea-5576531dd28c",
   "metadata": {},
   "source": [
    "Definitions for many (though not all) of the fields can be found [here](https://docs.google.com/spreadsheets/d/1iWCNJcSutYqpULSQHlNyGInUvHg2BoUGoNRIGa6Szc4/edit#gid=982310896)."
   ]
  },
  {
   "cell_type": "markdown",
   "id": "8025aaaa-b151-4fca-98b7-332d406373c0",
   "metadata": {},
   "source": [
    "Drop columns that have all `NA` values."
   ]
  },
  {
   "cell_type": "code",
   "execution_count": 3,
   "id": "358ae4a7-389c-4d41-9ad6-33f70f44c85f",
   "metadata": {},
   "outputs": [],
   "source": [
    "for df in [listings, calendar]:\n",
    "    df.dropna(axis=1, how='all', inplace=True)"
   ]
  },
  {
   "cell_type": "markdown",
   "id": "9fe63894-e9c5-49ea-8a3c-a07800214ca2",
   "metadata": {},
   "source": [
    "Drop rows in `listings` that have `NA` in the `price` field, and do the same for the `price` and `adjusted_price` fields in `calendar`."
   ]
  },
  {
   "cell_type": "code",
   "execution_count": 4,
   "id": "8ffeaf67-1012-461c-8b30-16f26027b0f2",
   "metadata": {},
   "outputs": [],
   "source": [
    "listings.dropna(subset=['price'], inplace=True)\n",
    "calendar.dropna(subset=['price', 'adjusted_price'], inplace=True)"
   ]
  },
  {
   "cell_type": "markdown",
   "id": "c335c87d-41ed-46b5-a22a-38f04705d102",
   "metadata": {},
   "source": [
    "Observe that a dollar sign preceeds the number in several columns; I will remove this so that the field is treated as numeric."
   ]
  },
  {
   "cell_type": "code",
   "execution_count": 5,
   "id": "3de6e499-bdaf-492e-8035-a35557e73e5b",
   "metadata": {},
   "outputs": [],
   "source": [
    "listings['price'] = listings.apply((lambda x: x['price'].replace('$','').replace(',','')), axis=1)\n",
    "calendar['price'] = calendar.apply((lambda x: x['price'].replace('$','').replace(',','')), axis=1)\n",
    "calendar['adjusted_price'] = calendar.apply((lambda x: x['adjusted_price'].replace('$','').replace(',','')), axis=1)"
   ]
  },
  {
   "cell_type": "markdown",
   "id": "512e304f-e680-480e-b22b-febea49717c5",
   "metadata": {},
   "source": [
    "The price should be greater than zero. I'll drop all rows where this is not the case."
   ]
  },
  {
   "cell_type": "code",
   "execution_count": 6,
   "id": "e41445b3-add9-4fe9-b68a-2ae7242771dd",
   "metadata": {},
   "outputs": [],
   "source": [
    "listings['price'] = listings['price'].astype(np.float64)\n",
    "calendar['price'] = calendar['price'].astype(np.float64)\n",
    "calendar['adjusted_price'] = calendar['adjusted_price'].astype(np.float64)"
   ]
  },
  {
   "cell_type": "code",
   "execution_count": 7,
   "id": "2600e0b6-2135-4db5-a17d-324402406a43",
   "metadata": {},
   "outputs": [],
   "source": [
    "listings.drop(listings.loc[listings['price'] <= 0].index, inplace=True)"
   ]
  },
  {
   "cell_type": "markdown",
   "id": "a54bfd3c-ed31-4a89-8085-f9a92cccafcd",
   "metadata": {},
   "source": [
    "Similarly, some of the fields are expressed as percentages; I will remove the percent signs and change the entries to floats."
   ]
  },
  {
   "cell_type": "code",
   "execution_count": 8,
   "id": "d2b83a07-5d03-491e-b74a-a976bc3c23df",
   "metadata": {},
   "outputs": [],
   "source": [
    "listings['host_response_rate'] = listings.apply(lambda x: float(x['host_response_rate'].replace('%','')) if pd.notnull(x['host_response_rate']) else x['host_response_rate'], axis=1)\n",
    "listings['host_acceptance_rate'] = listings.apply(lambda x: float(x['host_acceptance_rate'].replace('%','')) if pd.notnull(x['host_acceptance_rate']) else x['host_acceptance_rate'], axis=1)"
   ]
  },
  {
   "cell_type": "markdown",
   "id": "762eaa6d-f6d4-40bf-8d20-73f98032cc5d",
   "metadata": {},
   "source": [
    "# 1. Price prediction"
   ]
  },
  {
   "cell_type": "markdown",
   "id": "2529071f-bfef-4ad1-a3b8-941a6320acc2",
   "metadata": {},
   "source": [
    "## Data preparation"
   ]
  },
  {
   "cell_type": "markdown",
   "id": "ee71bd5f-aa5f-4c23-a05f-b99e3b4aa96d",
   "metadata": {},
   "source": [
    "Split into `X` and `y`."
   ]
  },
  {
   "cell_type": "code",
   "execution_count": 9,
   "id": "4ef4ef4b-d851-4f12-8aea-241256a44cfd",
   "metadata": {},
   "outputs": [],
   "source": [
    "X = listings.drop('price', axis=1)\n",
    "y = listings['price']"
   ]
  },
  {
   "cell_type": "markdown",
   "id": "dd175db8-e611-496d-9a17-0f1483329d25",
   "metadata": {},
   "source": [
    "I also need to deal with dates appropriately. The relevant columns are `host_since`, `first_review`, and `last_review`. I could scrap these columns altogether, but it might be useful to know the length of time since the date for each row. "
   ]
  },
  {
   "cell_type": "code",
   "execution_count": 10,
   "id": "89443ae0-4882-40db-a358-f1c5a34b70cf",
   "metadata": {},
   "outputs": [],
   "source": [
    "for col in ['host_since', 'first_review', 'last_review']:\n",
    "    X[col] = pd.to_datetime(X['last_scraped']) - pd.to_datetime(X[col])\n",
    "    X[col] = X.apply(lambda x: x[col].days, axis=1)"
   ]
  },
  {
   "cell_type": "markdown",
   "id": "2aa503c8-f71e-490f-b5dc-6d6b8e3bcb04",
   "metadata": {},
   "source": [
    "Certain columns in `X` are not useful for prediction (for example, URLs), and should be removed."
   ]
  },
  {
   "cell_type": "code",
   "execution_count": 11,
   "id": "abd1ca9d-c86b-401f-bcec-07451c24b1ae",
   "metadata": {},
   "outputs": [],
   "source": [
    "to_drop = ['id', 'listing_url', 'scrape_id', 'last_scraped', 'name']\n",
    "to_drop += ['description', 'neighborhood_overview', 'picture_url', 'host_id']\n",
    "to_drop += ['host_url', 'host_name', 'host_about', 'host_thumbnail_url']\n",
    "to_drop += ['host_picture_url', 'license', 'calendar_last_scraped']\n",
    "X.drop(labels=to_drop, axis=1, inplace=True)"
   ]
  },
  {
   "cell_type": "markdown",
   "id": "8d9d2727-84b3-4e33-85f0-e3e11210659c",
   "metadata": {},
   "source": [
    "Certain columns (`host_verifications` and `amenities`) are lists of options; I'd like to split these into different columns."
   ]
  },
  {
   "cell_type": "markdown",
   "id": "e5b3b9a0-3141-4910-8b72-02e4bc6290d2",
   "metadata": {},
   "source": [
    "The first step is to change these entries into actual Python lists instead of strings (annoyingly, the two relevant columns are formatted slightly differently, with the roles of single and double quotes being interchanged between them)."
   ]
  },
  {
   "cell_type": "code",
   "execution_count": 12,
   "id": "9cbc2268-3648-407e-9621-6627c55b79ba",
   "metadata": {},
   "outputs": [],
   "source": [
    "X['host_verifications'] = X.apply(lambda x: x['host_verifications'].replace('[','').replace(']','').replace('\\'','').split(', '), axis=1)"
   ]
  },
  {
   "cell_type": "code",
   "execution_count": 13,
   "id": "e2e6b600-ea6b-4d4a-8603-bf5bc1234809",
   "metadata": {},
   "outputs": [],
   "source": [
    "X['amenities'] = X.apply(lambda x: x['amenities'].replace('\\\"','').replace('[','').replace(']','').split(', '), axis=1)"
   ]
  },
  {
   "cell_type": "markdown",
   "id": "2698ee50-43e7-41f8-99f3-ee4997ff33dc",
   "metadata": {},
   "source": [
    "What are the possible values in the `host_verifications` lists?"
   ]
  },
  {
   "cell_type": "code",
   "execution_count": 14,
   "id": "aaa0c652-b32e-4415-a36f-64faa1dbd4bd",
   "metadata": {},
   "outputs": [],
   "source": [
    "distinct_host_verifications = set()\n",
    "def find_distinct_hvs(x):\n",
    "    for hv in x['host_verifications']:\n",
    "        distinct_host_verifications.add(hv)\n",
    "X.apply(lambda x: find_distinct_hvs(x), axis=1);"
   ]
  },
  {
   "cell_type": "code",
   "execution_count": 15,
   "id": "e92d30df-fea2-4509-9e8d-15234493020e",
   "metadata": {},
   "outputs": [
    {
     "data": {
      "text/plain": [
       "20"
      ]
     },
     "execution_count": 15,
     "metadata": {},
     "output_type": "execute_result"
    }
   ],
   "source": [
    "len(distinct_host_verifications)"
   ]
  },
  {
   "cell_type": "markdown",
   "id": "b1ab83f9-5fe1-4813-a6a8-d13d7b87124f",
   "metadata": {},
   "source": [
    "The `MultiLabelBinarizer` in `sklearn` works for splitting the lists into their individual elements, and then creating a dummy variable for each one (I started to write this myself, and then found that this convenient function exists in sklearn!)."
   ]
  },
  {
   "cell_type": "code",
   "execution_count": 16,
   "id": "cd2a7883-4c4a-40fe-9e39-eaf06186ffd2",
   "metadata": {},
   "outputs": [],
   "source": [
    "from sklearn.preprocessing import MultiLabelBinarizer"
   ]
  },
  {
   "cell_type": "code",
   "execution_count": 17,
   "id": "031dfc2f-bfc9-4fda-bef9-0785073a13af",
   "metadata": {},
   "outputs": [],
   "source": [
    "m = MultiLabelBinarizer()\n",
    "hv_df = pd.DataFrame(m.fit_transform(X['host_verifications']), columns=m.classes_, index=X.index)"
   ]
  },
  {
   "cell_type": "code",
   "execution_count": 18,
   "id": "7a336ddf-3712-4513-bbba-690f829a4f60",
   "metadata": {},
   "outputs": [],
   "source": [
    "X = pd.concat([X, hv_df], axis=1)"
   ]
  },
  {
   "cell_type": "code",
   "execution_count": 19,
   "id": "c3a9a3c3-9808-4ec2-80ab-e1c1ac172735",
   "metadata": {},
   "outputs": [],
   "source": [
    "X.rename(columns={'None' : 'HV_None'}, inplace=True)\n",
    "# I don't want a column to be called just 'None', so I changed it a bit"
   ]
  },
  {
   "cell_type": "markdown",
   "id": "06806fd4-6a80-42d8-8140-6baadd78cd41",
   "metadata": {},
   "source": [
    "Now I can drop the original `host_verifications` column."
   ]
  },
  {
   "cell_type": "code",
   "execution_count": 20,
   "id": "985685e2-1c99-4e74-887b-4f88c3fee6ac",
   "metadata": {},
   "outputs": [],
   "source": [
    "X.drop('host_verifications', axis=1, inplace=True)"
   ]
  },
  {
   "cell_type": "markdown",
   "id": "e40c2804-9179-4d19-ae71-d3ad79442f0e",
   "metadata": {},
   "source": [
    "Now I'd like to do the same for the `amenities` column. What are the possible values in those lists?"
   ]
  },
  {
   "cell_type": "code",
   "execution_count": 21,
   "id": "4d6ccb94-e610-4048-92c9-3158e4501f7f",
   "metadata": {},
   "outputs": [
    {
     "data": {
      "text/plain": [
       "976"
      ]
     },
     "execution_count": 21,
     "metadata": {},
     "output_type": "execute_result"
    }
   ],
   "source": [
    "distinct_amenities = set()\n",
    "def find_distinct_amenities(x):\n",
    "    for a in x['amenities']:\n",
    "        distinct_amenities.add(a)\n",
    "X.apply(lambda x: find_distinct_amenities(x), axis=1)\n",
    "len(distinct_amenities)"
   ]
  },
  {
   "cell_type": "markdown",
   "id": "3fe76a8f-72c9-4a6f-b8f8-903527f634a9",
   "metadata": {},
   "source": [
    "Ok, that's a lot of amenities. I don't really want to vastly blow up the number of features like this, so I'll just take the 20 most popular amenities."
   ]
  },
  {
   "cell_type": "code",
   "execution_count": 22,
   "id": "0af64618-da78-4bd1-a9fe-efb55ac6b336",
   "metadata": {},
   "outputs": [],
   "source": [
    "from collections import defaultdict\n",
    "from operator import itemgetter"
   ]
  },
  {
   "cell_type": "code",
   "execution_count": 23,
   "id": "651e483a-62bd-4d0b-a686-ec5994a2a95e",
   "metadata": {},
   "outputs": [],
   "source": [
    "amenity_counts = defaultdict(int) # Initializes to zero for each value\n",
    "def update_counts(x):\n",
    "    for a in x['amenities']:\n",
    "        amenity_counts[a] += 1\n",
    "X.apply(lambda x: update_counts(x), axis=1);"
   ]
  },
  {
   "cell_type": "code",
   "execution_count": 24,
   "id": "b6daa5a2-d820-4e4a-8d8a-0ef75ff9eddd",
   "metadata": {},
   "outputs": [],
   "source": [
    "top_20 = sorted(amenity_counts.items(), key=itemgetter(1), reverse=True)[:20]"
   ]
  },
  {
   "cell_type": "code",
   "execution_count": 25,
   "id": "362ec2af-4d26-4a02-9a11-04fb13484edd",
   "metadata": {},
   "outputs": [
    {
     "data": {
      "text/plain": [
       "[('Smoke alarm', 6357),\n",
       " ('Essentials', 6185),\n",
       " ('Wifi', 6141),\n",
       " ('Kitchen', 5930),\n",
       " ('Carbon monoxide alarm', 5924)]"
      ]
     },
     "execution_count": 25,
     "metadata": {},
     "output_type": "execute_result"
    }
   ],
   "source": [
    "top_20[:5]"
   ]
  },
  {
   "cell_type": "code",
   "execution_count": 26,
   "id": "825e5a75-214c-4b69-8f64-1548e80240e4",
   "metadata": {},
   "outputs": [],
   "source": [
    "top_20_amenities = dict(top_20).keys()"
   ]
  },
  {
   "cell_type": "markdown",
   "id": "097030e8-d085-40e1-9906-7ac2372b23d6",
   "metadata": {},
   "source": [
    "Now I want to get rid of the other amenities in each row."
   ]
  },
  {
   "cell_type": "code",
   "execution_count": 27,
   "id": "e0d24ed5-1792-451f-b023-74f75c5cf076",
   "metadata": {},
   "outputs": [],
   "source": [
    "def find_amenities(x):\n",
    "    amenities = []\n",
    "    for a in top_20_amenities:\n",
    "        if a in x['amenities']:\n",
    "            amenities.append(a)\n",
    "    return amenities"
   ]
  },
  {
   "cell_type": "code",
   "execution_count": 28,
   "id": "ace5a3dc-9d0d-4a22-8fbf-25df50d81aae",
   "metadata": {},
   "outputs": [],
   "source": [
    "X['amenities'] = X.apply(lambda x: find_amenities(x), axis=1)"
   ]
  },
  {
   "cell_type": "markdown",
   "id": "4a323e83-1fed-49c0-b587-6736d9afe595",
   "metadata": {},
   "source": [
    "Now I can create the dummy variables and drop the original `amenities` column."
   ]
  },
  {
   "cell_type": "code",
   "execution_count": 29,
   "id": "ad38d0f0-6d9c-4b1d-aaad-cc7ed46a3fbf",
   "metadata": {},
   "outputs": [],
   "source": [
    "m = MultiLabelBinarizer()\n",
    "amenities_df = pd.DataFrame(m.fit_transform(X['amenities']), columns=m.classes_, index=X.index)\n",
    "X = pd.concat([X, amenities_df], axis=1)\n",
    "X.drop('amenities', axis=1, inplace=True)"
   ]
  },
  {
   "cell_type": "markdown",
   "id": "d6c06354-e477-4543-89e1-4699e36f6a91",
   "metadata": {},
   "source": [
    "Next, I'll get dummies for the rest of the categorical variables."
   ]
  },
  {
   "cell_type": "code",
   "execution_count": 30,
   "id": "9f84187d-94a2-43a2-8212-e215ca63ca30",
   "metadata": {},
   "outputs": [],
   "source": [
    "X = pd.get_dummies(X, drop_first=True)"
   ]
  },
  {
   "cell_type": "markdown",
   "id": "0d185560-d92e-49db-a295-4681e34eb102",
   "metadata": {},
   "source": [
    "I need to deal with `NA` values for the numeric columns. There's no totally ideal way to do this, but to move forward I'll impute using the mean."
   ]
  },
  {
   "cell_type": "code",
   "execution_count": 31,
   "id": "e85ab9a0-c9be-4d7a-8b32-5410ca8324e2",
   "metadata": {},
   "outputs": [],
   "source": [
    "fill_mean = lambda col: col.fillna(col.mean())\n",
    "X = X.apply(fill_mean)"
   ]
  },
  {
   "cell_type": "markdown",
   "id": "a9596876-2e70-4ef9-a1bc-755a51ea7dfa",
   "metadata": {},
   "source": [
    "## Modeling and Evaluation"
   ]
  },
  {
   "cell_type": "markdown",
   "id": "ebd5432b-5517-4174-99f0-641986cd20b9",
   "metadata": {},
   "source": [
    "Split into train and test sets."
   ]
  },
  {
   "cell_type": "code",
   "execution_count": 32,
   "id": "809bfad5-caf5-4012-bda6-e3296bb54665",
   "metadata": {},
   "outputs": [],
   "source": [
    "X_train, X_test, y_train, y_test = train_test_split(\n",
    "    X, y, test_size=0.3, random_state=42)"
   ]
  },
  {
   "cell_type": "markdown",
   "id": "54133241-01e7-4989-b144-3f01d36f4c52",
   "metadata": {},
   "source": [
    "Now, don't touch the test set until the end (use cross-validation to evaluate models before then). I don't want to bias myself by picking up patterns in the test set."
   ]
  },
  {
   "cell_type": "markdown",
   "id": "0ced05b5-f4af-4ac9-a8bc-4fd66a6c401d",
   "metadata": {},
   "source": [
    "It will be useful for me to have a validation set (e.g. for plotting results to get a handle on what's going on) that I can access explicitly, instead of just the ones that `cross_val_score` uses in the course of its execution."
   ]
  },
  {
   "cell_type": "code",
   "execution_count": 33,
   "id": "92a8c449-0541-4730-915e-0f1d190717b2",
   "metadata": {},
   "outputs": [],
   "source": [
    "X_val_train, X_val, y_val_train, y_val = train_test_split(\n",
    "    X_train, y_train, test_size=0.3, random_state=42)"
   ]
  },
  {
   "cell_type": "markdown",
   "id": "adbe2dbb-d1e1-472e-992a-2caa43d9b3dc",
   "metadata": {
    "tags": []
   },
   "source": [
    "### Linear Model"
   ]
  },
  {
   "cell_type": "markdown",
   "id": "5fed8f30-b2eb-44c9-82f4-38368e44542f",
   "metadata": {},
   "source": [
    "Instantiate the model, including normalization in the pipeline:"
   ]
  },
  {
   "cell_type": "code",
   "execution_count": 34,
   "id": "ce67ff65-745c-4bd4-9af7-624d6c2911ab",
   "metadata": {},
   "outputs": [],
   "source": [
    "pipe = make_pipeline(StandardScaler(), LinearRegression())"
   ]
  },
  {
   "cell_type": "code",
   "execution_count": 35,
   "id": "672331e7-e0ac-4ad7-b5a2-340922fc7859",
   "metadata": {},
   "outputs": [
    {
     "name": "stdout",
     "output_type": "stream",
     "text": [
      "Scores:\n",
      "[-7.40014071e+27 -4.95586292e+24 -9.25731042e+25 -1.48315083e+28\n",
      " -1.14712826e+29]\n",
      "Mean = -2.74e+28, Standard Error = 1.97e+28\n"
     ]
    }
   ],
   "source": [
    "scores = cross_val_score(pipe, X, y)\n",
    "print(\"Scores:\")\n",
    "print(scores)\n",
    "print(f\"Mean = {scores.mean():.3g}, Standard Error = {scores.std()/np.sqrt(5):.3g}\")"
   ]
  },
  {
   "cell_type": "markdown",
   "id": "513845fb-2adc-4069-8e50-e02ae6cee404",
   "metadata": {},
   "source": [
    "Score the model on the validation set:"
   ]
  },
  {
   "cell_type": "code",
   "execution_count": 36,
   "id": "0a7e45fc-824c-426e-ba10-1cc62347d4da",
   "metadata": {},
   "outputs": [
    {
     "data": {
      "text/plain": [
       "-4.154608976954608e+27"
      ]
     },
     "execution_count": 36,
     "metadata": {},
     "output_type": "execute_result"
    }
   ],
   "source": [
    "pipe.fit(X_val_train, y_val_train)\n",
    "pipe.score(X_val, y_val)"
   ]
  },
  {
   "cell_type": "code",
   "execution_count": 37,
   "id": "c665962a-a675-403d-8eb5-17d1ebfde8bc",
   "metadata": {},
   "outputs": [],
   "source": [
    "y_pred = pipe.predict(X_val)"
   ]
  },
  {
   "cell_type": "code",
   "execution_count": 38,
   "id": "847aa727-e8b4-4499-949b-b77bb2542fd9",
   "metadata": {},
   "outputs": [
    {
     "data": {
      "image/png": "[encoded data removed]",
      "text/plain": [
       "<Figure size 432x288 with 1 Axes>"
      ]
     },
     "metadata": {
      "needs_background": "light"
     },
     "output_type": "display_data"
    }
   ],
   "source": [
    "plt.plot(np.abs(y_val - y_pred), 'o')\n",
    "plt.ylabel('Absolute error in price prediction (USD)')\n",
    "plt.show()"
   ]
  },
  {
   "cell_type": "markdown",
   "id": "3001ecbe-7603-46d3-8061-6eabd7ac578b",
   "metadata": {},
   "source": [
    "Clearly some of the predictions are enormous and completely unreasonable. I think I need to aggressively get rid of features to correct this - I have way too many irrelevant categorical variables."
   ]
  },
  {
   "cell_type": "code",
   "execution_count": 129,
   "id": "cb9912b5-88eb-4e9d-ad8d-4ff73e8d4483",
   "metadata": {},
   "outputs": [],
   "source": [
    "def fit_model(X, y, model, cutoff=False, return_X_cutoff=False):\n",
    "    pipe = make_pipeline(StandardScaler(), model)\n",
    "    if cutoff is False:\n",
    "        cutoff = -1\n",
    "    # Only keep features for which the average absolute value\n",
    "    # over all samples exceeds some cutoff\n",
    "    to_keep = np.where(np.abs(X.sum()/len(X)) > cutoff)[0]\n",
    "    X_cutoff = X.iloc[:, to_keep]\n",
    "    y_pred = cross_val_predict(pipe, X_cutoff, y)\n",
    "    #pipe.fit(X_cutoff, y)\n",
    "    if return_X_cutoff:\n",
    "        return y_pred, X_cutoff\n",
    "    else:\n",
    "        return y_pred"
   ]
  },
  {
   "cell_type": "code",
   "execution_count": 40,
   "id": "4256abca-026d-4340-8a33-04f3e6b00906",
   "metadata": {},
   "outputs": [],
   "source": [
    "def score_model(X, y, model, cutoff, return_n_features=False, random_state=42, scoring=None):\n",
    "    pipe = make_pipeline(StandardScaler(), model)\n",
    "    X_cutoff = X.iloc[:, np.where(np.abs(X.sum()/len(X)) > cutoff)[0]]\n",
    "    scores = cross_val_score(pipe, X_cutoff, y, scoring=scoring)\n",
    "    if return_n_features:\n",
    "        return scores, X_cutoff.shape[1]\n",
    "    else:\n",
    "        return scores"
   ]
  },
  {
   "cell_type": "code",
   "execution_count": 41,
   "id": "495b4c00-b041-4b76-9d69-1db098872ca9",
   "metadata": {},
   "outputs": [],
   "source": [
    "def test_cutoffs(X, y, model, cutoffs, scoring=None):\n",
    "    results = {}\n",
    "    for cutoff in cutoffs:\n",
    "        scores, n_features = score_model(X, y, model, cutoff, return_n_features=True, scoring=scoring)\n",
    "        print(f\"Cutoff = {cutoff:.3g}, Mean score = {scores.mean():.3g}, Standard error = {scores.std()/np.sqrt(5):.3g}, n_features = {n_features}\")\n",
    "    return scores"
   ]
  },
  {
   "cell_type": "code",
   "execution_count": 42,
   "id": "4422a705-6274-4b7c-a549-307d41632e33",
   "metadata": {},
   "outputs": [
    {
     "name": "stdout",
     "output_type": "stream",
     "text": [
      "Cutoff = 1e+03, Mean score = -0.0687, Standard error = 0.0629, n_features = 4\n",
      "Cutoff = 1, Mean score = -0.726, Standard error = 0.702, n_features = 38\n",
      "Cutoff = 0.9, Mean score = -1.44, Standard error = 1.45, n_features = 47\n",
      "Cutoff = 0.7, Mean score = -2.14, Standard error = 2.16, n_features = 62\n",
      "Cutoff = 0.3, Mean score = -2.17, Standard error = 2.19, n_features = 76\n",
      "Cutoff = 0.1, Mean score = -2.31, Standard error = 2.34, n_features = 86\n",
      "Cutoff = 0.05, Mean score = -2.33, Standard error = 2.37, n_features = 100\n",
      "Cutoff = 0.01, Mean score = -2.72, Standard error = 2.75, n_features = 165\n",
      "Cutoff = 0.005, Mean score = -2.69, Standard error = 2.72, n_features = 200\n",
      "Cutoff = 0.003, Mean score = -2.77, Standard error = 2.8, n_features = 231\n",
      "Cutoff = 0.001, Mean score = -3.5e+26, Standard error = 3.1e+26, n_features = 299\n",
      "Cutoff = 0, Mean score = -1.65e+27, Standard error = 1.1e+27, n_features = 659\n"
     ]
    }
   ],
   "source": [
    "cutoffs = [1000, 1, .9, .7, .3, .1, .05, .01, 0.005, 0.003, 0.001, 0]\n",
    "test_cutoffs(X_train, y_train, LinearRegression(), cutoffs);"
   ]
  },
  {
   "cell_type": "markdown",
   "id": "da54b022-2818-4492-850e-6516955759a7",
   "metadata": {},
   "source": [
    "Many of these CV scores are horrific; none of the models have better coefficient of determination than a model that just predicts the mean price every time. And there's another problem: many of the predicted prices are negative!"
   ]
  },
  {
   "cell_type": "code",
   "execution_count": 130,
   "id": "6ee0d74d-4cc6-4a06-a09d-6001aad832bc",
   "metadata": {},
   "outputs": [],
   "source": [
    "y_pred_L = fit_model(X_train, y_train, LinearRegression(), 0.01)"
   ]
  },
  {
   "cell_type": "code",
   "execution_count": 131,
   "id": "b429522e-6a88-4a1d-af52-1a60531bb890",
   "metadata": {},
   "outputs": [
    {
     "data": {
      "image/png": "[encoded data removed]",
      "text/plain": [
       "<Figure size 432x288 with 1 Axes>"
      ]
     },
     "metadata": {
      "needs_background": "light"
     },
     "output_type": "display_data"
    }
   ],
   "source": [
    "plt.plot(y_pred_L, 'bo')\n",
    "plt.axhline(y=0, linestyle='--')\n",
    "plt.ylabel('Predicted price (USD)')\n",
    "plt.show()"
   ]
  },
  {
   "cell_type": "markdown",
   "id": "4bd269d8-c103-4d0e-a216-a54268dafbd1",
   "metadata": {},
   "source": [
    "Thinking about what I actually want from my model, I don't care so much if there are a few outliers for which price predictions are very poor. I'm more concerned with the *median* absolute fractional error, not the *mean* absolute error. I'll express this as a percent."
   ]
  },
  {
   "cell_type": "code",
   "execution_count": 132,
   "id": "ca36634e-d1cf-48d8-a947-483cd2e2e9b2",
   "metadata": {},
   "outputs": [],
   "source": [
    "def median_abs_pct_err(y_true, y_pred):\n",
    "    return 100*np.abs((y_true - y_pred)/y_true).median()"
   ]
  },
  {
   "cell_type": "code",
   "execution_count": 134,
   "id": "9ceb0ca0-4088-4b6d-b822-44f4fdca113d",
   "metadata": {},
   "outputs": [
    {
     "data": {
      "text/plain": [
       "38.54746880950186"
      ]
     },
     "execution_count": 134,
     "metadata": {},
     "output_type": "execute_result"
    }
   ],
   "source": [
    "median_abs_pct_err(y_train, y_pred_L)"
   ]
  },
  {
   "cell_type": "markdown",
   "id": "e1977601-b584-4c75-b3bd-f0c01e299346",
   "metadata": {},
   "source": [
    "Still quite awful: half of the predictions are off by over 400%."
   ]
  },
  {
   "cell_type": "code",
   "execution_count": 47,
   "id": "d6a64b41-2c61-4195-b0a9-7b7e5a190db5",
   "metadata": {},
   "outputs": [],
   "source": [
    "median_scorer = make_scorer(median_abs_pct_err)"
   ]
  },
  {
   "cell_type": "code",
   "execution_count": 48,
   "id": "0ab78536-7d93-4be1-8fdf-1e6013f20119",
   "metadata": {},
   "outputs": [],
   "source": [
    "def df_pct_abs_err(y_pred, y_true, plot=False, plot_cutoff=300):\n",
    "    df = pd.DataFrame(100*np.abs((y_true - y_pred)/y_true))\n",
    "    df = df.rename(columns={'price':'pct_abs_err'})\n",
    "    if plot:\n",
    "        df[df['pct_abs_err'] < plot_cutoff].hist()\n",
    "        plt.ylabel(\"Number of occurrences\")\n",
    "        plt.xlabel(\"Absolute error in price prediction (%)\")\n",
    "        plt.title\n",
    "        plt.show()\n",
    "    return df"
   ]
  },
  {
   "cell_type": "code",
   "execution_count": 49,
   "id": "f74e1c77-1980-47a9-a13d-32bd7dd47332",
   "metadata": {},
   "outputs": [
    {
     "data": {
      "image/png": "[encoded data removed]",
      "text/plain": [
       "<Figure size 432x288 with 1 Axes>"
      ]
     },
     "metadata": {
      "needs_background": "light"
     },
     "output_type": "display_data"
    },
    {
     "data": {
      "text/plain": [
       "433.50088690773737"
      ]
     },
     "execution_count": 49,
     "metadata": {},
     "output_type": "execute_result"
    }
   ],
   "source": [
    "df_pct_abs_err(y_pred_L, y_train, plot=True).median().item()"
   ]
  },
  {
   "cell_type": "code",
   "execution_count": 50,
   "id": "c97b287a-5d64-4096-98f1-a159239a9a48",
   "metadata": {},
   "outputs": [
    {
     "name": "stdout",
     "output_type": "stream",
     "text": [
      "Cutoff = 1e+03, Mean score = 147, Standard error = 10.1, n_features = 4\n",
      "Cutoff = 1, Mean score = 314, Standard error = 24.7, n_features = 38\n",
      "Cutoff = 0.9, Mean score = 311, Standard error = 15.6, n_features = 47\n",
      "Cutoff = 0.7, Mean score = 410, Standard error = 23.4, n_features = 62\n",
      "Cutoff = 0.3, Mean score = 426, Standard error = 21.3, n_features = 76\n",
      "Cutoff = 0.1, Mean score = 461, Standard error = 29.1, n_features = 86\n",
      "Cutoff = 0.05, Mean score = 457, Standard error = 33.1, n_features = 100\n",
      "Cutoff = 0.01, Mean score = 472, Standard error = 26, n_features = 165\n",
      "Cutoff = 0.005, Mean score = 481, Standard error = 24.9, n_features = 200\n",
      "Cutoff = 0.003, Mean score = 483, Standard error = 25.2, n_features = 231\n",
      "Cutoff = 0.001, Mean score = 508, Standard error = 24.2, n_features = 299\n",
      "Cutoff = 0, Mean score = 629, Standard error = 37, n_features = 659\n"
     ]
    }
   ],
   "source": [
    "cutoffs = [1000, 1, .9, .7, .3, .1, .05, .01, 0.005, 0.003, 0.001, 0]\n",
    "test_cutoffs(X_train, y_train, LinearRegression(), cutoffs, scoring=median_scorer);"
   ]
  },
  {
   "cell_type": "markdown",
   "id": "7d449fb5-2e5a-4c90-a885-978875ac50a3",
   "metadata": {},
   "source": [
    "These mean scores are the mean of the median absolute percentage error, computed across the five cross-validation folds."
   ]
  },
  {
   "cell_type": "markdown",
   "id": "561e9875-995d-41ae-a17a-74b0dd59ac1e",
   "metadata": {},
   "source": [
    "### Dealing with outliers"
   ]
  },
  {
   "cell_type": "markdown",
   "id": "ab728a17-5791-4d48-8e38-1552d91ee899",
   "metadata": {},
   "source": [
    "If a listing has an absurdly high price that isn't reflective of what people will actually pay, or just isn't that relevant for a typical person who wants to list their place, that isn't good for the usefulness of our model. Models that are trained using $L^2$ loss, including `LinearRegression()`, penalize outliers (in the target variable) very sharply, which can be problematic for training (i.e. mimizing the mean-squared loss). Therefore, I'll take a look at places that have extremely high prices and see if it makes sense to remove them."
   ]
  },
  {
   "cell_type": "code",
   "execution_count": 51,
   "id": "afe46d12-736f-4b6a-bdc6-aae4369de1c2",
   "metadata": {},
   "outputs": [
    {
     "data": {
      "image/png": "[encoded data removed]",
      "text/plain": [
       "<Figure size 432x288 with 1 Axes>"
      ]
     },
     "metadata": {
      "needs_background": "light"
     },
     "output_type": "display_data"
    }
   ],
   "source": [
    "plt.plot(listings['price'], 'bo')\n",
    "plt.axhline(y=0, linestyle='--')\n",
    "plt.ylabel(\"Price\")\n",
    "plt.show()"
   ]
  },
  {
   "cell_type": "markdown",
   "id": "b532eb9e-795f-45fc-8c9b-8aeb331b4a2d",
   "metadata": {},
   "source": [
    "Yeah, some of these prices look like they might be absurd."
   ]
  },
  {
   "cell_type": "code",
   "execution_count": 52,
   "id": "ca422392-502a-4922-9c38-4128f54d18e7",
   "metadata": {},
   "outputs": [
    {
     "data": {
      "text/plain": [
       "2648    48864.0\n",
       "2647    48864.0\n",
       "2341    48864.0\n",
       "2360    47484.0\n",
       "2361    47484.0\n",
       "2359    47484.0\n",
       "2362    47484.0\n",
       "2346    40356.0\n",
       "2345    40356.0\n",
       "2350    39132.0\n",
       "2355    39132.0\n",
       "2351    39132.0\n",
       "2356    39132.0\n",
       "2353    39132.0\n",
       "2650    39132.0\n",
       "2354    39132.0\n",
       "2352    39132.0\n",
       "2358    39132.0\n",
       "2357    39132.0\n",
       "3288     9999.0\n",
       "1049     9999.0\n",
       "3287     9999.0\n",
       "3289     9999.0\n",
       "3120     9000.0\n",
       "6196     5000.0\n",
       "3072     4500.0\n",
       "2866     3690.0\n",
       "4522     3070.0\n",
       "4498     3042.0\n",
       "2570     3000.0\n",
       "Name: price, dtype: float64"
      ]
     },
     "execution_count": 52,
     "metadata": {},
     "output_type": "execute_result"
    }
   ],
   "source": [
    "listings['price'].sort_values(ascending=False).head(30)"
   ]
  },
  {
   "cell_type": "code",
   "execution_count": 53,
   "id": "ac52ea9e-738e-44a7-9872-016fb39fcd9c",
   "metadata": {
    "tags": []
   },
   "outputs": [
    {
     "data": {
      "text/plain": [
       "'https://www.airbnb.com/rooms/30718928'"
      ]
     },
     "execution_count": 53,
     "metadata": {},
     "output_type": "execute_result"
    }
   ],
   "source": [
    "# Find the URL of one of the most expensive places\n",
    "listings.loc[2648, 'listing_url']"
   ]
  },
  {
   "cell_type": "markdown",
   "id": "250a0282-c1ea-48a7-a3a3-06709a534a75",
   "metadata": {},
   "source": [
    "What is going on here? Following the link above, this is clearly a luxury place, but it's just a studio! On top of that, it's currently listed at USD 1,653 per night (as of December 3, 2021), not USD 48,864 per night as above. Let's take a closer look at `calendar` to see what happened:"
   ]
  },
  {
   "cell_type": "code",
   "execution_count": 54,
   "id": "470ad933-b7a1-4f90-8799-41aaf33c1112",
   "metadata": {},
   "outputs": [],
   "source": [
    "listing_id = listings.loc[2648, 'id']"
   ]
  },
  {
   "cell_type": "code",
   "execution_count": 55,
   "id": "8f00ec25-6aae-442d-98f2-d36d814ef742",
   "metadata": {},
   "outputs": [
    {
     "data": {
      "text/html": [
       "<div>\n",
       "<style scoped>\n",
       "    .dataframe tbody tr th:only-of-type {\n",
       "        vertical-align: middle;\n",
       "    }\n",
       "\n",
       "    .dataframe tbody tr th {\n",
       "        vertical-align: top;\n",
       "    }\n",
       "\n",
       "    .dataframe thead th {\n",
       "        text-align: right;\n",
       "    }\n",
       "</style>\n",
       "<table border=\"1\" class=\"dataframe\">\n",
       "  <thead>\n",
       "    <tr style=\"text-align: right;\">\n",
       "      <th></th>\n",
       "      <th>date</th>\n",
       "      <th>price</th>\n",
       "      <th>adjusted_price</th>\n",
       "    </tr>\n",
       "  </thead>\n",
       "  <tbody>\n",
       "    <tr>\n",
       "      <th>1020296</th>\n",
       "      <td>2021-10-18</td>\n",
       "      <td>8144.0</td>\n",
       "      <td>48864.0</td>\n",
       "    </tr>\n",
       "    <tr>\n",
       "      <th>1020297</th>\n",
       "      <td>2021-10-19</td>\n",
       "      <td>8144.0</td>\n",
       "      <td>48864.0</td>\n",
       "    </tr>\n",
       "    <tr>\n",
       "      <th>1020298</th>\n",
       "      <td>2021-10-20</td>\n",
       "      <td>8144.0</td>\n",
       "      <td>48864.0</td>\n",
       "    </tr>\n",
       "    <tr>\n",
       "      <th>1020299</th>\n",
       "      <td>2021-10-21</td>\n",
       "      <td>8144.0</td>\n",
       "      <td>48864.0</td>\n",
       "    </tr>\n",
       "    <tr>\n",
       "      <th>1020300</th>\n",
       "      <td>2021-10-22</td>\n",
       "      <td>8144.0</td>\n",
       "      <td>48864.0</td>\n",
       "    </tr>\n",
       "    <tr>\n",
       "      <th>...</th>\n",
       "      <td>...</td>\n",
       "      <td>...</td>\n",
       "      <td>...</td>\n",
       "    </tr>\n",
       "    <tr>\n",
       "      <th>1023099</th>\n",
       "      <td>2022-10-13</td>\n",
       "      <td>263.0</td>\n",
       "      <td>1578.0</td>\n",
       "    </tr>\n",
       "    <tr>\n",
       "      <th>1023100</th>\n",
       "      <td>2022-10-14</td>\n",
       "      <td>307.0</td>\n",
       "      <td>1842.0</td>\n",
       "    </tr>\n",
       "    <tr>\n",
       "      <th>1023101</th>\n",
       "      <td>2022-10-15</td>\n",
       "      <td>307.0</td>\n",
       "      <td>1842.0</td>\n",
       "    </tr>\n",
       "    <tr>\n",
       "      <th>1023102</th>\n",
       "      <td>2022-10-16</td>\n",
       "      <td>263.0</td>\n",
       "      <td>1578.0</td>\n",
       "    </tr>\n",
       "    <tr>\n",
       "      <th>1023103</th>\n",
       "      <td>2022-10-17</td>\n",
       "      <td>263.0</td>\n",
       "      <td>1578.0</td>\n",
       "    </tr>\n",
       "  </tbody>\n",
       "</table>\n",
       "<p>365 rows × 3 columns</p>\n",
       "</div>"
      ],
      "text/plain": [
       "               date   price  adjusted_price\n",
       "1020296  2021-10-18  8144.0         48864.0\n",
       "1020297  2021-10-19  8144.0         48864.0\n",
       "1020298  2021-10-20  8144.0         48864.0\n",
       "1020299  2021-10-21  8144.0         48864.0\n",
       "1020300  2021-10-22  8144.0         48864.0\n",
       "...             ...     ...             ...\n",
       "1023099  2022-10-13   263.0          1578.0\n",
       "1023100  2022-10-14   307.0          1842.0\n",
       "1023101  2022-10-15   307.0          1842.0\n",
       "1023102  2022-10-16   263.0          1578.0\n",
       "1023103  2022-10-17   263.0          1578.0\n",
       "\n",
       "[365 rows x 3 columns]"
      ]
     },
     "execution_count": 55,
     "metadata": {},
     "output_type": "execute_result"
    }
   ],
   "source": [
    "calendar.loc[calendar['listing_id']==listing_id, ['date', 'price', 'adjusted_price']]"
   ]
  },
  {
   "cell_type": "markdown",
   "id": "e58175c4-902a-49a0-8522-834fda535149",
   "metadata": {},
   "source": [
    "OK, it appears that the adjusted price was very high in mid-October, and that's what was pulled into the `price` field in `listings`. My understanding is that Airbnb allows hosts to turn on a setting that automatically adjusts the price according to demand (using some model developed by Airbnb), so likely demand was extremely high at nearby properties at that time. In any case, it would make sense for me to exclude this property and related ones from my data; I note that each of the properties over USD 10,000 are in the \"Ginosi 747 Apartel\", as can be easily verified by clicking on those URLs. Further, one of the next most expensive listings, at USD 9,999, is a 12-bedroom mansion."
   ]
  },
  {
   "cell_type": "markdown",
   "id": "3e56b994-b1dd-4d56-b771-2c1b5a6cee79",
   "metadata": {},
   "source": [
    "Now I'll delete these outliers (those listings with prices above USD 10,000 per night). It makes sense to do this across all the data (not just for the training data), since I'm not interested in making predictions for places where the price would be that high (totally out of whack with what almost everyone would pay - prices that would actually banned by law for similar hotel accommodations), and I'd like to use all the data to create my final model."
   ]
  },
  {
   "cell_type": "code",
   "execution_count": 56,
   "id": "4ad23b30-839f-4e82-9976-05b1759490e0",
   "metadata": {},
   "outputs": [],
   "source": [
    "to_drop = y[y > 10000].index"
   ]
  },
  {
   "cell_type": "code",
   "execution_count": 57,
   "id": "c0694161-5c4f-4f3c-b86a-287e8b56579a",
   "metadata": {},
   "outputs": [],
   "source": [
    "# Drop the necessary rows\n",
    "X.drop(to_drop, inplace=True)\n",
    "y.drop(to_drop, inplace=True)\n",
    "# Drop the rows from the original dataframe as well (since I'll use this dataframe\n",
    "# again shortly)\n",
    "listings.drop(to_drop, inplace=True)"
   ]
  },
  {
   "cell_type": "code",
   "execution_count": 59,
   "id": "197bbecf-4c1c-4f18-8d7a-2475309d0726",
   "metadata": {},
   "outputs": [],
   "source": [
    "# Do the train-test splits again\n",
    "X_train, X_test, y_train, y_test = train_test_split(\n",
    "    X, y, test_size=0.3, random_state=42)\n",
    "X_val_train, X_val, y_val_train, y_val = train_test_split(\n",
    "    X_train, y_train, test_size=0.3, random_state=42)"
   ]
  },
  {
   "cell_type": "markdown",
   "id": "aa29f2bf-4342-45ec-918f-dd5106eb0730",
   "metadata": {
    "tags": []
   },
   "source": [
    "### Linear Model, Again"
   ]
  },
  {
   "cell_type": "code",
   "execution_count": 60,
   "id": "d0d1bab9-3501-43b2-af13-c5444d4dfb25",
   "metadata": {},
   "outputs": [
    {
     "name": "stdout",
     "output_type": "stream",
     "text": [
      "Cutoff = 1e+03, Mean score = -0.00261, Standard error = 0.00357, n_features = 4\n",
      "Cutoff = 1, Mean score = 0.354, Standard error = 0.0511, n_features = 38\n",
      "Cutoff = 0.9, Mean score = 0.356, Standard error = 0.0494, n_features = 47\n",
      "Cutoff = 0.7, Mean score = 0.354, Standard error = 0.0487, n_features = 62\n",
      "Cutoff = 0.3, Mean score = 0.359, Standard error = 0.0486, n_features = 76\n",
      "Cutoff = 0.1, Mean score = 0.379, Standard error = 0.0494, n_features = 87\n",
      "Cutoff = 0.05, Mean score = 0.383, Standard error = 0.0496, n_features = 99\n",
      "Cutoff = 0.01, Mean score = 0.396, Standard error = 0.053, n_features = 166\n",
      "Cutoff = 0.005, Mean score = 0.405, Standard error = 0.0541, n_features = 205\n",
      "Cutoff = 0.003, Mean score = 0.397, Standard error = 0.0518, n_features = 232\n",
      "Cutoff = 0.001, Mean score = -4.89e+24, Standard error = 3.66e+24, n_features = 304\n",
      "Cutoff = 0, Mean score = -2.86e+26, Standard error = 1.15e+26, n_features = 654\n"
     ]
    }
   ],
   "source": [
    "cutoffs = [1000, 1, .9, .7, .3, .1, .05, .01, 0.005, 0.003, 0.001, 0]\n",
    "test_cutoffs(X_train, y_train, LinearRegression(), cutoffs);"
   ]
  },
  {
   "cell_type": "code",
   "execution_count": 61,
   "id": "28343a74-9968-440f-8aa4-05b55a400713",
   "metadata": {},
   "outputs": [
    {
     "name": "stdout",
     "output_type": "stream",
     "text": [
      "Cutoff = 1e+03, Mean score = 58.9, Standard error = 1.71, n_features = 4\n",
      "Cutoff = 1, Mean score = 41, Standard error = 1.25, n_features = 38\n",
      "Cutoff = 0.9, Mean score = 41.1, Standard error = 1.22, n_features = 47\n",
      "Cutoff = 0.7, Mean score = 42.3, Standard error = 1.09, n_features = 62\n",
      "Cutoff = 0.3, Mean score = 41.4, Standard error = 1.09, n_features = 76\n",
      "Cutoff = 0.1, Mean score = 41.2, Standard error = 0.947, n_features = 87\n",
      "Cutoff = 0.05, Mean score = 41.6, Standard error = 1.02, n_features = 99\n",
      "Cutoff = 0.01, Mean score = 38.8, Standard error = 0.908, n_features = 166\n",
      "Cutoff = 0.005, Mean score = 39.5, Standard error = 0.583, n_features = 205\n",
      "Cutoff = 0.003, Mean score = 38.9, Standard error = 1.11, n_features = 232\n",
      "Cutoff = 0.001, Mean score = 37.7, Standard error = 0.865, n_features = 304\n",
      "Cutoff = 0, Mean score = 40.4, Standard error = 0.64, n_features = 654\n"
     ]
    }
   ],
   "source": [
    "cutoffs = [1000, 1, .9, .7, .3, .1, .05, .01, 0.005, 0.003, 0.001, 0]\n",
    "test_cutoffs(X_train, y_train, LinearRegression(), cutoffs, scoring=median_scorer);"
   ]
  },
  {
   "cell_type": "code",
   "execution_count": 62,
   "id": "5ddafe73-a39c-4e46-91a2-19440a7d3622",
   "metadata": {
    "tags": []
   },
   "outputs": [],
   "source": [
    "y_pred_L = fit_model(X_train, y_train, LinearRegression(), cutoff=0.005)"
   ]
  },
  {
   "cell_type": "code",
   "execution_count": 63,
   "id": "ca4a2024-ec9a-404f-a012-c2fa9f4699b1",
   "metadata": {},
   "outputs": [
    {
     "data": {
      "image/png": "[encoded data removed]",
      "text/plain": [
       "<Figure size 432x288 with 1 Axes>"
      ]
     },
     "metadata": {
      "needs_background": "light"
     },
     "output_type": "display_data"
    }
   ],
   "source": [
    "plt.plot(np.abs(y_train - y_pred_L), 'o')\n",
    "plt.ylabel('Absolute error in price prediction')\n",
    "plt.show()"
   ]
  },
  {
   "cell_type": "code",
   "execution_count": 64,
   "id": "dcf05427-d50b-4696-aef4-a108aaeb8165",
   "metadata": {},
   "outputs": [
    {
     "data": {
      "image/png": "[encoded data removed]",
      "text/plain": [
       "<Figure size 432x288 with 1 Axes>"
      ]
     },
     "metadata": {
      "needs_background": "light"
     },
     "output_type": "display_data"
    }
   ],
   "source": [
    "plt.plot(y_pred_L, 'bo')\n",
    "plt.axhline(y=0, linestyle='--')\n",
    "plt.ylabel('Predicted price (USD)')\n",
    "plt.show()"
   ]
  },
  {
   "cell_type": "code",
   "execution_count": 65,
   "id": "e995b4be-6a4a-49b9-8283-674dba2a57fa",
   "metadata": {},
   "outputs": [
    {
     "data": {
      "image/png": "[encoded data removed]",
      "text/plain": [
       "<Figure size 432x288 with 1 Axes>"
      ]
     },
     "metadata": {
      "needs_background": "light"
     },
     "output_type": "display_data"
    }
   ],
   "source": [
    "df_err_L = df_pct_abs_err(y_pred_L, y_train, plot=True)"
   ]
  },
  {
   "cell_type": "code",
   "execution_count": 61,
   "id": "1bec07d5-9b96-4a95-ba97-9106a380b6bb",
   "metadata": {},
   "outputs": [
    {
     "data": {
      "text/plain": [
       "40.92486406832323"
      ]
     },
     "execution_count": 61,
     "metadata": {},
     "output_type": "execute_result"
    }
   ],
   "source": [
    "df_err_L['pct_abs_err'].median()"
   ]
  },
  {
   "cell_type": "markdown",
   "id": "c0935bb4-bf5e-41d8-8dbc-45c270a3a216",
   "metadata": {},
   "source": [
    "That is, 50% of predictions are off from the true price by less than 41%."
   ]
  },
  {
   "cell_type": "markdown",
   "id": "c1f7b99f-0d91-44ea-ae74-cb7bb8536eba",
   "metadata": {},
   "source": [
    "This is certainly better than the previous model, though still not great, and a fair number of the predictions are still negative."
   ]
  },
  {
   "cell_type": "markdown",
   "id": "fad662c9-e1af-4c42-b54d-dc6f185e0fac",
   "metadata": {},
   "source": [
    "### Smaller Linear Model"
   ]
  },
  {
   "cell_type": "markdown",
   "id": "6e255490-b579-4393-a921-749017f5046b",
   "metadata": {},
   "source": [
    "What happens if I just use a smaller model? Maybe the one above is too big and has a lot of unnecessary features, even using cutoffs as above. What do we expect to be the most useful factors for price prediction? My guesses for the most important: Its size (number of people, number of bedrooms and bathrooms) and the neighborhood. The relevant columns are `neighbourhood_cleansed`, `accommodates`, `bathrooms_text`, `bedrooms`, and `beds`."
   ]
  },
  {
   "cell_type": "code",
   "execution_count": 66,
   "id": "ac2efb01-725c-4eec-95aa-70b4ef125569",
   "metadata": {},
   "outputs": [],
   "source": [
    "X_small = listings[['neighbourhood_cleansed','accommodates','bathrooms_text','bedrooms','beds']]"
   ]
  },
  {
   "cell_type": "code",
   "execution_count": 67,
   "id": "85c7b9f9-9c2d-4bbc-b1e8-389f32e65713",
   "metadata": {},
   "outputs": [],
   "source": [
    "X_small = pd.get_dummies(X_small, drop_first=True)"
   ]
  },
  {
   "cell_type": "code",
   "execution_count": 68,
   "id": "ce5ad4c4-114b-4421-9db3-2bf06ee3ee11",
   "metadata": {},
   "outputs": [],
   "source": [
    "y_small = y.copy()"
   ]
  },
  {
   "cell_type": "markdown",
   "id": "849a499b-7683-4e09-8127-28e1dafc0964",
   "metadata": {},
   "source": [
    "I need to deal with the `NA` entries in `beds` and `bedrooms`."
   ]
  },
  {
   "cell_type": "code",
   "execution_count": 69,
   "id": "4e629e14-1ec6-48a9-a744-5f6b41fbbf37",
   "metadata": {},
   "outputs": [],
   "source": [
    "X_small['bedrooms'] = X_small.apply(lambda x: x['beds'] if not(x['bedrooms']>0) else x['bedrooms'], axis=1)\n",
    "X_small['beds'] = X_small.apply(lambda x: x['bedrooms'] if not(x['beds']>0) else x['beds'], axis=1)"
   ]
  },
  {
   "cell_type": "code",
   "execution_count": 70,
   "id": "158c7949-07d4-4806-9f39-23ae67ca712b",
   "metadata": {},
   "outputs": [
    {
     "data": {
      "text/plain": [
       "4"
      ]
     },
     "execution_count": 70,
     "metadata": {},
     "output_type": "execute_result"
    }
   ],
   "source": [
    "sum(X_small.isna()['beds'])"
   ]
  },
  {
   "cell_type": "code",
   "execution_count": 71,
   "id": "a8ca6dd1-ca38-415c-b82e-3a9af9620191",
   "metadata": {},
   "outputs": [
    {
     "data": {
      "text/html": [
       "<div>\n",
       "<style scoped>\n",
       "    .dataframe tbody tr th:only-of-type {\n",
       "        vertical-align: middle;\n",
       "    }\n",
       "\n",
       "    .dataframe tbody tr th {\n",
       "        vertical-align: top;\n",
       "    }\n",
       "\n",
       "    .dataframe thead th {\n",
       "        text-align: right;\n",
       "    }\n",
       "</style>\n",
       "<table border=\"1\" class=\"dataframe\">\n",
       "  <thead>\n",
       "    <tr style=\"text-align: right;\">\n",
       "      <th></th>\n",
       "      <th>accommodates</th>\n",
       "      <th>bedrooms</th>\n",
       "      <th>beds</th>\n",
       "      <th>neighbourhood_cleansed_Archer Heights</th>\n",
       "      <th>neighbourhood_cleansed_Armour Square</th>\n",
       "      <th>neighbourhood_cleansed_Ashburn</th>\n",
       "      <th>neighbourhood_cleansed_Auburn Gresham</th>\n",
       "      <th>neighbourhood_cleansed_Austin</th>\n",
       "      <th>neighbourhood_cleansed_Avalon Park</th>\n",
       "      <th>neighbourhood_cleansed_Avondale</th>\n",
       "      <th>...</th>\n",
       "      <th>bathrooms_text_5 baths</th>\n",
       "      <th>bathrooms_text_5.5 baths</th>\n",
       "      <th>bathrooms_text_6 baths</th>\n",
       "      <th>bathrooms_text_6.5 baths</th>\n",
       "      <th>bathrooms_text_7 baths</th>\n",
       "      <th>bathrooms_text_7.5 baths</th>\n",
       "      <th>bathrooms_text_8 shared baths</th>\n",
       "      <th>bathrooms_text_Half-bath</th>\n",
       "      <th>bathrooms_text_Private half-bath</th>\n",
       "      <th>bathrooms_text_Shared half-bath</th>\n",
       "    </tr>\n",
       "  </thead>\n",
       "  <tbody>\n",
       "    <tr>\n",
       "      <th>5590</th>\n",
       "      <td>2</td>\n",
       "      <td>NaN</td>\n",
       "      <td>NaN</td>\n",
       "      <td>0</td>\n",
       "      <td>0</td>\n",
       "      <td>0</td>\n",
       "      <td>0</td>\n",
       "      <td>0</td>\n",
       "      <td>0</td>\n",
       "      <td>0</td>\n",
       "      <td>...</td>\n",
       "      <td>0</td>\n",
       "      <td>0</td>\n",
       "      <td>0</td>\n",
       "      <td>0</td>\n",
       "      <td>0</td>\n",
       "      <td>0</td>\n",
       "      <td>0</td>\n",
       "      <td>0</td>\n",
       "      <td>0</td>\n",
       "      <td>0</td>\n",
       "    </tr>\n",
       "    <tr>\n",
       "      <th>6015</th>\n",
       "      <td>4</td>\n",
       "      <td>NaN</td>\n",
       "      <td>NaN</td>\n",
       "      <td>0</td>\n",
       "      <td>0</td>\n",
       "      <td>0</td>\n",
       "      <td>0</td>\n",
       "      <td>0</td>\n",
       "      <td>0</td>\n",
       "      <td>0</td>\n",
       "      <td>...</td>\n",
       "      <td>0</td>\n",
       "      <td>0</td>\n",
       "      <td>0</td>\n",
       "      <td>0</td>\n",
       "      <td>0</td>\n",
       "      <td>0</td>\n",
       "      <td>0</td>\n",
       "      <td>0</td>\n",
       "      <td>0</td>\n",
       "      <td>0</td>\n",
       "    </tr>\n",
       "    <tr>\n",
       "      <th>6416</th>\n",
       "      <td>2</td>\n",
       "      <td>NaN</td>\n",
       "      <td>NaN</td>\n",
       "      <td>0</td>\n",
       "      <td>0</td>\n",
       "      <td>0</td>\n",
       "      <td>0</td>\n",
       "      <td>0</td>\n",
       "      <td>0</td>\n",
       "      <td>0</td>\n",
       "      <td>...</td>\n",
       "      <td>0</td>\n",
       "      <td>0</td>\n",
       "      <td>0</td>\n",
       "      <td>0</td>\n",
       "      <td>0</td>\n",
       "      <td>0</td>\n",
       "      <td>0</td>\n",
       "      <td>0</td>\n",
       "      <td>0</td>\n",
       "      <td>0</td>\n",
       "    </tr>\n",
       "    <tr>\n",
       "      <th>6516</th>\n",
       "      <td>4</td>\n",
       "      <td>NaN</td>\n",
       "      <td>NaN</td>\n",
       "      <td>0</td>\n",
       "      <td>0</td>\n",
       "      <td>0</td>\n",
       "      <td>0</td>\n",
       "      <td>0</td>\n",
       "      <td>0</td>\n",
       "      <td>0</td>\n",
       "      <td>...</td>\n",
       "      <td>0</td>\n",
       "      <td>0</td>\n",
       "      <td>0</td>\n",
       "      <td>0</td>\n",
       "      <td>0</td>\n",
       "      <td>0</td>\n",
       "      <td>0</td>\n",
       "      <td>0</td>\n",
       "      <td>0</td>\n",
       "      <td>0</td>\n",
       "    </tr>\n",
       "  </tbody>\n",
       "</table>\n",
       "<p>4 rows × 108 columns</p>\n",
       "</div>"
      ],
      "text/plain": [
       "      accommodates  bedrooms  beds  neighbourhood_cleansed_Archer Heights  \\\n",
       "5590             2       NaN   NaN                                      0   \n",
       "6015             4       NaN   NaN                                      0   \n",
       "6416             2       NaN   NaN                                      0   \n",
       "6516             4       NaN   NaN                                      0   \n",
       "\n",
       "      neighbourhood_cleansed_Armour Square  neighbourhood_cleansed_Ashburn  \\\n",
       "5590                                     0                               0   \n",
       "6015                                     0                               0   \n",
       "6416                                     0                               0   \n",
       "6516                                     0                               0   \n",
       "\n",
       "      neighbourhood_cleansed_Auburn Gresham  neighbourhood_cleansed_Austin  \\\n",
       "5590                                      0                              0   \n",
       "6015                                      0                              0   \n",
       "6416                                      0                              0   \n",
       "6516                                      0                              0   \n",
       "\n",
       "      neighbourhood_cleansed_Avalon Park  neighbourhood_cleansed_Avondale  \\\n",
       "5590                                   0                                0   \n",
       "6015                                   0                                0   \n",
       "6416                                   0                                0   \n",
       "6516                                   0                                0   \n",
       "\n",
       "      ...  bathrooms_text_5 baths  bathrooms_text_5.5 baths  \\\n",
       "5590  ...                       0                         0   \n",
       "6015  ...                       0                         0   \n",
       "6416  ...                       0                         0   \n",
       "6516  ...                       0                         0   \n",
       "\n",
       "      bathrooms_text_6 baths  bathrooms_text_6.5 baths  \\\n",
       "5590                       0                         0   \n",
       "6015                       0                         0   \n",
       "6416                       0                         0   \n",
       "6516                       0                         0   \n",
       "\n",
       "      bathrooms_text_7 baths  bathrooms_text_7.5 baths  \\\n",
       "5590                       0                         0   \n",
       "6015                       0                         0   \n",
       "6416                       0                         0   \n",
       "6516                       0                         0   \n",
       "\n",
       "      bathrooms_text_8 shared baths  bathrooms_text_Half-bath  \\\n",
       "5590                              0                         0   \n",
       "6015                              0                         0   \n",
       "6416                              0                         0   \n",
       "6516                              0                         0   \n",
       "\n",
       "      bathrooms_text_Private half-bath  bathrooms_text_Shared half-bath  \n",
       "5590                                 0                                0  \n",
       "6015                                 0                                0  \n",
       "6416                                 0                                0  \n",
       "6516                                 0                                0  \n",
       "\n",
       "[4 rows x 108 columns]"
      ]
     },
     "execution_count": 71,
     "metadata": {},
     "output_type": "execute_result"
    }
   ],
   "source": [
    "X_small.loc[X_small.isna()['bedrooms']]"
   ]
  },
  {
   "cell_type": "code",
   "execution_count": 72,
   "id": "4c9eadef-75f1-4f0e-8695-dc3744b615af",
   "metadata": {},
   "outputs": [],
   "source": [
    "to_drop = X_small.loc[X_small['accommodates'] == 0].index\n",
    "X_small.drop(to_drop, inplace=True)\n",
    "y_small.drop(to_drop, inplace=True)"
   ]
  },
  {
   "cell_type": "code",
   "execution_count": 73,
   "id": "ca023106-c70b-4a8c-ad41-66c3f617cf79",
   "metadata": {},
   "outputs": [],
   "source": [
    "X_small['bedrooms'] = X_small.apply(lambda x: x['accommodates'] if not(x['bedrooms'] > 0) else x['bedrooms'], axis=1)\n",
    "X_small['beds'] = X_small.apply(lambda x: x['accommodates'] if not(x['beds'] > 0) else x['beds'], axis=1)"
   ]
  },
  {
   "cell_type": "code",
   "execution_count": 74,
   "id": "6fa082d0-a08b-4f89-87cd-3dc0753e93fb",
   "metadata": {},
   "outputs": [
    {
     "data": {
      "text/plain": [
       "0"
      ]
     },
     "execution_count": 74,
     "metadata": {},
     "output_type": "execute_result"
    }
   ],
   "source": [
    "sum(X_small.isna()['bedrooms'])"
   ]
  },
  {
   "cell_type": "code",
   "execution_count": 75,
   "id": "7f94c9ce-e790-4be5-819c-c4195f490c4c",
   "metadata": {},
   "outputs": [],
   "source": [
    "X_small_train, X_small_test, y_small_train, y_small_test = train_test_split(\n",
    "    X_small, y_small, test_size=0.3, random_state=42)\n",
    "X_small_val_train, X_small_val, y_small_val_train, y_small_val = train_test_split(\n",
    "    X_small_train, y_small_train, test_size=0.3, random_state=42)"
   ]
  },
  {
   "cell_type": "code",
   "execution_count": 76,
   "id": "7cc3680e-c3ad-4022-a82b-fe9d96ad96f6",
   "metadata": {},
   "outputs": [
    {
     "name": "stdout",
     "output_type": "stream",
     "text": [
      "Cutoff = 1, Mean score = 0.311, Standard error = 0.0444, n_features = 3\n",
      "Cutoff = 0.9, Mean score = 0.311, Standard error = 0.0444, n_features = 3\n",
      "Cutoff = 0.7, Mean score = 0.311, Standard error = 0.0444, n_features = 3\n",
      "Cutoff = 0.3, Mean score = 0.312, Standard error = 0.0444, n_features = 4\n",
      "Cutoff = 0.1, Mean score = 0.342, Standard error = 0.0462, n_features = 8\n",
      "Cutoff = 0.05, Mean score = 0.359, Standard error = 0.0475, n_features = 13\n",
      "Cutoff = 0.01, Mean score = 0.376, Standard error = 0.047, n_features = 39\n",
      "Cutoff = 0.005, Mean score = 0.379, Standard error = 0.0488, n_features = 48\n",
      "Cutoff = 0.003, Mean score = 0.384, Standard error = 0.0471, n_features = 61\n",
      "Cutoff = 0.001, Mean score = 0.395, Standard error = 0.0501, n_features = 79\n",
      "Cutoff = 0.0005, Mean score = 0.395, Standard error = 0.0507, n_features = 86\n",
      "Cutoff = 0, Mean score = -1.21e+22, Standard error = 1.05e+22, n_features = 103\n"
     ]
    }
   ],
   "source": [
    "cutoffs = [1, .9, .7, .3, .1, .05, .01, 0.005, 0.003, 0.001, 0.0005, 0]\n",
    "test_cutoffs(X_small_train, y_small_train, LinearRegression(), cutoffs);"
   ]
  },
  {
   "cell_type": "code",
   "execution_count": 79,
   "id": "7c02e046-d7c0-48b9-93a1-a5ee78fd18e1",
   "metadata": {},
   "outputs": [
    {
     "name": "stdout",
     "output_type": "stream",
     "text": [
      "Cutoff = 1, Mean score = 43.4, Standard error = 0.73, n_features = 3\n",
      "Cutoff = 0.9, Mean score = 43.4, Standard error = 0.73, n_features = 3\n",
      "Cutoff = 0.7, Mean score = 43.4, Standard error = 0.73, n_features = 3\n",
      "Cutoff = 0.3, Mean score = 45.2, Standard error = 0.711, n_features = 4\n",
      "Cutoff = 0.1, Mean score = 42.8, Standard error = 1.34, n_features = 8\n",
      "Cutoff = 0.05, Mean score = 42, Standard error = 1.01, n_features = 13\n",
      "Cutoff = 0.01, Mean score = 38, Standard error = 0.614, n_features = 39\n",
      "Cutoff = 0.005, Mean score = 37.6, Standard error = 0.83, n_features = 48\n",
      "Cutoff = 0.003, Mean score = 36.6, Standard error = 1.06, n_features = 61\n",
      "Cutoff = 0.001, Mean score = 34.9, Standard error = 1.08, n_features = 79\n",
      "Cutoff = 0.0005, Mean score = 34.8, Standard error = 1.1, n_features = 86\n",
      "Cutoff = 0, Mean score = 34, Standard error = 0.751, n_features = 103\n"
     ]
    }
   ],
   "source": [
    "cutoffs = [1, .9, .7, .3, .1, .05, .01, 0.005, 0.003, 0.001, 0.0005, 0]\n",
    "test_cutoffs(X_small_train, y_small_train, LinearRegression(), cutoffs, scoring=median_scorer);"
   ]
  },
  {
   "cell_type": "markdown",
   "id": "bfe78779-836e-4898-99c2-6615b462f8d7",
   "metadata": {
    "tags": []
   },
   "source": [
    "Not bad! It looks like I guessed some of the most important factors correctly."
   ]
  },
  {
   "cell_type": "code",
   "execution_count": 77,
   "id": "2a5b3793-f849-4557-b286-3232fa22eecb",
   "metadata": {},
   "outputs": [],
   "source": [
    "y_pred_small = fit_model(X_small_train, y_small_train, LinearRegression(), cutoff=0.0005)"
   ]
  },
  {
   "cell_type": "code",
   "execution_count": 78,
   "id": "df8cd5f7-e73b-4f06-aa61-45cf8e1c7a08",
   "metadata": {},
   "outputs": [
    {
     "data": {
      "image/png": "[encoded data removed]",
      "text/plain": [
       "<Figure size 432x288 with 1 Axes>"
      ]
     },
     "metadata": {
      "needs_background": "light"
     },
     "output_type": "display_data"
    },
    {
     "data": {
      "text/plain": [
       "38.16947366374975"
      ]
     },
     "execution_count": 78,
     "metadata": {},
     "output_type": "execute_result"
    }
   ],
   "source": [
    "df_pct_abs_err(y_pred_small, y_train_small, plot=True).median().item()"
   ]
  },
  {
   "cell_type": "markdown",
   "id": "d4a6d622-745b-4d05-aa10-30dd931c92b2",
   "metadata": {},
   "source": [
    "The median absolute error is slightly smaller than for my previous model."
   ]
  },
  {
   "cell_type": "markdown",
   "id": "ae8062b1-2e3d-433b-8f23-aa88d8a2f36b",
   "metadata": {},
   "source": [
    "Still, there is a long way to go to get predictions I'd consider good enough."
   ]
  },
  {
   "cell_type": "markdown",
   "id": "c6bf57df-42ce-45c1-aec2-23c018f2ab04",
   "metadata": {},
   "source": [
    "### Elastic Net"
   ]
  },
  {
   "cell_type": "markdown",
   "id": "2cae74f5-55e2-4cb8-a358-d87307dd82fd",
   "metadata": {},
   "source": [
    "There are more sophisticated models that help me get rid of irrelevent features by setting their weights to zero in the model. I'll use sklearn's `ElasticNet`, which has this favorable Lasso property while also having the L2 regularization properties of ridge regression."
   ]
  },
  {
   "cell_type": "code",
   "execution_count": 80,
   "id": "c892a2e4-222b-4ae5-a9bf-1d0a54a95d52",
   "metadata": {},
   "outputs": [],
   "source": [
    "from sklearn.linear_model import ElasticNet"
   ]
  },
  {
   "cell_type": "code",
   "execution_count": 81,
   "id": "32c58131-061c-4469-9c0c-eea472ff5583",
   "metadata": {},
   "outputs": [
    {
     "name": "stdout",
     "output_type": "stream",
     "text": [
      "Cutoff = 1e+03, Mean score = -0.00344, Standard error = 0.00336, n_features = 4\n",
      "Cutoff = 1, Mean score = 0.349, Standard error = 0.0496, n_features = 38\n",
      "Cutoff = 0.99, Mean score = 0.348, Standard error = 0.0496, n_features = 40\n",
      "Cutoff = 0.5, Mean score = 0.356, Standard error = 0.0483, n_features = 70\n",
      "Cutoff = 0.3, Mean score = 0.357, Standard error = 0.0485, n_features = 76\n",
      "Cutoff = 0.2, Mean score = 0.359, Standard error = 0.049, n_features = 79\n",
      "Cutoff = 0.1, Mean score = 0.375, Standard error = 0.0506, n_features = 87\n",
      "Cutoff = 0.05, Mean score = 0.382, Standard error = 0.0497, n_features = 99\n",
      "Cutoff = 0.01, Mean score = 0.392, Standard error = 0.0526, n_features = 166\n",
      "Cutoff = 0.005, Mean score = 0.397, Standard error = 0.0519, n_features = 205\n",
      "Cutoff = 0.002, Mean score = 0.399, Standard error = 0.0521, n_features = 246\n",
      "Cutoff = 0.001, Mean score = 0.429, Standard error = 0.055, n_features = 304\n",
      "Cutoff = 0.0005, Mean score = 0.428, Standard error = 0.0534, n_features = 361\n",
      "Cutoff = 0, Mean score = 0.423, Standard error = 0.0588, n_features = 654\n"
     ]
    }
   ],
   "source": [
    "cutoffs = [1000, 1, .99, .5, .3, .2, .1, .05, .01, 0.005, 0.002, 0.001, 0.0005, 0]\n",
    "test_cutoffs(X_train, y_train, ElasticNet(), cutoffs);"
   ]
  },
  {
   "cell_type": "code",
   "execution_count": 82,
   "id": "ccc84928-061d-48c9-8f62-3aef30991881",
   "metadata": {},
   "outputs": [
    {
     "name": "stdout",
     "output_type": "stream",
     "text": [
      "Cutoff = 1e+03, Mean score = 59.2, Standard error = 1.72, n_features = 4\n",
      "Cutoff = 1, Mean score = 38.6, Standard error = 0.807, n_features = 38\n",
      "Cutoff = 0.99, Mean score = 38.6, Standard error = 0.809, n_features = 40\n",
      "Cutoff = 0.5, Mean score = 38.7, Standard error = 1.05, n_features = 70\n",
      "Cutoff = 0.3, Mean score = 38.6, Standard error = 1.22, n_features = 76\n",
      "Cutoff = 0.2, Mean score = 38.1, Standard error = 1.24, n_features = 79\n",
      "Cutoff = 0.1, Mean score = 36.9, Standard error = 1.06, n_features = 87\n",
      "Cutoff = 0.05, Mean score = 35.4, Standard error = 0.813, n_features = 99\n",
      "Cutoff = 0.01, Mean score = 34.1, Standard error = 0.85, n_features = 166\n",
      "Cutoff = 0.005, Mean score = 34.2, Standard error = 0.756, n_features = 205\n",
      "Cutoff = 0.002, Mean score = 33.7, Standard error = 0.722, n_features = 246\n",
      "Cutoff = 0.001, Mean score = 32.9, Standard error = 0.523, n_features = 304\n",
      "Cutoff = 0.0005, Mean score = 32.9, Standard error = 0.455, n_features = 361\n",
      "Cutoff = 0, Mean score = 32.2, Standard error = 0.4, n_features = 654\n"
     ]
    }
   ],
   "source": [
    "cutoffs = [1000, 1, .99, .5, .3, .2, .1, .05, .01, 0.005, 0.002, 0.001, 0.0005, 0]\n",
    "test_cutoffs(X_train, y_train, ElasticNet(), cutoffs, scoring=median_scorer);"
   ]
  },
  {
   "cell_type": "code",
   "execution_count": 83,
   "id": "503c3113-0c9f-4d0b-addb-d4f4409a3632",
   "metadata": {
    "tags": []
   },
   "outputs": [],
   "source": [
    "y_pred_E = fit_model(X_train, y_train, ElasticNet(), cutoff=0)"
   ]
  },
  {
   "cell_type": "code",
   "execution_count": 84,
   "id": "1d1b8735-0cf3-4882-bac9-42668a7fad05",
   "metadata": {},
   "outputs": [
    {
     "data": {
      "image/png": "[encoded data removed]",
      "text/plain": [
       "<Figure size 432x288 with 1 Axes>"
      ]
     },
     "metadata": {
      "needs_background": "light"
     },
     "output_type": "display_data"
    }
   ],
   "source": [
    "plt.plot(np.abs(y_train - y_pred_E), 'o')\n",
    "plt.ylabel('Absolute error in price prediction')\n",
    "plt.show()"
   ]
  },
  {
   "cell_type": "code",
   "execution_count": 85,
   "id": "2e3d0b46-d4c1-42c4-9d7f-e07c47529782",
   "metadata": {},
   "outputs": [
    {
     "data": {
      "image/png": "[encoded data removed]",
      "text/plain": [
       "<Figure size 432x288 with 1 Axes>"
      ]
     },
     "metadata": {
      "needs_background": "light"
     },
     "output_type": "display_data"
    }
   ],
   "source": [
    "plt.plot(y_pred_E, 'bo')\n",
    "plt.axhline(y=0, linestyle='--')\n",
    "plt.ylabel('Predicted price (USD)')\n",
    "plt.show()"
   ]
  },
  {
   "cell_type": "code",
   "execution_count": 86,
   "id": "368324b3-f6c9-41fb-baa3-d5e80995e99a",
   "metadata": {},
   "outputs": [
    {
     "data": {
      "image/png": "[encoded data removed]",
      "text/plain": [
       "<Figure size 432x288 with 1 Axes>"
      ]
     },
     "metadata": {
      "needs_background": "light"
     },
     "output_type": "display_data"
    }
   ],
   "source": [
    "df_err_E = df_pct_abs_err(y_pred_E, y_train, plot=True)"
   ]
  },
  {
   "cell_type": "code",
   "execution_count": 87,
   "id": "a094372b-b44e-44d9-b28a-d549a78bae06",
   "metadata": {},
   "outputs": [
    {
     "data": {
      "text/plain": [
       "33.586582407989596"
      ]
     },
     "execution_count": 87,
     "metadata": {},
     "output_type": "execute_result"
    }
   ],
   "source": [
    "df_err_E.median().item()"
   ]
  },
  {
   "cell_type": "markdown",
   "id": "941cd326-b396-44da-acab-59f46b3c5284",
   "metadata": {},
   "source": [
    "The CV score (mean $R^2$ between folds) and the median absolute error have both improved, though not substantially."
   ]
  },
  {
   "cell_type": "markdown",
   "id": "ed8e1891-5677-46d0-8415-2f768ddf4b76",
   "metadata": {},
   "source": [
    "What are the most important features? For these results to be robust, I average the coefficients over the five folds obtained during cross-validation."
   ]
  },
  {
   "cell_type": "code",
   "execution_count": 119,
   "id": "bf9d4259-8a34-44b6-ac0f-457cf7c9ee85",
   "metadata": {
    "tags": []
   },
   "outputs": [],
   "source": [
    "cv_dict = cross_validate(pipe, X_train, y_train, return_estimator=True)\n",
    "estimators = cv_dict['estimator']\n",
    "coeffs = np.zeros(X_train.shape[1])\n",
    "for i in range(5):\n",
    "    coeffs += estimators[i].named_steps['elasticnet'].coef_\n",
    "coeffs /= 5"
   ]
  },
  {
   "cell_type": "code",
   "execution_count": 120,
   "id": "86a12aa4-4f43-4cc8-8d7d-0cae85b066a2",
   "metadata": {},
   "outputs": [
    {
     "data": {
      "text/html": [
       "<div>\n",
       "<style scoped>\n",
       "    .dataframe tbody tr th:only-of-type {\n",
       "        vertical-align: middle;\n",
       "    }\n",
       "\n",
       "    .dataframe tbody tr th {\n",
       "        vertical-align: top;\n",
       "    }\n",
       "\n",
       "    .dataframe thead th {\n",
       "        text-align: right;\n",
       "    }\n",
       "</style>\n",
       "<table border=\"1\" class=\"dataframe\">\n",
       "  <thead>\n",
       "    <tr style=\"text-align: right;\">\n",
       "      <th></th>\n",
       "      <th>feature</th>\n",
       "      <th>coeff</th>\n",
       "      <th>abs_coeff</th>\n",
       "    </tr>\n",
       "  </thead>\n",
       "  <tbody>\n",
       "    <tr>\n",
       "      <th>730</th>\n",
       "      <td>bathrooms_text_6 baths</td>\n",
       "      <td>28.378552</td>\n",
       "      <td>28.378552</td>\n",
       "    </tr>\n",
       "    <tr>\n",
       "      <th>7</th>\n",
       "      <td>accommodates</td>\n",
       "      <td>23.88561</td>\n",
       "      <td>23.88561</td>\n",
       "    </tr>\n",
       "    <tr>\n",
       "      <th>8</th>\n",
       "      <td>bedrooms</td>\n",
       "      <td>23.043712</td>\n",
       "      <td>23.043712</td>\n",
       "    </tr>\n",
       "    <tr>\n",
       "      <th>9</th>\n",
       "      <td>beds</td>\n",
       "      <td>20.843689</td>\n",
       "      <td>20.843689</td>\n",
       "    </tr>\n",
       "    <tr>\n",
       "      <th>714</th>\n",
       "      <td>bathrooms_text_10 baths</td>\n",
       "      <td>19.09428</td>\n",
       "      <td>19.09428</td>\n",
       "    </tr>\n",
       "    <tr>\n",
       "      <th>731</th>\n",
       "      <td>bathrooms_text_6.5 baths</td>\n",
       "      <td>15.865909</td>\n",
       "      <td>15.865909</td>\n",
       "    </tr>\n",
       "    <tr>\n",
       "      <th>724</th>\n",
       "      <td>bathrooms_text_3.5 baths</td>\n",
       "      <td>13.909972</td>\n",
       "      <td>13.909972</td>\n",
       "    </tr>\n",
       "    <tr>\n",
       "      <th>732</th>\n",
       "      <td>bathrooms_text_7 baths</td>\n",
       "      <td>13.229963</td>\n",
       "      <td>13.229963</td>\n",
       "    </tr>\n",
       "    <tr>\n",
       "      <th>727</th>\n",
       "      <td>bathrooms_text_4.5 baths</td>\n",
       "      <td>12.740377</td>\n",
       "      <td>12.740377</td>\n",
       "    </tr>\n",
       "    <tr>\n",
       "      <th>469</th>\n",
       "      <td>host_neighbourhood_Lake View</td>\n",
       "      <td>12.408811</td>\n",
       "      <td>12.408811</td>\n",
       "    </tr>\n",
       "    <tr>\n",
       "      <th>728</th>\n",
       "      <td>bathrooms_text_5 baths</td>\n",
       "      <td>11.991649</td>\n",
       "      <td>11.991649</td>\n",
       "    </tr>\n",
       "    <tr>\n",
       "      <th>722</th>\n",
       "      <td>bathrooms_text_3 baths</td>\n",
       "      <td>11.627505</td>\n",
       "      <td>11.627505</td>\n",
       "    </tr>\n",
       "    <tr>\n",
       "      <th>668</th>\n",
       "      <td>property_type_Entire residential home</td>\n",
       "      <td>10.678041</td>\n",
       "      <td>10.678041</td>\n",
       "    </tr>\n",
       "    <tr>\n",
       "      <th>709</th>\n",
       "      <td>bathrooms_text_1 bath</td>\n",
       "      <td>-10.39957</td>\n",
       "      <td>10.39957</td>\n",
       "    </tr>\n",
       "    <tr>\n",
       "      <th>720</th>\n",
       "      <td>bathrooms_text_2.5 baths</td>\n",
       "      <td>10.296847</td>\n",
       "      <td>10.296847</td>\n",
       "    </tr>\n",
       "    <tr>\n",
       "      <th>729</th>\n",
       "      <td>bathrooms_text_5.5 baths</td>\n",
       "      <td>9.528106</td>\n",
       "      <td>9.528106</td>\n",
       "    </tr>\n",
       "    <tr>\n",
       "      <th>725</th>\n",
       "      <td>bathrooms_text_4 baths</td>\n",
       "      <td>8.68149</td>\n",
       "      <td>8.68149</td>\n",
       "    </tr>\n",
       "    <tr>\n",
       "      <th>18</th>\n",
       "      <td>availability_30</td>\n",
       "      <td>8.333509</td>\n",
       "      <td>8.333509</td>\n",
       "    </tr>\n",
       "    <tr>\n",
       "      <th>630</th>\n",
       "      <td>neighbourhood_cleansed_Near North Side</td>\n",
       "      <td>8.132868</td>\n",
       "      <td>8.132868</td>\n",
       "    </tr>\n",
       "    <tr>\n",
       "      <th>429</th>\n",
       "      <td>host_neighbourhood_Chicago Loop</td>\n",
       "      <td>7.782951</td>\n",
       "      <td>7.782951</td>\n",
       "    </tr>\n",
       "    <tr>\n",
       "      <th>116</th>\n",
       "      <td>host_location_Carson City, Nevada, United States</td>\n",
       "      <td>7.716823</td>\n",
       "      <td>7.716823</td>\n",
       "    </tr>\n",
       "    <tr>\n",
       "      <th>733</th>\n",
       "      <td>bathrooms_text_7.5 baths</td>\n",
       "      <td>7.716818</td>\n",
       "      <td>7.716818</td>\n",
       "    </tr>\n",
       "    <tr>\n",
       "      <th>344</th>\n",
       "      <td>host_location_Springfield, Illinois, United St...</td>\n",
       "      <td>7.542678</td>\n",
       "      <td>7.542678</td>\n",
       "    </tr>\n",
       "    <tr>\n",
       "      <th>307</th>\n",
       "      <td>host_location_Reading, Pennsylvania, United St...</td>\n",
       "      <td>7.020292</td>\n",
       "      <td>7.020292</td>\n",
       "    </tr>\n",
       "    <tr>\n",
       "      <th>302</th>\n",
       "      <td>host_location_Portland, Oregon, United States</td>\n",
       "      <td>6.597115</td>\n",
       "      <td>6.597115</td>\n",
       "    </tr>\n",
       "    <tr>\n",
       "      <th>24</th>\n",
       "      <td>number_of_reviews_l30d</td>\n",
       "      <td>-6.595704</td>\n",
       "      <td>6.595704</td>\n",
       "    </tr>\n",
       "    <tr>\n",
       "      <th>711</th>\n",
       "      <td>bathrooms_text_1 shared bath</td>\n",
       "      <td>-6.504719</td>\n",
       "      <td>6.504719</td>\n",
       "    </tr>\n",
       "    <tr>\n",
       "      <th>1</th>\n",
       "      <td>host_response_rate</td>\n",
       "      <td>-6.035189</td>\n",
       "      <td>6.035189</td>\n",
       "    </tr>\n",
       "    <tr>\n",
       "      <th>22</th>\n",
       "      <td>number_of_reviews</td>\n",
       "      <td>-6.023487</td>\n",
       "      <td>6.023487</td>\n",
       "    </tr>\n",
       "    <tr>\n",
       "      <th>556</th>\n",
       "      <td>host_neighbourhood_West Loop/Greektown</td>\n",
       "      <td>6.018806</td>\n",
       "      <td>6.018806</td>\n",
       "    </tr>\n",
       "  </tbody>\n",
       "</table>\n",
       "</div>"
      ],
      "text/plain": [
       "                                               feature      coeff  abs_coeff\n",
       "730                             bathrooms_text_6 baths  28.378552  28.378552\n",
       "7                                         accommodates   23.88561   23.88561\n",
       "8                                             bedrooms  23.043712  23.043712\n",
       "9                                                 beds  20.843689  20.843689\n",
       "714                            bathrooms_text_10 baths   19.09428   19.09428\n",
       "731                           bathrooms_text_6.5 baths  15.865909  15.865909\n",
       "724                           bathrooms_text_3.5 baths  13.909972  13.909972\n",
       "732                             bathrooms_text_7 baths  13.229963  13.229963\n",
       "727                           bathrooms_text_4.5 baths  12.740377  12.740377\n",
       "469                       host_neighbourhood_Lake View  12.408811  12.408811\n",
       "728                             bathrooms_text_5 baths  11.991649  11.991649\n",
       "722                             bathrooms_text_3 baths  11.627505  11.627505\n",
       "668              property_type_Entire residential home  10.678041  10.678041\n",
       "709                              bathrooms_text_1 bath  -10.39957   10.39957\n",
       "720                           bathrooms_text_2.5 baths  10.296847  10.296847\n",
       "729                           bathrooms_text_5.5 baths   9.528106   9.528106\n",
       "725                             bathrooms_text_4 baths    8.68149    8.68149\n",
       "18                                     availability_30   8.333509   8.333509\n",
       "630             neighbourhood_cleansed_Near North Side   8.132868   8.132868\n",
       "429                    host_neighbourhood_Chicago Loop   7.782951   7.782951\n",
       "116   host_location_Carson City, Nevada, United States   7.716823   7.716823\n",
       "733                           bathrooms_text_7.5 baths   7.716818   7.716818\n",
       "344  host_location_Springfield, Illinois, United St...   7.542678   7.542678\n",
       "307  host_location_Reading, Pennsylvania, United St...   7.020292   7.020292\n",
       "302      host_location_Portland, Oregon, United States   6.597115   6.597115\n",
       "24                              number_of_reviews_l30d  -6.595704   6.595704\n",
       "711                       bathrooms_text_1 shared bath  -6.504719   6.504719\n",
       "1                                   host_response_rate  -6.035189   6.035189\n",
       "22                                   number_of_reviews  -6.023487   6.023487\n",
       "556             host_neighbourhood_West Loop/Greektown   6.018806   6.018806"
      ]
     },
     "execution_count": 120,
     "metadata": {},
     "output_type": "execute_result"
    }
   ],
   "source": [
    "df = pd.DataFrame(np.array([X_train.columns, coeffs, np.abs(coeffs)]).T, columns=['feature','coeff', 'abs_coeff'])\n",
    "df = df.sort_values(by='abs_coeff', ascending=False)\n",
    "df.head(30)"
   ]
  },
  {
   "cell_type": "markdown",
   "id": "f9881737-3afd-4856-9a9e-e8da465eb7d4",
   "metadata": {},
   "source": [
    "Interestingly, the top 20 features or so all have positive coefficients, except for one (the \"only one bathroom\" feature). The larger the values of those features are, the larger we expect the price to be."
   ]
  },
  {
   "cell_type": "markdown",
   "id": "32745fca-73fe-4576-bc86-49aac39e1e0e",
   "metadata": {},
   "source": [
    "Note that ElasticNet eliminates some features by setting their coefficients to zero."
   ]
  },
  {
   "cell_type": "code",
   "execution_count": 121,
   "id": "01fe7643-45cd-45d4-9648-b1cb87f8dfe4",
   "metadata": {},
   "outputs": [
    {
     "data": {
      "text/plain": [
       "159"
      ]
     },
     "execution_count": 121,
     "metadata": {},
     "output_type": "execute_result"
    }
   ],
   "source": [
    "len(df.loc[df['abs_coeff']==0])"
   ]
  },
  {
   "cell_type": "code",
   "execution_count": 122,
   "id": "ee7ad5a1-cc22-4f3c-968e-e2b040c706f0",
   "metadata": {},
   "outputs": [],
   "source": [
    "X_E = X.drop(list(df.loc[df['abs_coeff']==0, 'feature']), axis=1)"
   ]
  },
  {
   "cell_type": "code",
   "execution_count": 123,
   "id": "25d256d7-475e-45e1-920a-7dbba8eef8b0",
   "metadata": {},
   "outputs": [],
   "source": [
    "X_E_train, X_E_test, y_E_train, y_E_test = train_test_split(\n",
    "    X_E, y, test_size=0.3, random_state=42)\n",
    "X_E_val_train, X_E_val, y_E_val_train, y_E_val = train_test_split(\n",
    "    X_E_train, y_E_train, test_size=0.3, random_state=42)"
   ]
  },
  {
   "cell_type": "markdown",
   "id": "0958adb2-4e5a-465c-828e-bef0318fd13e",
   "metadata": {},
   "source": [
    "I'd like to build some more accurate models, even if they are less interpretable. Things to try:\n",
    "\n",
    "- k-nearest neighbors\n",
    "- Random forest\n",
    "- Gradient boosting\n",
    "- Neural network"
   ]
  },
  {
   "cell_type": "markdown",
   "id": "633bfda7-850a-4771-810a-ec8eef2712e3",
   "metadata": {},
   "source": [
    "### k-Nearest Neighbors"
   ]
  },
  {
   "cell_type": "code",
   "execution_count": 124,
   "id": "87511eaa-c8a8-426e-b0a9-978a6cf5622b",
   "metadata": {},
   "outputs": [],
   "source": [
    "from sklearn.neighbors import KNeighborsRegressor"
   ]
  },
  {
   "cell_type": "code",
   "execution_count": 125,
   "id": "e9a4718a-3555-4bcb-a1dc-51ea92ca6ec8",
   "metadata": {},
   "outputs": [
    {
     "name": "stdout",
     "output_type": "stream",
     "text": [
      "Cutoff = 1e+03, Mean score = -0.203, Standard error = 0.0654, n_features = 4\n",
      "Cutoff = 1, Mean score = 0.353, Standard error = 0.0419, n_features = 38\n",
      "Cutoff = 0.99, Mean score = 0.352, Standard error = 0.0418, n_features = 40\n",
      "Cutoff = 0.5, Mean score = 0.337, Standard error = 0.0429, n_features = 70\n",
      "Cutoff = 0.3, Mean score = 0.329, Standard error = 0.041, n_features = 76\n",
      "Cutoff = 0.2, Mean score = 0.334, Standard error = 0.0379, n_features = 79\n",
      "Cutoff = 0.1, Mean score = 0.35, Standard error = 0.041, n_features = 87\n",
      "Cutoff = 0.05, Mean score = 0.367, Standard error = 0.0422, n_features = 99\n",
      "Cutoff = 0.01, Mean score = 0.327, Standard error = 0.0437, n_features = 166\n",
      "Cutoff = 0.005, Mean score = 0.297, Standard error = 0.0394, n_features = 205\n",
      "Cutoff = 0.002, Mean score = 0.324, Standard error = 0.0384, n_features = 246\n",
      "Cutoff = 0.001, Mean score = 0.334, Standard error = 0.0412, n_features = 304\n",
      "Cutoff = 0.0005, Mean score = 0.328, Standard error = 0.0378, n_features = 361\n",
      "Cutoff = 0, Mean score = 0.313, Standard error = 0.0297, n_features = 654\n"
     ]
    },
    {
     "data": {
      "text/plain": [
       "array([0.32708937, 0.36682487, 0.18315779, 0.34203655, 0.34810666])"
      ]
     },
     "execution_count": 125,
     "metadata": {},
     "output_type": "execute_result"
    }
   ],
   "source": [
    "cutoffs = [1000, 1, .99, .5, .3, .2, .1, .05, .01, 0.005, 0.002, 0.001, 0.0005, 0]\n",
    "test_cutoffs(X_train, y_train, KNeighborsRegressor(weights='distance'), cutoffs)"
   ]
  },
  {
   "cell_type": "code",
   "execution_count": 127,
   "id": "850b1062-35c3-4c7f-abf8-c3f82c5cc2c3",
   "metadata": {},
   "outputs": [
    {
     "name": "stdout",
     "output_type": "stream",
     "text": [
      "Cutoff = 1e+03, Mean score = 35.1, Standard error = 0.74, n_features = 4\n",
      "Cutoff = 1, Mean score = 29.2, Standard error = 0.268, n_features = 38\n",
      "Cutoff = 0.99, Mean score = 29.3, Standard error = 0.289, n_features = 40\n",
      "Cutoff = 0.5, Mean score = 30.1, Standard error = 0.304, n_features = 70\n",
      "Cutoff = 0.3, Mean score = 29.4, Standard error = 0.636, n_features = 76\n",
      "Cutoff = 0.2, Mean score = 27.9, Standard error = 0.593, n_features = 79\n",
      "Cutoff = 0.1, Mean score = 26.1, Standard error = 0.734, n_features = 87\n",
      "Cutoff = 0.05, Mean score = 25.1, Standard error = 0.336, n_features = 99\n",
      "Cutoff = 0.01, Mean score = 25.7, Standard error = 0.658, n_features = 166\n",
      "Cutoff = 0.005, Mean score = 26.5, Standard error = 0.825, n_features = 205\n",
      "Cutoff = 0.002, Mean score = 26.7, Standard error = 0.74, n_features = 246\n",
      "Cutoff = 0.001, Mean score = 26.9, Standard error = 0.816, n_features = 304\n",
      "Cutoff = 0.0005, Mean score = 26.9, Standard error = 0.629, n_features = 361\n",
      "Cutoff = 0, Mean score = 27.3, Standard error = 0.537, n_features = 654\n"
     ]
    },
    {
     "data": {
      "text/plain": [
       "array([27.61990646, 25.55942014, 28.83317175, 26.21965142, 28.04837104])"
      ]
     },
     "execution_count": 127,
     "metadata": {},
     "output_type": "execute_result"
    }
   ],
   "source": [
    "cutoffs = [1000, 1, .99, .5, .3, .2, .1, .05, .01, 0.005, 0.002, 0.001, 0.0005, 0]\n",
    "test_cutoffs(X_train, y_train, KNeighborsRegressor(weights='distance'), cutoffs, scoring=median_scorer)"
   ]
  },
  {
   "cell_type": "markdown",
   "id": "9bd362a5-61fb-48e0-8edb-2a9d0c28c784",
   "metadata": {},
   "source": [
    "The $R^2$ scores are worse than for the previous model, but the median absolute error is better. K-nearest neighbors does not use the $L^2$ loss as the previous methods do; it instead looks at the prices for the nearest neighbors (in this case, 5 such neighbors) of a listing to estimate that listing's price. Thus, it is not as sensitive to outliers."
   ]
  },
  {
   "cell_type": "code",
   "execution_count": 95,
   "id": "05e82250-bba9-4ddd-a4af-46ed60b768f5",
   "metadata": {
    "tags": []
   },
   "outputs": [],
   "source": [
    "y_pred_knn = fit_model(X_train, y_train, KNeighborsRegressor(weights='distance'), cutoff=0.5)"
   ]
  },
  {
   "cell_type": "code",
   "execution_count": 97,
   "id": "557bd2a8-6c0d-409b-b384-eac3688bf2a0",
   "metadata": {},
   "outputs": [
    {
     "data": {
      "image/png": "[encoded data removed]",
      "text/plain": [
       "<Figure size 432x288 with 1 Axes>"
      ]
     },
     "metadata": {
      "needs_background": "light"
     },
     "output_type": "display_data"
    }
   ],
   "source": [
    "df_err_knn = df_pct_abs_err(y_pred_knn, y_train, plot=True)"
   ]
  },
  {
   "cell_type": "code",
   "execution_count": 98,
   "id": "ce7c5f25-c91b-4289-8037-8e7a36cd797e",
   "metadata": {},
   "outputs": [
    {
     "data": {
      "text/plain": [
       "31.11308683976694"
      ]
     },
     "execution_count": 98,
     "metadata": {},
     "output_type": "execute_result"
    }
   ],
   "source": [
    "df_err_knn['pct_abs_err'].median()"
   ]
  },
  {
   "cell_type": "code",
   "execution_count": 99,
   "id": "13b751d0-4f3b-4837-a563-702bd84653e2",
   "metadata": {},
   "outputs": [
    {
     "data": {
      "image/png": "[encoded data removed]",
      "text/plain": [
       "<Figure size 432x288 with 1 Axes>"
      ]
     },
     "metadata": {
      "needs_background": "light"
     },
     "output_type": "display_data"
    }
   ],
   "source": [
    "plt.plot(np.abs(y_train - y_pred_knn), 'o')\n",
    "plt.ylabel('Absolute error in price prediction')\n",
    "plt.show()"
   ]
  },
  {
   "cell_type": "code",
   "execution_count": 100,
   "id": "6b6238a3-8828-40d0-a252-403f46f62ef4",
   "metadata": {},
   "outputs": [
    {
     "data": {
      "image/png": "[encoded data removed]",
      "text/plain": [
       "<Figure size 432x288 with 1 Axes>"
      ]
     },
     "metadata": {
      "needs_background": "light"
     },
     "output_type": "display_data"
    }
   ],
   "source": [
    "plt.plot(y_train_knn, 'bo')\n",
    "plt.axhline(y=0, linestyle='--')\n",
    "plt.ylabel('Predicted price (USD)')\n",
    "plt.show()"
   ]
  },
  {
   "cell_type": "code",
   "execution_count": 74,
   "id": "f03fe747-a62c-4a17-8042-984b3054b7ec",
   "metadata": {
    "tags": []
   },
   "outputs": [],
   "source": [
    "pipe, X_test_cutoff = fit_model(X_train, y_train, X_train, KNeighborsRegressor(weights='distance'), cutoff=-1)\n",
    "y_pred_knn = pipe.predict(X_test_cutoff)"
   ]
  },
  {
   "cell_type": "code",
   "execution_count": 75,
   "id": "8f6f644a-5526-428b-afcc-404060c32962",
   "metadata": {},
   "outputs": [
    {
     "data": {
      "text/plain": [
       "0.058106125837373956"
      ]
     },
     "execution_count": 75,
     "metadata": {},
     "output_type": "execute_result"
    }
   ],
   "source": [
    "pipe.score(X_test, y_test)"
   ]
  },
  {
   "cell_type": "code",
   "execution_count": 110,
   "id": "62188661-6f1b-426a-a044-4fdf39a232ba",
   "metadata": {},
   "outputs": [],
   "source": [
    "pipe, X_train, X_test, y_train, y_test = fit_model(X, y, KNeighborsRegressor(weights='distance'), 0)"
   ]
  },
  {
   "cell_type": "code",
   "execution_count": 111,
   "id": "234458c8-7a76-4456-a553-1bec0c12291d",
   "metadata": {},
   "outputs": [
    {
     "data": {
      "text/plain": [
       "0.945492970822294"
      ]
     },
     "execution_count": 111,
     "metadata": {},
     "output_type": "execute_result"
    }
   ],
   "source": [
    "pipe.score(X_test, y_test)"
   ]
  },
  {
   "cell_type": "markdown",
   "id": "f6c79a5f-a14d-4765-96db-340fd178c34e",
   "metadata": {},
   "source": [
    "Much, much better!\n",
    "\n",
    "What if I use the information I gained from the Elastic Net regression? That is, I will use the data with irrelevant features removed."
   ]
  },
  {
   "cell_type": "code",
   "execution_count": 112,
   "id": "659d7e57-e040-4e26-bc6a-ebfeb8275937",
   "metadata": {},
   "outputs": [],
   "source": [
    "pipe, X_train, X_test, y_train, y_test = fit_model(X_E, y, KNeighborsRegressor(weights='distance'), 0)"
   ]
  },
  {
   "cell_type": "code",
   "execution_count": 113,
   "id": "c348e0f9-b4f0-40fd-bfbf-c543580d8044",
   "metadata": {},
   "outputs": [
    {
     "data": {
      "text/plain": [
       "0.9454464481117824"
      ]
     },
     "execution_count": 113,
     "metadata": {},
     "output_type": "execute_result"
    }
   ],
   "source": [
    "pipe.score(X_test, y_test)"
   ]
  },
  {
   "cell_type": "markdown",
   "id": "e0adf1d4-4060-4fcf-8d6b-d3340953124d",
   "metadata": {},
   "source": [
    "Not much of an improvement."
   ]
  },
  {
   "cell_type": "code",
   "execution_count": 216,
   "id": "8a22f7e0-31e0-4b8a-b501-9d3b4f9db373",
   "metadata": {},
   "outputs": [
    {
     "data": {
      "text/plain": [
       "array([0.24357915, 0.97101526, 0.74296027, 0.98153118, 0.97929122])"
      ]
     },
     "execution_count": 216,
     "metadata": {},
     "output_type": "execute_result"
    }
   ],
   "source": [
    "pipe = make_pipeline(StandardScaler(), KNeighborsRegressor(weights='distance'))\n",
    "cutoff = 0.001\n",
    "X_cutoff = X.iloc[:, np.where((X.sum()/len(X) > cutoff) == True)[0]]\n",
    "X_train, X_test, y_train, y_test = train_test_split(\n",
    "    X_cutoff, y, test_size=0.3, random_state=4)\n",
    "cross_val_score(pipe, X_train, y=y_train)"
   ]
  },
  {
   "cell_type": "code",
   "execution_count": 218,
   "id": "5d9245a8-8fa2-4185-8ddc-dfe6d596f7e7",
   "metadata": {},
   "outputs": [
    {
     "name": "stdout",
     "output_type": "stream",
     "text": [
      "Cutoff =  1e+03, train_score =  0.979, test_score =  0.946, n_features = 4\n",
      "Cutoff =  1, train_score =  1, test_score =  0.913, n_features = 37\n",
      "Cutoff =  0.99, train_score =  1, test_score =  0.913, n_features = 39\n",
      "Cutoff =  0.9, train_score =  1, test_score =  0.902, n_features = 46\n",
      "Cutoff =  0.7, train_score =  1, test_score =  0.97, n_features = 61\n",
      "Cutoff =  0.5, train_score =  1, test_score =  0.92, n_features = 69\n",
      "Cutoff =  0.3, train_score =  1, test_score =  0.862, n_features = 75\n",
      "Cutoff =  0.2, train_score =  1, test_score =  0.861, n_features = 78\n",
      "Cutoff =  0.1, train_score =  1, test_score =  0.894, n_features = 85\n",
      "Cutoff =  0.05, train_score =  1, test_score =  0.943, n_features = 98\n",
      "Cutoff =  0.01, train_score =  1, test_score =  0.93, n_features = 164\n",
      "Cutoff =  0.005, train_score =  1, test_score =  0.826, n_features = 202\n",
      "Cutoff =  0.001, train_score =  1, test_score =  0.833, n_features = 307\n",
      "Cutoff =  0, train_score =  1, test_score =  0.833, n_features = 739\n"
     ]
    }
   ],
   "source": [
    "cutoffs = [1000, 1, .99, .9, .7, .5, .3, .2, .1, .05, .01, 0.005, 0.001, 0]\n",
    "test_cutoffs(X, y, KNeighborsRegressor(weights='distance'), cutoffs);"
   ]
  },
  {
   "cell_type": "code",
   "execution_count": 114,
   "id": "2aa47ca9-ef0f-47c6-bacb-44cab5d83059",
   "metadata": {},
   "outputs": [],
   "source": [
    "y_pred_knn = pipe.predict(X_test)"
   ]
  },
  {
   "cell_type": "code",
   "execution_count": 116,
   "id": "2de4efce-293d-4cf5-9d2f-e3341ff3bd3a",
   "metadata": {},
   "outputs": [
    {
     "data": {
      "text/plain": [
       "0.9454464481117824"
      ]
     },
     "execution_count": 116,
     "metadata": {},
     "output_type": "execute_result"
    }
   ],
   "source": [
    "u = ((y_test - y_pred_knn)**2).sum()\n",
    "v = ((y_test - y_test.mean())**2).sum()\n",
    "1 - u/v"
   ]
  },
  {
   "cell_type": "code",
   "execution_count": 123,
   "id": "622607f9-2543-4401-9805-225954f54f6d",
   "metadata": {},
   "outputs": [
    {
     "data": {
      "text/plain": [
       "95.8132806775484"
      ]
     },
     "execution_count": 123,
     "metadata": {},
     "output_type": "execute_result"
    }
   ],
   "source": [
    "y_pred_knn[100]"
   ]
  },
  {
   "cell_type": "code",
   "execution_count": 122,
   "id": "d765ecad-a83e-44e0-ba8f-324539c0816b",
   "metadata": {},
   "outputs": [
    {
     "data": {
      "text/plain": [
       "73.0"
      ]
     },
     "execution_count": 122,
     "metadata": {},
     "output_type": "execute_result"
    }
   ],
   "source": [
    "list(y_test)[100]"
   ]
  },
  {
   "cell_type": "code",
   "execution_count": 119,
   "id": "a008680c-2850-404a-88c1-0f2325830d4d",
   "metadata": {},
   "outputs": [
    {
     "data": {
      "text/plain": [
       "95.5514158090241"
      ]
     },
     "execution_count": 119,
     "metadata": {},
     "output_type": "execute_result"
    }
   ],
   "source": [
    "np.mean(np.abs((y_pred_knn - y_test)))"
   ]
  },
  {
   "cell_type": "code",
   "execution_count": 125,
   "id": "850c2f18-eeb6-4191-b56c-d9574dd539a5",
   "metadata": {},
   "outputs": [
    {
     "data": {
      "text/plain": [
       "0.6417666462579966"
      ]
     },
     "execution_count": 125,
     "metadata": {},
     "output_type": "execute_result"
    }
   ],
   "source": [
    "np.mean(np.abs((y_pred_knn - y_test)/y_test))"
   ]
  },
  {
   "cell_type": "markdown",
   "id": "31ff7961-6e07-462f-be9a-5a5573e60291",
   "metadata": {},
   "source": [
    "Intuitively speaking, this is still quite far from a good predictor. On average, it's off from the true values by about $100, or 64%."
   ]
  },
  {
   "cell_type": "code",
   "execution_count": 126,
   "id": "a67d426d-ca34-4ced-8afd-c0020348d791",
   "metadata": {},
   "outputs": [
    {
     "data": {
      "image/png": "[encoded data removed]",
      "text/plain": [
       "<Figure size 720x576 with 1 Axes>"
      ]
     },
     "metadata": {
      "needs_background": "light"
     },
     "output_type": "display_data"
    }
   ],
   "source": [
    "plt.figure(figsize=(10,8))\n",
    "plt.plot(y_pred_knn - y_test, 'bo')\n",
    "plt.axhline(y=0, linestyle='--')\n",
    "#plt.ylim(-200, 200)\n",
    "plt.show()"
   ]
  },
  {
   "cell_type": "code",
   "execution_count": 229,
   "id": "af7e1d10-c7cd-43db-b5a9-1585732f5a7f",
   "metadata": {},
   "outputs": [
    {
     "data": {
      "text/plain": [
       "id                                                                15287352\n",
       "listing_url                          https://www.airbnb.com/rooms/15287352\n",
       "scrape_id                                                   20211018161857\n",
       "last_scraped                                                    2021-10-18\n",
       "name                                     Wrigleyville Mansion - Sleeps 16+\n",
       "description              Wrigleyville Mansion is the perfect place to h...\n",
       "neighborhood_overview    - Wrigley Field<br />- Southport Corridor<br /...\n",
       "picture_url              https://a0.muscache.com/pictures/dc2c60b9-14f0...\n",
       "host_id                                                           45401863\n",
       "host_url                        https://www.airbnb.com/users/show/45401863\n",
       "host_name                                                              Joe\n",
       "host_since                                                      2015-09-29\n",
       "host_location                             Chicago, Illinois, United States\n",
       "host_about               I am a Chicago native and have been living in ...\n",
       "host_response_time                                          within an hour\n",
       "host_response_rate                                                   100.0\n",
       "host_acceptance_rate                                                 100.0\n",
       "host_is_superhost                                                        t\n",
       "host_thumbnail_url       https://a0.muscache.com/im/users/45401863/prof...\n",
       "host_picture_url         https://a0.muscache.com/im/users/45401863/prof...\n",
       "Name: 1049, dtype: object"
      ]
     },
     "execution_count": 229,
     "metadata": {},
     "output_type": "execute_result"
    }
   ],
   "source": [
    "listings.loc[1049].head(20)"
   ]
  },
  {
   "cell_type": "code",
   "execution_count": 230,
   "id": "2f87bdcb-42f7-4e14-9d63-5d26ffa25210",
   "metadata": {},
   "outputs": [
    {
     "data": {
      "text/plain": [
       "2341    48864.0\n",
       "2648    48864.0\n",
       "2647    48864.0\n",
       "2361    47484.0\n",
       "2360    47484.0\n",
       "2362    47484.0\n",
       "2346    40356.0\n",
       "2345    40356.0\n",
       "2650    39132.0\n",
       "2350    39132.0\n",
       "2354    39132.0\n",
       "2353    39132.0\n",
       "2358    39132.0\n",
       "2357    39132.0\n",
       "2351    39132.0\n",
       "1049     9999.0\n",
       "3289     9999.0\n",
       "3288     9999.0\n",
       "6196     5000.0\n",
       "2866     3690.0\n",
       "Name: price, dtype: float64"
      ]
     },
     "execution_count": 230,
     "metadata": {},
     "output_type": "execute_result"
    }
   ],
   "source": [
    "y_train.sort_values(ascending=False)[:20]"
   ]
  },
  {
   "cell_type": "code",
   "execution_count": 136,
   "id": "c918b7e2-2eb0-4eae-9b44-a6888a8ace84",
   "metadata": {},
   "outputs": [
    {
     "data": {
      "image/png": "[encoded data removed]",
      "text/plain": [
       "<Figure size 792x288 with 2 Axes>"
      ]
     },
     "metadata": {
      "needs_background": "light"
     },
     "output_type": "display_data"
    }
   ],
   "source": [
    "fig, ax = plt.subplots(ncols=2, figsize=(11,4))\n",
    "ax[0].plot(y_pred_knn, 'bo')\n",
    "ax[0].axhline(y=0, linestyle='--')\n",
    "ax[0].set_ylim(-200, 200)\n",
    "ax[1].plot(y_pred_knn, 'bo')\n",
    "ax[1].axhline(y=0, linestyle='--')\n",
    "plt.show()"
   ]
  },
  {
   "cell_type": "markdown",
   "id": "38ca74aa-cfb6-472e-92be-2429b76a131f",
   "metadata": {},
   "source": [
    "This is at least good - none of the price predictions on the test set are negative."
   ]
  },
  {
   "cell_type": "markdown",
   "id": "7e7b9ad6-431f-44c5-9b97-bc2c43892e3f",
   "metadata": {},
   "source": [
    "### Random Forest"
   ]
  },
  {
   "cell_type": "code",
   "execution_count": 137,
   "id": "4c05b729-5f9f-4798-b971-063ee53ff649",
   "metadata": {},
   "outputs": [],
   "source": [
    "from sklearn.ensemble import RandomForestRegressor"
   ]
  },
  {
   "cell_type": "code",
   "execution_count": 157,
   "id": "c1951065-d17a-48dd-9d87-36923e6812a7",
   "metadata": {},
   "outputs": [],
   "source": [
    "pipe, X_train, X_test, y_train, y_test = fit_model(X, y, RandomForestRegressor(random_state=1), 0)"
   ]
  },
  {
   "cell_type": "code",
   "execution_count": 158,
   "id": "24cc4392-5cb9-4754-95e8-792099799a05",
   "metadata": {},
   "outputs": [
    {
     "data": {
      "text/plain": [
       "0.9141108633452861"
      ]
     },
     "execution_count": 158,
     "metadata": {},
     "output_type": "execute_result"
    }
   ],
   "source": [
    "pipe.score(X_test, y_test)"
   ]
  },
  {
   "cell_type": "code",
   "execution_count": 180,
   "id": "6eed9443-a530-49ce-bb9d-8c4ac3a8e310",
   "metadata": {},
   "outputs": [],
   "source": [
    "pipe, X_train, X_test, y_train, y_test = fit_model(X_E, y, RandomForestRegressor(n_estimators=1000,random_state=1), 0)"
   ]
  },
  {
   "cell_type": "code",
   "execution_count": 181,
   "id": "16fd0cba-ef7a-4d7e-a050-f184c6548255",
   "metadata": {},
   "outputs": [
    {
     "data": {
      "text/plain": [
       "0.9206594768060465"
      ]
     },
     "execution_count": 181,
     "metadata": {},
     "output_type": "execute_result"
    }
   ],
   "source": [
    "pipe.score(X_test, y_test)"
   ]
  },
  {
   "cell_type": "markdown",
   "id": "9f3b62d0-e0ef-4838-a115-0e951b02c2cb",
   "metadata": {},
   "source": [
    "This is a bit worse than the k-nearest neighbors model! I tried several values of `random_state` and never got anything better than the k-nearest neighbors model."
   ]
  },
  {
   "cell_type": "code",
   "execution_count": 162,
   "id": "90e23bac-584f-45cd-ae9f-c472c64a23ce",
   "metadata": {},
   "outputs": [],
   "source": [
    "y_pred_RF = pipe.predict(X_test)"
   ]
  },
  {
   "cell_type": "code",
   "execution_count": 163,
   "id": "b3433d59-4a5e-4842-8381-101862e22db0",
   "metadata": {},
   "outputs": [
    {
     "data": {
      "image/png": "[encoded data removed]",
      "text/plain": [
       "<Figure size 720x576 with 1 Axes>"
      ]
     },
     "metadata": {
      "needs_background": "light"
     },
     "output_type": "display_data"
    }
   ],
   "source": [
    "plt.figure(figsize=(10,8))\n",
    "plt.plot(y_pred_RF - y_test, 'bo')\n",
    "plt.axhline(y=0, linestyle='--')\n",
    "#plt.ylim(-200, 200)\n",
    "plt.show()"
   ]
  },
  {
   "cell_type": "markdown",
   "id": "bd677328-806d-47a9-9121-208401ea3cfd",
   "metadata": {},
   "source": [
    "### Gradient Boosting"
   ]
  },
  {
   "cell_type": "markdown",
   "id": "8635b6f1-a95f-4a55-a5a8-74be48e3f429",
   "metadata": {},
   "source": [
    "### Neural Network (MLP)"
   ]
  },
  {
   "cell_type": "markdown",
   "id": "b70a47e2-e110-4143-b1b9-1f6c8a717e6f",
   "metadata": {},
   "source": [
    "Finally, I'll try using a simple neural network model: just a multi-layer perceptron (MLP) without bells and whistles."
   ]
  },
  {
   "cell_type": "code",
   "execution_count": 182,
   "id": "75184fc2-fea5-44c1-ac4c-2c36b96f6e5f",
   "metadata": {},
   "outputs": [],
   "source": [
    "from sklearn.neural_network import MLPRegressor"
   ]
  },
  {
   "cell_type": "code",
   "execution_count": 185,
   "id": "6d2d6311-190f-4ae7-a0b9-02dc1e884daa",
   "metadata": {},
   "outputs": [
    {
     "name": "stderr",
     "output_type": "stream",
     "text": [
      "/Users/tjdauer/miniforge3/envs/myenv/lib/python3.8/site-packages/sklearn/neural_network/_multilayer_perceptron.py:692: ConvergenceWarning: Stochastic Optimizer: Maximum iterations (500) reached and the optimization hasn't converged yet.\n",
      "  warnings.warn(\n"
     ]
    }
   ],
   "source": [
    "pipe, X_train, X_test, y_train, y_test = fit_model(\n",
    "    X_E, y, MLPRegressor(random_state=1, max_iter=500), 0)"
   ]
  },
  {
   "cell_type": "code",
   "execution_count": 187,
   "id": "49fa0e06-ea9d-4dbb-a8e2-6419aca83813",
   "metadata": {},
   "outputs": [
    {
     "data": {
      "text/plain": [
       "0.5479664967336064"
      ]
     },
     "execution_count": 187,
     "metadata": {},
     "output_type": "execute_result"
    }
   ],
   "source": [
    "pipe.score(X_test, y_test)"
   ]
  },
  {
   "cell_type": "code",
   "execution_count": null,
   "id": "941e0a9f-da61-4abc-a74a-b854c59e4365",
   "metadata": {},
   "outputs": [],
   "source": []
  }
 ],
 "metadata": {
  "kernelspec": {
   "display_name": "Python 3 (ipykernel)",
   "language": "python",
   "name": "python3"
  },
  "language_info": {
   "codemirror_mode": {
    "name": "ipython",
    "version": 3
   },
   "file_extension": ".py",
   "mimetype": "text/x-python",
   "name": "python",
   "nbconvert_exporter": "python",
   "pygments_lexer": "ipython3",
   "version": "3.8.12"
  }
 },
 "nbformat": 4,
 "nbformat_minor": 5
}
