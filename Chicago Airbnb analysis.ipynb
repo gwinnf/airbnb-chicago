{
 "cells": [
  {
   "cell_type": "code",
   "execution_count": 191,
   "id": "35ea7d6e-99e9-4931-a0db-5b62c080401d",
   "metadata": {},
   "outputs": [],
   "source": [
    "import pandas as pd\n",
    "import numpy as np\n",
    "from sklearn.model_selection import train_test_split\n",
    "from sklearn.linear_model import LinearRegression\n",
    "from sklearn.pipeline import make_pipeline\n",
    "from sklearn.preprocessing import StandardScaler\n",
    "import matplotlib.pyplot as plt\n",
    "from sklearn.model_selection import cross_val_score"
   ]
  },
  {
   "cell_type": "markdown",
   "id": "262914ef-7869-4fed-a686-8fe3e7a7b509",
   "metadata": {},
   "source": [
    "Here are some possible business questions:\n",
    "\n",
    "- What factors contribute most heavily to the price? \n",
    "    - Make a model to predict the price - one that's interpretable and perhaps one (like a neural network) that's not interpretable but does a better job of price prediction.\n",
    "    - Which listings are underpriced - meaning that the host could make more money by increasing the price, or travelers can get a good deal by booking them?\n",
    "    - Perhaps extend beyond predicting only base prices to predicting prices at different times of year.\n",
    "- What should those listings with poor overall review scores do in order to get better reviews in the future?\n",
    "- What can we discern about the character of each neighborhood using the descriptions?"
   ]
  },
  {
   "cell_type": "code",
   "execution_count": 2,
   "id": "78bf8b5d-1748-4048-b13a-1bdd0d20ac24",
   "metadata": {},
   "outputs": [],
   "source": [
    "listings = pd.read_csv(\"listings.csv\")\n",
    "calendar = pd.read_csv(\"calendar.csv\")"
   ]
  },
  {
   "cell_type": "markdown",
   "id": "6f4987c3-2fc6-4dad-8eea-5576531dd28c",
   "metadata": {},
   "source": [
    "Definitions for many (though not all) of the fields can be found [here](https://docs.google.com/spreadsheets/d/1iWCNJcSutYqpULSQHlNyGInUvHg2BoUGoNRIGa6Szc4/edit#gid=982310896)."
   ]
  },
  {
   "cell_type": "markdown",
   "id": "8025aaaa-b151-4fca-98b7-332d406373c0",
   "metadata": {},
   "source": [
    "Drop columns that have all `NA` values."
   ]
  },
  {
   "cell_type": "code",
   "execution_count": 3,
   "id": "358ae4a7-389c-4d41-9ad6-33f70f44c85f",
   "metadata": {},
   "outputs": [],
   "source": [
    "for df in [listings, calendar]:\n",
    "    df.dropna(axis=1, how='all', inplace=True)"
   ]
  },
  {
   "cell_type": "markdown",
   "id": "9fe63894-e9c5-49ea-8a3c-a07800214ca2",
   "metadata": {},
   "source": [
    "Drop rows in `listings` that have `NA` in the `price` field, and do the same for the `price` and `adjusted_price` fields in `calendar`."
   ]
  },
  {
   "cell_type": "code",
   "execution_count": 4,
   "id": "8ffeaf67-1012-461c-8b30-16f26027b0f2",
   "metadata": {},
   "outputs": [],
   "source": [
    "listings.dropna(subset=['price'], inplace=True)\n",
    "calendar.dropna(subset=['price', 'adjusted_price'], inplace=True)"
   ]
  },
  {
   "cell_type": "markdown",
   "id": "c335c87d-41ed-46b5-a22a-38f04705d102",
   "metadata": {},
   "source": [
    "Observe that a dollar sign preceeds the number in several columns; I will remove this so that the field is treated as numeric."
   ]
  },
  {
   "cell_type": "code",
   "execution_count": 5,
   "id": "3de6e499-bdaf-492e-8035-a35557e73e5b",
   "metadata": {},
   "outputs": [],
   "source": [
    "listings['price'] = listings.apply((lambda x: x['price'].replace('$','').replace(',','')), axis=1)\n",
    "calendar['price'] = calendar.apply((lambda x: x['price'].replace('$','').replace(',','')), axis=1)\n",
    "calendar['adjusted_price'] = calendar.apply((lambda x: x['adjusted_price'].replace('$','').replace(',','')), axis=1)"
   ]
  },
  {
   "cell_type": "markdown",
   "id": "512e304f-e680-480e-b22b-febea49717c5",
   "metadata": {},
   "source": [
    "The price should be greater than zero. I'll drop all rows where this is not the case."
   ]
  },
  {
   "cell_type": "code",
   "execution_count": 7,
   "id": "e41445b3-add9-4fe9-b68a-2ae7242771dd",
   "metadata": {},
   "outputs": [],
   "source": [
    "listings['price'] = listings['price'].astype(np.float64)\n",
    "calendar['price'] = calendar['price'].astype(np.float64)\n",
    "calendar['adjusted_price'] = calendar['adjusted_price'].astype(np.float64)"
   ]
  },
  {
   "cell_type": "code",
   "execution_count": 8,
   "id": "2600e0b6-2135-4db5-a17d-324402406a43",
   "metadata": {},
   "outputs": [],
   "source": [
    "listings.drop(listings.loc[listings['price'] <= 0].index, inplace=True)"
   ]
  },
  {
   "cell_type": "markdown",
   "id": "a54bfd3c-ed31-4a89-8085-f9a92cccafcd",
   "metadata": {},
   "source": [
    "Similarly, some of the fields are expressed as percentages; I will remove the percent signs and change the entries to floats."
   ]
  },
  {
   "cell_type": "code",
   "execution_count": 9,
   "id": "d2b83a07-5d03-491e-b74a-a976bc3c23df",
   "metadata": {},
   "outputs": [],
   "source": [
    "listings['host_response_rate'] = listings.apply(lambda x: float(x['host_response_rate'].replace('%','')) if pd.notnull(x['host_response_rate']) else x['host_response_rate'], axis=1)\n",
    "listings['host_acceptance_rate'] = listings.apply(lambda x: float(x['host_acceptance_rate'].replace('%','')) if pd.notnull(x['host_acceptance_rate']) else x['host_acceptance_rate'], axis=1)"
   ]
  },
  {
   "cell_type": "markdown",
   "id": "762eaa6d-f6d4-40bf-8d20-73f98032cc5d",
   "metadata": {},
   "source": [
    "# 1. Price prediction"
   ]
  },
  {
   "cell_type": "markdown",
   "id": "2529071f-bfef-4ad1-a3b8-941a6320acc2",
   "metadata": {},
   "source": [
    "## Data preparation"
   ]
  },
  {
   "cell_type": "markdown",
   "id": "ee71bd5f-aa5f-4c23-a05f-b99e3b4aa96d",
   "metadata": {},
   "source": [
    "Split into `X` and `y`."
   ]
  },
  {
   "cell_type": "code",
   "execution_count": 10,
   "id": "4ef4ef4b-d851-4f12-8aea-241256a44cfd",
   "metadata": {},
   "outputs": [],
   "source": [
    "X = listings.drop('price', axis=1)\n",
    "y = listings['price']"
   ]
  },
  {
   "cell_type": "markdown",
   "id": "dd175db8-e611-496d-9a17-0f1483329d25",
   "metadata": {},
   "source": [
    "I also need to deal with dates appropriately. The relevant columns are `host_since`, `first_review`, and `last_review`. I could scrap these columns altogether, but it might be useful to know the length of time since the date for each row. "
   ]
  },
  {
   "cell_type": "code",
   "execution_count": 11,
   "id": "89443ae0-4882-40db-a358-f1c5a34b70cf",
   "metadata": {},
   "outputs": [],
   "source": [
    "for col in ['host_since', 'first_review', 'last_review']:\n",
    "    X[col] = pd.to_datetime(X['last_scraped']) - pd.to_datetime(X[col])\n",
    "    X[col] = X.apply(lambda x: x[col].days, axis=1)"
   ]
  },
  {
   "cell_type": "markdown",
   "id": "2aa503c8-f71e-490f-b5dc-6d6b8e3bcb04",
   "metadata": {},
   "source": [
    "Certain columns in `X` are not useful for prediction (for example, URLs), and should be removed."
   ]
  },
  {
   "cell_type": "code",
   "execution_count": 12,
   "id": "abd1ca9d-c86b-401f-bcec-07451c24b1ae",
   "metadata": {},
   "outputs": [],
   "source": [
    "to_drop = ['id', 'listing_url', 'scrape_id', 'last_scraped', 'name']\n",
    "to_drop += ['description', 'neighborhood_overview', 'picture_url', 'host_id']\n",
    "to_drop += ['host_url', 'host_name', 'host_about', 'host_thumbnail_url']\n",
    "to_drop += ['host_picture_url', 'license', 'calendar_last_scraped']\n",
    "X.drop(labels=to_drop, axis=1, inplace=True)"
   ]
  },
  {
   "cell_type": "markdown",
   "id": "8d9d2727-84b3-4e33-85f0-e3e11210659c",
   "metadata": {},
   "source": [
    "Certain columns (`host_verifications` and `amenities`) are lists of options; I'd like to split these into different columns."
   ]
  },
  {
   "cell_type": "markdown",
   "id": "e5b3b9a0-3141-4910-8b72-02e4bc6290d2",
   "metadata": {},
   "source": [
    "The first step is to change these entries into actual Python lists instead of strings (annoyingly, the two relevant columns are formatted slightly differently, with the roles of single and double quotes being interchanged between them)."
   ]
  },
  {
   "cell_type": "code",
   "execution_count": 13,
   "id": "9cbc2268-3648-407e-9621-6627c55b79ba",
   "metadata": {},
   "outputs": [],
   "source": [
    "X['host_verifications'] = X.apply(lambda x: x['host_verifications'].replace('[','').replace(']','').replace('\\'','').split(', '), axis=1)"
   ]
  },
  {
   "cell_type": "code",
   "execution_count": 14,
   "id": "e2e6b600-ea6b-4d4a-8603-bf5bc1234809",
   "metadata": {},
   "outputs": [],
   "source": [
    "X['amenities'] = X.apply(lambda x: x['amenities'].replace('\\\"','').replace('[','').replace(']','').split(', '), axis=1)"
   ]
  },
  {
   "cell_type": "markdown",
   "id": "2698ee50-43e7-41f8-99f3-ee4997ff33dc",
   "metadata": {},
   "source": [
    "What are the possible values in the `host_verifications` lists?"
   ]
  },
  {
   "cell_type": "code",
   "execution_count": 15,
   "id": "aaa0c652-b32e-4415-a36f-64faa1dbd4bd",
   "metadata": {},
   "outputs": [],
   "source": [
    "distinct_host_verifications = set()\n",
    "def find_distinct_hvs(x):\n",
    "    for hv in x['host_verifications']:\n",
    "        distinct_host_verifications.add(hv)\n",
    "X.apply(lambda x: find_distinct_hvs(x), axis=1);"
   ]
  },
  {
   "cell_type": "code",
   "execution_count": 16,
   "id": "e92d30df-fea2-4509-9e8d-15234493020e",
   "metadata": {},
   "outputs": [
    {
     "data": {
      "text/plain": [
       "20"
      ]
     },
     "execution_count": 16,
     "metadata": {},
     "output_type": "execute_result"
    }
   ],
   "source": [
    "len(distinct_host_verifications)"
   ]
  },
  {
   "cell_type": "code",
   "execution_count": 17,
   "id": "a3a8bb54-90a9-469c-ba3d-a45a992a18d5",
   "metadata": {},
   "outputs": [],
   "source": [
    "from sklearn.preprocessing import MultiLabelBinarizer"
   ]
  },
  {
   "cell_type": "code",
   "execution_count": 18,
   "id": "031dfc2f-bfc9-4fda-bef9-0785073a13af",
   "metadata": {},
   "outputs": [],
   "source": [
    "m = MultiLabelBinarizer()\n",
    "hv_df = pd.DataFrame(m.fit_transform(X['host_verifications']), columns=m.classes_, index=X.index)"
   ]
  },
  {
   "cell_type": "code",
   "execution_count": 19,
   "id": "7a336ddf-3712-4513-bbba-690f829a4f60",
   "metadata": {},
   "outputs": [],
   "source": [
    "X = pd.concat([X, hv_df], axis=1)"
   ]
  },
  {
   "cell_type": "code",
   "execution_count": 20,
   "id": "c3a9a3c3-9808-4ec2-80ab-e1c1ac172735",
   "metadata": {},
   "outputs": [],
   "source": [
    "X.rename(columns={'None' : 'HV_None'}, inplace=True)\n",
    "# I don't want a column to be called just 'None', so I changed it a bit"
   ]
  },
  {
   "cell_type": "markdown",
   "id": "06806fd4-6a80-42d8-8140-6baadd78cd41",
   "metadata": {},
   "source": [
    "Now I can drop the original `host_verifications` column."
   ]
  },
  {
   "cell_type": "code",
   "execution_count": 21,
   "id": "985685e2-1c99-4e74-887b-4f88c3fee6ac",
   "metadata": {},
   "outputs": [],
   "source": [
    "X.drop('host_verifications', axis=1, inplace=True)"
   ]
  },
  {
   "cell_type": "markdown",
   "id": "e40c2804-9179-4d19-ae71-d3ad79442f0e",
   "metadata": {},
   "source": [
    "Now I'd like to do the same for the `amenities` column. What are the possible values in those lists?"
   ]
  },
  {
   "cell_type": "code",
   "execution_count": 22,
   "id": "4d6ccb94-e610-4048-92c9-3158e4501f7f",
   "metadata": {},
   "outputs": [
    {
     "data": {
      "text/plain": [
       "976"
      ]
     },
     "execution_count": 22,
     "metadata": {},
     "output_type": "execute_result"
    }
   ],
   "source": [
    "distinct_amenities = set()\n",
    "def find_distinct_amenities(x):\n",
    "    for a in x['amenities']:\n",
    "        distinct_amenities.add(a)\n",
    "X.apply(lambda x: find_distinct_amenities(x), axis=1)\n",
    "len(distinct_amenities)"
   ]
  },
  {
   "cell_type": "markdown",
   "id": "3fe76a8f-72c9-4a6f-b8f8-903527f634a9",
   "metadata": {},
   "source": [
    "Ok, that's a lot of amenities. I don't really want to vastly blow up the number of features like this, so I'll just take the 20 most popular amenities."
   ]
  },
  {
   "cell_type": "code",
   "execution_count": 23,
   "id": "0af64618-da78-4bd1-a9fe-efb55ac6b336",
   "metadata": {},
   "outputs": [],
   "source": [
    "from collections import defaultdict\n",
    "from operator import itemgetter"
   ]
  },
  {
   "cell_type": "code",
   "execution_count": 24,
   "id": "651e483a-62bd-4d0b-a686-ec5994a2a95e",
   "metadata": {},
   "outputs": [],
   "source": [
    "amenity_counts = defaultdict(int) # Initializes to zero for each value\n",
    "def update_counts(x):\n",
    "    for a in x['amenities']:\n",
    "        amenity_counts[a] += 1\n",
    "X.apply(lambda x: update_counts(x), axis=1);"
   ]
  },
  {
   "cell_type": "code",
   "execution_count": 25,
   "id": "b6daa5a2-d820-4e4a-8d8a-0ef75ff9eddd",
   "metadata": {},
   "outputs": [],
   "source": [
    "top_20 = sorted(amenity_counts.items(), key=itemgetter(1), reverse=True)[:20]"
   ]
  },
  {
   "cell_type": "code",
   "execution_count": 26,
   "id": "362ec2af-4d26-4a02-9a11-04fb13484edd",
   "metadata": {},
   "outputs": [
    {
     "data": {
      "text/plain": [
       "[('Smoke alarm', 6357),\n",
       " ('Essentials', 6185),\n",
       " ('Wifi', 6141),\n",
       " ('Kitchen', 5930),\n",
       " ('Carbon monoxide alarm', 5924)]"
      ]
     },
     "execution_count": 26,
     "metadata": {},
     "output_type": "execute_result"
    }
   ],
   "source": [
    "top_20[:5]"
   ]
  },
  {
   "cell_type": "code",
   "execution_count": 27,
   "id": "825e5a75-214c-4b69-8f64-1548e80240e4",
   "metadata": {},
   "outputs": [],
   "source": [
    "top_20_amenities = dict(top_20).keys()"
   ]
  },
  {
   "cell_type": "markdown",
   "id": "097030e8-d085-40e1-9906-7ac2372b23d6",
   "metadata": {},
   "source": [
    "Now I want to get rid of the other amenities in each row."
   ]
  },
  {
   "cell_type": "code",
   "execution_count": 28,
   "id": "e0d24ed5-1792-451f-b023-74f75c5cf076",
   "metadata": {},
   "outputs": [],
   "source": [
    "def find_amenities(x):\n",
    "    amenities = []\n",
    "    for a in top_20_amenities:\n",
    "        if a in x['amenities']:\n",
    "            amenities.append(a)\n",
    "    return amenities"
   ]
  },
  {
   "cell_type": "code",
   "execution_count": 29,
   "id": "ace5a3dc-9d0d-4a22-8fbf-25df50d81aae",
   "metadata": {},
   "outputs": [],
   "source": [
    "X['amenities'] = X.apply(lambda x: find_amenities(x), axis=1)"
   ]
  },
  {
   "cell_type": "markdown",
   "id": "4a323e83-1fed-49c0-b587-6736d9afe595",
   "metadata": {},
   "source": [
    "Now I can create the dummy variables and drop the original `amenities` column."
   ]
  },
  {
   "cell_type": "code",
   "execution_count": 30,
   "id": "ad38d0f0-6d9c-4b1d-aaad-cc7ed46a3fbf",
   "metadata": {},
   "outputs": [],
   "source": [
    "m = MultiLabelBinarizer()\n",
    "amenities_df = pd.DataFrame(m.fit_transform(X['amenities']), columns=m.classes_, index=X.index)\n",
    "X = pd.concat([X, amenities_df], axis=1)\n",
    "X.drop('amenities', axis=1, inplace=True)"
   ]
  },
  {
   "cell_type": "markdown",
   "id": "65e20b28-94fb-4979-8e53-cd2fb76bb944",
   "metadata": {},
   "source": [
    "Next, I'll get dummies for the rest of the categorical variables."
   ]
  },
  {
   "cell_type": "code",
   "execution_count": 31,
   "id": "9f84187d-94a2-43a2-8212-e215ca63ca30",
   "metadata": {},
   "outputs": [],
   "source": [
    "X = pd.get_dummies(X, drop_first=True)"
   ]
  },
  {
   "cell_type": "code",
   "execution_count": 32,
   "id": "e291264c-58f0-46c6-b5c8-36a69f4577d1",
   "metadata": {},
   "outputs": [
    {
     "data": {
      "text/plain": [
       "(6526, 740)"
      ]
     },
     "execution_count": 32,
     "metadata": {},
     "output_type": "execute_result"
    }
   ],
   "source": [
    "X.shape"
   ]
  },
  {
   "cell_type": "markdown",
   "id": "7ece9c6f-0a41-4ee2-b38f-f163985ea5a3",
   "metadata": {},
   "source": [
    "Now I need to deal with `NA` values for the numeric columns. There's no totally ideal way to do this, but to move forward I'll impute using the mean."
   ]
  },
  {
   "cell_type": "code",
   "execution_count": 33,
   "id": "e85ab9a0-c9be-4d7a-8b32-5410ca8324e2",
   "metadata": {},
   "outputs": [],
   "source": [
    "fill_mean = lambda col: col.fillna(col.mean())\n",
    "X = X.apply(fill_mean)"
   ]
  },
  {
   "cell_type": "markdown",
   "id": "a9596876-2e70-4ef9-a1bc-755a51ea7dfa",
   "metadata": {},
   "source": [
    "## Modeling and Evaluation"
   ]
  },
  {
   "cell_type": "markdown",
   "id": "ebd5432b-5517-4174-99f0-641986cd20b9",
   "metadata": {},
   "source": [
    "Split into train and test sets."
   ]
  },
  {
   "cell_type": "code",
   "execution_count": 34,
   "id": "809bfad5-caf5-4012-bda6-e3296bb54665",
   "metadata": {},
   "outputs": [],
   "source": [
    "X_train, X_test, y_train, y_test = train_test_split(\n",
    "    X, y, test_size=0.3, random_state=42)"
   ]
  },
  {
   "cell_type": "markdown",
   "id": "d279db91-e4ff-453f-b2ac-11a025f83897",
   "metadata": {},
   "source": [
    "Instantiate the model, including normalization in the pipeline:"
   ]
  },
  {
   "cell_type": "markdown",
   "id": "adbe2dbb-d1e1-472e-992a-2caa43d9b3dc",
   "metadata": {},
   "source": [
    "### Linear Model"
   ]
  },
  {
   "cell_type": "code",
   "execution_count": 35,
   "id": "ce67ff65-745c-4bd4-9af7-624d6c2911ab",
   "metadata": {},
   "outputs": [],
   "source": [
    "pipe = make_pipeline(StandardScaler(), LinearRegression())"
   ]
  },
  {
   "cell_type": "markdown",
   "id": "513845fb-2adc-4069-8e50-e02ae6cee404",
   "metadata": {},
   "source": [
    "Fit the model to the training data:"
   ]
  },
  {
   "cell_type": "code",
   "execution_count": 36,
   "id": "462d0119-0cc7-4ae4-9370-219fadc39284",
   "metadata": {},
   "outputs": [
    {
     "data": {
      "text/plain": [
       "Pipeline(steps=[('standardscaler', StandardScaler()),\n",
       "                ('linearregression', LinearRegression())])"
      ]
     },
     "execution_count": 36,
     "metadata": {},
     "output_type": "execute_result"
    }
   ],
   "source": [
    "pipe.fit(X_train, y_train)"
   ]
  },
  {
   "cell_type": "code",
   "execution_count": 37,
   "id": "05385d3c-5139-46d5-a948-aff015f42942",
   "metadata": {},
   "outputs": [
    {
     "data": {
      "text/plain": [
       "0.40390584712751165"
      ]
     },
     "execution_count": 37,
     "metadata": {},
     "output_type": "execute_result"
    }
   ],
   "source": [
    "pipe.score(X_train, y_train)"
   ]
  },
  {
   "cell_type": "code",
   "execution_count": 38,
   "id": "26c1391f-c990-4b7c-992e-f3eb796b8bfe",
   "metadata": {},
   "outputs": [
    {
     "data": {
      "text/plain": [
       "-2.9633327193593324e+27"
      ]
     },
     "execution_count": 38,
     "metadata": {},
     "output_type": "execute_result"
    }
   ],
   "source": [
    "pipe.score(X_test, y_test)"
   ]
  },
  {
   "cell_type": "code",
   "execution_count": 39,
   "id": "18fdd98a-e5e1-46e5-b22a-bcd283fdf5db",
   "metadata": {},
   "outputs": [
    {
     "data": {
      "text/plain": [
       "array([ -879.52236367,   259.60263633,   382.68484417, ...,\n",
       "         156.47763633,   747.18484417, -3276.81515583])"
      ]
     },
     "execution_count": 39,
     "metadata": {},
     "output_type": "execute_result"
    }
   ],
   "source": [
    "pipe.predict(X_train)"
   ]
  },
  {
   "cell_type": "code",
   "execution_count": 40,
   "id": "ece5f58c-78b7-4411-bd1c-dc6d33494a39",
   "metadata": {},
   "outputs": [
    {
     "data": {
      "text/plain": [
       "1609     39.0\n",
       "2302    120.0\n",
       "3017     60.0\n",
       "3956    100.0\n",
       "4051    559.0\n",
       "        ...  \n",
       "3772    131.0\n",
       "5193     50.0\n",
       "5228    421.0\n",
       "5392    200.0\n",
       "860     221.0\n",
       "Name: price, Length: 4568, dtype: float64"
      ]
     },
     "execution_count": 40,
     "metadata": {},
     "output_type": "execute_result"
    }
   ],
   "source": [
    "y_train"
   ]
  },
  {
   "cell_type": "code",
   "execution_count": 41,
   "id": "4ff64339-f9bb-4e38-8e7d-9a4b33efdc80",
   "metadata": {},
   "outputs": [
    {
     "data": {
      "text/plain": [
       "array([  971.18484417,  1824.97763633, -3377.31515583, ...,\n",
       "         -28.81515583,   904.10263633, -1035.94015583])"
      ]
     },
     "execution_count": 41,
     "metadata": {},
     "output_type": "execute_result"
    }
   ],
   "source": [
    "pipe.predict(X_test)"
   ]
  },
  {
   "cell_type": "markdown",
   "id": "3001ecbe-7603-46d3-8061-6eabd7ac578b",
   "metadata": {},
   "source": [
    "Wow, this is really terrible. I think I need to aggressively get rid of features to correct this - I have way too many irrelevant features."
   ]
  },
  {
   "cell_type": "code",
   "execution_count": 223,
   "id": "4256abca-026d-4340-8a33-04f3e6b00906",
   "metadata": {},
   "outputs": [],
   "source": [
    "def fit_model(X, y, model, cutoff, random_state=1, cv=False):\n",
    "    pipe = make_pipeline(StandardScaler(), model)\n",
    "    X_cutoff = X.iloc[:, np.where((X.sum()/len(X) > cutoff) == True)[0]]\n",
    "    X_train, X_test, y_train, y_test = train_test_split(\n",
    "        X_cutoff, y, test_size=0.3, random_state=random_state)\n",
    "    pipe.fit(X_train, y_train)\n",
    "    return pipe, X_train, X_test, y_train, y_test"
   ]
  },
  {
   "cell_type": "code",
   "execution_count": 203,
   "id": "495b4c00-b041-4b76-9d69-1db098872ca9",
   "metadata": {},
   "outputs": [],
   "source": [
    "def test_cutoffs(X, y, model, cutoffs):\n",
    "    results = {}\n",
    "    for cutoff in cutoffs:\n",
    "        pipe, X_train, X_test, y_train, y_test = fit_model(X, y, model, cutoff)\n",
    "        train_score = pipe.score(X_train, y_train)\n",
    "        test_score = pipe.score(X_test, y_test)\n",
    "        results[cutoff] = test_score\n",
    "        print(f\"Cutoff = {cutoff: .3g}, train_score = {train_score: .3g}, test_score = {test_score: .3g}, n_features = {X_train.shape[1]}\")\n",
    "    return results"
   ]
  },
  {
   "cell_type": "code",
   "execution_count": 193,
   "id": "4422a705-6274-4b7c-a549-307d41632e33",
   "metadata": {},
   "outputs": [
    {
     "name": "stdout",
     "output_type": "stream",
     "text": [
      "Cutoff =  1e+03, train_score =  0.00215, test_score =  0.00218, n_features = 4\n",
      "Cutoff =  1, train_score =  0.0716, test_score =  0.049, n_features = 37\n",
      "Cutoff =  0.99, train_score =  0.0717, test_score =  0.0499, n_features = 39\n",
      "Cutoff =  0.9, train_score =  0.206, test_score =  0.157, n_features = 46\n",
      "Cutoff =  0.7, train_score =  0.293, test_score =  0.211, n_features = 61\n",
      "Cutoff =  0.5, train_score =  0.297, test_score =  0.218, n_features = 69\n",
      "Cutoff =  0.3, train_score =  0.3, test_score =  0.219, n_features = 75\n",
      "Cutoff =  0.2, train_score =  0.3, test_score =  0.219, n_features = 78\n",
      "Cutoff =  0.1, train_score =  0.316, test_score =  0.237, n_features = 85\n",
      "Cutoff =  0.05, train_score =  0.329, test_score =  0.246, n_features = 98\n",
      "Cutoff =  0.01, train_score =  0.362, test_score =  0.257, n_features = 164\n",
      "Cutoff =  0.005, train_score =  0.377, test_score =  0.254, n_features = 202\n",
      "Cutoff =  0, train_score =  0.404, test_score = -2.98e+26, n_features = 739\n"
     ]
    }
   ],
   "source": [
    "cutoffs = [1000, 1, .99, .9, .7, .5, .3, .2, .1, .05, .01, 0.005, 0]\n",
    "test_cutoffs(X, y, LinearRegression(), cutoffs);"
   ]
  },
  {
   "cell_type": "code",
   "execution_count": 102,
   "id": "984aea84-d0d1-4a7e-afc3-233c7932c3e0",
   "metadata": {},
   "outputs": [
    {
     "name": "stdout",
     "output_type": "stream",
     "text": [
      "0.2573781071548782\n"
     ]
    }
   ],
   "source": [
    "pipe, X_train, X_test, y_train, y_test = fit_model(X, y, LinearRegression(), 0.01)\n",
    "score = pipe.score(X_test, y_test)\n",
    "y_pred_L = pipe.predict(X_test)\n",
    "print(score)"
   ]
  },
  {
   "cell_type": "markdown",
   "id": "da54b022-2818-4492-850e-6516955759a7",
   "metadata": {},
   "source": [
    "Horrific. And there's another problem: many of the predicted prices are negative!"
   ]
  },
  {
   "cell_type": "code",
   "execution_count": 106,
   "id": "b429522e-6a88-4a1d-af52-1a60531bb890",
   "metadata": {},
   "outputs": [
    {
     "data": {
      "image/png": "[encoded data removed]",
      "text/plain": [
       "<Figure size 432x288 with 1 Axes>"
      ]
     },
     "metadata": {
      "needs_background": "light"
     },
     "output_type": "display_data"
    }
   ],
   "source": [
    "plt.plot(y_pred_L, 'bo')\n",
    "plt.axhline(y=0, linestyle='--')\n",
    "plt.show()"
   ]
  },
  {
   "cell_type": "markdown",
   "id": "bf0b6bf2-379b-4d39-b262-ec8e1ecd910d",
   "metadata": {},
   "source": [
    "### Dealing with outliers"
   ]
  },
  {
   "cell_type": "markdown",
   "id": "950b8372-c599-4744-877b-155c6a93119b",
   "metadata": {},
   "source": [
    "It's worth doing some outlier detection and removal at this point. If a listing has an absurdly high price that isn't reflective of what people will actually pay, or just isn't that relevant for a typical person who wants to list their place, that isn't good for the usefulness of our model."
   ]
  },
  {
   "cell_type": "code",
   "execution_count": 232,
   "id": "47a359d1-2598-4b93-8384-3c9ada889ebe",
   "metadata": {},
   "outputs": [
    {
     "data": {
      "image/png": "[encoded data removed]",
      "text/plain": [
       "<Figure size 432x288 with 1 Axes>"
      ]
     },
     "metadata": {
      "needs_background": "light"
     },
     "output_type": "display_data"
    }
   ],
   "source": [
    "plt.plot(listings['price'], 'bo')\n",
    "plt.axhline(y=0, linestyle='--')\n",
    "plt.show()"
   ]
  },
  {
   "cell_type": "markdown",
   "id": "48cbc564-d5dd-4ea7-b4f1-7a47c9a1e273",
   "metadata": {},
   "source": [
    "Yeah, some of these prices look like they might be absurd."
   ]
  },
  {
   "cell_type": "code",
   "execution_count": 236,
   "id": "e902fbb5-1904-4968-9aef-1503e4a7b3c7",
   "metadata": {},
   "outputs": [
    {
     "data": {
      "text/plain": [
       "2648    48864.0\n",
       "2647    48864.0\n",
       "2341    48864.0\n",
       "2360    47484.0\n",
       "2361    47484.0\n",
       "2359    47484.0\n",
       "2362    47484.0\n",
       "2346    40356.0\n",
       "2345    40356.0\n",
       "2350    39132.0\n",
       "2355    39132.0\n",
       "2351    39132.0\n",
       "2356    39132.0\n",
       "2353    39132.0\n",
       "2650    39132.0\n",
       "2354    39132.0\n",
       "2352    39132.0\n",
       "2358    39132.0\n",
       "2357    39132.0\n",
       "3288     9999.0\n",
       "1049     9999.0\n",
       "3287     9999.0\n",
       "3289     9999.0\n",
       "3120     9000.0\n",
       "6196     5000.0\n",
       "3072     4500.0\n",
       "2866     3690.0\n",
       "4522     3070.0\n",
       "4498     3042.0\n",
       "2570     3000.0\n",
       "Name: price, dtype: float64"
      ]
     },
     "execution_count": 236,
     "metadata": {},
     "output_type": "execute_result"
    }
   ],
   "source": [
    "listings['price'].sort_values(ascending=False).head(30)"
   ]
  },
  {
   "cell_type": "code",
   "execution_count": 241,
   "id": "a4906c50-0d55-42e2-9f25-9f0e065c2043",
   "metadata": {},
   "outputs": [
    {
     "data": {
      "text/plain": [
       "'https://www.airbnb.com/rooms/30718928'"
      ]
     },
     "execution_count": 241,
     "metadata": {},
     "output_type": "execute_result"
    }
   ],
   "source": [
    "listings.loc[2648, 'listing_url']"
   ]
  },
  {
   "cell_type": "markdown",
   "id": "1c34b6cb-d12b-4d7d-afa8-0790226595b3",
   "metadata": {},
   "source": [
    "What is going on here? Following the link above, this place is clearly a luxury place, but it's just a studio! On top of that, it's currently listed at USD 1,653 per night, not USD 48,864 per night as above. Let's take a closer look at `calendar` to see what happened:"
   ]
  },
  {
   "cell_type": "code",
   "execution_count": 245,
   "id": "69302d20-9bb4-4baf-853d-a7dc0126ef69",
   "metadata": {},
   "outputs": [],
   "source": [
    "listing_id = listings.loc[2648, 'id']"
   ]
  },
  {
   "cell_type": "code",
   "execution_count": 252,
   "id": "e3e66e70-32e1-4c61-ad45-7898cda1d902",
   "metadata": {},
   "outputs": [
    {
     "data": {
      "text/html": [
       "<div>\n",
       "<style scoped>\n",
       "    .dataframe tbody tr th:only-of-type {\n",
       "        vertical-align: middle;\n",
       "    }\n",
       "\n",
       "    .dataframe tbody tr th {\n",
       "        vertical-align: top;\n",
       "    }\n",
       "\n",
       "    .dataframe thead th {\n",
       "        text-align: right;\n",
       "    }\n",
       "</style>\n",
       "<table border=\"1\" class=\"dataframe\">\n",
       "  <thead>\n",
       "    <tr style=\"text-align: right;\">\n",
       "      <th></th>\n",
       "      <th>date</th>\n",
       "      <th>price</th>\n",
       "      <th>adjusted_price</th>\n",
       "    </tr>\n",
       "  </thead>\n",
       "  <tbody>\n",
       "    <tr>\n",
       "      <th>1020296</th>\n",
       "      <td>2021-10-18</td>\n",
       "      <td>8144.0</td>\n",
       "      <td>48864.0</td>\n",
       "    </tr>\n",
       "    <tr>\n",
       "      <th>1020297</th>\n",
       "      <td>2021-10-19</td>\n",
       "      <td>8144.0</td>\n",
       "      <td>48864.0</td>\n",
       "    </tr>\n",
       "    <tr>\n",
       "      <th>1020298</th>\n",
       "      <td>2021-10-20</td>\n",
       "      <td>8144.0</td>\n",
       "      <td>48864.0</td>\n",
       "    </tr>\n",
       "    <tr>\n",
       "      <th>1020299</th>\n",
       "      <td>2021-10-21</td>\n",
       "      <td>8144.0</td>\n",
       "      <td>48864.0</td>\n",
       "    </tr>\n",
       "    <tr>\n",
       "      <th>1020300</th>\n",
       "      <td>2021-10-22</td>\n",
       "      <td>8144.0</td>\n",
       "      <td>48864.0</td>\n",
       "    </tr>\n",
       "    <tr>\n",
       "      <th>...</th>\n",
       "      <td>...</td>\n",
       "      <td>...</td>\n",
       "      <td>...</td>\n",
       "    </tr>\n",
       "    <tr>\n",
       "      <th>1023099</th>\n",
       "      <td>2022-10-13</td>\n",
       "      <td>263.0</td>\n",
       "      <td>1578.0</td>\n",
       "    </tr>\n",
       "    <tr>\n",
       "      <th>1023100</th>\n",
       "      <td>2022-10-14</td>\n",
       "      <td>307.0</td>\n",
       "      <td>1842.0</td>\n",
       "    </tr>\n",
       "    <tr>\n",
       "      <th>1023101</th>\n",
       "      <td>2022-10-15</td>\n",
       "      <td>307.0</td>\n",
       "      <td>1842.0</td>\n",
       "    </tr>\n",
       "    <tr>\n",
       "      <th>1023102</th>\n",
       "      <td>2022-10-16</td>\n",
       "      <td>263.0</td>\n",
       "      <td>1578.0</td>\n",
       "    </tr>\n",
       "    <tr>\n",
       "      <th>1023103</th>\n",
       "      <td>2022-10-17</td>\n",
       "      <td>263.0</td>\n",
       "      <td>1578.0</td>\n",
       "    </tr>\n",
       "  </tbody>\n",
       "</table>\n",
       "<p>365 rows × 3 columns</p>\n",
       "</div>"
      ],
      "text/plain": [
       "               date   price  adjusted_price\n",
       "1020296  2021-10-18  8144.0         48864.0\n",
       "1020297  2021-10-19  8144.0         48864.0\n",
       "1020298  2021-10-20  8144.0         48864.0\n",
       "1020299  2021-10-21  8144.0         48864.0\n",
       "1020300  2021-10-22  8144.0         48864.0\n",
       "...             ...     ...             ...\n",
       "1023099  2022-10-13   263.0          1578.0\n",
       "1023100  2022-10-14   307.0          1842.0\n",
       "1023101  2022-10-15   307.0          1842.0\n",
       "1023102  2022-10-16   263.0          1578.0\n",
       "1023103  2022-10-17   263.0          1578.0\n",
       "\n",
       "[365 rows x 3 columns]"
      ]
     },
     "execution_count": 252,
     "metadata": {},
     "output_type": "execute_result"
    }
   ],
   "source": [
    "calendar.loc[calendar['listing_id']==listing_id, ['date', 'price', 'adjusted_price']]"
   ]
  },
  {
   "cell_type": "markdown",
   "id": "da7c19f6-56b6-4569-b0da-3935ce3b0aca",
   "metadata": {},
   "source": [
    "OK, it appears that the adjusted price was very high in mid-October, and that's what was pulled into the `price` field in `listings`. My understanding is that Airbnb allows hosts to turn on a setting that automatically adjusts the price according to demand (using some model developed by Airbnb), so likely demand was extremely high at nearby properties at that time. In any case, it would make sense for me to exclude this property and related ones from my data; I note that each of the properties over USD 10,000 are in the \"Ginosi 747 Apartel\", as can be easily verified by clicking on those URLs. Further, one of the next most expensive listings, at USD 9,999, is a 12-bedroom mansion."
   ]
  },
  {
   "cell_type": "code",
   "execution_count": 282,
   "id": "c05fc4bd-9fd1-4d67-b951-926a07eea64b",
   "metadata": {},
   "outputs": [
    {
     "data": {
      "text/plain": [
       "float"
      ]
     },
     "execution_count": 282,
     "metadata": {},
     "output_type": "execute_result"
    }
   ],
   "source": [
    "type(np.nan)"
   ]
  },
  {
   "cell_type": "code",
   "execution_count": 300,
   "id": "034aabbc-0dd0-4d11-bfc2-6443ee8e2121",
   "metadata": {},
   "outputs": [],
   "source": [
    "def check(x, text):\n",
    "    if type(x['description']) != type('s'):\n",
    "        return 0\n",
    "    elif text in x['description'].lower():\n",
    "        return 1\n",
    "    else:\n",
    "        return 0"
   ]
  },
  {
   "cell_type": "code",
   "execution_count": 295,
   "id": "3a6916a2-29a3-4e99-a99c-85078d95a750",
   "metadata": {},
   "outputs": [
    {
     "data": {
      "text/plain": [
       "3529    NaN\n",
       "3597    NaN\n",
       "3747    NaN\n",
       "3797    NaN\n",
       "3825    NaN\n",
       "4435    NaN\n",
       "4451    NaN\n",
       "4538    NaN\n",
       "5419    NaN\n",
       "6086    NaN\n",
       "6283    NaN\n",
       "6319    NaN\n",
       "6320    NaN\n",
       "6322    NaN\n",
       "Name: description, dtype: object"
      ]
     },
     "execution_count": 295,
     "metadata": {},
     "output_type": "execute_result"
    }
   ],
   "source": [
    "listings[listings['description'].isna()]['description']"
   ]
  },
  {
   "cell_type": "code",
   "execution_count": 313,
   "id": "214c777b-974e-41ff-b48c-1ecded0a732e",
   "metadata": {},
   "outputs": [
    {
     "data": {
      "text/plain": [
       "1168"
      ]
     },
     "execution_count": 313,
     "metadata": {},
     "output_type": "execute_result"
    }
   ],
   "source": [
    "listings.apply(lambda x: check(x, 'spacious'), axis=1).sum()"
   ]
  },
  {
   "cell_type": "code",
   "execution_count": 258,
   "id": "e76747f5-3393-4d48-b87d-568bf5688ec3",
   "metadata": {},
   "outputs": [
    {
     "data": {
      "text/plain": [
       "1049    https://www.airbnb.com/rooms/15287352\n",
       "3120    https://www.airbnb.com/rooms/35421741\n",
       "3287    https://www.airbnb.com/rooms/36667074\n",
       "3288    https://www.airbnb.com/rooms/36668214\n",
       "3289    https://www.airbnb.com/rooms/36668235\n",
       "Name: listing_url, dtype: object"
      ]
     },
     "execution_count": 258,
     "metadata": {},
     "output_type": "execute_result"
    }
   ],
   "source": [
    "listings.loc[(listings['price'] < 10000) & (listings['price'] > 5000), 'listing_url']"
   ]
  },
  {
   "cell_type": "markdown",
   "id": "fad662c9-e1af-4c42-b54d-dc6f185e0fac",
   "metadata": {},
   "source": [
    "### Smaller Linear Model"
   ]
  },
  {
   "cell_type": "markdown",
   "id": "6e255490-b579-4393-a921-749017f5046b",
   "metadata": {},
   "source": [
    "Let's go back to basics. Maybe the model above is just too big. What do we expect to be the most useful factors for price prediction? My guesses: Its size (number of people, number of bedrooms and bathrooms) and the neighborhood. The relevant columns are `neighbourhood_cleansed`, `accommodates`, `bathrooms_text`, `bedrooms`, and `beds`."
   ]
  },
  {
   "cell_type": "code",
   "execution_count": 45,
   "id": "ac2efb01-725c-4eec-95aa-70b4ef125569",
   "metadata": {},
   "outputs": [],
   "source": [
    "X_small = listings[['neighbourhood_cleansed','accommodates','bathrooms_text','bedrooms','beds']]"
   ]
  },
  {
   "cell_type": "code",
   "execution_count": 46,
   "id": "85c7b9f9-9c2d-4bbc-b1e8-389f32e65713",
   "metadata": {},
   "outputs": [],
   "source": [
    "X_small = pd.get_dummies(X_small, drop_first=True)"
   ]
  },
  {
   "cell_type": "code",
   "execution_count": 47,
   "id": "ce5ad4c4-114b-4421-9db3-2bf06ee3ee11",
   "metadata": {},
   "outputs": [],
   "source": [
    "y_small = y.copy()"
   ]
  },
  {
   "cell_type": "code",
   "execution_count": 48,
   "id": "1874360b-70b1-4cf7-8999-a14941686a64",
   "metadata": {},
   "outputs": [
    {
     "data": {
      "text/html": [
       "<div>\n",
       "<style scoped>\n",
       "    .dataframe tbody tr th:only-of-type {\n",
       "        vertical-align: middle;\n",
       "    }\n",
       "\n",
       "    .dataframe tbody tr th {\n",
       "        vertical-align: top;\n",
       "    }\n",
       "\n",
       "    .dataframe thead th {\n",
       "        text-align: right;\n",
       "    }\n",
       "</style>\n",
       "<table border=\"1\" class=\"dataframe\">\n",
       "  <thead>\n",
       "    <tr style=\"text-align: right;\">\n",
       "      <th></th>\n",
       "      <th>accommodates</th>\n",
       "      <th>bedrooms</th>\n",
       "      <th>beds</th>\n",
       "      <th>neighbourhood_cleansed_Archer Heights</th>\n",
       "      <th>neighbourhood_cleansed_Armour Square</th>\n",
       "      <th>neighbourhood_cleansed_Ashburn</th>\n",
       "      <th>neighbourhood_cleansed_Auburn Gresham</th>\n",
       "      <th>neighbourhood_cleansed_Austin</th>\n",
       "      <th>neighbourhood_cleansed_Avalon Park</th>\n",
       "      <th>neighbourhood_cleansed_Avondale</th>\n",
       "      <th>...</th>\n",
       "      <th>bathrooms_text_5 baths</th>\n",
       "      <th>bathrooms_text_5.5 baths</th>\n",
       "      <th>bathrooms_text_6 baths</th>\n",
       "      <th>bathrooms_text_6.5 baths</th>\n",
       "      <th>bathrooms_text_7 baths</th>\n",
       "      <th>bathrooms_text_7.5 baths</th>\n",
       "      <th>bathrooms_text_8 shared baths</th>\n",
       "      <th>bathrooms_text_Half-bath</th>\n",
       "      <th>bathrooms_text_Private half-bath</th>\n",
       "      <th>bathrooms_text_Shared half-bath</th>\n",
       "    </tr>\n",
       "  </thead>\n",
       "  <tbody>\n",
       "    <tr>\n",
       "      <th>0</th>\n",
       "      <td>1</td>\n",
       "      <td>1.0</td>\n",
       "      <td>1.0</td>\n",
       "      <td>0</td>\n",
       "      <td>0</td>\n",
       "      <td>0</td>\n",
       "      <td>0</td>\n",
       "      <td>0</td>\n",
       "      <td>0</td>\n",
       "      <td>0</td>\n",
       "      <td>...</td>\n",
       "      <td>0</td>\n",
       "      <td>0</td>\n",
       "      <td>0</td>\n",
       "      <td>0</td>\n",
       "      <td>0</td>\n",
       "      <td>0</td>\n",
       "      <td>0</td>\n",
       "      <td>0</td>\n",
       "      <td>0</td>\n",
       "      <td>0</td>\n",
       "    </tr>\n",
       "    <tr>\n",
       "      <th>1</th>\n",
       "      <td>2</td>\n",
       "      <td>1.0</td>\n",
       "      <td>1.0</td>\n",
       "      <td>0</td>\n",
       "      <td>0</td>\n",
       "      <td>0</td>\n",
       "      <td>0</td>\n",
       "      <td>0</td>\n",
       "      <td>0</td>\n",
       "      <td>0</td>\n",
       "      <td>...</td>\n",
       "      <td>0</td>\n",
       "      <td>0</td>\n",
       "      <td>0</td>\n",
       "      <td>0</td>\n",
       "      <td>0</td>\n",
       "      <td>0</td>\n",
       "      <td>0</td>\n",
       "      <td>0</td>\n",
       "      <td>0</td>\n",
       "      <td>0</td>\n",
       "    </tr>\n",
       "    <tr>\n",
       "      <th>2</th>\n",
       "      <td>4</td>\n",
       "      <td>2.0</td>\n",
       "      <td>2.0</td>\n",
       "      <td>0</td>\n",
       "      <td>0</td>\n",
       "      <td>0</td>\n",
       "      <td>0</td>\n",
       "      <td>0</td>\n",
       "      <td>0</td>\n",
       "      <td>0</td>\n",
       "      <td>...</td>\n",
       "      <td>0</td>\n",
       "      <td>0</td>\n",
       "      <td>0</td>\n",
       "      <td>0</td>\n",
       "      <td>0</td>\n",
       "      <td>0</td>\n",
       "      <td>0</td>\n",
       "      <td>0</td>\n",
       "      <td>0</td>\n",
       "      <td>0</td>\n",
       "    </tr>\n",
       "    <tr>\n",
       "      <th>3</th>\n",
       "      <td>2</td>\n",
       "      <td>1.0</td>\n",
       "      <td>1.0</td>\n",
       "      <td>0</td>\n",
       "      <td>0</td>\n",
       "      <td>0</td>\n",
       "      <td>0</td>\n",
       "      <td>0</td>\n",
       "      <td>0</td>\n",
       "      <td>0</td>\n",
       "      <td>...</td>\n",
       "      <td>0</td>\n",
       "      <td>0</td>\n",
       "      <td>0</td>\n",
       "      <td>0</td>\n",
       "      <td>0</td>\n",
       "      <td>0</td>\n",
       "      <td>0</td>\n",
       "      <td>0</td>\n",
       "      <td>0</td>\n",
       "      <td>0</td>\n",
       "    </tr>\n",
       "    <tr>\n",
       "      <th>4</th>\n",
       "      <td>2</td>\n",
       "      <td>1.0</td>\n",
       "      <td>2.0</td>\n",
       "      <td>0</td>\n",
       "      <td>0</td>\n",
       "      <td>0</td>\n",
       "      <td>0</td>\n",
       "      <td>0</td>\n",
       "      <td>0</td>\n",
       "      <td>0</td>\n",
       "      <td>...</td>\n",
       "      <td>0</td>\n",
       "      <td>0</td>\n",
       "      <td>0</td>\n",
       "      <td>0</td>\n",
       "      <td>0</td>\n",
       "      <td>0</td>\n",
       "      <td>0</td>\n",
       "      <td>0</td>\n",
       "      <td>0</td>\n",
       "      <td>0</td>\n",
       "    </tr>\n",
       "    <tr>\n",
       "      <th>...</th>\n",
       "      <td>...</td>\n",
       "      <td>...</td>\n",
       "      <td>...</td>\n",
       "      <td>...</td>\n",
       "      <td>...</td>\n",
       "      <td>...</td>\n",
       "      <td>...</td>\n",
       "      <td>...</td>\n",
       "      <td>...</td>\n",
       "      <td>...</td>\n",
       "      <td>...</td>\n",
       "      <td>...</td>\n",
       "      <td>...</td>\n",
       "      <td>...</td>\n",
       "      <td>...</td>\n",
       "      <td>...</td>\n",
       "      <td>...</td>\n",
       "      <td>...</td>\n",
       "      <td>...</td>\n",
       "      <td>...</td>\n",
       "      <td>...</td>\n",
       "    </tr>\n",
       "    <tr>\n",
       "      <th>6523</th>\n",
       "      <td>4</td>\n",
       "      <td>2.0</td>\n",
       "      <td>2.0</td>\n",
       "      <td>0</td>\n",
       "      <td>0</td>\n",
       "      <td>0</td>\n",
       "      <td>0</td>\n",
       "      <td>0</td>\n",
       "      <td>0</td>\n",
       "      <td>0</td>\n",
       "      <td>...</td>\n",
       "      <td>0</td>\n",
       "      <td>0</td>\n",
       "      <td>0</td>\n",
       "      <td>0</td>\n",
       "      <td>0</td>\n",
       "      <td>0</td>\n",
       "      <td>0</td>\n",
       "      <td>0</td>\n",
       "      <td>0</td>\n",
       "      <td>0</td>\n",
       "    </tr>\n",
       "    <tr>\n",
       "      <th>6524</th>\n",
       "      <td>8</td>\n",
       "      <td>3.0</td>\n",
       "      <td>5.0</td>\n",
       "      <td>0</td>\n",
       "      <td>0</td>\n",
       "      <td>0</td>\n",
       "      <td>0</td>\n",
       "      <td>0</td>\n",
       "      <td>0</td>\n",
       "      <td>0</td>\n",
       "      <td>...</td>\n",
       "      <td>0</td>\n",
       "      <td>0</td>\n",
       "      <td>0</td>\n",
       "      <td>0</td>\n",
       "      <td>0</td>\n",
       "      <td>0</td>\n",
       "      <td>0</td>\n",
       "      <td>0</td>\n",
       "      <td>0</td>\n",
       "      <td>0</td>\n",
       "    </tr>\n",
       "    <tr>\n",
       "      <th>6525</th>\n",
       "      <td>8</td>\n",
       "      <td>3.0</td>\n",
       "      <td>3.0</td>\n",
       "      <td>0</td>\n",
       "      <td>0</td>\n",
       "      <td>0</td>\n",
       "      <td>0</td>\n",
       "      <td>0</td>\n",
       "      <td>0</td>\n",
       "      <td>0</td>\n",
       "      <td>...</td>\n",
       "      <td>0</td>\n",
       "      <td>0</td>\n",
       "      <td>0</td>\n",
       "      <td>0</td>\n",
       "      <td>0</td>\n",
       "      <td>0</td>\n",
       "      <td>0</td>\n",
       "      <td>0</td>\n",
       "      <td>0</td>\n",
       "      <td>0</td>\n",
       "    </tr>\n",
       "    <tr>\n",
       "      <th>6526</th>\n",
       "      <td>6</td>\n",
       "      <td>2.0</td>\n",
       "      <td>3.0</td>\n",
       "      <td>0</td>\n",
       "      <td>0</td>\n",
       "      <td>0</td>\n",
       "      <td>0</td>\n",
       "      <td>0</td>\n",
       "      <td>0</td>\n",
       "      <td>0</td>\n",
       "      <td>...</td>\n",
       "      <td>0</td>\n",
       "      <td>0</td>\n",
       "      <td>0</td>\n",
       "      <td>0</td>\n",
       "      <td>0</td>\n",
       "      <td>0</td>\n",
       "      <td>0</td>\n",
       "      <td>0</td>\n",
       "      <td>0</td>\n",
       "      <td>0</td>\n",
       "    </tr>\n",
       "    <tr>\n",
       "      <th>6527</th>\n",
       "      <td>6</td>\n",
       "      <td>2.0</td>\n",
       "      <td>3.0</td>\n",
       "      <td>0</td>\n",
       "      <td>0</td>\n",
       "      <td>0</td>\n",
       "      <td>0</td>\n",
       "      <td>0</td>\n",
       "      <td>0</td>\n",
       "      <td>0</td>\n",
       "      <td>...</td>\n",
       "      <td>0</td>\n",
       "      <td>0</td>\n",
       "      <td>0</td>\n",
       "      <td>0</td>\n",
       "      <td>0</td>\n",
       "      <td>0</td>\n",
       "      <td>0</td>\n",
       "      <td>0</td>\n",
       "      <td>0</td>\n",
       "      <td>0</td>\n",
       "    </tr>\n",
       "  </tbody>\n",
       "</table>\n",
       "<p>6526 rows × 108 columns</p>\n",
       "</div>"
      ],
      "text/plain": [
       "      accommodates  bedrooms  beds  neighbourhood_cleansed_Archer Heights  \\\n",
       "0                1       1.0   1.0                                      0   \n",
       "1                2       1.0   1.0                                      0   \n",
       "2                4       2.0   2.0                                      0   \n",
       "3                2       1.0   1.0                                      0   \n",
       "4                2       1.0   2.0                                      0   \n",
       "...            ...       ...   ...                                    ...   \n",
       "6523             4       2.0   2.0                                      0   \n",
       "6524             8       3.0   5.0                                      0   \n",
       "6525             8       3.0   3.0                                      0   \n",
       "6526             6       2.0   3.0                                      0   \n",
       "6527             6       2.0   3.0                                      0   \n",
       "\n",
       "      neighbourhood_cleansed_Armour Square  neighbourhood_cleansed_Ashburn  \\\n",
       "0                                        0                               0   \n",
       "1                                        0                               0   \n",
       "2                                        0                               0   \n",
       "3                                        0                               0   \n",
       "4                                        0                               0   \n",
       "...                                    ...                             ...   \n",
       "6523                                     0                               0   \n",
       "6524                                     0                               0   \n",
       "6525                                     0                               0   \n",
       "6526                                     0                               0   \n",
       "6527                                     0                               0   \n",
       "\n",
       "      neighbourhood_cleansed_Auburn Gresham  neighbourhood_cleansed_Austin  \\\n",
       "0                                         0                              0   \n",
       "1                                         0                              0   \n",
       "2                                         0                              0   \n",
       "3                                         0                              0   \n",
       "4                                         0                              0   \n",
       "...                                     ...                            ...   \n",
       "6523                                      0                              0   \n",
       "6524                                      0                              0   \n",
       "6525                                      0                              0   \n",
       "6526                                      0                              0   \n",
       "6527                                      0                              0   \n",
       "\n",
       "      neighbourhood_cleansed_Avalon Park  neighbourhood_cleansed_Avondale  \\\n",
       "0                                      0                                0   \n",
       "1                                      0                                0   \n",
       "2                                      0                                0   \n",
       "3                                      0                                0   \n",
       "4                                      0                                0   \n",
       "...                                  ...                              ...   \n",
       "6523                                   0                                0   \n",
       "6524                                   0                                0   \n",
       "6525                                   0                                0   \n",
       "6526                                   0                                0   \n",
       "6527                                   0                                0   \n",
       "\n",
       "      ...  bathrooms_text_5 baths  bathrooms_text_5.5 baths  \\\n",
       "0     ...                       0                         0   \n",
       "1     ...                       0                         0   \n",
       "2     ...                       0                         0   \n",
       "3     ...                       0                         0   \n",
       "4     ...                       0                         0   \n",
       "...   ...                     ...                       ...   \n",
       "6523  ...                       0                         0   \n",
       "6524  ...                       0                         0   \n",
       "6525  ...                       0                         0   \n",
       "6526  ...                       0                         0   \n",
       "6527  ...                       0                         0   \n",
       "\n",
       "      bathrooms_text_6 baths  bathrooms_text_6.5 baths  \\\n",
       "0                          0                         0   \n",
       "1                          0                         0   \n",
       "2                          0                         0   \n",
       "3                          0                         0   \n",
       "4                          0                         0   \n",
       "...                      ...                       ...   \n",
       "6523                       0                         0   \n",
       "6524                       0                         0   \n",
       "6525                       0                         0   \n",
       "6526                       0                         0   \n",
       "6527                       0                         0   \n",
       "\n",
       "      bathrooms_text_7 baths  bathrooms_text_7.5 baths  \\\n",
       "0                          0                         0   \n",
       "1                          0                         0   \n",
       "2                          0                         0   \n",
       "3                          0                         0   \n",
       "4                          0                         0   \n",
       "...                      ...                       ...   \n",
       "6523                       0                         0   \n",
       "6524                       0                         0   \n",
       "6525                       0                         0   \n",
       "6526                       0                         0   \n",
       "6527                       0                         0   \n",
       "\n",
       "      bathrooms_text_8 shared baths  bathrooms_text_Half-bath  \\\n",
       "0                                 0                         0   \n",
       "1                                 0                         0   \n",
       "2                                 0                         0   \n",
       "3                                 0                         0   \n",
       "4                                 0                         0   \n",
       "...                             ...                       ...   \n",
       "6523                              0                         0   \n",
       "6524                              0                         0   \n",
       "6525                              0                         0   \n",
       "6526                              0                         0   \n",
       "6527                              0                         0   \n",
       "\n",
       "      bathrooms_text_Private half-bath  bathrooms_text_Shared half-bath  \n",
       "0                                    0                                0  \n",
       "1                                    0                                0  \n",
       "2                                    0                                0  \n",
       "3                                    0                                0  \n",
       "4                                    0                                0  \n",
       "...                                ...                              ...  \n",
       "6523                                 0                                0  \n",
       "6524                                 0                                0  \n",
       "6525                                 0                                0  \n",
       "6526                                 0                                0  \n",
       "6527                                 0                                0  \n",
       "\n",
       "[6526 rows x 108 columns]"
      ]
     },
     "execution_count": 48,
     "metadata": {},
     "output_type": "execute_result"
    }
   ],
   "source": [
    "X_small"
   ]
  },
  {
   "cell_type": "markdown",
   "id": "849a499b-7683-4e09-8127-28e1dafc0964",
   "metadata": {},
   "source": [
    "I need to deal with the `NA` entries in `beds` and `bedrooms`."
   ]
  },
  {
   "cell_type": "code",
   "execution_count": 49,
   "id": "4e629e14-1ec6-48a9-a744-5f6b41fbbf37",
   "metadata": {},
   "outputs": [],
   "source": [
    "X_small['bedrooms'] = X_small.apply(lambda x: x['beds'] if not(x['bedrooms']>0) else x['bedrooms'], axis=1)\n",
    "X_small['beds'] = X_small.apply(lambda x: x['bedrooms'] if not(x['beds']>0) else x['beds'], axis=1)"
   ]
  },
  {
   "cell_type": "code",
   "execution_count": 50,
   "id": "158c7949-07d4-4806-9f39-23ae67ca712b",
   "metadata": {},
   "outputs": [
    {
     "data": {
      "text/plain": [
       "4"
      ]
     },
     "execution_count": 50,
     "metadata": {},
     "output_type": "execute_result"
    }
   ],
   "source": [
    "sum(X_small.isna()['beds'])"
   ]
  },
  {
   "cell_type": "code",
   "execution_count": 51,
   "id": "a8ca6dd1-ca38-415c-b82e-3a9af9620191",
   "metadata": {},
   "outputs": [
    {
     "data": {
      "text/html": [
       "<div>\n",
       "<style scoped>\n",
       "    .dataframe tbody tr th:only-of-type {\n",
       "        vertical-align: middle;\n",
       "    }\n",
       "\n",
       "    .dataframe tbody tr th {\n",
       "        vertical-align: top;\n",
       "    }\n",
       "\n",
       "    .dataframe thead th {\n",
       "        text-align: right;\n",
       "    }\n",
       "</style>\n",
       "<table border=\"1\" class=\"dataframe\">\n",
       "  <thead>\n",
       "    <tr style=\"text-align: right;\">\n",
       "      <th></th>\n",
       "      <th>accommodates</th>\n",
       "      <th>bedrooms</th>\n",
       "      <th>beds</th>\n",
       "      <th>neighbourhood_cleansed_Archer Heights</th>\n",
       "      <th>neighbourhood_cleansed_Armour Square</th>\n",
       "      <th>neighbourhood_cleansed_Ashburn</th>\n",
       "      <th>neighbourhood_cleansed_Auburn Gresham</th>\n",
       "      <th>neighbourhood_cleansed_Austin</th>\n",
       "      <th>neighbourhood_cleansed_Avalon Park</th>\n",
       "      <th>neighbourhood_cleansed_Avondale</th>\n",
       "      <th>...</th>\n",
       "      <th>bathrooms_text_5 baths</th>\n",
       "      <th>bathrooms_text_5.5 baths</th>\n",
       "      <th>bathrooms_text_6 baths</th>\n",
       "      <th>bathrooms_text_6.5 baths</th>\n",
       "      <th>bathrooms_text_7 baths</th>\n",
       "      <th>bathrooms_text_7.5 baths</th>\n",
       "      <th>bathrooms_text_8 shared baths</th>\n",
       "      <th>bathrooms_text_Half-bath</th>\n",
       "      <th>bathrooms_text_Private half-bath</th>\n",
       "      <th>bathrooms_text_Shared half-bath</th>\n",
       "    </tr>\n",
       "  </thead>\n",
       "  <tbody>\n",
       "    <tr>\n",
       "      <th>5590</th>\n",
       "      <td>2</td>\n",
       "      <td>NaN</td>\n",
       "      <td>NaN</td>\n",
       "      <td>0</td>\n",
       "      <td>0</td>\n",
       "      <td>0</td>\n",
       "      <td>0</td>\n",
       "      <td>0</td>\n",
       "      <td>0</td>\n",
       "      <td>0</td>\n",
       "      <td>...</td>\n",
       "      <td>0</td>\n",
       "      <td>0</td>\n",
       "      <td>0</td>\n",
       "      <td>0</td>\n",
       "      <td>0</td>\n",
       "      <td>0</td>\n",
       "      <td>0</td>\n",
       "      <td>0</td>\n",
       "      <td>0</td>\n",
       "      <td>0</td>\n",
       "    </tr>\n",
       "    <tr>\n",
       "      <th>6015</th>\n",
       "      <td>4</td>\n",
       "      <td>NaN</td>\n",
       "      <td>NaN</td>\n",
       "      <td>0</td>\n",
       "      <td>0</td>\n",
       "      <td>0</td>\n",
       "      <td>0</td>\n",
       "      <td>0</td>\n",
       "      <td>0</td>\n",
       "      <td>0</td>\n",
       "      <td>...</td>\n",
       "      <td>0</td>\n",
       "      <td>0</td>\n",
       "      <td>0</td>\n",
       "      <td>0</td>\n",
       "      <td>0</td>\n",
       "      <td>0</td>\n",
       "      <td>0</td>\n",
       "      <td>0</td>\n",
       "      <td>0</td>\n",
       "      <td>0</td>\n",
       "    </tr>\n",
       "    <tr>\n",
       "      <th>6416</th>\n",
       "      <td>2</td>\n",
       "      <td>NaN</td>\n",
       "      <td>NaN</td>\n",
       "      <td>0</td>\n",
       "      <td>0</td>\n",
       "      <td>0</td>\n",
       "      <td>0</td>\n",
       "      <td>0</td>\n",
       "      <td>0</td>\n",
       "      <td>0</td>\n",
       "      <td>...</td>\n",
       "      <td>0</td>\n",
       "      <td>0</td>\n",
       "      <td>0</td>\n",
       "      <td>0</td>\n",
       "      <td>0</td>\n",
       "      <td>0</td>\n",
       "      <td>0</td>\n",
       "      <td>0</td>\n",
       "      <td>0</td>\n",
       "      <td>0</td>\n",
       "    </tr>\n",
       "    <tr>\n",
       "      <th>6516</th>\n",
       "      <td>4</td>\n",
       "      <td>NaN</td>\n",
       "      <td>NaN</td>\n",
       "      <td>0</td>\n",
       "      <td>0</td>\n",
       "      <td>0</td>\n",
       "      <td>0</td>\n",
       "      <td>0</td>\n",
       "      <td>0</td>\n",
       "      <td>0</td>\n",
       "      <td>...</td>\n",
       "      <td>0</td>\n",
       "      <td>0</td>\n",
       "      <td>0</td>\n",
       "      <td>0</td>\n",
       "      <td>0</td>\n",
       "      <td>0</td>\n",
       "      <td>0</td>\n",
       "      <td>0</td>\n",
       "      <td>0</td>\n",
       "      <td>0</td>\n",
       "    </tr>\n",
       "  </tbody>\n",
       "</table>\n",
       "<p>4 rows × 108 columns</p>\n",
       "</div>"
      ],
      "text/plain": [
       "      accommodates  bedrooms  beds  neighbourhood_cleansed_Archer Heights  \\\n",
       "5590             2       NaN   NaN                                      0   \n",
       "6015             4       NaN   NaN                                      0   \n",
       "6416             2       NaN   NaN                                      0   \n",
       "6516             4       NaN   NaN                                      0   \n",
       "\n",
       "      neighbourhood_cleansed_Armour Square  neighbourhood_cleansed_Ashburn  \\\n",
       "5590                                     0                               0   \n",
       "6015                                     0                               0   \n",
       "6416                                     0                               0   \n",
       "6516                                     0                               0   \n",
       "\n",
       "      neighbourhood_cleansed_Auburn Gresham  neighbourhood_cleansed_Austin  \\\n",
       "5590                                      0                              0   \n",
       "6015                                      0                              0   \n",
       "6416                                      0                              0   \n",
       "6516                                      0                              0   \n",
       "\n",
       "      neighbourhood_cleansed_Avalon Park  neighbourhood_cleansed_Avondale  \\\n",
       "5590                                   0                                0   \n",
       "6015                                   0                                0   \n",
       "6416                                   0                                0   \n",
       "6516                                   0                                0   \n",
       "\n",
       "      ...  bathrooms_text_5 baths  bathrooms_text_5.5 baths  \\\n",
       "5590  ...                       0                         0   \n",
       "6015  ...                       0                         0   \n",
       "6416  ...                       0                         0   \n",
       "6516  ...                       0                         0   \n",
       "\n",
       "      bathrooms_text_6 baths  bathrooms_text_6.5 baths  \\\n",
       "5590                       0                         0   \n",
       "6015                       0                         0   \n",
       "6416                       0                         0   \n",
       "6516                       0                         0   \n",
       "\n",
       "      bathrooms_text_7 baths  bathrooms_text_7.5 baths  \\\n",
       "5590                       0                         0   \n",
       "6015                       0                         0   \n",
       "6416                       0                         0   \n",
       "6516                       0                         0   \n",
       "\n",
       "      bathrooms_text_8 shared baths  bathrooms_text_Half-bath  \\\n",
       "5590                              0                         0   \n",
       "6015                              0                         0   \n",
       "6416                              0                         0   \n",
       "6516                              0                         0   \n",
       "\n",
       "      bathrooms_text_Private half-bath  bathrooms_text_Shared half-bath  \n",
       "5590                                 0                                0  \n",
       "6015                                 0                                0  \n",
       "6416                                 0                                0  \n",
       "6516                                 0                                0  \n",
       "\n",
       "[4 rows x 108 columns]"
      ]
     },
     "execution_count": 51,
     "metadata": {},
     "output_type": "execute_result"
    }
   ],
   "source": [
    "X_small.loc[X_small.isna()['bedrooms']]"
   ]
  },
  {
   "cell_type": "code",
   "execution_count": 52,
   "id": "4c9eadef-75f1-4f0e-8695-dc3744b615af",
   "metadata": {},
   "outputs": [],
   "source": [
    "to_drop = X_small.loc[X_small['accommodates'] == 0].index\n",
    "X_small.drop(to_drop, inplace=True)\n",
    "y_small.drop(to_drop, inplace=True)"
   ]
  },
  {
   "cell_type": "code",
   "execution_count": 53,
   "id": "ca023106-c70b-4a8c-ad41-66c3f617cf79",
   "metadata": {},
   "outputs": [],
   "source": [
    "X_small['bedrooms'] = X_small.apply(lambda x: x['accommodates'] if not(x['bedrooms'] > 0) else x['bedrooms'], axis=1)\n",
    "X_small['beds'] = X_small.apply(lambda x: x['accommodates'] if not(x['beds'] > 0) else x['beds'], axis=1)"
   ]
  },
  {
   "cell_type": "code",
   "execution_count": 54,
   "id": "6fa082d0-a08b-4f89-87cd-3dc0753e93fb",
   "metadata": {},
   "outputs": [
    {
     "data": {
      "text/plain": [
       "0"
      ]
     },
     "execution_count": 54,
     "metadata": {},
     "output_type": "execute_result"
    }
   ],
   "source": [
    "sum(X_small.isna()['bedrooms'])"
   ]
  },
  {
   "cell_type": "code",
   "execution_count": 55,
   "id": "0aec52df-16f9-406f-8a69-8e42182c15be",
   "metadata": {},
   "outputs": [
    {
     "name": "stdout",
     "output_type": "stream",
     "text": [
      "Cutoff =  1, train_score =  0.00135, test_score =  0.00398, n_features = 3\n",
      "Cutoff =  0.99, train_score =  0.00135, test_score =  0.00398, n_features = 3\n",
      "Cutoff =  0.9, train_score =  0.00135, test_score =  0.00398, n_features = 3\n",
      "Cutoff =  0.7, train_score =  0.00135, test_score =  0.00398, n_features = 3\n",
      "Cutoff =  0.5, train_score =  0.00375, test_score =  0.00602, n_features = 4\n",
      "Cutoff =  0.3, train_score =  0.00375, test_score =  0.00602, n_features = 4\n",
      "Cutoff =  0.2, train_score =  0.00375, test_score =  0.00602, n_features = 4\n",
      "Cutoff =  0.1, train_score =  0.0296, test_score =  0.0279, n_features = 8\n",
      "Cutoff =  0.05, train_score =  0.0299, test_score =  0.0282, n_features = 13\n",
      "Cutoff =  0.01, train_score =  0.0305, test_score =  0.0282, n_features = 39\n",
      "Cutoff =  0.005, train_score =  0.0307, test_score =  0.0283, n_features = 50\n",
      "Cutoff =  0.001, train_score =  0.0317, test_score =  0.0302, n_features = 81\n",
      "Cutoff =  0.0005, train_score =  0.0318, test_score =  0.0301, n_features = 89\n",
      "Cutoff =  0, train_score =  0.0326, test_score = -4.43e+21, n_features = 108\n"
     ]
    }
   ],
   "source": [
    "cutoffs = [1, .99, .9, .7, .5, .3, .2, .1, .05, .01, 0.005, 0.001, 0.0005, 0]\n",
    "test_cutoffs(X_small, y_small, LinearRegression(), cutoffs);"
   ]
  },
  {
   "cell_type": "code",
   "execution_count": 56,
   "id": "cf255e9c-941d-4b9d-924a-c81a4973901c",
   "metadata": {},
   "outputs": [
    {
     "name": "stdout",
     "output_type": "stream",
     "text": [
      "0.030157294794024847\n"
     ]
    }
   ],
   "source": [
    "pipe, X_small_train, X_small_test, y_small_train, y_small_test = fit_model(X_small, y_small, LinearRegression(), 0.001)\n",
    "score = pipe.score(X_small_test, y_small_test)\n",
    "y_small_pred = pipe.predict(X_small_test)\n",
    "print(score)"
   ]
  },
  {
   "cell_type": "code",
   "execution_count": 57,
   "id": "fc5805f6-30d8-4621-92b1-93fea92f08c8",
   "metadata": {},
   "outputs": [
    {
     "name": "stdout",
     "output_type": "stream",
     "text": [
      "0.030157294794024847\n"
     ]
    }
   ],
   "source": [
    "u = ((y_small_test - y_small_pred)**2).sum()\n",
    "v = ((y_small_test - y_small_test.mean())**2).sum()\n",
    "print(1 - u/v)"
   ]
  },
  {
   "cell_type": "code",
   "execution_count": 60,
   "id": "1196cd51-c36e-4014-a64f-45ba3fa01715",
   "metadata": {},
   "outputs": [
    {
     "name": "stdout",
     "output_type": "stream",
     "text": [
      "0.2573781071548782\n"
     ]
    }
   ],
   "source": [
    "# The score using the large linear model above\n",
    "u = ((y_test - y_pred)**2).sum()\n",
    "v = ((y_test - y_test.mean())**2).sum()\n",
    "print(1 - u/v)"
   ]
  },
  {
   "cell_type": "markdown",
   "id": "ae8062b1-2e3d-433b-8f23-aa88d8a2f36b",
   "metadata": {},
   "source": [
    "The coefficient of determination, $R^2$, is at least positive; that is, the predictors do better than one that just always predicts the mean price. Still, there is a long way to go to actually get good predictions. Note that the predictor I just made with a smaller number of features does significantly worse than the one that uses a much larger number of features."
   ]
  },
  {
   "cell_type": "markdown",
   "id": "c6bf57df-42ce-45c1-aec2-23c018f2ab04",
   "metadata": {},
   "source": [
    "### Elastic Net"
   ]
  },
  {
   "cell_type": "markdown",
   "id": "2cae74f5-55e2-4cb8-a358-d87307dd82fd",
   "metadata": {},
   "source": [
    "There are more sophisticated models that help me get rid of irrelevent features by setting their weights to zero in the model. I'll use sklearn's `ElasticNet`, which has this favorable Lasso property while also having the L2 regularization properties of ridge regression."
   ]
  },
  {
   "cell_type": "code",
   "execution_count": 61,
   "id": "c892a2e4-222b-4ae5-a9bf-1d0a54a95d52",
   "metadata": {},
   "outputs": [],
   "source": [
    "from sklearn.linear_model import ElasticNet"
   ]
  },
  {
   "cell_type": "markdown",
   "id": "6c1bd628-27bd-4676-acad-63c133df9a78",
   "metadata": {},
   "source": [
    "Note `ElasticNet` uses 5-fold cross-validation for hyperparameter tuning by default (I don't need to set up the CV myself)."
   ]
  },
  {
   "cell_type": "code",
   "execution_count": 62,
   "id": "32c58131-061c-4469-9c0c-eea472ff5583",
   "metadata": {},
   "outputs": [
    {
     "name": "stdout",
     "output_type": "stream",
     "text": [
      "Cutoff =  1e+03, train_score =  0.00186, test_score =  0.00204, n_features = 4\n",
      "Cutoff =  1, train_score =  0.0415, test_score =  0.0428, n_features = 37\n",
      "Cutoff =  0.99, train_score =  0.0415, test_score =  0.043, n_features = 39\n",
      "Cutoff =  0.9, train_score =  0.17, test_score =  0.16, n_features = 46\n",
      "Cutoff =  0.7, train_score =  0.242, test_score =  0.225, n_features = 61\n",
      "Cutoff =  0.5, train_score =  0.246, test_score =  0.23, n_features = 69\n",
      "Cutoff =  0.3, train_score =  0.249, test_score =  0.231, n_features = 75\n",
      "Cutoff =  0.2, train_score =  0.249, test_score =  0.231, n_features = 78\n",
      "Cutoff =  0.1, train_score =  0.264, test_score =  0.248, n_features = 85\n",
      "Cutoff =  0.05, train_score =  0.277, test_score =  0.258, n_features = 98\n",
      "Cutoff =  0.01, train_score =  0.292, test_score =  0.271, n_features = 164\n",
      "Cutoff =  0.005, train_score =  0.297, test_score =  0.273, n_features = 202\n",
      "Cutoff =  0, train_score =  0.322, test_score =  0.278, n_features = 739\n"
     ]
    }
   ],
   "source": [
    "cutoffs = [1000, 1, .99, .9, .7, .5, .3, .2, .1, .05, .01, 0.005, 0]\n",
    "test_cutoffs(X, y, ElasticNet(), cutoffs);"
   ]
  },
  {
   "cell_type": "code",
   "execution_count": 98,
   "id": "6c280474-b266-442e-8a8d-54a97c27e66b",
   "metadata": {},
   "outputs": [],
   "source": [
    "pipe, X_train, X_test, y_train, y_test = fit_model(X, y, ElasticNet(), 0)"
   ]
  },
  {
   "cell_type": "code",
   "execution_count": 99,
   "id": "6c41124e-2d45-490d-aa00-c65629ebb6f5",
   "metadata": {},
   "outputs": [
    {
     "data": {
      "text/plain": [
       "0.27798880813270466"
      ]
     },
     "execution_count": 99,
     "metadata": {},
     "output_type": "execute_result"
    }
   ],
   "source": [
    "pipe.score(X_test, y_test)"
   ]
  },
  {
   "cell_type": "code",
   "execution_count": 100,
   "id": "25ff66c1-31db-4a2d-8fc3-7a8cef8d7694",
   "metadata": {},
   "outputs": [],
   "source": [
    "y_pred_E = pipe.predict(X_test)"
   ]
  },
  {
   "cell_type": "code",
   "execution_count": 101,
   "id": "a3cec2a1-565f-4899-931d-ca18024fb8b0",
   "metadata": {},
   "outputs": [
    {
     "data": {
      "text/plain": [
       "0.27798880813270466"
      ]
     },
     "execution_count": 101,
     "metadata": {},
     "output_type": "execute_result"
    }
   ],
   "source": [
    "u = ((y_test - y_pred_E)**2).sum()\n",
    "v = ((y_test - y_test.mean())**2).sum()\n",
    "1 - u/v"
   ]
  },
  {
   "cell_type": "markdown",
   "id": "43e29f48-15dc-470b-ab05-d25014f45a3c",
   "metadata": {},
   "source": [
    "Not much better than my best linear model above, which has $R^2 = 0.267$.\n",
    "\n",
    "What are the most important features?"
   ]
  },
  {
   "cell_type": "code",
   "execution_count": 67,
   "id": "637d8796-44db-4919-8589-db169c69a8c6",
   "metadata": {},
   "outputs": [
    {
     "data": {
      "text/html": [
       "<div>\n",
       "<style scoped>\n",
       "    .dataframe tbody tr th:only-of-type {\n",
       "        vertical-align: middle;\n",
       "    }\n",
       "\n",
       "    .dataframe tbody tr th {\n",
       "        vertical-align: top;\n",
       "    }\n",
       "\n",
       "    .dataframe thead th {\n",
       "        text-align: right;\n",
       "    }\n",
       "</style>\n",
       "<table border=\"1\" class=\"dataframe\">\n",
       "  <thead>\n",
       "    <tr style=\"text-align: right;\">\n",
       "      <th></th>\n",
       "      <th>feature</th>\n",
       "      <th>coeff</th>\n",
       "      <th>abs_coeff</th>\n",
       "    </tr>\n",
       "  </thead>\n",
       "  <tbody>\n",
       "    <tr>\n",
       "      <th>75</th>\n",
       "      <td>Smoke alarm</td>\n",
       "      <td>-462.428203</td>\n",
       "      <td>462.428203</td>\n",
       "    </tr>\n",
       "    <tr>\n",
       "      <th>656</th>\n",
       "      <td>neighbourhood_cleansed_West Town</td>\n",
       "      <td>287.73531</td>\n",
       "      <td>287.73531</td>\n",
       "    </tr>\n",
       "    <tr>\n",
       "      <th>63</th>\n",
       "      <td>Essentials</td>\n",
       "      <td>-274.360859</td>\n",
       "      <td>274.360859</td>\n",
       "    </tr>\n",
       "    <tr>\n",
       "      <th>67</th>\n",
       "      <td>Heating</td>\n",
       "      <td>-228.446871</td>\n",
       "      <td>228.446871</td>\n",
       "    </tr>\n",
       "    <tr>\n",
       "      <th>354</th>\n",
       "      <td>host_location_US</td>\n",
       "      <td>223.185341</td>\n",
       "      <td>223.185341</td>\n",
       "    </tr>\n",
       "    <tr>\n",
       "      <th>72</th>\n",
       "      <td>Microwave</td>\n",
       "      <td>173.758506</td>\n",
       "      <td>173.758506</td>\n",
       "    </tr>\n",
       "    <tr>\n",
       "      <th>62</th>\n",
       "      <td>Dishes and silverware</td>\n",
       "      <td>-160.023661</td>\n",
       "      <td>160.023661</td>\n",
       "    </tr>\n",
       "    <tr>\n",
       "      <th>73</th>\n",
       "      <td>Refrigerator</td>\n",
       "      <td>152.591121</td>\n",
       "      <td>152.591121</td>\n",
       "    </tr>\n",
       "    <tr>\n",
       "      <th>65</th>\n",
       "      <td>Hair dryer</td>\n",
       "      <td>148.093637</td>\n",
       "      <td>148.093637</td>\n",
       "    </tr>\n",
       "    <tr>\n",
       "      <th>17</th>\n",
       "      <td>availability_30</td>\n",
       "      <td>-146.183533</td>\n",
       "      <td>146.183533</td>\n",
       "    </tr>\n",
       "    <tr>\n",
       "      <th>25</th>\n",
       "      <td>last_review</td>\n",
       "      <td>144.318431</td>\n",
       "      <td>144.318431</td>\n",
       "    </tr>\n",
       "    <tr>\n",
       "      <th>59</th>\n",
       "      <td>Carbon monoxide alarm</td>\n",
       "      <td>-128.101416</td>\n",
       "      <td>128.101416</td>\n",
       "    </tr>\n",
       "    <tr>\n",
       "      <th>566</th>\n",
       "      <td>host_identity_verified_t</td>\n",
       "      <td>-125.253466</td>\n",
       "      <td>125.253466</td>\n",
       "    </tr>\n",
       "    <tr>\n",
       "      <th>10</th>\n",
       "      <td>maximum_nights</td>\n",
       "      <td>-124.976152</td>\n",
       "      <td>124.976152</td>\n",
       "    </tr>\n",
       "    <tr>\n",
       "      <th>558</th>\n",
       "      <td>host_neighbourhood_West Town</td>\n",
       "      <td>-124.774841</td>\n",
       "      <td>124.774841</td>\n",
       "    </tr>\n",
       "    <tr>\n",
       "      <th>58</th>\n",
       "      <td>Air conditioning</td>\n",
       "      <td>110.637766</td>\n",
       "      <td>110.637766</td>\n",
       "    </tr>\n",
       "    <tr>\n",
       "      <th>71</th>\n",
       "      <td>Long term stays allowed</td>\n",
       "      <td>108.0247</td>\n",
       "      <td>108.0247</td>\n",
       "    </tr>\n",
       "    <tr>\n",
       "      <th>68</th>\n",
       "      <td>Hot water</td>\n",
       "      <td>-102.421654</td>\n",
       "      <td>102.421654</td>\n",
       "    </tr>\n",
       "    <tr>\n",
       "      <th>66</th>\n",
       "      <td>Hangers</td>\n",
       "      <td>-102.382097</td>\n",
       "      <td>102.382097</td>\n",
       "    </tr>\n",
       "    <tr>\n",
       "      <th>60</th>\n",
       "      <td>Coffee maker</td>\n",
       "      <td>100.499796</td>\n",
       "      <td>100.499796</td>\n",
       "    </tr>\n",
       "    <tr>\n",
       "      <th>20</th>\n",
       "      <td>availability_365</td>\n",
       "      <td>98.717763</td>\n",
       "      <td>98.717763</td>\n",
       "    </tr>\n",
       "    <tr>\n",
       "      <th>561</th>\n",
       "      <td>host_neighbourhood_Wicker Park</td>\n",
       "      <td>-95.129397</td>\n",
       "      <td>95.129397</td>\n",
       "    </tr>\n",
       "    <tr>\n",
       "      <th>571</th>\n",
       "      <td>neighbourhood_Chicago, Illinois, United States</td>\n",
       "      <td>-88.542836</td>\n",
       "      <td>88.542836</td>\n",
       "    </tr>\n",
       "    <tr>\n",
       "      <th>559</th>\n",
       "      <td>host_neighbourhood_West Town/Noble Square</td>\n",
       "      <td>-83.65838</td>\n",
       "      <td>83.65838</td>\n",
       "    </tr>\n",
       "    <tr>\n",
       "      <th>393</th>\n",
       "      <td>host_response_time_within an hour</td>\n",
       "      <td>83.239505</td>\n",
       "      <td>83.239505</td>\n",
       "    </tr>\n",
       "    <tr>\n",
       "      <th>413</th>\n",
       "      <td>host_neighbourhood_Beverly Heights</td>\n",
       "      <td>-80.530419</td>\n",
       "      <td>80.530419</td>\n",
       "    </tr>\n",
       "    <tr>\n",
       "      <th>77</th>\n",
       "      <td>Wifi</td>\n",
       "      <td>79.153437</td>\n",
       "      <td>79.153437</td>\n",
       "    </tr>\n",
       "    <tr>\n",
       "      <th>738</th>\n",
       "      <td>instant_bookable_t</td>\n",
       "      <td>79.022635</td>\n",
       "      <td>79.022635</td>\n",
       "    </tr>\n",
       "    <tr>\n",
       "      <th>70</th>\n",
       "      <td>Kitchen</td>\n",
       "      <td>77.151632</td>\n",
       "      <td>77.151632</td>\n",
       "    </tr>\n",
       "    <tr>\n",
       "      <th>542</th>\n",
       "      <td>host_neighbourhood_Ukrainian Village</td>\n",
       "      <td>-75.841843</td>\n",
       "      <td>75.841843</td>\n",
       "    </tr>\n",
       "  </tbody>\n",
       "</table>\n",
       "</div>"
      ],
      "text/plain": [
       "                                            feature       coeff   abs_coeff\n",
       "75                                      Smoke alarm -462.428203  462.428203\n",
       "656                neighbourhood_cleansed_West Town   287.73531   287.73531\n",
       "63                                       Essentials -274.360859  274.360859\n",
       "67                                          Heating -228.446871  228.446871\n",
       "354                                host_location_US  223.185341  223.185341\n",
       "72                                        Microwave  173.758506  173.758506\n",
       "62                            Dishes and silverware -160.023661  160.023661\n",
       "73                                     Refrigerator  152.591121  152.591121\n",
       "65                                       Hair dryer  148.093637  148.093637\n",
       "17                                  availability_30 -146.183533  146.183533\n",
       "25                                      last_review  144.318431  144.318431\n",
       "59                            Carbon monoxide alarm -128.101416  128.101416\n",
       "566                        host_identity_verified_t -125.253466  125.253466\n",
       "10                                   maximum_nights -124.976152  124.976152\n",
       "558                    host_neighbourhood_West Town -124.774841  124.774841\n",
       "58                                 Air conditioning  110.637766  110.637766\n",
       "71                          Long term stays allowed    108.0247    108.0247\n",
       "68                                        Hot water -102.421654  102.421654\n",
       "66                                          Hangers -102.382097  102.382097\n",
       "60                                     Coffee maker  100.499796  100.499796\n",
       "20                                 availability_365   98.717763   98.717763\n",
       "561                  host_neighbourhood_Wicker Park  -95.129397   95.129397\n",
       "571  neighbourhood_Chicago, Illinois, United States  -88.542836   88.542836\n",
       "559       host_neighbourhood_West Town/Noble Square   -83.65838    83.65838\n",
       "393               host_response_time_within an hour   83.239505   83.239505\n",
       "413              host_neighbourhood_Beverly Heights  -80.530419   80.530419\n",
       "77                                             Wifi   79.153437   79.153437\n",
       "738                              instant_bookable_t   79.022635   79.022635\n",
       "70                                          Kitchen   77.151632   77.151632\n",
       "542            host_neighbourhood_Ukrainian Village  -75.841843   75.841843"
      ]
     },
     "execution_count": 67,
     "metadata": {},
     "output_type": "execute_result"
    }
   ],
   "source": [
    "coeffs = pipe.named_steps['elasticnet'].coef_\n",
    "df = pd.DataFrame(np.array([X_train.columns, coeffs, np.abs(coeffs)]).T, columns=['feature','coeff', 'abs_coeff'])\n",
    "df = df.sort_values(by='abs_coeff', ascending=False)\n",
    "df.head(30)"
   ]
  },
  {
   "cell_type": "markdown",
   "id": "32745fca-73fe-4576-bc86-49aac39e1e0e",
   "metadata": {},
   "source": [
    "Note that ElasticNet eliminates around 15% of the features."
   ]
  },
  {
   "cell_type": "code",
   "execution_count": 68,
   "id": "7de092d9-e664-4ce2-883e-b6381087ceaf",
   "metadata": {},
   "outputs": [
    {
     "data": {
      "text/plain": [
       "740"
      ]
     },
     "execution_count": 68,
     "metadata": {},
     "output_type": "execute_result"
    }
   ],
   "source": [
    "X.shape[1]"
   ]
  },
  {
   "cell_type": "code",
   "execution_count": 69,
   "id": "01fe7643-45cd-45d4-9648-b1cb87f8dfe4",
   "metadata": {},
   "outputs": [
    {
     "data": {
      "text/plain": [
       "108"
      ]
     },
     "execution_count": 69,
     "metadata": {},
     "output_type": "execute_result"
    }
   ],
   "source": [
    "len(df.loc[df['abs_coeff']==0])"
   ]
  },
  {
   "cell_type": "code",
   "execution_count": 70,
   "id": "0ff10435-ce67-400f-b230-f3a43019842d",
   "metadata": {},
   "outputs": [
    {
     "data": {
      "text/plain": [
       "471                     host_neighbourhood_Laurel Canyon\n",
       "137    host_location_Crest Hill, Illinois, United States\n",
       "347      host_location_Stickney, Illinois, United States\n",
       "477                    host_neighbourhood_Little Village\n",
       "139           host_location_Dallas, Texas, United States\n",
       "                             ...                        \n",
       "201                                     host_location_IN\n",
       "521                         host_neighbourhood_Sauganash\n",
       "522                  host_neighbourhood_Schorsch Village\n",
       "523                           host_neighbourhood_Shafter\n",
       "652            neighbourhood_cleansed_West Garfield Park\n",
       "Name: feature, Length: 108, dtype: object"
      ]
     },
     "execution_count": 70,
     "metadata": {},
     "output_type": "execute_result"
    }
   ],
   "source": [
    "df.loc[df['abs_coeff']==0, 'feature']"
   ]
  },
  {
   "cell_type": "code",
   "execution_count": 71,
   "id": "070ed760-7de4-49ab-92b2-71471e6bd2e8",
   "metadata": {},
   "outputs": [],
   "source": [
    "list(df.loc[df['abs_coeff']==0, 'feature']);"
   ]
  },
  {
   "cell_type": "code",
   "execution_count": 72,
   "id": "25851f40-7d94-4bd3-9d3a-ec0cf86533cc",
   "metadata": {},
   "outputs": [],
   "source": [
    "X_E = X.drop(list(df.loc[df['abs_coeff']==0, 'feature']), axis=1)"
   ]
  },
  {
   "cell_type": "code",
   "execution_count": 73,
   "id": "cbcdc8b4-a412-4d22-a4bf-cb79e8fef061",
   "metadata": {},
   "outputs": [
    {
     "name": "stdout",
     "output_type": "stream",
     "text": [
      "(6526, 740)\n",
      "(6526, 632)\n"
     ]
    }
   ],
   "source": [
    "print(X.shape)\n",
    "print(X_E.shape)"
   ]
  },
  {
   "cell_type": "markdown",
   "id": "8c6bf822-69ff-4122-bd4d-c3a5c43001a3",
   "metadata": {},
   "source": [
    "Interesting. I can't say I've learned as much from this as I'd hoped. I would say that some amenities are correlated with higher prices, though others are negatively correlated and I'm not sure why that is. For example, `Microwave` is positively correlated while `Smoke alarm` is negatively correlated. A strategy a host could use to try to make a higher price work would be to add the amenities for which the coefficients are positive, such as a microwave, a hair dryer, and a refrigerator."
   ]
  },
  {
   "cell_type": "markdown",
   "id": "c6948b97-45f6-45cd-92d8-b6e8cdce5cb3",
   "metadata": {},
   "source": [
    "And note that many times, the predictions are still negative. This makes it a useless predictor in many cases. If I buy a one-bedroom condo in Chicago and I want to know how to price it, this model may give me a negative price, which is useless."
   ]
  },
  {
   "cell_type": "code",
   "execution_count": 108,
   "id": "cf054584-82de-4c28-a946-fe45f3b1f241",
   "metadata": {},
   "outputs": [
    {
     "data": {
      "image/png": "[encoded data removed]",
      "text/plain": [
       "<Figure size 432x288 with 1 Axes>"
      ]
     },
     "metadata": {
      "needs_background": "light"
     },
     "output_type": "display_data"
    }
   ],
   "source": [
    "plt.plot(y_pred_E, 'bo')\n",
    "plt.axhline(y=0, linestyle='--')\n",
    "plt.show()"
   ]
  },
  {
   "cell_type": "markdown",
   "id": "0958adb2-4e5a-465c-828e-bef0318fd13e",
   "metadata": {},
   "source": [
    "I'd like to build some better models, even if they are less interpretable. Things to try:\n",
    "\n",
    "- k-nearest neighbors\n",
    "- Random forest\n",
    "- Neural network"
   ]
  },
  {
   "cell_type": "markdown",
   "id": "633bfda7-850a-4771-810a-ec8eef2712e3",
   "metadata": {},
   "source": [
    "### k-Nearest Neighbors Regression"
   ]
  },
  {
   "cell_type": "code",
   "execution_count": 109,
   "id": "87511eaa-c8a8-426e-b0a9-978a6cf5622b",
   "metadata": {},
   "outputs": [],
   "source": [
    "from sklearn.neighbors import KNeighborsRegressor"
   ]
  },
  {
   "cell_type": "code",
   "execution_count": 110,
   "id": "62188661-6f1b-426a-a044-4fdf39a232ba",
   "metadata": {},
   "outputs": [],
   "source": [
    "pipe, X_train, X_test, y_train, y_test = fit_model(X, y, KNeighborsRegressor(weights='distance'), 0)"
   ]
  },
  {
   "cell_type": "code",
   "execution_count": 111,
   "id": "234458c8-7a76-4456-a553-1bec0c12291d",
   "metadata": {},
   "outputs": [
    {
     "data": {
      "text/plain": [
       "0.945492970822294"
      ]
     },
     "execution_count": 111,
     "metadata": {},
     "output_type": "execute_result"
    }
   ],
   "source": [
    "pipe.score(X_test, y_test)"
   ]
  },
  {
   "cell_type": "markdown",
   "id": "f6c79a5f-a14d-4765-96db-340fd178c34e",
   "metadata": {},
   "source": [
    "Much, much better!\n",
    "\n",
    "What if I use the information I gained from the Elastic Net regression? That is, I will use the data with irrelevant features removed."
   ]
  },
  {
   "cell_type": "code",
   "execution_count": 112,
   "id": "659d7e57-e040-4e26-bc6a-ebfeb8275937",
   "metadata": {},
   "outputs": [],
   "source": [
    "pipe, X_train, X_test, y_train, y_test = fit_model(X_E, y, KNeighborsRegressor(weights='distance'), 0)"
   ]
  },
  {
   "cell_type": "code",
   "execution_count": 113,
   "id": "c348e0f9-b4f0-40fd-bfbf-c543580d8044",
   "metadata": {},
   "outputs": [
    {
     "data": {
      "text/plain": [
       "0.9454464481117824"
      ]
     },
     "execution_count": 113,
     "metadata": {},
     "output_type": "execute_result"
    }
   ],
   "source": [
    "pipe.score(X_test, y_test)"
   ]
  },
  {
   "cell_type": "markdown",
   "id": "e0adf1d4-4060-4fcf-8d6b-d3340953124d",
   "metadata": {},
   "source": [
    "Not much of an improvement."
   ]
  },
  {
   "cell_type": "code",
   "execution_count": 216,
   "id": "8a22f7e0-31e0-4b8a-b501-9d3b4f9db373",
   "metadata": {},
   "outputs": [
    {
     "data": {
      "text/plain": [
       "array([0.24357915, 0.97101526, 0.74296027, 0.98153118, 0.97929122])"
      ]
     },
     "execution_count": 216,
     "metadata": {},
     "output_type": "execute_result"
    }
   ],
   "source": [
    "pipe = make_pipeline(StandardScaler(), KNeighborsRegressor(weights='distance'))\n",
    "cutoff = 0.001\n",
    "X_cutoff = X.iloc[:, np.where((X.sum()/len(X) > cutoff) == True)[0]]\n",
    "X_train, X_test, y_train, y_test = train_test_split(\n",
    "    X_cutoff, y, test_size=0.3, random_state=4)\n",
    "cross_val_score(pipe, X_train, y=y_train)"
   ]
  },
  {
   "cell_type": "code",
   "execution_count": 218,
   "id": "5d9245a8-8fa2-4185-8ddc-dfe6d596f7e7",
   "metadata": {},
   "outputs": [
    {
     "name": "stdout",
     "output_type": "stream",
     "text": [
      "Cutoff =  1e+03, train_score =  0.979, test_score =  0.946, n_features = 4\n",
      "Cutoff =  1, train_score =  1, test_score =  0.913, n_features = 37\n",
      "Cutoff =  0.99, train_score =  1, test_score =  0.913, n_features = 39\n",
      "Cutoff =  0.9, train_score =  1, test_score =  0.902, n_features = 46\n",
      "Cutoff =  0.7, train_score =  1, test_score =  0.97, n_features = 61\n",
      "Cutoff =  0.5, train_score =  1, test_score =  0.92, n_features = 69\n",
      "Cutoff =  0.3, train_score =  1, test_score =  0.862, n_features = 75\n",
      "Cutoff =  0.2, train_score =  1, test_score =  0.861, n_features = 78\n",
      "Cutoff =  0.1, train_score =  1, test_score =  0.894, n_features = 85\n",
      "Cutoff =  0.05, train_score =  1, test_score =  0.943, n_features = 98\n",
      "Cutoff =  0.01, train_score =  1, test_score =  0.93, n_features = 164\n",
      "Cutoff =  0.005, train_score =  1, test_score =  0.826, n_features = 202\n",
      "Cutoff =  0.001, train_score =  1, test_score =  0.833, n_features = 307\n",
      "Cutoff =  0, train_score =  1, test_score =  0.833, n_features = 739\n"
     ]
    }
   ],
   "source": [
    "cutoffs = [1000, 1, .99, .9, .7, .5, .3, .2, .1, .05, .01, 0.005, 0.001, 0]\n",
    "test_cutoffs(X, y, KNeighborsRegressor(weights='distance'), cutoffs);"
   ]
  },
  {
   "cell_type": "code",
   "execution_count": 114,
   "id": "2aa47ca9-ef0f-47c6-bacb-44cab5d83059",
   "metadata": {},
   "outputs": [],
   "source": [
    "y_pred_knn = pipe.predict(X_test)"
   ]
  },
  {
   "cell_type": "code",
   "execution_count": 116,
   "id": "2de4efce-293d-4cf5-9d2f-e3341ff3bd3a",
   "metadata": {},
   "outputs": [
    {
     "data": {
      "text/plain": [
       "0.9454464481117824"
      ]
     },
     "execution_count": 116,
     "metadata": {},
     "output_type": "execute_result"
    }
   ],
   "source": [
    "u = ((y_test - y_pred_knn)**2).sum()\n",
    "v = ((y_test - y_test.mean())**2).sum()\n",
    "1 - u/v"
   ]
  },
  {
   "cell_type": "code",
   "execution_count": 123,
   "id": "622607f9-2543-4401-9805-225954f54f6d",
   "metadata": {},
   "outputs": [
    {
     "data": {
      "text/plain": [
       "95.8132806775484"
      ]
     },
     "execution_count": 123,
     "metadata": {},
     "output_type": "execute_result"
    }
   ],
   "source": [
    "y_pred_knn[100]"
   ]
  },
  {
   "cell_type": "code",
   "execution_count": 122,
   "id": "d765ecad-a83e-44e0-ba8f-324539c0816b",
   "metadata": {},
   "outputs": [
    {
     "data": {
      "text/plain": [
       "73.0"
      ]
     },
     "execution_count": 122,
     "metadata": {},
     "output_type": "execute_result"
    }
   ],
   "source": [
    "list(y_test)[100]"
   ]
  },
  {
   "cell_type": "code",
   "execution_count": 119,
   "id": "a008680c-2850-404a-88c1-0f2325830d4d",
   "metadata": {},
   "outputs": [
    {
     "data": {
      "text/plain": [
       "95.5514158090241"
      ]
     },
     "execution_count": 119,
     "metadata": {},
     "output_type": "execute_result"
    }
   ],
   "source": [
    "np.mean(np.abs((y_pred_knn - y_test)))"
   ]
  },
  {
   "cell_type": "code",
   "execution_count": 125,
   "id": "850c2f18-eeb6-4191-b56c-d9574dd539a5",
   "metadata": {},
   "outputs": [
    {
     "data": {
      "text/plain": [
       "0.6417666462579966"
      ]
     },
     "execution_count": 125,
     "metadata": {},
     "output_type": "execute_result"
    }
   ],
   "source": [
    "np.mean(np.abs((y_pred_knn - y_test)/y_test))"
   ]
  },
  {
   "cell_type": "markdown",
   "id": "31ff7961-6e07-462f-be9a-5a5573e60291",
   "metadata": {},
   "source": [
    "Intuitively speaking, this is still quite far from a good predictor. On average, it's off from the true values by about $100, or 64%."
   ]
  },
  {
   "cell_type": "code",
   "execution_count": 126,
   "id": "a67d426d-ca34-4ced-8afd-c0020348d791",
   "metadata": {},
   "outputs": [
    {
     "data": {
      "image/png": "[encoded data removed]",
      "text/plain": [
       "<Figure size 720x576 with 1 Axes>"
      ]
     },
     "metadata": {
      "needs_background": "light"
     },
     "output_type": "display_data"
    }
   ],
   "source": [
    "plt.figure(figsize=(10,8))\n",
    "plt.plot(y_pred_knn - y_test, 'bo')\n",
    "plt.axhline(y=0, linestyle='--')\n",
    "#plt.ylim(-200, 200)\n",
    "plt.show()"
   ]
  },
  {
   "cell_type": "code",
   "execution_count": 229,
   "id": "af7e1d10-c7cd-43db-b5a9-1585732f5a7f",
   "metadata": {},
   "outputs": [
    {
     "data": {
      "text/plain": [
       "id                                                                15287352\n",
       "listing_url                          https://www.airbnb.com/rooms/15287352\n",
       "scrape_id                                                   20211018161857\n",
       "last_scraped                                                    2021-10-18\n",
       "name                                     Wrigleyville Mansion - Sleeps 16+\n",
       "description              Wrigleyville Mansion is the perfect place to h...\n",
       "neighborhood_overview    - Wrigley Field<br />- Southport Corridor<br /...\n",
       "picture_url              https://a0.muscache.com/pictures/dc2c60b9-14f0...\n",
       "host_id                                                           45401863\n",
       "host_url                        https://www.airbnb.com/users/show/45401863\n",
       "host_name                                                              Joe\n",
       "host_since                                                      2015-09-29\n",
       "host_location                             Chicago, Illinois, United States\n",
       "host_about               I am a Chicago native and have been living in ...\n",
       "host_response_time                                          within an hour\n",
       "host_response_rate                                                   100.0\n",
       "host_acceptance_rate                                                 100.0\n",
       "host_is_superhost                                                        t\n",
       "host_thumbnail_url       https://a0.muscache.com/im/users/45401863/prof...\n",
       "host_picture_url         https://a0.muscache.com/im/users/45401863/prof...\n",
       "Name: 1049, dtype: object"
      ]
     },
     "execution_count": 229,
     "metadata": {},
     "output_type": "execute_result"
    }
   ],
   "source": [
    "listings.loc[1049].head(20)"
   ]
  },
  {
   "cell_type": "code",
   "execution_count": 230,
   "id": "2f87bdcb-42f7-4e14-9d63-5d26ffa25210",
   "metadata": {},
   "outputs": [
    {
     "data": {
      "text/plain": [
       "2341    48864.0\n",
       "2648    48864.0\n",
       "2647    48864.0\n",
       "2361    47484.0\n",
       "2360    47484.0\n",
       "2362    47484.0\n",
       "2346    40356.0\n",
       "2345    40356.0\n",
       "2650    39132.0\n",
       "2350    39132.0\n",
       "2354    39132.0\n",
       "2353    39132.0\n",
       "2358    39132.0\n",
       "2357    39132.0\n",
       "2351    39132.0\n",
       "1049     9999.0\n",
       "3289     9999.0\n",
       "3288     9999.0\n",
       "6196     5000.0\n",
       "2866     3690.0\n",
       "Name: price, dtype: float64"
      ]
     },
     "execution_count": 230,
     "metadata": {},
     "output_type": "execute_result"
    }
   ],
   "source": [
    "y_train.sort_values(ascending=False)[:20]"
   ]
  },
  {
   "cell_type": "code",
   "execution_count": 136,
   "id": "c918b7e2-2eb0-4eae-9b44-a6888a8ace84",
   "metadata": {},
   "outputs": [
    {
     "data": {
      "image/png": "[encoded data removed]",
      "text/plain": [
       "<Figure size 792x288 with 2 Axes>"
      ]
     },
     "metadata": {
      "needs_background": "light"
     },
     "output_type": "display_data"
    }
   ],
   "source": [
    "fig, ax = plt.subplots(ncols=2, figsize=(11,4))\n",
    "ax[0].plot(y_pred_knn, 'bo')\n",
    "ax[0].axhline(y=0, linestyle='--')\n",
    "ax[0].set_ylim(-200, 200)\n",
    "ax[1].plot(y_pred_knn, 'bo')\n",
    "ax[1].axhline(y=0, linestyle='--')\n",
    "plt.show()"
   ]
  },
  {
   "cell_type": "markdown",
   "id": "38ca74aa-cfb6-472e-92be-2429b76a131f",
   "metadata": {},
   "source": [
    "This is at least good - none of the price predictions on the test set are negative."
   ]
  },
  {
   "cell_type": "markdown",
   "id": "7e7b9ad6-431f-44c5-9b97-bc2c43892e3f",
   "metadata": {},
   "source": [
    "### Random Forest Regressor"
   ]
  },
  {
   "cell_type": "code",
   "execution_count": 137,
   "id": "4c05b729-5f9f-4798-b971-063ee53ff649",
   "metadata": {},
   "outputs": [],
   "source": [
    "from sklearn.ensemble import RandomForestRegressor"
   ]
  },
  {
   "cell_type": "code",
   "execution_count": 157,
   "id": "c1951065-d17a-48dd-9d87-36923e6812a7",
   "metadata": {},
   "outputs": [],
   "source": [
    "pipe, X_train, X_test, y_train, y_test = fit_model(X, y, RandomForestRegressor(random_state=1), 0)"
   ]
  },
  {
   "cell_type": "code",
   "execution_count": 158,
   "id": "24cc4392-5cb9-4754-95e8-792099799a05",
   "metadata": {},
   "outputs": [
    {
     "data": {
      "text/plain": [
       "0.9141108633452861"
      ]
     },
     "execution_count": 158,
     "metadata": {},
     "output_type": "execute_result"
    }
   ],
   "source": [
    "pipe.score(X_test, y_test)"
   ]
  },
  {
   "cell_type": "code",
   "execution_count": 180,
   "id": "6eed9443-a530-49ce-bb9d-8c4ac3a8e310",
   "metadata": {},
   "outputs": [],
   "source": [
    "pipe, X_train, X_test, y_train, y_test = fit_model(X_E, y, RandomForestRegressor(n_estimators=1000,random_state=1), 0)"
   ]
  },
  {
   "cell_type": "code",
   "execution_count": 181,
   "id": "16fd0cba-ef7a-4d7e-a050-f184c6548255",
   "metadata": {},
   "outputs": [
    {
     "data": {
      "text/plain": [
       "0.9206594768060465"
      ]
     },
     "execution_count": 181,
     "metadata": {},
     "output_type": "execute_result"
    }
   ],
   "source": [
    "pipe.score(X_test, y_test)"
   ]
  },
  {
   "cell_type": "markdown",
   "id": "9f3b62d0-e0ef-4838-a115-0e951b02c2cb",
   "metadata": {},
   "source": [
    "This is a bit worse than the k-nearest neighbors model! I tried several values of `random_state` and never got anything better than the k-nearest neighbors model."
   ]
  },
  {
   "cell_type": "code",
   "execution_count": 162,
   "id": "90e23bac-584f-45cd-ae9f-c472c64a23ce",
   "metadata": {},
   "outputs": [],
   "source": [
    "y_pred_RF = pipe.predict(X_test)"
   ]
  },
  {
   "cell_type": "code",
   "execution_count": 163,
   "id": "b3433d59-4a5e-4842-8381-101862e22db0",
   "metadata": {},
   "outputs": [
    {
     "data": {
      "image/png": "[encoded data removed]",
      "text/plain": [
       "<Figure size 720x576 with 1 Axes>"
      ]
     },
     "metadata": {
      "needs_background": "light"
     },
     "output_type": "display_data"
    }
   ],
   "source": [
    "plt.figure(figsize=(10,8))\n",
    "plt.plot(y_pred_RF - y_test, 'bo')\n",
    "plt.axhline(y=0, linestyle='--')\n",
    "#plt.ylim(-200, 200)\n",
    "plt.show()"
   ]
  },
  {
   "cell_type": "markdown",
   "id": "8635b6f1-a95f-4a55-a5a8-74be48e3f429",
   "metadata": {},
   "source": [
    "### Neural Network (MLP)"
   ]
  },
  {
   "cell_type": "markdown",
   "id": "b70a47e2-e110-4143-b1b9-1f6c8a717e6f",
   "metadata": {},
   "source": [
    "Finally, I'll try using a simple neural network model: just a multi-layer perceptron (MLP) without bells and whistles."
   ]
  },
  {
   "cell_type": "code",
   "execution_count": 182,
   "id": "75184fc2-fea5-44c1-ac4c-2c36b96f6e5f",
   "metadata": {},
   "outputs": [],
   "source": [
    "from sklearn.neural_network import MLPRegressor"
   ]
  },
  {
   "cell_type": "code",
   "execution_count": 185,
   "id": "6d2d6311-190f-4ae7-a0b9-02dc1e884daa",
   "metadata": {},
   "outputs": [
    {
     "name": "stderr",
     "output_type": "stream",
     "text": [
      "/Users/tjdauer/miniforge3/envs/myenv/lib/python3.8/site-packages/sklearn/neural_network/_multilayer_perceptron.py:692: ConvergenceWarning: Stochastic Optimizer: Maximum iterations (500) reached and the optimization hasn't converged yet.\n",
      "  warnings.warn(\n"
     ]
    }
   ],
   "source": [
    "pipe, X_train, X_test, y_train, y_test = fit_model(\n",
    "    X_E, y, MLPRegressor(random_state=1, max_iter=500), 0)"
   ]
  },
  {
   "cell_type": "code",
   "execution_count": 187,
   "id": "49fa0e06-ea9d-4dbb-a8e2-6419aca83813",
   "metadata": {},
   "outputs": [
    {
     "data": {
      "text/plain": [
       "0.5479664967336064"
      ]
     },
     "execution_count": 187,
     "metadata": {},
     "output_type": "execute_result"
    }
   ],
   "source": [
    "pipe.score(X_test, y_test)"
   ]
  },
  {
   "cell_type": "code",
   "execution_count": null,
   "id": "941e0a9f-da61-4abc-a74a-b854c59e4365",
   "metadata": {},
   "outputs": [],
   "source": []
  }
 ],
 "metadata": {
  "kernelspec": {
   "display_name": "Python 3 (ipykernel)",
   "language": "python",
   "name": "python3"
  },
  "language_info": {
   "codemirror_mode": {
    "name": "ipython",
    "version": 3
   },
   "file_extension": ".py",
   "mimetype": "text/x-python",
   "name": "python",
   "nbconvert_exporter": "python",
   "pygments_lexer": "ipython3",
   "version": "3.8.12"
  }
 },
 "nbformat": 4,
 "nbformat_minor": 5
}
