{
 "cells": [
  {
   "cell_type": "markdown",
   "id": "2e2ac547-5829-4c0a-8cff-7f33814c5f59",
   "metadata": {
    "tags": []
   },
   "source": [
    "# Dealing with Outliers"
   ]
  },
  {
   "cell_type": "markdown",
   "id": "0ac8f4f5-98c8-4369-bbbf-6bb95c55c9c0",
   "metadata": {},
   "source": [
    "If a listing has an absurdly high price that isn't reflective of what people will actually pay, or just isn't that relevant for a typical person who wants to list their place, that isn't good for the usefulness of our model. Therefore, I'll take a look at places that have extremely high prices and see if it makes sense to remove them."
   ]
  },
  {
   "cell_type": "code",
   "execution_count": 45,
   "id": "afe46d12-736f-4b6a-bdc6-aae4369de1c2",
   "metadata": {},
   "outputs": [
    {
     "data": {
      "image/png": "[encoded data removed]",
      "text/plain": [
       "<Figure size 432x288 with 1 Axes>"
      ]
     },
     "metadata": {
      "needs_background": "light"
     },
     "output_type": "display_data"
    }
   ],
   "source": [
    "plt.plot(listings['price'], 'bo')\n",
    "plt.axhline(y=0, linestyle='--')\n",
    "plt.ylabel(\"Price\")\n",
    "plt.show()"
   ]
  },
  {
   "cell_type": "markdown",
   "id": "6bc1393b-a38c-48be-8e70-c421437c558e",
   "metadata": {},
   "source": [
    "Yeah, some of these prices look like they might be absurd."
   ]
  },
  {
   "cell_type": "code",
   "execution_count": 46,
   "id": "ca422392-502a-4922-9c38-4128f54d18e7",
   "metadata": {},
   "outputs": [
    {
     "data": {
      "text/plain": [
       "2648    48864.0\n",
       "2647    48864.0\n",
       "2341    48864.0\n",
       "2360    47484.0\n",
       "2361    47484.0\n",
       "2359    47484.0\n",
       "2362    47484.0\n",
       "2346    40356.0\n",
       "2345    40356.0\n",
       "2350    39132.0\n",
       "2355    39132.0\n",
       "2351    39132.0\n",
       "2356    39132.0\n",
       "2353    39132.0\n",
       "2650    39132.0\n",
       "2354    39132.0\n",
       "2352    39132.0\n",
       "2358    39132.0\n",
       "2357    39132.0\n",
       "3288     9999.0\n",
       "1049     9999.0\n",
       "3287     9999.0\n",
       "3289     9999.0\n",
       "3120     9000.0\n",
       "6196     5000.0\n",
       "3072     4500.0\n",
       "2866     3690.0\n",
       "4522     3070.0\n",
       "4498     3042.0\n",
       "2570     3000.0\n",
       "Name: price, dtype: float64"
      ]
     },
     "execution_count": 46,
     "metadata": {},
     "output_type": "execute_result"
    }
   ],
   "source": [
    "listings['price'].sort_values(ascending=False).head(30)"
   ]
  },
  {
   "cell_type": "code",
   "execution_count": 47,
   "id": "ac52ea9e-738e-44a7-9872-016fb39fcd9c",
   "metadata": {
    "tags": []
   },
   "outputs": [
    {
     "data": {
      "text/plain": [
       "'https://www.airbnb.com/rooms/30718928'"
      ]
     },
     "execution_count": 47,
     "metadata": {},
     "output_type": "execute_result"
    }
   ],
   "source": [
    "# Find the URL of one of the most expensive places\n",
    "listings.loc[2648, 'listing_url']"
   ]
  },
  {
   "cell_type": "markdown",
   "id": "19d6ed8d-6c5c-460d-9916-609f6ab21341",
   "metadata": {},
   "source": [
    "What is going on here? Following the link above, this is clearly a luxury place, but it's just a studio! On top of that, it's currently listed at USD 1,653 per night (as of December 3, 2021), not USD 48,864 per night as above. Let's take a closer look at `calendar` to see what happened:"
   ]
  },
  {
   "cell_type": "code",
   "execution_count": 48,
   "id": "470ad933-b7a1-4f90-8799-41aaf33c1112",
   "metadata": {},
   "outputs": [],
   "source": [
    "listing_id = listings.loc[2648, 'id']"
   ]
  },
  {
   "cell_type": "code",
   "execution_count": 49,
   "id": "8f00ec25-6aae-442d-98f2-d36d814ef742",
   "metadata": {},
   "outputs": [
    {
     "data": {
      "text/html": [
       "<div>\n",
       "<style scoped>\n",
       "    .dataframe tbody tr th:only-of-type {\n",
       "        vertical-align: middle;\n",
       "    }\n",
       "\n",
       "    .dataframe tbody tr th {\n",
       "        vertical-align: top;\n",
       "    }\n",
       "\n",
       "    .dataframe thead th {\n",
       "        text-align: right;\n",
       "    }\n",
       "</style>\n",
       "<table border=\"1\" class=\"dataframe\">\n",
       "  <thead>\n",
       "    <tr style=\"text-align: right;\">\n",
       "      <th></th>\n",
       "      <th>date</th>\n",
       "      <th>price</th>\n",
       "      <th>adjusted_price</th>\n",
       "    </tr>\n",
       "  </thead>\n",
       "  <tbody>\n",
       "    <tr>\n",
       "      <th>1020296</th>\n",
       "      <td>2021-10-18</td>\n",
       "      <td>8144.0</td>\n",
       "      <td>48864.0</td>\n",
       "    </tr>\n",
       "    <tr>\n",
       "      <th>1020297</th>\n",
       "      <td>2021-10-19</td>\n",
       "      <td>8144.0</td>\n",
       "      <td>48864.0</td>\n",
       "    </tr>\n",
       "    <tr>\n",
       "      <th>1020298</th>\n",
       "      <td>2021-10-20</td>\n",
       "      <td>8144.0</td>\n",
       "      <td>48864.0</td>\n",
       "    </tr>\n",
       "    <tr>\n",
       "      <th>1020299</th>\n",
       "      <td>2021-10-21</td>\n",
       "      <td>8144.0</td>\n",
       "      <td>48864.0</td>\n",
       "    </tr>\n",
       "    <tr>\n",
       "      <th>1020300</th>\n",
       "      <td>2021-10-22</td>\n",
       "      <td>8144.0</td>\n",
       "      <td>48864.0</td>\n",
       "    </tr>\n",
       "    <tr>\n",
       "      <th>...</th>\n",
       "      <td>...</td>\n",
       "      <td>...</td>\n",
       "      <td>...</td>\n",
       "    </tr>\n",
       "    <tr>\n",
       "      <th>1023099</th>\n",
       "      <td>2022-10-13</td>\n",
       "      <td>263.0</td>\n",
       "      <td>1578.0</td>\n",
       "    </tr>\n",
       "    <tr>\n",
       "      <th>1023100</th>\n",
       "      <td>2022-10-14</td>\n",
       "      <td>307.0</td>\n",
       "      <td>1842.0</td>\n",
       "    </tr>\n",
       "    <tr>\n",
       "      <th>1023101</th>\n",
       "      <td>2022-10-15</td>\n",
       "      <td>307.0</td>\n",
       "      <td>1842.0</td>\n",
       "    </tr>\n",
       "    <tr>\n",
       "      <th>1023102</th>\n",
       "      <td>2022-10-16</td>\n",
       "      <td>263.0</td>\n",
       "      <td>1578.0</td>\n",
       "    </tr>\n",
       "    <tr>\n",
       "      <th>1023103</th>\n",
       "      <td>2022-10-17</td>\n",
       "      <td>263.0</td>\n",
       "      <td>1578.0</td>\n",
       "    </tr>\n",
       "  </tbody>\n",
       "</table>\n",
       "<p>365 rows × 3 columns</p>\n",
       "</div>"
      ],
      "text/plain": [
       "               date   price  adjusted_price\n",
       "1020296  2021-10-18  8144.0         48864.0\n",
       "1020297  2021-10-19  8144.0         48864.0\n",
       "1020298  2021-10-20  8144.0         48864.0\n",
       "1020299  2021-10-21  8144.0         48864.0\n",
       "1020300  2021-10-22  8144.0         48864.0\n",
       "...             ...     ...             ...\n",
       "1023099  2022-10-13   263.0          1578.0\n",
       "1023100  2022-10-14   307.0          1842.0\n",
       "1023101  2022-10-15   307.0          1842.0\n",
       "1023102  2022-10-16   263.0          1578.0\n",
       "1023103  2022-10-17   263.0          1578.0\n",
       "\n",
       "[365 rows x 3 columns]"
      ]
     },
     "execution_count": 49,
     "metadata": {},
     "output_type": "execute_result"
    }
   ],
   "source": [
    "calendar.loc[calendar['listing_id']==listing_id, ['date', 'price', 'adjusted_price']]"
   ]
  },
  {
   "cell_type": "markdown",
   "id": "d685dcb6-7d4e-4f21-80ef-02377bb4b687",
   "metadata": {},
   "source": [
    "OK, it appears that the adjusted price was very high in mid-October, and that's what was pulled into the `price` field in `listings`. My understanding is that Airbnb allows hosts to turn on a setting that automatically adjusts the price according to demand (using some model developed by Airbnb), so likely demand was extremely high at nearby properties at that time. In any case, it would make sense for me to exclude this property and related ones from my data; I note that each of the properties over USD 10,000 are in the \"Ginosi 747 Apartel\", as can be easily verified by clicking on those URLs. Further, one of the next most expensive listings, at USD 9,999, is a 12-bedroom mansion."
   ]
  },
  {
   "cell_type": "markdown",
   "id": "f3ba38fd-8703-41de-910f-33789acf6ddc",
   "metadata": {},
   "source": [
    "Now I'll delete these outliers (those listings with prices above USD 10,000 per night). It makes sense to do this across all the data (not just for the training data), since I'm not interested in making predictions for places where the price would be that high (totally out of whack with what almost everyone would pay - prices that would actually banned by law for similar hotel accommodations), and I'd like to use all the data to create my final model."
   ]
  },
  {
   "cell_type": "code",
   "execution_count": 45,
   "id": "4ad23b30-839f-4e82-9976-05b1759490e0",
   "metadata": {},
   "outputs": [],
   "source": [
    "to_drop = y[y > 10000].index"
   ]
  },
  {
   "cell_type": "code",
   "execution_count": 46,
   "id": "c0694161-5c4f-4f3c-b86a-287e8b56579a",
   "metadata": {},
   "outputs": [],
   "source": [
    "# Drop the necessary rows\n",
    "X.drop(to_drop, inplace=True)\n",
    "y.drop(to_drop, inplace=True)\n",
    "# Drop the rows from the original dataframe as well (since I'll use this dataframe\n",
    "# again shortly)\n",
    "listings.drop(to_drop, inplace=True)"
   ]
  },
  {
   "cell_type": "code",
   "execution_count": 47,
   "id": "197bbecf-4c1c-4f18-8d7a-2475309d0726",
   "metadata": {},
   "outputs": [],
   "source": [
    "# Do the train-test splits again\n",
    "X_train, X_test, y_train, y_test = train_test_split(\n",
    "    X, y, test_size=0.3, random_state=42)\n",
    "X_val_train, X_val, y_val_train, y_val = train_test_split(\n",
    "    X_train, y_train, test_size=0.3, random_state=42)"
   ]
  },
  {
   "cell_type": "markdown",
   "id": "ffff1052-7100-43f9-adac-fe36367f75c1",
   "metadata": {},
   "source": [
    "# Features based on words in name and description"
   ]
  },
  {
   "cell_type": "code",
   "execution_count": 32,
   "id": "d38d7eeb-c805-4da6-98fc-ed5469079fea",
   "metadata": {},
   "outputs": [],
   "source": [
    "X_no_words = X.copy()"
   ]
  },
  {
   "cell_type": "markdown",
   "id": "b365efe8-510a-402f-bc94-36faabc29e2d",
   "metadata": {},
   "source": [
    "Following links to some of the most expensive places, I see words like \"mansion\" and spacious\" in the description. This gives me an idea: instead of neglecting the descriptions altogether, I should make dummy variables for a few words I expect to be highly correlated with price. (I didn't think of this feature at first, but upon adding it I got an improvement in $R^2$ of about 0.13 for the best linear models)."
   ]
  },
  {
   "cell_type": "code",
   "execution_count": 33,
   "id": "dfd819d4-b034-4971-be3b-ba84060a28b0",
   "metadata": {},
   "outputs": [
    {
     "data": {
      "text/plain": [
       "1049    https://www.airbnb.com/rooms/15287352\n",
       "2341    https://www.airbnb.com/rooms/28115625\n",
       "2345    https://www.airbnb.com/rooms/28167328\n",
       "2346    https://www.airbnb.com/rooms/28169607\n",
       "2350    https://www.airbnb.com/rooms/28236738\n",
       "2351    https://www.airbnb.com/rooms/28236779\n",
       "2352    https://www.airbnb.com/rooms/28236802\n",
       "2353    https://www.airbnb.com/rooms/28236839\n",
       "2354    https://www.airbnb.com/rooms/28236865\n",
       "2355    https://www.airbnb.com/rooms/28236884\n",
       "2356    https://www.airbnb.com/rooms/28236949\n",
       "2357    https://www.airbnb.com/rooms/28236962\n",
       "2358    https://www.airbnb.com/rooms/28237130\n",
       "2359    https://www.airbnb.com/rooms/28238620\n",
       "2360    https://www.airbnb.com/rooms/28238637\n",
       "2361    https://www.airbnb.com/rooms/28238649\n",
       "2362    https://www.airbnb.com/rooms/28238665\n",
       "2647    https://www.airbnb.com/rooms/30718918\n",
       "2648    https://www.airbnb.com/rooms/30718928\n",
       "2650    https://www.airbnb.com/rooms/30719093\n",
       "3120    https://www.airbnb.com/rooms/35421741\n",
       "3287    https://www.airbnb.com/rooms/36667074\n",
       "3288    https://www.airbnb.com/rooms/36668214\n",
       "3289    https://www.airbnb.com/rooms/36668235\n",
       "Name: listing_url, dtype: object"
      ]
     },
     "execution_count": 33,
     "metadata": {},
     "output_type": "execute_result"
    }
   ],
   "source": [
    "listings.loc[listings['price'] > 5000, 'listing_url']"
   ]
  },
  {
   "cell_type": "markdown",
   "id": "e2f37269-5cac-41b2-8f78-d84ee99d26f4",
   "metadata": {},
   "source": [
    "First I'll add the `name` and `description` fields as columns of X."
   ]
  },
  {
   "cell_type": "code",
   "execution_count": 34,
   "id": "f54a6674-a719-4f31-8e51-e8d54d270ce6",
   "metadata": {},
   "outputs": [],
   "source": [
    "X['name'] = listings['name']"
   ]
  },
  {
   "cell_type": "code",
   "execution_count": 35,
   "id": "7e3b8288-7265-473b-9e2c-394f5abd896b",
   "metadata": {},
   "outputs": [],
   "source": [
    "X['description'] = listings['description']"
   ]
  },
  {
   "cell_type": "markdown",
   "id": "c42fda67-750b-45bd-9496-485fadf8c3c8",
   "metadata": {},
   "source": [
    "Now I'll make functions to find the number of times a word occurs in property names or descriptions in `listings`. "
   ]
  },
  {
   "cell_type": "code",
   "execution_count": 36,
   "id": "0aaabcba-c1b8-43a2-8e38-c496788b21e0",
   "metadata": {},
   "outputs": [],
   "source": [
    "def check(x, text):\n",
    "    ''' Checks whether `text` is in x['name'] or x['description'] (not case-sensitive).\n",
    "        INPUTS: `x` - a row of the `listings` dataframe we're using.\n",
    "                `text` - text we're searching for in x['description'].\n",
    "        OUTPUTS: 1 if `text` is in x['name'] or x['description']; else 0.\n",
    "    '''\n",
    "    if type(x['name']) == type('s') and text.lower() in x['name'].lower():\n",
    "        return 1\n",
    "    elif type(x['description']) == type('s') and text.lower() in x['description'].lower():\n",
    "        return 1\n",
    "    else:\n",
    "        return 0"
   ]
  },
  {
   "cell_type": "code",
   "execution_count": 37,
   "id": "5372d5ec-b98e-4e8a-ad6c-369a002706d5",
   "metadata": {
    "jp-MarkdownHeadingCollapsed": true,
    "tags": []
   },
   "outputs": [],
   "source": [
    "# Applies `check()` to the `X` dataframe and returns the number\n",
    "# of times the input text appears in property descriptions (the search \n",
    "# is case-insensitive).\n",
    "def apply_check(text):\n",
    "    return X.apply(lambda x: check(x, text), axis=1).sum()"
   ]
  },
  {
   "cell_type": "code",
   "execution_count": 38,
   "id": "18a201b8-1eac-4b79-94bc-81bd19914008",
   "metadata": {},
   "outputs": [
    {
     "name": "stdout",
     "output_type": "stream",
     "text": [
      "There are 1336 occurrences of \"spacious\" in X.\n",
      "There are 173 occurrences of \"boutique\" in X.\n",
      "There are 782 occurrences of \"luxury\" in X.\n",
      "There are 531 occurrences of \"small\" in X.\n",
      "There are 1282 occurrences of \"cozy\" in X.\n",
      "There are 76 occurrences of \"quaint\" in X.\n",
      "There are 11 occurrences of \"tiny\" in X.\n",
      "There are 314 occurrences of \"big\" in X.\n",
      "There are 327 occurrences of \"huge\" in X.\n",
      "There are 43 occurrences of \"massive\" in X.\n",
      "There are 28 occurrences of \"giant\" in X.\n",
      "There are 1215 occurrences of \"large\" in X.\n",
      "There are 639 occurrences of \"studio\" in X.\n",
      "There are 30 occurrences of \"enormous\" in X.\n"
     ]
    }
   ],
   "source": [
    "words_to_check = ['spacious', 'boutique', 'luxury', 'small', 'cozy', 'quaint']\n",
    "words_to_check += ['tiny', 'big', 'huge', 'massive', 'giant', 'large', 'studio']\n",
    "words_to_check += ['enormous']\n",
    "for word in words_to_check:\n",
    "    res = apply_check(word)\n",
    "    print(f\"There are {res} occurrences of \\\"{word}\\\" in X.\")"
   ]
  },
  {
   "cell_type": "markdown",
   "id": "96edd565-29cd-4f7c-8d1a-b31c2f623225",
   "metadata": {},
   "source": [
    "Adding some of these as features is perhaps not of great value (e.g. there are only 11 occurrences of \"tiny\" in the 6507 listings), but there are few enough words I've listed here that it's not very costly just to include them all."
   ]
  },
  {
   "cell_type": "code",
   "execution_count": 39,
   "id": "9caf9773-f1e3-4e86-90c4-9ba8526a9765",
   "metadata": {},
   "outputs": [],
   "source": [
    "for word in words_to_check:\n",
    "    X[word] = X.apply(lambda x: check(x, word), axis=1)"
   ]
  },
  {
   "cell_type": "code",
   "execution_count": 40,
   "id": "00d65b48-a94f-4dac-81db-84373a3e35ce",
   "metadata": {
    "tags": []
   },
   "outputs": [],
   "source": [
    "# Drop the 'name' and 'description' columns\n",
    "X.drop(['name', 'description'], axis=1, inplace=True)"
   ]
  },
  {
   "cell_type": "code",
   "execution_count": 41,
   "id": "6b911c9c-d26e-4c5d-b9aa-33c768646ada",
   "metadata": {},
   "outputs": [
    {
     "data": {
      "text/plain": [
       "(6526, 754)"
      ]
     },
     "execution_count": 41,
     "metadata": {},
     "output_type": "execute_result"
    }
   ],
   "source": [
    "X.shape"
   ]
  },
  {
   "cell_type": "code",
   "execution_count": null,
   "id": "3afed8b4-65b0-437d-b33c-8b4df50dfffa",
   "metadata": {},
   "outputs": [],
   "source": [
    "X_no_words_train, X_no_words_test, y_no_words_train, y_no_words_test = train_test_split(\n",
    "    X_no_words, y, test_size=0.3, random_state=42)\n",
    "X_no_words_val_train, X_no_words_val, y_no_words_val_train, y_no_words_val = train_test_split(\n",
    "    X_no_words_train, y_no_words_train, test_size=0.3, random_state=42)"
   ]
  },
  {
   "cell_type": "markdown",
   "id": "72f3bb2e-4c66-41e8-953d-196882406266",
   "metadata": {},
   "source": [
    "# Feature selection"
   ]
  },
  {
   "cell_type": "code",
   "execution_count": null,
   "id": "f10df63c-dc1f-42b5-ba09-fb7560eb6c06",
   "metadata": {},
   "outputs": [],
   "source": [
    "from sklearn.feature_selection import SelectFromModel"
   ]
  },
  {
   "cell_type": "code",
   "execution_count": null,
   "id": "ec5b6804-cdc1-4c81-8d14-c47e015c187c",
   "metadata": {},
   "outputs": [],
   "source": [
    "from sklearn.svm import LinearSVC"
   ]
  },
  {
   "cell_type": "code",
   "execution_count": null,
   "id": "e952e0cc-67d5-4a41-ae2e-e2591ac707a7",
   "metadata": {},
   "outputs": [],
   "source": [
    "clf = SelectFromModel(LinearSVC(penalty='l1', dual=False))"
   ]
  },
  {
   "cell_type": "code",
   "execution_count": null,
   "id": "314c8292-cb30-4d63-917b-bec95470bc11",
   "metadata": {},
   "outputs": [],
   "source": [
    "clf.fit(X_train, y_train)"
   ]
  },
  {
   "cell_type": "code",
   "execution_count": null,
   "id": "b4f73921-1235-4599-89a5-b499e4e1249a",
   "metadata": {},
   "outputs": [],
   "source": [
    "from sklearn.svm import SVR\n",
    "from sklearn.feature_selection import RFECV"
   ]
  },
  {
   "cell_type": "code",
   "execution_count": null,
   "id": "6a13aab2-83ae-4350-8d84-6af93f272631",
   "metadata": {},
   "outputs": [],
   "source": [
    "X_scaled = StandardScaler().fit_transform(X_train)"
   ]
  },
  {
   "cell_type": "code",
   "execution_count": null,
   "id": "374bf72b-b56e-4e0d-b790-152c25a7c7b5",
   "metadata": {},
   "outputs": [],
   "source": [
    "estimator = SVR(kernel=\"linear\")\n",
    "selector = RFECV(estimator, step=1, cv=5)"
   ]
  },
  {
   "cell_type": "code",
   "execution_count": null,
   "id": "f43536b7-2afc-45be-bd2f-354b8005e4c8",
   "metadata": {},
   "outputs": [],
   "source": [
    "selector = selector.fit(X_scaled, y_train)"
   ]
  },
  {
   "cell_type": "code",
   "execution_count": null,
   "id": "8fcdb004-9ec9-47f0-b6fa-d08220b8a1d5",
   "metadata": {},
   "outputs": [],
   "source": [
    "X_with_price = X\n",
    "X_with_price['price'] = y"
   ]
  },
  {
   "cell_type": "code",
   "execution_count": null,
   "id": "1e4ffb3e-a9ae-4879-bb51-0cd815b1739a",
   "metadata": {},
   "outputs": [],
   "source": [
    "price_corr = X_with_price.corr()['price']"
   ]
  },
  {
   "cell_type": "code",
   "execution_count": null,
   "id": "547fcd0e-7274-4eb6-805f-be9fffd5af00",
   "metadata": {},
   "outputs": [],
   "source": [
    "price_corr"
   ]
  },
  {
   "cell_type": "markdown",
   "id": "7910cca8-9e13-4558-b821-e9171798bbfd",
   "metadata": {},
   "source": [
    "price_corr = price_corr.drop('price')"
   ]
  },
  {
   "cell_type": "markdown",
   "id": "fe58552b-1890-4b3d-8a37-ed8dc6ed8f64",
   "metadata": {},
   "source": [
    "price_corr.loc[np.abs(price_corr) > .03]"
   ]
  },
  {
   "cell_type": "markdown",
   "id": "1639bc6f-328c-46db-b080-0e9f7c8d90fa",
   "metadata": {},
   "source": [
    "### Neural Network (MLP)"
   ]
  },
  {
   "cell_type": "markdown",
   "id": "a3cf94ea-63c0-4623-8c17-72dac2aa775e",
   "metadata": {},
   "source": [
    "Finally, I'll try using a simple neural network model: just a multi-layer perceptron (MLP) without bells and whistles."
   ]
  },
  {
   "cell_type": "code",
   "execution_count": 182,
   "id": "ffd80080-a79e-416c-9684-ad781a73489a",
   "metadata": {},
   "outputs": [],
   "source": [
    "from sklearn.neural_network import MLPRegressor"
   ]
  },
  {
   "cell_type": "code",
   "execution_count": null,
   "id": "2517d8bf-66c4-4043-b27d-da6240658bc7",
   "metadata": {},
   "outputs": [],
   "source": [
    "cutoffs = [1000, 1, .99, .5, .3, .2, .1, .05, .01, 0.005, 0.002, 0.001, 0.0005, 0]\n",
    "test_cutoffs(X_train, y_train, MLPRegressor(random_state=42),\n",
    "             cutoffs, scoring=median_scorer)"
   ]
  },
  {
   "cell_type": "code",
   "execution_count": 187,
   "id": "4134d6cc-a0de-4492-8837-7797414a50e7",
   "metadata": {},
   "outputs": [
    {
     "data": {
      "text/plain": [
       "0.5479664967336064"
      ]
     },
     "execution_count": 187,
     "metadata": {},
     "output_type": "execute_result"
    }
   ],
   "source": [
    "pipe.score(X_test, y_test)"
   ]
  },
  {
   "cell_type": "markdown",
   "id": "520a341a-f9da-4cfb-8d51-964d0ec94d8c",
   "metadata": {},
   "source": [
    "# 2. How to Get Better Reviews"
   ]
  },
  {
   "cell_type": "markdown",
   "id": "4eac51fe-8d01-4486-acef-53aac5a8d2fb",
   "metadata": {},
   "source": [
    "I'll restrict my analysis to the primary score (`review_scores_rating`), since my understanding is that that's what prospective customers see first and it's likely critical to securing new customers at higher prices."
   ]
  },
  {
   "cell_type": "markdown",
   "id": "7aa54ba1-44bd-4323-8c2a-cf8fc5789ce9",
   "metadata": {},
   "source": [
    "Here I am specifically interested in the question of how a particular host can improve the reviews on one of her properties. I'm less interested in creating a highly optimized model and more interested in getting a handle on which features most contribute to `review_scores_rating`. This is in contrast to what I did in Part 1, where I was most concered with creating a model that would predict price well for a new host who wants to price their place in line with what other hosts would price it."
   ]
  },
  {
   "cell_type": "markdown",
   "id": "fffcd1a8-b26c-40e9-9fd8-0b37a6f558d1",
   "metadata": {},
   "source": [
    "Building on my work above, I think a sensible way of seeing what factors have the most effect is using `ElasticNet()` and seeing which features have the highest absolute weights."
   ]
  },
  {
   "cell_type": "markdown",
   "id": "8f73d5ee-5834-4bc7-96df-0b0ba4a5f710",
   "metadata": {},
   "source": [
    "## Data Preparation"
   ]
  },
  {
   "cell_type": "markdown",
   "id": "5c509035-81c4-4e01-8ab5-18032a56def7",
   "metadata": {},
   "source": [
    "I already did a lot of the necessary prep work in Part 1; I can start from the X that I generated for that part."
   ]
  },
  {
   "cell_type": "markdown",
   "id": "22843c9a-84cc-4a51-bb82-f210b3e9b140",
   "metadata": {},
   "source": [
    "Put the price information in X, since now the price is a feature, not the target:"
   ]
  },
  {
   "cell_type": "code",
   "execution_count": 51,
   "id": "6aa8a223-1696-48c5-bed6-1bfef191cada",
   "metadata": {},
   "outputs": [],
   "source": [
    "X = pd.concat([X, y], axis=1)"
   ]
  },
  {
   "cell_type": "markdown",
   "id": "9a83dc72-ad4f-4958-8033-6abbff89c974",
   "metadata": {},
   "source": [
    "Create the new target:"
   ]
  },
  {
   "cell_type": "code",
   "execution_count": 52,
   "id": "cb245e02-3a28-4267-aea3-fa13d6359112",
   "metadata": {},
   "outputs": [],
   "source": [
    "y = X['review_scores_rating'].copy()"
   ]
  },
  {
   "cell_type": "markdown",
   "id": "9d0bdfcb-4e07-465b-a957-929d6330be64",
   "metadata": {},
   "source": [
    "Drop the columns with review scores:"
   ]
  },
  {
   "cell_type": "code",
   "execution_count": 53,
   "id": "2b02855d-ddea-48d1-9f7b-c06e521b3086",
   "metadata": {},
   "outputs": [],
   "source": [
    "to_drop = ['review_scores_rating', 'review_scores_accuracy', 'review_scores_cleanliness']\n",
    "to_drop += ['review_scores_checkin', 'review_scores_communication']\n",
    "to_drop += ['review_scores_location', 'review_scores_value']\n",
    "X.drop(to_drop, axis=1, inplace=True)"
   ]
  },
  {
   "cell_type": "markdown",
   "id": "d1e28f2b-88ad-4159-9aae-69729d304d1e",
   "metadata": {},
   "source": [
    "## Modeling and Evaluation"
   ]
  },
  {
   "cell_type": "code",
   "execution_count": 54,
   "id": "f09648b5-dfe9-4446-9a52-faa37aff75ac",
   "metadata": {},
   "outputs": [],
   "source": [
    "pipe = make_pipeline(StandardScaler(), ElasticNet())"
   ]
  },
  {
   "cell_type": "code",
   "execution_count": 55,
   "id": "80b6edbb-c54e-41cb-b693-4c1c6e0f7446",
   "metadata": {},
   "outputs": [
    {
     "data": {
      "text/plain": [
       "array([-9.74252830e-02, -3.32484214e-03, -1.15261259e-03, -3.81505594e-02,\n",
       "       -4.22298907e-08])"
      ]
     },
     "execution_count": 55,
     "metadata": {},
     "output_type": "execute_result"
    }
   ],
   "source": [
    "cross_val_score(pipe, X, y)"
   ]
  },
  {
   "cell_type": "code",
   "execution_count": null,
   "id": "bf745674-f0c7-4b87-9919-de40d86975b2",
   "metadata": {},
   "outputs": [],
   "source": []
  }
 ],
 "metadata": {
  "kernelspec": {
   "display_name": "Python 3 (ipykernel)",
   "language": "python",
   "name": "python3"
  },
  "language_info": {
   "codemirror_mode": {
    "name": "ipython",
    "version": 3
   },
   "file_extension": ".py",
   "mimetype": "text/x-python",
   "name": "python",
   "nbconvert_exporter": "python",
   "pygments_lexer": "ipython3",
   "version": "3.8.12"
  }
 },
 "nbformat": 4,
 "nbformat_minor": 5
}
